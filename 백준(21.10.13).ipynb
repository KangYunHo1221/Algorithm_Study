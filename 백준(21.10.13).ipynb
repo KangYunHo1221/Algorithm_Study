{
 "cells": [
  {
   "cell_type": "code",
   "execution_count": 66,
   "outputs": [
    {
     "data": {
      "text/plain": "'result = 0\\nfor k in mylist:\\n    result += 2**k\\n\\nif result == n:\\n    print(0)'"
     },
     "execution_count": 66,
     "metadata": {},
     "output_type": "execute_result"
    }
   ],
   "source": [
    "## 물병\n",
    "## https://www.acmicpc.net/problem/1052\n",
    "import sys\n",
    "sys.setrecursionlimit(10**9) #재귀 제한 풀기 위해서\n",
    "\n",
    "n, k = map(int, input().split())\n",
    "\n",
    "answer = 0\n",
    "while bin(n).count('1') > k:\n",
    "    plus = 2**(bin(n)[::-1].index('1'))\n",
    "    answer += plus\n",
    "    n += plus"
   ],
   "metadata": {
    "collapsed": false,
    "pycharm": {
     "name": "#%%\n"
    }
   }
  }
 ],
 "metadata": {
  "kernelspec": {
   "name": "pytorch17_p38",
   "language": "python",
   "display_name": "pytorch17_p38"
  },
  "language_info": {
   "codemirror_mode": {
    "name": "ipython",
    "version": 2
   },
   "file_extension": ".py",
   "mimetype": "text/x-python",
   "name": "python",
   "nbconvert_exporter": "python",
   "pygments_lexer": "ipython2",
   "version": "2.7.6"
  }
 },
 "nbformat": 4,
 "nbformat_minor": 0
}