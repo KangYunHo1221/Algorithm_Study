{
 "cells": [
  {
   "cell_type": "code",
   "execution_count": 24,
   "outputs": [
    {
     "name": "stdout",
     "output_type": "stream",
     "text": [
      "['#####', '# # #', '### #', '#  ##', '#####']\n",
      "['######', '###  #', '##  ##', ' #### ', ' #####', '### # ']\n",
      "['##', '##']\n"
     ]
    }
   ],
   "source": [
    "## [1차] 비밀지도\n",
    "## 프로그래머스 > 2018 KAKAO BLIND RECRUITMENT\n",
    "\n",
    "def solution(n, arr1, arr2):\n",
    "    answer = []\n",
    "    for i in range(n):\n",
    "        word1 = int(bin(arr1[i])[2:]) # binary transformation\n",
    "        word2 = int(bin(arr2[i])[2:])\n",
    "        word = str(word1 + word2)\n",
    "\n",
    "        if len(word) < n: #맨 앞에 0 들이 있는 경우\n",
    "            word = '0'*(n-len(word))+ word\n",
    "\n",
    "        temp = ''\n",
    "        for t in range(len(word)):\n",
    "            if int(word[t]) > 0:\n",
    "                temp += '#'\n",
    "            elif int(word[t]) == 0:\n",
    "                temp += ' '\n",
    "        answer.append(temp)\n",
    "    return answer\n",
    "\n",
    "print(solution(5, [9, 20, 28, 18, 11],[30, 1, 21, 17, 28]))\n",
    "print(solution(6, [46, 33, 33 ,22, 31, 50],[27 ,56, 19, 14, 14, 10]))\n",
    "print(solution(2, [3,3],[3,3]))"
   ],
   "metadata": {
    "collapsed": false,
    "pycharm": {
     "name": "#%%\n"
    }
   }
  },
  {
   "cell_type": "code",
   "execution_count": 23,
   "outputs": [
    {
     "data": {
      "text/plain": "'000'"
     },
     "execution_count": 23,
     "metadata": {},
     "output_type": "execute_result"
    }
   ],
   "source": [
    "a = '0'*3\n",
    "a"
   ],
   "metadata": {
    "collapsed": false,
    "pycharm": {
     "name": "#%%\n"
    }
   }
  }
 ],
 "metadata": {
  "kernelspec": {
   "name": "pytorch17_p38",
   "language": "python",
   "display_name": "pytorch17_p38"
  },
  "language_info": {
   "codemirror_mode": {
    "name": "ipython",
    "version": 2
   },
   "file_extension": ".py",
   "mimetype": "text/x-python",
   "name": "python",
   "nbconvert_exporter": "python",
   "pygments_lexer": "ipython2",
   "version": "2.7.6"
  }
 },
 "nbformat": 4,
 "nbformat_minor": 0
}