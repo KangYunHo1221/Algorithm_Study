{
 "cells": [
  {
   "cell_type": "code",
   "execution_count": 7,
   "outputs": [
    {
     "name": "stdout",
     "output_type": "stream",
     "text": [
      "(3, 3) (3, 3)\n"
     ]
    }
   ],
   "source": [
    "## 큰 수 만들기\n",
    "## 프로그래머스 문제\n",
    "\n",
    "def solution(number, k):\n",
    "    s = 0\n",
    "    length = len(number)\n",
    "    for i in range(k):\n",
    "        isEnd = True\n",
    "        for j in range(s, length-1):\n",
    "            if number[j] < number[j+1]:\n",
    "                isEnd = False\n",
    "                number = number[:j]+number[j+1:]\n",
    "                if j>0:\n",
    "                    s=j-1\n",
    "                else:\n",
    "                    s=0\n",
    "                break\n",
    "            if isEnd == True\n",
    "                number = number[:-1]\n",
    "                s=j-1\n",
    "\n",
    "    return number\n"
   ],
   "metadata": {
    "collapsed": false,
    "pycharm": {
     "name": "#%%\n"
    }
   }
  }
 ],
 "metadata": {
  "kernelspec": {
   "name": "pytorch17_p38",
   "language": "python",
   "display_name": "pytorch17_p38"
  },
  "language_info": {
   "codemirror_mode": {
    "name": "ipython",
    "version": 2
   },
   "file_extension": ".py",
   "mimetype": "text/x-python",
   "name": "python",
   "nbconvert_exporter": "python",
   "pygments_lexer": "ipython2",
   "version": "2.7.6"
  }
 },
 "nbformat": 4,
 "nbformat_minor": 0
}