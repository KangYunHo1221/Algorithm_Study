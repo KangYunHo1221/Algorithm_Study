{
 "cells": [
  {
   "cell_type": "code",
   "execution_count": 47,
   "outputs": [
    {
     "name": "stdout",
     "output_type": "stream",
     "text": [
      "2\n",
      "4\n"
     ]
    }
   ],
   "source": [
    "## 숨바꼭질2\n",
    "## https://www.acmicpc.net/problem/12851\n",
    "\n",
    "from collections import deque\n",
    "\n",
    "a, b = map(int, input().split())\n",
    "mylist = [int(10e6)]*100001 #최단거리 저장용\n",
    "goingway = [0]*100001 #최단거리 갯수 저장용\n",
    "mylist[a] = 0\n",
    "goingway[a] = 1\n",
    "\n",
    "def find(n, k):\n",
    "    distance = 0\n",
    "    list_dist = int(10e6)\n",
    "\n",
    "    q = deque()\n",
    "    q.append((n, distance))\n",
    "\n",
    "    while q:\n",
    "        n, distance = q.popleft()\n",
    "\n",
    "        if n == k:\n",
    "            list_dist = distance\n",
    "\n",
    "        #3가지 경우의 수\n",
    "        do = [n-1, n+1, 2*n]\n",
    "        for t in do:\n",
    "            if distance < list_dist+1:\n",
    "                if mylist[t] >= distance+1:\n",
    "                    if mylist[t] == 10e6: #처음방문했을때\n",
    "                        goingway[t] = goingway[n]\n",
    "                    elif mylist[t] == mylist[n]+1:\n",
    "                        goingway[t] += goingway[n]\n",
    "                    mylist[t] = distance+1\n",
    "                    q.append((t, distance+1))\n",
    "\n",
    "\n",
    "find(a, b)\n",
    "print(mylist[b])\n",
    "print(goingway[b])"
   ],
   "metadata": {
    "collapsed": false,
    "pycharm": {
     "name": "#%%\n"
    }
   }
  },
  {
   "cell_type": "code",
   "execution_count": null,
   "outputs": [],
   "source": [
    "#해답 풀이\n",
    "from collections import deque\n",
    "\n",
    "N, K = map(int, input().split())\n",
    "MAX_SIZE = 100001\n",
    "MAP = [[MAX_SIZE, 0] for _ in range(MAX_SIZE)]\n",
    "\n",
    "q = deque()\n",
    "q.append(N)\n",
    "MAP[N][0] = 0\n",
    "MAP[N][1] = 1\n",
    "\n",
    "while q:\n",
    "    x = q.popleft()\n",
    "    for nx in [x*2, x+1, x-1]:\n",
    "        if 0 <= nx < MAX_SIZE:\n",
    "            if MAP[nx][0] == MAX_SIZE:\n",
    "                q.append(nx)\n",
    "                MAP[nx][0] = MAP[x][0] + 1\n",
    "                MAP[nx][1] = MAP[x][1]\n",
    "            elif MAP[nx][0] == MAP[x][0]:\n",
    "                MAP[nx][1] += MAP[x][1]\n",
    "\n",
    "print(MAP[K][0])\n",
    "print(MAP[K][1])"
   ],
   "metadata": {
    "collapsed": false,
    "pycharm": {
     "name": "#%%\n"
    }
   }
  }
 ],
 "metadata": {
  "kernelspec": {
   "name": "pytorch17_p38",
   "language": "python",
   "display_name": "pytorch17_p38"
  },
  "language_info": {
   "codemirror_mode": {
    "name": "ipython",
    "version": 2
   },
   "file_extension": ".py",
   "mimetype": "text/x-python",
   "name": "python",
   "nbconvert_exporter": "python",
   "pygments_lexer": "ipython2",
   "version": "2.7.6"
  }
 },
 "nbformat": 4,
 "nbformat_minor": 0
}