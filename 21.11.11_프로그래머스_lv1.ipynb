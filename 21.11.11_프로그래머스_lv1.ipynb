{
 "cells": [
  {
   "cell_type": "code",
   "execution_count": 37,
   "outputs": [
    {
     "name": "stdout",
     "output_type": "stream",
     "text": [
      "230456\n",
      "234567\n",
      "1478\n",
      "234567\n"
     ]
    },
    {
     "data": {
      "text/plain": "'234567'"
     },
     "execution_count": 37,
     "metadata": {},
     "output_type": "execute_result"
    }
   ],
   "source": [
    "## 키패드 누르기\n",
    "## 프로그래머스 > 2020 카카오 인턴십\n",
    "\n",
    "def solution(numbers, hand):\n",
    "    answer = ''\n",
    "    lefthand, righthand = 10,12\n",
    "    for i in numbers:\n",
    "        if i in [1,4,7]:\n",
    "            answer += 'L'\n",
    "            lefthand = i\n",
    "        elif i in [3,6,9]:\n",
    "            answer += 'R'\n",
    "            righthand = i\n",
    "        elif i in [2,5,8,0]:\n",
    "            if i == 0:\n",
    "                i = 11\n",
    "            absL = abs(i - lefthand)\n",
    "            absR = abs(i - righthand)\n",
    "            if sum(divmod(absL,3)) > sum(divmod(absR,3)):\n",
    "                answer += 'R'\n",
    "                righthand = i\n",
    "            elif sum(divmod(absL,3)) < sum(divmod(absR,3)):\n",
    "                answer += 'L'\n",
    "                lefthand = i\n",
    "            else:\n",
    "                if hand == 'right':\n",
    "                    answer += 'R'\n",
    "                    righthand = i\n",
    "                else:\n",
    "                    answer += 'L'\n",
    "                    lefthand = i\n",
    "    return answer"
   ],
   "metadata": {
    "collapsed": false,
    "pycharm": {
     "name": "#%%\n"
    }
   }
  }
 ],
 "metadata": {
  "kernelspec": {
   "name": "pytorch17_p38",
   "language": "python",
   "display_name": "pytorch17_p38"
  },
  "language_info": {
   "codemirror_mode": {
    "name": "ipython",
    "version": 2
   },
   "file_extension": ".py",
   "mimetype": "text/x-python",
   "name": "python",
   "nbconvert_exporter": "python",
   "pygments_lexer": "ipython2",
   "version": "2.7.6"
  }
 },
 "nbformat": 4,
 "nbformat_minor": 0
}