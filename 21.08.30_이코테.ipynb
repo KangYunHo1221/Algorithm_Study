{
 "cells": [
  {
   "cell_type": "code",
   "execution_count": 11,
   "outputs": [
    {
     "name": "stdout",
     "output_type": "stream",
     "text": [
      "3\n"
     ]
    }
   ],
   "source": [
    "## 음료수 얼려 먹기(dfs 풀이)\n",
    "## 이코테 문제\n",
    "\n",
    "n, m = map(int, input().split())\n",
    "\n",
    "graph=[]\n",
    "for i in range(n):\n",
    "    graph.append(list(map(int, input())))\n",
    "\n",
    "def dfs(x, y):\n",
    "    if x<= -1 or x >= n or y <= -1 or y>=m:\n",
    "        return False\n",
    "    if graph[x][y] == 0:\n",
    "        graph[x][y] =1\n",
    "        dfs(x-1, y)\n",
    "        dfs(x, y-1)\n",
    "        dfs(x+1, y)\n",
    "        dfs(x, y+1)\n",
    "        return True\n",
    "    return False\n",
    "\n",
    "result = 0\n",
    "\n",
    "for i in range(n):\n",
    "    for j in range(m):\n",
    "        if dfs(i,j) == True:\n",
    "            result += 1\n",
    "\n",
    "print(result)"
   ],
   "metadata": {
    "collapsed": false,
    "pycharm": {
     "name": "#%%\n"
    }
   }
  },
  {
   "cell_type": "code",
   "execution_count": 15,
   "outputs": [
    {
     "name": "stdout",
     "output_type": "stream",
     "text": [
      "11\n"
     ]
    }
   ],
   "source": [
    "## 음료수 얼려먹기(bfs 풀이)\n",
    "## 이코테 문제\n",
    "from collections import deque\n",
    "\n",
    "n, m = map(int, input().split())\n",
    "\n",
    "graph=[]\n",
    "for i in range(n):\n",
    "    graph.append(list(map(int, input())))\n",
    "\n",
    "\n",
    "dx = [0,0,1,-1]\n",
    "dy = [1,-1,0,0]\n",
    "\n",
    "def bfs(x, y):\n",
    "\n",
    "    q = deque()\n",
    "    q.append((x,y))\n",
    "\n",
    "    if graph[x][y] == 1:\n",
    "        return False\n",
    "\n",
    "    while q:\n",
    "        x, y = q.popleft()\n",
    "        graph[x][y] = 1\n",
    "        for i in range(4):\n",
    "            nx = x + dx[i]\n",
    "            ny = y + dy[i]\n",
    "            if 0<=nx and nx<n and ny>=0 and ny<m and graph[nx][ny]==0: ##그래프 벗어나지 않으면\n",
    "                q.append((nx,ny))\n",
    "    return True ##하나의 얼음뭉치를 찾으면 True반환\n",
    "\n",
    "count = 0\n",
    "\n",
    "\n",
    "\n",
    "\n",
    "for i in range(n):\n",
    "    for j in range(m):\n",
    "        if bfs(i,j) == True:\n",
    "            count += 1\n",
    "\n",
    "print(count)\n",
    "\n"
   ],
   "metadata": {
    "collapsed": false,
    "pycharm": {
     "name": "#%%\n"
    }
   }
  },
  {
   "cell_type": "markdown",
   "source": [
    "* dfs 는 재귀로 많이 구현\n",
    "* bfs 는 while문으로 많이 구현현"
   ],
   "metadata": {
    "collapsed": false,
    "pycharm": {
     "name": "#%% md\n"
    }
   }
  }
 ],
 "metadata": {
  "kernelspec": {
   "name": "pytorch17_p38",
   "language": "python",
   "display_name": "pytorch17_p38"
  },
  "language_info": {
   "codemirror_mode": {
    "name": "ipython",
    "version": 2
   },
   "file_extension": ".py",
   "mimetype": "text/x-python",
   "name": "python",
   "nbconvert_exporter": "python",
   "pygments_lexer": "ipython2",
   "version": "2.7.6"
  }
 },
 "nbformat": 4,
 "nbformat_minor": 0
}