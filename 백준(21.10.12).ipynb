{
 "cells": [
  {
   "cell_type": "code",
   "execution_count": 24,
   "outputs": [
    {
     "name": "stdout",
     "output_type": "stream",
     "text": [
      "2\n"
     ]
    }
   ],
   "source": [
    "## 음식 평론가\n",
    "## https://www.acmicpc.net/problem/1188\n",
    "import math\n",
    "\n",
    "x, y = map(int, input().split())\n",
    "z = math.trunc(100*y/x)\n",
    "\n",
    "if z>=99:\n",
    "    print(-1)\n",
    "else:\n",
    "    t = ((z+1)*x-(100*y))/(99-z)\n",
    "    if t*10//10 == t: #t가 정수이면\n",
    "        print(math.trunc(t))\n",
    "    else:\n",
    "        print(math.trunc(t)+1)\n"
   ],
   "metadata": {
    "collapsed": false,
    "pycharm": {
     "name": "#%%\n"
    }
   }
  }
 ],
 "metadata": {
  "kernelspec": {
   "name": "pytorch17_p38",
   "language": "python",
   "display_name": "pytorch17_p38"
  },
  "language_info": {
   "codemirror_mode": {
    "name": "ipython",
    "version": 2
   },
   "file_extension": ".py",
   "mimetype": "text/x-python",
   "name": "python",
   "nbconvert_exporter": "python",
   "pygments_lexer": "ipython2",
   "version": "2.7.6"
  }
 },
 "nbformat": 4,
 "nbformat_minor": 0
}