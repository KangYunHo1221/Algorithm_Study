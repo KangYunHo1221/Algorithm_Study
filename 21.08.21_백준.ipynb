{
 "cells": [
  {
   "cell_type": "code",
   "execution_count": 26,
   "outputs": [
    {
     "name": "stdout",
     "output_type": "stream",
     "text": [
      "1 2 \n",
      "2 1 \n"
     ]
    }
   ],
   "source": [
    "##21.08.18\n",
    "\n",
    "## N과 M (1)\n",
    "## https://www.acmicpc.net/problem/15649\n",
    "\n",
    "## 퀸문제는 2차원으로 만들 필요 없이 list의 index를 열, 값을 행으로 응용\n",
    "from itertools import permutations\n",
    "\n",
    "a, b = map(int, input().split())\n",
    "\n",
    "l = list(range(1,a+1))\n",
    "l2 = list(permutations(l, b))\n",
    "\n",
    "for i in l2:\n",
    "    for i2 in i:\n",
    "        print(i2, end=' ')\n",
    "    print(end='\\n')"
   ],
   "metadata": {
    "collapsed": false,
    "pycharm": {
     "name": "#%%\n"
    }
   }
  },
  {
   "cell_type": "markdown",
   "source": [
    "* itertools 에 permutation, combination 좋음"
   ],
   "metadata": {
    "collapsed": false,
    "pycharm": {
     "name": "#%% md\n"
    }
   }
  }
 ],
 "metadata": {
  "kernelspec": {
   "name": "pytorch17_p38",
   "language": "python",
   "display_name": "pytorch17_p38"
  },
  "language_info": {
   "codemirror_mode": {
    "name": "ipython",
    "version": 2
   },
   "file_extension": ".py",
   "mimetype": "text/x-python",
   "name": "python",
   "nbconvert_exporter": "python",
   "pygments_lexer": "ipython2",
   "version": "2.7.6"
  }
 },
 "nbformat": 4,
 "nbformat_minor": 0
}