{
 "cells": [
  {
   "cell_type": "code",
   "execution_count": 11,
   "outputs": [
    {
     "ename": "IndexError",
     "evalue": "string index out of range",
     "output_type": "error",
     "traceback": [
      "\u001B[1;31m---------------------------------------------------------------------------\u001B[0m",
      "\u001B[1;31mIndexError\u001B[0m                                Traceback (most recent call last)",
      "\u001B[1;32m<ipython-input-11-234a2d6248a4>\u001B[0m in \u001B[0;36m<module>\u001B[1;34m\u001B[0m\n\u001B[0;32m     31\u001B[0m     \u001B[1;32mreturn\u001B[0m \u001B[0manswer\u001B[0m\u001B[1;33m\u001B[0m\u001B[1;33m\u001B[0m\u001B[0m\n\u001B[0;32m     32\u001B[0m \u001B[1;33m\u001B[0m\u001B[0m\n\u001B[1;32m---> 33\u001B[1;33m \u001B[0msolution\u001B[0m\u001B[1;33m(\u001B[0m\u001B[1;34m'baekjoon online judge'\u001B[0m\u001B[1;33m)\u001B[0m\u001B[1;33m\u001B[0m\u001B[1;33m\u001B[0m\u001B[0m\n\u001B[0m\u001B[0;32m     34\u001B[0m \u001B[0msolution\u001B[0m\u001B[1;33m(\u001B[0m\u001B[1;34m'<open>tag<close>'\u001B[0m\u001B[1;33m)\u001B[0m\u001B[1;33m\u001B[0m\u001B[1;33m\u001B[0m\u001B[0m\n\u001B[0;32m     35\u001B[0m \u001B[0msolution\u001B[0m\u001B[1;33m(\u001B[0m\u001B[1;34m'<ab cd>ef gh<ij kl>'\u001B[0m\u001B[1;33m)\u001B[0m\u001B[1;33m\u001B[0m\u001B[1;33m\u001B[0m\u001B[0m\n",
      "\u001B[1;32m<ipython-input-11-234a2d6248a4>\u001B[0m in \u001B[0;36msolution\u001B[1;34m(word)\u001B[0m\n\u001B[0;32m     22\u001B[0m             \u001B[0mflag\u001B[0m \u001B[1;33m=\u001B[0m \u001B[1;32mFalse\u001B[0m\u001B[1;33m\u001B[0m\u001B[1;33m\u001B[0m\u001B[0m\n\u001B[0;32m     23\u001B[0m \u001B[1;33m\u001B[0m\u001B[0m\n\u001B[1;32m---> 24\u001B[1;33m         \u001B[1;32mif\u001B[0m \u001B[0mword\u001B[0m\u001B[1;33m[\u001B[0m\u001B[0mi\u001B[0m\u001B[1;33m+\u001B[0m\u001B[1;36m1\u001B[0m\u001B[1;33m]\u001B[0m \u001B[1;33m==\u001B[0m \u001B[1;34m' '\u001B[0m \u001B[1;32mor\u001B[0m \u001B[0mword\u001B[0m\u001B[1;33m[\u001B[0m\u001B[0mi\u001B[0m\u001B[1;33m+\u001B[0m\u001B[1;36m1\u001B[0m\u001B[1;33m]\u001B[0m \u001B[1;33m==\u001B[0m \u001B[1;34m'@'\u001B[0m \u001B[1;32mor\u001B[0m \u001B[0mword\u001B[0m\u001B[1;33m[\u001B[0m\u001B[0mi\u001B[0m\u001B[1;33m+\u001B[0m\u001B[1;36m1\u001B[0m\u001B[1;33m]\u001B[0m \u001B[1;33m==\u001B[0m \u001B[1;34m'<'\u001B[0m\u001B[1;33m:\u001B[0m\u001B[1;33m\u001B[0m\u001B[1;33m\u001B[0m\u001B[0m\n\u001B[0m\u001B[0;32m     25\u001B[0m             \u001B[1;32mif\u001B[0m \u001B[0mflag\u001B[0m \u001B[1;33m==\u001B[0m \u001B[1;32mFalse\u001B[0m\u001B[1;33m:\u001B[0m\u001B[1;33m\u001B[0m\u001B[1;33m\u001B[0m\u001B[0m\n\u001B[0;32m     26\u001B[0m                 \u001B[1;32mwhile\u001B[0m\u001B[1;33m(\u001B[0m\u001B[0mtemp\u001B[0m\u001B[1;33m)\u001B[0m\u001B[1;33m:\u001B[0m\u001B[1;33m\u001B[0m\u001B[1;33m\u001B[0m\u001B[0m\n",
      "\u001B[1;31mIndexError\u001B[0m: string index out of range"
     ]
    }
   ],
   "source": [
    "## 단어뒤집기\n",
    "## https://www.acmicpc.net/problem/17413\n",
    "def solution(word) :\n",
    "    answer = ''\n",
    "    word += '@' #끝 체크용\n",
    "\n",
    "    flag = False\n",
    "    temp = []\n",
    "    for i in range(len(word)-1):\n",
    "        if word[i] == '<':\n",
    "            flag = True\n",
    "\n",
    "        if flag == True:\n",
    "            answer += word[i]\n",
    "        if flag == False:\n",
    "            if word[i] != ' ':\n",
    "                temp.append(word[i])\n",
    "            if word[i] == ' ':\n",
    "                answer += word[i]\n",
    "\n",
    "        if word[i] == '>':\n",
    "            flag = False\n",
    "\n",
    "        if word[i+1] == ' ' or word[i+1] == '@' or word[i+1] == '<':\n",
    "            if flag == False:\n",
    "                while(temp):\n",
    "                    t = temp.pop()\n",
    "                    answer += t\n",
    "\n",
    "    print(answer)\n",
    "    return answer\n",
    "\n",
    "solution('baekjoon online judge')\n",
    "solution('<open>tag<close>')\n",
    "solution('<ab cd>ef gh<ij kl>')\n",
    "solution('<int><max>7463847412<long long><max>7085774586302733229')"
   ],
   "metadata": {
    "collapsed": false,
    "pycharm": {
     "name": "#%%\n"
    }
   }
  }
 ],
 "metadata": {
  "kernelspec": {
   "name": "pytorch17_p38",
   "language": "python",
   "display_name": "pytorch17_p38"
  },
  "language_info": {
   "codemirror_mode": {
    "name": "ipython",
    "version": 2
   },
   "file_extension": ".py",
   "mimetype": "text/x-python",
   "name": "python",
   "nbconvert_exporter": "python",
   "pygments_lexer": "ipython2",
   "version": "2.7.6"
  }
 },
 "nbformat": 4,
 "nbformat_minor": 0
}