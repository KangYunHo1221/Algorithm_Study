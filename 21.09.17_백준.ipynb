{
 "cells": [
  {
   "cell_type": "code",
   "execution_count": 59,
   "outputs": [
    {
     "name": "stdout",
     "output_type": "stream",
     "text": [
      "4294967296\n"
     ]
    }
   ],
   "source": [
    "## 최소 공통조상(bojlca문제)\n",
    "## 이코테\n",
    "\n",
    "import sys\n",
    "sys.setrecursionlimit(int(1e5)) #런타임오류 제거 -> 재귀함수 한도 해제\n",
    "\n",
    "n = int(input())\n",
    "\n",
    "parent = [0] * (n+1)\n",
    "d = [0] * (n+1)\n",
    "c = [0] * (n+1)\n",
    "graph = [[] for _ in range(n+1)]\n",
    "\n",
    "for _ in range(n-1):\n",
    "    a,b = map(int, input().split())\n",
    "    graph[a].append(b)\n",
    "    graph[b].append(a)\n",
    "\n",
    "def dfs(x, depth):\n",
    "    c[x] = True\n",
    "    d[x] = depth\n",
    "    for y in graph[x]:\n",
    "        if c[y]:\n",
    "            continue\n",
    "        parent[y] = x\n",
    "        dfs(y, depth+1)\n",
    "\n",
    "def lca(a,b):\n",
    "    while d[a] != d[b]:\n",
    "        if d[a] > d[b]:\n",
    "            a = parent[a]\n",
    "        else:\n",
    "            b = parent[b]\n",
    "\n",
    "    while a!=b:\n",
    "        a = parent[a]\n",
    "        b = parent[b]\n",
    "    return a\n",
    "\n",
    "dfs(1,0)\n",
    "\n",
    "m = int(input())\n",
    "for i in range(m):\n",
    "    a, b = map(int, input().split())\n",
    "    print(lca(a,b))"
   ],
   "metadata": {
    "collapsed": false,
    "pycharm": {
     "name": "#%%\n"
    }
   }
  }
 ],
 "metadata": {
  "kernelspec": {
   "name": "pytorch17_p38",
   "language": "python",
   "display_name": "pytorch17_p38"
  },
  "language_info": {
   "codemirror_mode": {
    "name": "ipython",
    "version": 2
   },
   "file_extension": ".py",
   "mimetype": "text/x-python",
   "name": "python",
   "nbconvert_exporter": "python",
   "pygments_lexer": "ipython2",
   "version": "2.7.6"
  }
 },
 "nbformat": 4,
 "nbformat_minor": 0
}