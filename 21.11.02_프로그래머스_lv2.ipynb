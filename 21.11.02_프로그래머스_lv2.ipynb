{
 "cells": [
  {
   "cell_type": "code",
   "execution_count": 7,
   "outputs": [
    {
     "name": "stdout",
     "output_type": "stream",
     "text": [
      "(3, 3) (3, 3)\n"
     ]
    }
   ],
   "source": [
    "## 타겟넘버\n",
    "## 프로그래머스 문제\n",
    "\n",
    "from collections import deque\n",
    "\n",
    "def solution(numbers, target):\n",
    "    answer = 0\n",
    "    \n",
    "    q = deque()\n",
    "    q.append((0,0))\n",
    "    \n",
    "    while q:\n",
    "        a, i = q.popleft()\n",
    "        if (i == len(numbers)):\n",
    "            if (a == target):\n",
    "                answer += 1\n",
    "        else:\n",
    "            a1 = a + numbers[i]\n",
    "            a2 = a - numbers[i]\n",
    "            q.append((a1,i+1))\n",
    "            q.append((a2,i+1))\n",
    "        \n",
    "    \n",
    "    return answer"
   ],
   "metadata": {
    "collapsed": false,
    "pycharm": {
     "name": "#%%\n"
    }
   }
  }
 ],
 "metadata": {
  "kernelspec": {
   "name": "pytorch17_p38",
   "language": "python",
   "display_name": "pytorch17_p38"
  },
  "language_info": {
   "codemirror_mode": {
    "name": "ipython",
    "version": 2
   },
   "file_extension": ".py",
   "mimetype": "text/x-python",
   "name": "python",
   "nbconvert_exporter": "python",
   "pygments_lexer": "ipython2",
   "version": "2.7.6"
  }
 },
 "nbformat": 4,
 "nbformat_minor": 0
}