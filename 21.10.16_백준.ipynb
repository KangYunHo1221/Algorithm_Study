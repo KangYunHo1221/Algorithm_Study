{
 "cells": [
  {
   "cell_type": "code",
   "execution_count": 52,
   "outputs": [
    {
     "name": "stdout",
     "output_type": "stream",
     "text": [
      "0\n"
     ]
    }
   ],
   "source": [
    "## LCS\n",
    "## https://www.acmicpc.net/problem/9251\n",
    "\n",
    "a = str(input())\n",
    "b = str(input())\n",
    "len1 = len(a)\n",
    "len2 = len(b)\n",
    "matrix = [[0]*(len2+1) for _ in range(len1+1)]\n",
    "\n",
    "for i in range(1, len1+1):\n",
    "    for j in range(1, len2+1):\n",
    "        if a[i-1] == b[j-1]:\n",
    "            matrix[i][j] = matrix[i-1][j-1]+1\n",
    "        else:\n",
    "            matrix[i][j] = max(matrix[i-1][j], matrix[i][j-1])\n",
    "\n",
    "print(matrix[-1][-1])"
   ],
   "metadata": {
    "collapsed": false,
    "pycharm": {
     "name": "#%%\n"
    }
   }
  }
 ],
 "metadata": {
  "kernelspec": {
   "name": "pytorch17_p38",
   "language": "python",
   "display_name": "pytorch17_p38"
  },
  "language_info": {
   "codemirror_mode": {
    "name": "ipython",
    "version": 2
   },
   "file_extension": ".py",
   "mimetype": "text/x-python",
   "name": "python",
   "nbconvert_exporter": "python",
   "pygments_lexer": "ipython2",
   "version": "2.7.6"
  }
 },
 "nbformat": 4,
 "nbformat_minor": 0
}