{
 "cells": [
  {
   "cell_type": "code",
   "execution_count": 12,
   "outputs": [
    {
     "name": "stdout",
     "output_type": "stream",
     "text": [
      "5\n"
     ]
    }
   ],
   "source": [
    "## 유기농 배추\n",
    "## https://www.acmicpc.net/problem/1012\n",
    "from collections import deque\n",
    "\n",
    "T = int(input()) #test case 수\n",
    "for _ in range(T):\n",
    "    M, N, K = map(int, input().split()) # 가로M, 세로N, K개의 배추위치\n",
    "    Field = [[0]*M for _ in range(N)] #MxN 사이즈의 마당\n",
    "\n",
    "    for _ in range(K):\n",
    "        a, b = map(int, input().split())\n",
    "        Field[b][a] = 1 #x가 가로축, y가 세로축으로 문제에서 줌\n",
    "\n",
    "    dx = [-1,0,1,0] #북동남서\n",
    "    dy = [0,1,0,-1]\n",
    "\n",
    "    result = 0 #뭉친 수\n",
    "    for i in range(N):\n",
    "        for j in range(M):\n",
    "            if Field[i][j] == 1: #배추가 있으면\n",
    "                q = deque()\n",
    "                q.append((i,j))\n",
    "                Field[i][j] = 0\n",
    "                while q:\n",
    "                    x, y = q.popleft()\n",
    "                    for t in range(4): #상하좌우 탐색\n",
    "                        nx = x + dx[t]\n",
    "                        ny = y + dy[t]\n",
    "                        if 0<=nx<N and 0<=ny<M and Field[nx][ny]==1: #범위 안이고 배추면\n",
    "                            q.append((nx,ny))\n",
    "                            Field[nx][ny] = 0 #방문처리\n",
    "                result += 1\n",
    "    print(result)"
   ],
   "metadata": {
    "collapsed": false,
    "pycharm": {
     "name": "#%%\n"
    }
   }
  }
 ],
 "metadata": {
  "kernelspec": {
   "name": "pytorch17_p38",
   "language": "python",
   "display_name": "pytorch17_p38"
  },
  "language_info": {
   "codemirror_mode": {
    "name": "ipython",
    "version": 2
   },
   "file_extension": ".py",
   "mimetype": "text/x-python",
   "name": "python",
   "nbconvert_exporter": "python",
   "pygments_lexer": "ipython2",
   "version": "2.7.6"
  }
 },
 "nbformat": 4,
 "nbformat_minor": 0
}