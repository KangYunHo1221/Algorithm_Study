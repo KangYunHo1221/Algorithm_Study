{
 "cells": [
  {
   "cell_type": "code",
   "execution_count": 16,
   "outputs": [
    {
     "name": "stdout",
     "output_type": "stream",
     "text": [
      "4\n"
     ]
    }
   ],
   "source": [
    "##21.08.17\n",
    "\n",
    "## 달팽이는 올라가고 싶다\n",
    "## https://www.acmicpc.net/problem/2869\n",
    "\n",
    "import math\n",
    "\n",
    "a, b, v = map(int, input().split())\n",
    "\n",
    "day = math.ceil((v-a)/(a-b)) + 1\n",
    "\n",
    "\n",
    "print(day)"
   ],
   "metadata": {
    "collapsed": false,
    "pycharm": {
     "name": "#%%\n"
    }
   }
  },
  {
   "cell_type": "markdown",
   "source": [
    "* math library 같은건 아끼지 말고 쓰자\n",
    "* math.ceil 올림계산\n"
   ],
   "metadata": {
    "collapsed": false,
    "pycharm": {
     "name": "#%% md\n"
    }
   }
  },
  {
   "cell_type": "code",
   "execution_count": 67,
   "outputs": [
    {
     "name": "stdout",
     "output_type": "stream",
     "text": [
      "4441 4447\n"
     ]
    }
   ],
   "source": [
    "## 골드바흐\n",
    "## https://www.acmicpc.net/problem/3053\n",
    "\n",
    "def getprimelist(oddnum): ##소수구하기\n",
    "    for i in oddnum:\n",
    "        for n in range(2,i):\n",
    "            if i%n == 0:\n",
    "                if i in oddnum:\n",
    "                    del oddnum[oddnum.index(i)]\n",
    "oddnum = list(range(3,10000,2))\n",
    "getprimelist(oddnum)\n",
    "\n",
    "\n",
    "a = int(input()) ##input 몇개 받을지\n",
    "\n",
    "from itertools import combinations\n",
    "\n",
    "for _ in range(a):\n",
    "    k = int(input())\n",
    "    i = 0\n",
    "    while(oddnum[i] < k):\n",
    "        i += 1\n",
    "    newoddnum = oddnum[0:i]\n",
    "    comblist = list(combinations(newoddnum, 2))\n",
    "\n",
    "    max = 0\n",
    "    maxpartner = 0\n",
    "\n",
    "    for a, b in comblist:\n",
    "        if(a + b == k):\n",
    "            if( max < a):\n",
    "                max = a\n",
    "                maxpartner = b\n",
    "\n",
    "    print(max, maxpartner)"
   ],
   "metadata": {
    "collapsed": false,
    "pycharm": {
     "name": "#%%\n"
    }
   }
  }
 ],
 "metadata": {
  "kernelspec": {
   "name": "pytorch17_p38",
   "language": "python",
   "display_name": "pytorch17_p38"
  },
  "language_info": {
   "codemirror_mode": {
    "name": "ipython",
    "version": 2
   },
   "file_extension": ".py",
   "mimetype": "text/x-python",
   "name": "python",
   "nbconvert_exporter": "python",
   "pygments_lexer": "ipython2",
   "version": "2.7.6"
  }
 },
 "nbformat": 4,
 "nbformat_minor": 0
}