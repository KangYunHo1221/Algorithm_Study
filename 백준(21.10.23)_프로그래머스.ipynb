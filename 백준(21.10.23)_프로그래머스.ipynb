{
 "cells": [
  {
   "cell_type": "code",
   "execution_count": 4,
   "outputs": [
    {
     "ename": "IndexError",
     "evalue": "deque index out of range",
     "output_type": "error",
     "traceback": [
      "\u001B[1;31m---------------------------------------------------------------------------\u001B[0m",
      "\u001B[1;31mIndexError\u001B[0m                                Traceback (most recent call last)",
      "\u001B[1;32m<ipython-input-4-65e30b2b2514>\u001B[0m in \u001B[0;36m<module>\u001B[1;34m\u001B[0m\n\u001B[0;32m     17\u001B[0m                 \u001B[0mprogress\u001B[0m\u001B[1;33m[\u001B[0m\u001B[0mi\u001B[0m\u001B[1;33m]\u001B[0m \u001B[1;33m=\u001B[0m \u001B[1;36m100\u001B[0m\u001B[1;33m\u001B[0m\u001B[1;33m\u001B[0m\u001B[0m\n\u001B[0;32m     18\u001B[0m     \u001B[1;32mif\u001B[0m \u001B[0mlen\u001B[0m\u001B[1;33m(\u001B[0m\u001B[0mprogress\u001B[0m\u001B[1;33m)\u001B[0m \u001B[1;33m!=\u001B[0m \u001B[1;36m0\u001B[0m\u001B[1;33m:\u001B[0m\u001B[1;33m\u001B[0m\u001B[1;33m\u001B[0m\u001B[0m\n\u001B[1;32m---> 19\u001B[1;33m         \u001B[1;32mwhile\u001B[0m \u001B[0mprogress\u001B[0m\u001B[1;33m[\u001B[0m\u001B[1;36m0\u001B[0m\u001B[1;33m]\u001B[0m \u001B[1;33m==\u001B[0m \u001B[1;36m100\u001B[0m\u001B[1;33m:\u001B[0m\u001B[1;33m\u001B[0m\u001B[1;33m\u001B[0m\u001B[0m\n\u001B[0m\u001B[0;32m     20\u001B[0m             \u001B[0mcount\u001B[0m \u001B[1;33m+=\u001B[0m \u001B[1;36m1\u001B[0m\u001B[1;33m\u001B[0m\u001B[1;33m\u001B[0m\u001B[0m\n\u001B[0;32m     21\u001B[0m             \u001B[0mprogress\u001B[0m\u001B[1;33m.\u001B[0m\u001B[0mpopleft\u001B[0m\u001B[1;33m(\u001B[0m\u001B[1;33m)\u001B[0m\u001B[1;33m\u001B[0m\u001B[1;33m\u001B[0m\u001B[0m\n",
      "\u001B[1;31mIndexError\u001B[0m: deque index out of range"
     ]
    }
   ],
   "source": [
    "## 위장\n",
    "## 프로그래머스 > 해시\n",
    "from collections import deque\n",
    "\n",
    "def solution(progress, speeds):\n",
    "    answer = []\n",
    "    \n",
    "    count = 0\n",
    "    progress = deque(progress)\n",
    "    speeds = deque(speeds)\n",
    "    while progress:\n",
    "        for i in range(len(progress)):\n",
    "            if progress[i] < 100: ##Add speeds to progress\n",
    "                progress[i] += speeds[i]\n",
    "                if progress[i] > 100:\n",
    "                    progress[i] = 100\n",
    "    \n",
    "        if len(progress) != 0:\n",
    "            for t in range(len(progress)):\n",
    "                if progress[0] == 100:\n",
    "                    count += 1\n",
    "                    progress.popleft()\n",
    "                    speeds.popleft()\n",
    "\n",
    "        if count != 0:\n",
    "            answer.append(count)\n",
    "            count = 0\n",
    "    \n",
    "    return answer\n",
    "    "
   ],
   "metadata": {
    "collapsed": false,
    "pycharm": {
     "name": "#%%\n"
    }
   }
  },
  {
   "cell_type": "markdown",
   "source": [
    "1. deque가 비었을때 참조안하게 하자\n",
    "2. deque[0] == 100 같은거 쓰면 index오류 잘난다. 여유 잇으면 for문으로 돌리자"
   ],
   "metadata": {
    "collapsed": false
   }
  }
 ],
 "metadata": {
  "kernelspec": {
   "name": "pytorch17_p38",
   "language": "python",
   "display_name": "pytorch17_p38"
  },
  "language_info": {
   "codemirror_mode": {
    "name": "ipython",
    "version": 2
   },
   "file_extension": ".py",
   "mimetype": "text/x-python",
   "name": "python",
   "nbconvert_exporter": "python",
   "pygments_lexer": "ipython2",
   "version": "2.7.6"
  }
 },
 "nbformat": 4,
 "nbformat_minor": 0
}