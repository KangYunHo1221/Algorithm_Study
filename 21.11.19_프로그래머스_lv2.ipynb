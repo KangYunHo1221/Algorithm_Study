{
 "cells": [
  {
   "cell_type": "code",
   "execution_count": 39,
   "outputs": [
    {
     "data": {
      "text/plain": "'4212112111212411'"
     },
     "execution_count": 39,
     "metadata": {},
     "output_type": "execute_result"
    }
   ],
   "source": [
    "## 124 나라의 숫자\n",
    "## 프로그래머스 > 연습문제\n",
    "\n",
    "#첫 시도 효율성 엉망\n",
    "\n",
    "def solution(n):\n",
    "    if n == 3:\n",
    "        return \"4\"\n",
    "\n",
    "    def findMSB(n):\n",
    "        for i in range(40):\n",
    "            if(n < (3**i)):\n",
    "                return i-1\n",
    "\n",
    "    def findTrinumExcept0(n, MSB):\n",
    "        TrinumExcept0 = []\n",
    "        for j in range(MSB,0,-1):\n",
    "            digit = n//(3**j)\n",
    "            TrinumExcept0.append(digit)\n",
    "            n = n - (3**j)*digit\n",
    "\n",
    "        TrinumExcept0.append(n)\n",
    "\n",
    "        while 0 in TrinumExcept0:\n",
    "            for k in range(len(TrinumExcept0)):\n",
    "                if TrinumExcept0[k] == 0:\n",
    "                    TrinumExcept0[k-1] -= 1\n",
    "                    TrinumExcept0[k] += 3\n",
    "            temp = ''.join(map(str, TrinumExcept0))\n",
    "            temp = int(temp)\n",
    "            TrinumExcept0 = list(map(int, str(temp)))\n",
    "\n",
    "        return TrinumExcept0\n",
    "\n",
    "\n",
    "    def wordTo124(trinum):\n",
    "        answer = ''\n",
    "        for i in range(len(trinum)):\n",
    "            if trinum[i] == 3:\n",
    "                answer += '4'\n",
    "            elif trinum[i] != 0:\n",
    "                answer += str(trinum[i])\n",
    "        return answer\n",
    "\n",
    "    MSB = findMSB(n)\n",
    "    trinum = findTrinumExcept0(n, MSB)\n",
    "    answer = wordTo124(trinum)\n",
    "\n",
    "    return answer\n",
    "\n",
    "solution(10)"
   ],
   "metadata": {
    "collapsed": false,
    "pycharm": {
     "name": "#%% Version1..\n"
    }
   }
  },
  {
   "cell_type": "code",
   "execution_count": 73,
   "outputs": [
    {
     "data": {
      "text/plain": "'422222222222222224'"
     },
     "execution_count": 73,
     "metadata": {},
     "output_type": "execute_result"
    }
   ],
   "source": [
    "# 다른사람 풀이\n",
    "def solution(n):\n",
    "    answer = ''\n",
    "    while n > 0:\n",
    "        n -= 1\n",
    "        answer = '124'[n%3] + answer\n",
    "        n //= 3\n",
    "    return answer"
   ],
   "metadata": {
    "collapsed": false,
    "pycharm": {
     "name": "#%%\n"
    }
   }
  }
 ],
 "metadata": {
  "kernelspec": {
   "name": "pytorch17_p38",
   "language": "python",
   "display_name": "pytorch17_p38"
  },
  "language_info": {
   "codemirror_mode": {
    "name": "ipython",
    "version": 2
   },
   "file_extension": ".py",
   "mimetype": "text/x-python",
   "name": "python",
   "nbconvert_exporter": "python",
   "pygments_lexer": "ipython2",
   "version": "2.7.6"
  }
 },
 "nbformat": 4,
 "nbformat_minor": 0
}