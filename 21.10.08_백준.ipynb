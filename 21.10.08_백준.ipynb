{
 "cells": [
  {
   "cell_type": "code",
   "execution_count": 40,
   "outputs": [
    {
     "name": "stdout",
     "output_type": "stream",
     "text": [
      "1\n"
     ]
    }
   ],
   "source": [
    "## 호텔\n",
    "## https://www.acmicpc.net/problem/1106\n",
    "c, n = map(int, input().split()) # c는 최소고객, n은 도시 수\n",
    "cost_list = []\n",
    "for _ in range(n): #도시 별 cost, effect\n",
    "    cost, effect = map(int, input().split())\n",
    "    cost_list.append((cost, effect))\n",
    "\n",
    "dp = [0]*100000\n",
    "\n",
    "for cost, effect in cost_list:\n",
    "    for i in range(cost, c+1):\n",
    "        dp[i] = max(dp[i], dp[i-cost]+effect)\n",
    "\n",
    "for i in range(len(dp)):\n",
    "    if dp[i] >= c:\n",
    "        print(i)\n",
    "        break"
   ],
   "metadata": {
    "collapsed": false,
    "pycharm": {
     "name": "#%%\n"
    }
   }
  }
 ],
 "metadata": {
  "kernelspec": {
   "name": "pytorch17_p38",
   "language": "python",
   "display_name": "pytorch17_p38"
  },
  "language_info": {
   "codemirror_mode": {
    "name": "ipython",
    "version": 2
   },
   "file_extension": ".py",
   "mimetype": "text/x-python",
   "name": "python",
   "nbconvert_exporter": "python",
   "pygments_lexer": "ipython2",
   "version": "2.7.6"
  }
 },
 "nbformat": 4,
 "nbformat_minor": 0
}