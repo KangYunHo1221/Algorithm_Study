{
 "cells": [
  {
   "cell_type": "code",
   "execution_count": 3,
   "outputs": [
    {
     "name": "stdout",
     "output_type": "stream",
     "text": [
      "7\n",
      "44\n",
      "274\n"
     ]
    }
   ],
   "source": [
    "## 123 더하기\n",
    "## https://www.acmicpc.net/problem/9095\n",
    "\n",
    "T = int(input())\n",
    "\n",
    "dp = [0]*12\n",
    "dp[0] = 1\n",
    "\n",
    "for i in range(12):\n",
    "    for j in range(1,4):\n",
    "        if i-j >= 0:\n",
    "            dp[i] += dp[i-j]\n",
    "\n",
    "for _ in range(T):\n",
    "    n = int(input())\n",
    "    print(dp[n])\n",
    "\n"
   ],
   "metadata": {
    "collapsed": false,
    "pycharm": {
     "name": "#%%\n"
    }
   }
  }
 ],
 "metadata": {
  "kernelspec": {
   "name": "pytorch17_p38",
   "language": "python",
   "display_name": "pytorch17_p38"
  },
  "language_info": {
   "codemirror_mode": {
    "name": "ipython",
    "version": 2
   },
   "file_extension": ".py",
   "mimetype": "text/x-python",
   "name": "python",
   "nbconvert_exporter": "python",
   "pygments_lexer": "ipython2",
   "version": "2.7.6"
  }
 },
 "nbformat": 4,
 "nbformat_minor": 0
}