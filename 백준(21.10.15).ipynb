{
 "cells": [
  {
   "cell_type": "code",
   "execution_count": 18,
   "outputs": [
    {
     "name": "stdout",
     "output_type": "stream",
     "text": [
      "45\n"
     ]
    }
   ],
   "source": [
    "## 퇴사\n",
    "## https://www.acmicpc.net/problem/14501\n",
    "\n",
    "n = int(input())\n",
    "T  = []\n",
    "P = []\n",
    "for _ in range(n):\n",
    "    t, p = map(int, input().split())\n",
    "    T.append(t)\n",
    "    P.append(p)\n",
    "T.append(0), P.append(0) #맨 마지막날에 하루만에 가능한 일 하는 경우\n",
    "\n",
    "dp = [0]*(n+1)\n",
    "\n",
    "for i in range(n):\n",
    "    if i+T[i] < n+1: #범위 안 일때, 즉 상담가능할때\n",
    "        dp[i+T[i]] = max(dp[i+T[i]], dp[i]+P[i])\n",
    "    for j in range(i+T[i], n+1):\n",
    "        dp[j] = max(dp[j], dp[i+T[i]])\n",
    "print(max(dp[:]))\n"
   ],
   "metadata": {
    "collapsed": false,
    "pycharm": {
     "name": "#%%\n"
    }
   }
  }
 ],
 "metadata": {
  "kernelspec": {
   "name": "pytorch17_p38",
   "language": "python",
   "display_name": "pytorch17_p38"
  },
  "language_info": {
   "codemirror_mode": {
    "name": "ipython",
    "version": 2
   },
   "file_extension": ".py",
   "mimetype": "text/x-python",
   "name": "python",
   "nbconvert_exporter": "python",
   "pygments_lexer": "ipython2",
   "version": "2.7.6"
  }
 },
 "nbformat": 4,
 "nbformat_minor": 0
}