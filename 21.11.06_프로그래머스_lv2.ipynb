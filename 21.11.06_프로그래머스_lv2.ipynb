{
 "cells": [
  {
   "cell_type": "code",
   "execution_count": 2,
   "outputs": [
    {
     "name": "stdout",
     "output_type": "stream",
     "text": [
      "bat.y.abcdefghi\n",
      "z--\n",
      "aaa\n",
      "123_.def\n",
      "abcdefghijklmn\n"
     ]
    },
    {
     "data": {
      "text/plain": "'abcdefghijklmn'"
     },
     "execution_count": 2,
     "metadata": {},
     "output_type": "execute_result"
    }
   ],
   "source": [
    "## 조이스틱\n",
    "## 프로그래머스\n",
    "def solution(name):\n",
    "    answer = 0 # ascii of A==65, Z==90\n",
    "    min_move = len(name)-1\n",
    "\n",
    "    for i in range(len(name)):\n",
    "        answer += min(90-ord(name[i])+1,ord(name[i])-65)\n",
    "\n",
    "        next = i+1\n",
    "        while next < len(name) and name[next] == 'A':\n",
    "            next += 1\n",
    "        min_move = min(min_move, 2*i+len(name)-next)\n",
    "\n",
    "    answer += min_move\n",
    "\n",
    "    return answer"
   ],
   "metadata": {
    "collapsed": false,
    "pycharm": {
     "name": "#%%\n"
    }
   }
  }
 ],
 "metadata": {
  "kernelspec": {
   "name": "pytorch17_p38",
   "language": "python",
   "display_name": "pytorch17_p38"
  },
  "language_info": {
   "codemirror_mode": {
    "name": "ipython",
    "version": 2
   },
   "file_extension": ".py",
   "mimetype": "text/x-python",
   "name": "python",
   "nbconvert_exporter": "python",
   "pygments_lexer": "ipython2",
   "version": "2.7.6"
  }
 },
 "nbformat": 4,
 "nbformat_minor": 0
}