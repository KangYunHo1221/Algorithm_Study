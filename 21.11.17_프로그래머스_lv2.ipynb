{
 "cells": [
  {
   "cell_type": "code",
   "execution_count": 9,
   "outputs": [
    {
     "data": {
      "text/plain": "['Prodo님이 들어왔습니다.', 'Ryan님이 들어왔습니다.', 'Prodo님이 나갔습니다.', 'Prodo님이 들어왔습니다.']"
     },
     "execution_count": 9,
     "metadata": {},
     "output_type": "execute_result"
    }
   ],
   "source": [
    "## 오픈채팅방\n",
    "## 프로그래머스 > 2019 KAKAO BLIND RECRUITMENT\n",
    "\n",
    "def solution(record):\n",
    "    answer = []\n",
    "\n",
    "    userList = {}\n",
    "    for r in record:\n",
    "        a = list(r.split(' '))\n",
    "        if len(a) == 3: ## record is Enter or Change\n",
    "            userList[a[1]] = a[2]\n",
    "\n",
    "    for r in record:\n",
    "        a = list(r.split(' '))\n",
    "        comment = ''\n",
    "        if a[0] == 'Enter':\n",
    "            comment += userList[a[1]] + '님이 들어왔습니다.'\n",
    "            answer.append(comment)\n",
    "        elif a[0] == 'Leave':\n",
    "            comment += userList[a[1]] + '님이 나갔습니다.'\n",
    "            answer.append(comment)\n",
    "\n",
    "    return answer\n",
    "\n",
    "solution([\"Enter uid1234 Muzi\", \"Enter uid4567 Prodo\",\"Leave uid1234\",\"Enter uid1234 Prodo\",\"Change uid4567 Ryan\"])"
   ],
   "metadata": {
    "collapsed": false,
    "pycharm": {
     "name": "#%%\n"
    }
   }
  }
 ],
 "metadata": {
  "kernelspec": {
   "name": "pytorch17_p38",
   "language": "python",
   "display_name": "pytorch17_p38"
  },
  "language_info": {
   "codemirror_mode": {
    "name": "ipython",
    "version": 2
   },
   "file_extension": ".py",
   "mimetype": "text/x-python",
   "name": "python",
   "nbconvert_exporter": "python",
   "pygments_lexer": "ipython2",
   "version": "2.7.6"
  }
 },
 "nbformat": 4,
 "nbformat_minor": 0
}