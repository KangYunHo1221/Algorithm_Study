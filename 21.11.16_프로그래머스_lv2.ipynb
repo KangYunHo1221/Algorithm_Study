{
 "cells": [
  {
   "cell_type": "code",
   "execution_count": 22,
   "outputs": [
    {
     "name": "stdout",
     "output_type": "stream",
     "text": [
      "2a2ba3c\n",
      "aabbaccc\n",
      "aabbaccc\n",
      "aabbaccc\n",
      "7\n",
      "ababcdcdababcdcd\n",
      "2ab2cd2ab2cd\n",
      "ababcdcdababcdcd\n",
      "ababcdcdababcdcd\n",
      "ababcdcdababcdcd\n",
      "ababcdcdababcdcd\n",
      "ababcdcdababcdcd\n",
      "2ababcdcd\n",
      "9\n",
      "abcabcdede\n",
      "abcabc2de\n",
      "2abcdede\n",
      "abcabcdede\n",
      "abcabcdede\n",
      "8\n",
      "abcabcabcabcdededededede\n",
      "abcabcabcabc6de\n",
      "4abcdededededede\n",
      "abcabcabcabc3dede\n",
      "abcabcabcabcdededededede\n",
      "2abcabc2dedede\n",
      "abcabcabcabcdededededede\n",
      "abcabcabcabcdededededede\n",
      "abcabcabcabcdededededede\n",
      "abcabcabcabcdededededede\n",
      "abcabcabcabcdededededede\n",
      "abcabcabcabcdededededede\n",
      "14\n",
      "xababcdcdababcdcd\n",
      "xababcdcdababcdcd\n",
      "xababcdcdababcdcd\n",
      "xababcdcdababcdcd\n",
      "xababcdcdababcdcd\n",
      "xababcdcdababcdcd\n",
      "xababcdcdababcdcd\n",
      "xababcdcdababcdcd\n",
      "17\n"
     ]
    },
    {
     "data": {
      "text/plain": "'xababcdcdababcdcd'"
     },
     "execution_count": 22,
     "metadata": {},
     "output_type": "execute_result"
    }
   ],
   "source": [
    "## 문자열 압축\n",
    "## 프로그래머스 > 2020 KAKAO BLIND RECRUITMENT\n",
    "\n",
    "def solution(s):\n",
    "    mylist = []\n",
    "\n",
    "    if len(s) == 1: #1개일때 압축 필요없음\n",
    "        return 1\n",
    "\n",
    "    for window in range(1, (len(s)//2)+1): ## 절반까지 탐색하면 전체 압축가능\n",
    "        answer = ''\n",
    "        target = s[0:window]\n",
    "        count = 1\n",
    "        for i in range(window, len(s), window): #window 크기만큼 자르면서 탐색\n",
    "            if target == s[i:i+window]: #같으면 count+1\n",
    "                count += 1\n",
    "            else: #다르면 같았던 결과 저장\n",
    "                if count != 1:\n",
    "                    answer += str(count) + target\n",
    "                else:\n",
    "                    answer += target\n",
    "                target = s[i:i+window]\n",
    "                count = 1\n",
    "\n",
    "        if count != 1:\n",
    "            answer += str(count) + target\n",
    "        else:\n",
    "            answer += target\n",
    "\n",
    "        mylist.append(len(answer))\n",
    "\n",
    "    return min(mylist)\n",
    "\n",
    "solution(\"aabbaccc\")\n",
    "solution(\"ababcdcdababcdcd\")\n",
    "solution(\"abcabcdede\")\n",
    "solution(\"abcabcabcabcdededededede\")\n",
    "solution(\"xababcdcdababcdcd\")"
   ],
   "metadata": {
    "collapsed": false,
    "pycharm": {
     "name": "#%%\n"
    }
   }
  }
 ],
 "metadata": {
  "kernelspec": {
   "name": "pytorch17_p38",
   "language": "python",
   "display_name": "pytorch17_p38"
  },
  "language_info": {
   "codemirror_mode": {
    "name": "ipython",
    "version": 2
   },
   "file_extension": ".py",
   "mimetype": "text/x-python",
   "name": "python",
   "nbconvert_exporter": "python",
   "pygments_lexer": "ipython2",
   "version": "2.7.6"
  }
 },
 "nbformat": 4,
 "nbformat_minor": 0
}