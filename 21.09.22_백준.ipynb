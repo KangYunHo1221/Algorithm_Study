{
 "cells": [
  {
   "cell_type": "code",
   "execution_count": 15,
   "outputs": [
    {
     "name": "stdout",
     "output_type": "stream",
     "text": [
      "15\n"
     ]
    }
   ],
   "source": [
    "## 주사위\n",
    "## https://www.acmicpc.net/problem/1041\n",
    "from itertools import combinations\n",
    "\n",
    "n = int(input())\n",
    "a,b,c,d,e,f = map(int, input().split())\n",
    "\n",
    "list3 = list()\n",
    "#3면 접히는 경우의수 abc, aec, aed, abd, fbc, fec, fed, fbd\n",
    "list3.append(a+b+c)\n",
    "list3.append(a+e+c)\n",
    "list3.append(a+e+d)\n",
    "list3.append(a+b+d)\n",
    "list3.append(f+b+c)\n",
    "list3.append(f+e+c)\n",
    "list3.append(f+e+d)\n",
    "list3.append(f+b+d)\n",
    "list3 = sorted(list3)\n",
    "\n",
    "#2면 고르는 경우의수 전체중에 2개 고르는 경우의수 - af, eb, cd\n",
    "m = list(combinations((a,b,c,d,e,f), 2))\n",
    "list2 = list()\n",
    "for x, y in m:\n",
    "    list2.append(x+y)\n",
    "\n",
    "list2.pop(9)\n",
    "list2.pop(7)\n",
    "list2.pop(4)\n",
    "list2 = sorted(list2)\n",
    "\n",
    "list1 = list()\n",
    "list1.append(a)\n",
    "list1.append(b)\n",
    "list1.append(c)\n",
    "list1.append(d)\n",
    "list1.append(e)\n",
    "list1.append(f)\n",
    "list1 = sorted(list1)\n",
    "\n",
    "result = (\n",
    "        (n-2)*(n-2)*5*(list1[0]) + (n-2)*4*(list1[0])\n",
    "        + (n-2)*8*(list2[0]) + 4*(list2[0])\n",
    "        + 4*(list3[0])\n",
    "        )\n",
    "\n",
    "\n",
    "if n == 1:\n",
    "    result = 0\n",
    "    for k in range(0,5):\n",
    "        result += list1[k]\n",
    "    print(result)\n",
    "else:\n",
    "    print(result)"
   ],
   "metadata": {
    "collapsed": false,
    "pycharm": {
     "name": "#%%\n"
    }
   }
  }
 ],
 "metadata": {
  "kernelspec": {
   "name": "pytorch17_p38",
   "language": "python",
   "display_name": "pytorch17_p38"
  },
  "language_info": {
   "codemirror_mode": {
    "name": "ipython",
    "version": 2
   },
   "file_extension": ".py",
   "mimetype": "text/x-python",
   "name": "python",
   "nbconvert_exporter": "python",
   "pygments_lexer": "ipython2",
   "version": "2.7.6"
  }
 },
 "nbformat": 4,
 "nbformat_minor": 0
}