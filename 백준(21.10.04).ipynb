{
 "cells": [
  {
   "cell_type": "code",
   "execution_count": 2,
   "outputs": [
    {
     "name": "stdout",
     "output_type": "stream",
     "text": [
      "50\n"
     ]
    }
   ],
   "source": [
    "## 안녕\n",
    "## https://www.acmicpc.net/problem/1535\n",
    "# 1st\n",
    "\n",
    "import sys\n",
    "\n",
    "N = int(input())\n",
    "L = [0] + list(map(int, input().split()))\n",
    "P = [0] + list(map(int, input().split()))\n",
    "dp = [[0]*101 for _ in range(N+1)] #최대체력 101\n",
    "\n",
    "for i in range(1, N+1):\n",
    "    for j in range(1, 101):\n",
    "        if L[i] <= j:\n",
    "            dp[i][j] = max(dp[i-1][j], dp[i-1][j-L[i]] + P[i])\n",
    "        else:\n",
    "            dp[i][j] = dp[i-1][j]\n",
    "\n",
    "print(dp[N][99])"
   ],
   "metadata": {
    "collapsed": false,
    "pycharm": {
     "name": "#%%\n"
    }
   }
  },
  {
   "cell_type": "code",
   "execution_count": 6,
   "outputs": [
    {
     "name": "stdout",
     "output_type": "stream",
     "text": [
      "50\n"
     ]
    }
   ],
   "source": [
    "#2\n",
    "\n",
    "import sys\n",
    "N = int(input())\n",
    "L = list(map(int, input().split()))\n",
    "P = list(map(int, input().split()))\n",
    "dp = [[0]*100 for _ in range(N)]\n",
    "\n",
    "for i in range(N):\n",
    "    for j in range(100):\n",
    "        if L[i] <= j: #j 안에 넣을 수 있으면\n",
    "            dp[i][j] = max(dp[i-1][j], dp[i-1][j-L[i]] + P[i])\n",
    "        else:\n",
    "            dp[i][j] = dp[i-1][j]\n",
    "\n",
    "print(dp[2][99])"
   ],
   "metadata": {
    "collapsed": false,
    "pycharm": {
     "name": "#%%\n"
    }
   }
  },
  {
   "cell_type": "code",
   "execution_count": null,
   "outputs": [],
   "source": [
    "N = int(input())\n",
    "L = list(map(int, input().split()))\n",
    "P = list(map(int, input().split()))\n",
    "dp = [[0]*100 for _ in range(N)]\n",
    "\n",
    "for i in range(1,N+1):\n",
    "    for j in range(1,101):\n",
    "        if L[i] < j:\n",
    "            dp[i][j] = max(dp[i-1][j], dp[i-1][j-L[i]]+P[i])\n",
    "        else:\n",
    "            dp[i][j] = dp[i-1][j]\n",
    "\n",
    "print[N][99]"
   ],
   "metadata": {
    "collapsed": false,
    "pycharm": {
     "name": "#%%\n"
    }
   }
  }
 ],
 "metadata": {
  "kernelspec": {
   "name": "pytorch17_p38",
   "language": "python",
   "display_name": "pytorch17_p38"
  },
  "language_info": {
   "codemirror_mode": {
    "name": "ipython",
    "version": 2
   },
   "file_extension": ".py",
   "mimetype": "text/x-python",
   "name": "python",
   "nbconvert_exporter": "python",
   "pygments_lexer": "ipython2",
   "version": "2.7.6"
  }
 },
 "nbformat": 4,
 "nbformat_minor": 0
}