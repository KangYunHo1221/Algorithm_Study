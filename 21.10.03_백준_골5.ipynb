{
 "cells": [
  {
   "cell_type": "code",
   "execution_count": 9,
   "outputs": [
    {
     "data": {
      "text/plain": "('666', 3)"
     },
     "execution_count": 9,
     "metadata": {},
     "output_type": "execute_result"
    }
   ],
   "source": [
    "## 평범한 배낭(냅색 알고리즘)\n",
    "## https://www.acmicpc.net/problem/12865\n",
    "\n",
    "n, k = map(int, input().split())\n",
    "thing = [[0,0]]\n",
    "d = [[0]*(k+1) for _ in range(n+1)]\n",
    "\n",
    "for i in range(n):\n",
    "    thing.append(list(map(int, input().split())))\n",
    "\n",
    "for i in range(1, n+1):\n",
    "    for j in range(1, k+1):\n",
    "        w = thing[i][0]\n",
    "        v = thing[i][1]\n",
    "\n",
    "        if j < w: #넣으려는 물건이 허용공간보다 무거우면 전과 같음\n",
    "            d[i][j] = d[i-1][j]\n",
    "        else: #넣을 수 있다면 전 꺼랑 새로 넣을녀석 비교해서\n",
    "            d[i][j] = max(d[i-1][j], d[i-1][j-w]+v)\n",
    "\n",
    "print(d[n][k])"
   ],
   "metadata": {
    "collapsed": false,
    "pycharm": {
     "name": "#%%\n"
    }
   }
  },
  {
   "cell_type": "markdown",
   "source": [
    "* nknapsack 1st trial"
   ],
   "metadata": {
    "collapsed": false
   }
  }
 ],
 "metadata": {
  "kernelspec": {
   "name": "pytorch17_p38",
   "language": "python",
   "display_name": "pytorch17_p38"
  },
  "language_info": {
   "codemirror_mode": {
    "name": "ipython",
    "version": 2
   },
   "file_extension": ".py",
   "mimetype": "text/x-python",
   "name": "python",
   "nbconvert_exporter": "python",
   "pygments_lexer": "ipython2",
   "version": "2.7.6"
  }
 },
 "nbformat": 4,
 "nbformat_minor": 0
}