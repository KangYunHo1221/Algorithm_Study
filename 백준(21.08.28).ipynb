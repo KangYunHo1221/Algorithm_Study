{
 "cells": [
  {
   "cell_type": "code",
   "execution_count": 2,
   "outputs": [
    {
     "name": "stdout",
     "output_type": "stream",
     "text": [
      "2\n"
     ]
    }
   ],
   "source": [
    "## 1이 될 때까지\n",
    "## 이코테\n",
    "\n",
    "n, k = map(int, input().split())\n",
    "count = 0\n",
    "\n",
    "while(n!=1):\n",
    "    if(n%k==0):\n",
    "        n = n/k\n",
    "    else:\n",
    "        n = n-1\n",
    "    count += 1\n",
    "\n",
    "print(count)"
   ],
   "metadata": {
    "collapsed": false,
    "pycharm": {
     "name": "#%%\n"
    }
   }
  },
  {
   "cell_type": "code",
   "source": [
    "## 1이 될 때까지(시간 복잡도 줄이는) 풀이2\n",
    "## 뺄셈연산을 1씩안하고 한번에 다 빼버림\n",
    "n, k = map(int, input().split())\n",
    "count = 0\n",
    "\n",
    "while (1):\n",
    "    target = (n//k)*k ##target에 임시 저장\n",
    "    count += n-target ##뺀 횟수 count\n",
    "    n = target ##n업데이트\n",
    "    if n<k:\n",
    "        break\n",
    "    n //= k ##나누기\n",
    "    count +=1\n",
    "\n",
    "count += n-1\n",
    "print(count)"
   ],
   "metadata": {
    "collapsed": false,
    "pycharm": {
     "name": "#%%\n"
    }
   },
   "execution_count": 7,
   "outputs": [
    {
     "name": "stdout",
     "output_type": "stream",
     "text": [
      "5\n"
     ]
    }
   ]
  },
  {
   "cell_type": "markdown",
   "source": [
    "* 풀이 하고 시간남으면 시간복잡도 파악해서 줄여보는것도 좋은 판단"
   ],
   "metadata": {
    "collapsed": false
   }
  },
  {
   "cell_type": "code",
   "execution_count": 11,
   "outputs": [
    {
     "name": "stdout",
     "output_type": "stream",
     "text": [
      "121\n"
     ]
    }
   ],
   "source": [
    "## 곱하기 혹은 더하기\n",
    "## 이코테 문제\n",
    "\n",
    "a = input()\n",
    "result = int(a[0])\n",
    "\n",
    "for i in range(1, len(a)):\n",
    "    target = int(a[i])\n",
    "    if target<=1 or result<=1:\n",
    "        result += target\n",
    "    else:\n",
    "        result *= target\n",
    "\n",
    "print(result)\n",
    "\n"
   ],
   "metadata": {
    "collapsed": false,
    "pycharm": {
     "name": "#%%\n"
    }
   }
  },
  {
   "cell_type": "markdown",
   "source": [
    "* 파이썬은 숫자나 문자열 리스트처럼 []써서 사용 가능\n",
    "\n"
   ],
   "metadata": {
    "collapsed": false,
    "pycharm": {
     "name": "#%% md\n"
    }
   }
  }
 ],
 "metadata": {
  "kernelspec": {
   "name": "pytorch17_p38",
   "language": "python",
   "display_name": "pytorch17_p38"
  },
  "language_info": {
   "codemirror_mode": {
    "name": "ipython",
    "version": 2
   },
   "file_extension": ".py",
   "mimetype": "text/x-python",
   "name": "python",
   "nbconvert_exporter": "python",
   "pygments_lexer": "ipython2",
   "version": "2.7.6"
  }
 },
 "nbformat": 4,
 "nbformat_minor": 0
}