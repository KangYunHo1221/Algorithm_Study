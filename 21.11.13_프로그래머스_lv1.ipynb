{
 "cells": [
  {
   "cell_type": "code",
   "execution_count": 38,
   "outputs": [
    {
     "data": {
      "text/plain": "[2, 3, 4, 5, 1]"
     },
     "execution_count": 38,
     "metadata": {},
     "output_type": "execute_result"
    }
   ],
   "source": [
    "## 실패율\n",
    "## 프로그래머스 > 2019 KAKAO BLIND RECRUITMENT\n",
    "\n",
    "def solution(N, stages):\n",
    "    #분모\n",
    "    result1 = [0 for _ in range(N+1)]\n",
    "    for i in stages:\n",
    "        for j in range(i):\n",
    "            result1[j] += 1\n",
    "\n",
    "    #분자\n",
    "    result2 = [0 for _ in range(N+1)]\n",
    "    for t in stages:\n",
    "        result2[t-1] += 1\n",
    "\n",
    "    result3 = {}\n",
    "    for k in range(N):\n",
    "        if result1[k] == 0:\n",
    "            result3[k+1] = 0\n",
    "            continue\n",
    "        result3[k+1] =  result2[k] / result1[k]\n",
    "\n",
    "\n",
    "    result3 = sorted(result3, key = lambda x:result3[x], reverse=True)\n",
    "\n",
    "    return result3\n",
    "\n",
    "\n",
    "\n",
    "solution(5, [2, 1, 2, 6, 2, 4, 3, 3])\n",
    "solution(5, [2,2,2,2,2])"
   ],
   "metadata": {
    "collapsed": false,
    "pycharm": {
     "name": "#%%\n"
    }
   }
  },
  {
   "cell_type": "code",
   "execution_count": null,
   "outputs": [],
   "source": [
    "## 다른사람 풀이\n",
    "\n",
    "def solution(N,stages):\n",
    "    result = {}\n",
    "    denominator = len(stages)\n",
    "    for stage in range(1, N+1):\n",
    "        if denominator != 0:\n",
    "            count = stages.count(stage)\n",
    "            result[stage] = count / denominator\n",
    "            denominator -= count\n",
    "        else:\n",
    "            result[stage] = 0\n",
    "    return sorted(result, key=lambda x:result[x], reverse=True)"
   ],
   "metadata": {
    "collapsed": false,
    "pycharm": {
     "name": "#%%\n"
    }
   }
  }
 ],
 "metadata": {
  "kernelspec": {
   "name": "pytorch17_p38",
   "language": "python",
   "display_name": "pytorch17_p38"
  },
  "language_info": {
   "codemirror_mode": {
    "name": "ipython",
    "version": 2
   },
   "file_extension": ".py",
   "mimetype": "text/x-python",
   "name": "python",
   "nbconvert_exporter": "python",
   "pygments_lexer": "ipython2",
   "version": "2.7.6"
  }
 },
 "nbformat": 4,
 "nbformat_minor": 0
}