{
 "cells": [
  {
   "cell_type": "code",
   "execution_count": 37,
   "outputs": [
    {
     "name": "stdout",
     "output_type": "stream",
     "text": [
      "230456\n",
      "234567\n",
      "1478\n",
      "234567\n"
     ]
    },
    {
     "data": {
      "text/plain": "'234567'"
     },
     "execution_count": 37,
     "metadata": {},
     "output_type": "execute_result"
    }
   ],
   "source": [
    "## 숫자 문자열과 영단어\n",
    "## 프로그래머스 > 코딩테스트 연습\n",
    "def solution(s):\n",
    "    answer = ''\n",
    "    s = list(s)\n",
    "    s2 = ''\n",
    "    i = 0\n",
    "    while i < len(s):\n",
    "        if s[i] not in 'zotfsen':\n",
    "            s2 += s[i]\n",
    "            i += 1\n",
    "        elif s[i] == 'z':\n",
    "            s2 += '0'\n",
    "            i += 4\n",
    "        elif s[i] == 'o':\n",
    "            s2 += '1'\n",
    "            i += 3\n",
    "        elif s[i] == 't':\n",
    "            if s[i+1] == 'w':\n",
    "                s2 += '2'\n",
    "                i += 3\n",
    "            elif s[i+1] == 'h':\n",
    "                s2 += '3'\n",
    "                i += 5\n",
    "        elif s[i] == 'f':\n",
    "            if s[i+1] == 'o':\n",
    "                s2 += '4'\n",
    "                i += 4\n",
    "            elif s[i+1] == 'i':\n",
    "                s2 += '5'\n",
    "                i += 4\n",
    "        elif s[i] == 's':\n",
    "            if s[i+1] == 'i':\n",
    "                s2 += '6'\n",
    "                i += 3\n",
    "            elif s[i+1] == 'e':\n",
    "                s2 += '7'\n",
    "                i += 5\n",
    "        elif s[i] == 'e':\n",
    "            s2 += '8'\n",
    "            i += 5\n",
    "        elif s[i] == 'n':\n",
    "            s2 += '9'\n",
    "            i += 4\n",
    "\n",
    "    return s2\n",
    "\n",
    "\n",
    "solution(\"23zero456\")\n",
    "solution(\"2three45sixseven\")\n",
    "solution(\"one4seveneight\")\n",
    "solution(\"23four5six7\"\t)"
   ],
   "metadata": {
    "collapsed": false,
    "pycharm": {
     "name": "#%%\n"
    }
   }
  },
  {
   "cell_type": "code",
   "execution_count": null,
   "outputs": [],
   "source": [
    "s = \"one4seveneight\"\n",
    "s[9]"
   ],
   "metadata": {
    "collapsed": false,
    "pycharm": {
     "name": "#%%\n"
    }
   }
  }
 ],
 "metadata": {
  "kernelspec": {
   "name": "pytorch17_p38",
   "language": "python",
   "display_name": "pytorch17_p38"
  },
  "language_info": {
   "codemirror_mode": {
    "name": "ipython",
    "version": 2
   },
   "file_extension": ".py",
   "mimetype": "text/x-python",
   "name": "python",
   "nbconvert_exporter": "python",
   "pygments_lexer": "ipython2",
   "version": "2.7.6"
  }
 },
 "nbformat": 4,
 "nbformat_minor": 0
}