{
 "cells": [
  {
   "cell_type": "code",
   "execution_count": 56,
   "outputs": [
    {
     "name": "stdout",
     "output_type": "stream",
     "text": [
      "80\n",
      "2\n",
      "0\n",
      "10\n",
      "90\n"
     ]
    }
   ],
   "source": [
    "## 멀쩡한 사각형\n",
    "## 프로그래머스 > Summer/Winter Coding(2019)\n",
    "\n",
    "import math\n",
    "\n",
    "def solution(w,h):\n",
    "    answer = 0\n",
    "\n",
    "    # 무조건 X가 긴 형태로 변환\n",
    "    x = max(w,h)\n",
    "    y = min(w,h)\n",
    "\n",
    "    mylist = [0]\n",
    "    for i in range(1,y):\n",
    "        mylist.append(i*x/y)\n",
    "    mylist.append(x)\n",
    "\n",
    "    for j in range(1,len(mylist)):\n",
    "        answer += math.ceil(mylist[j])- math.floor(mylist[j-1])\n",
    "\n",
    "    return (w*h) - answer"
   ],
   "metadata": {
    "collapsed": false,
    "pycharm": {
     "name": "#%% Version1..\n"
    }
   }
  },
  {
   "cell_type": "code",
   "execution_count": null,
   "outputs": [],
   "source": [
    "## 2로 나눠지는 애들을 통해서 효율성 개선\n",
    "\n",
    "import math\n",
    "\n",
    "def solution(w,h):\n",
    "    answer = 0\n",
    "\n",
    "    # 무조건 X가 긴 형태로 변환\n",
    "    x = max(w,h)\n",
    "    y = min(w,h)\n",
    "\n",
    "    for i in range(30): #메모리 절약 위해서 2의 몇배승으로 구할 수 잇는지 구함\n",
    "        t = 2**i\n",
    "        if x%t != 0 or y%t != 0:\n",
    "            c = i-1\n",
    "            break\n",
    "    \n",
    "    mylist = [0]\n",
    "    if c == 0:\n",
    "        for i in range(1,y):\n",
    "            mylist.append(i*x/y)\n",
    "        mylist.append(x)\n",
    "\n",
    "        for j in range(1,len(mylist)):\n",
    "            answer += math.ceil(mylist[j])- math.floor(mylist[j-1])\n",
    "\n",
    "    else:\n",
    "        x2 = int(x/2**c)\n",
    "        y2 = int(y/2**c)\n",
    "        for i in range(1,y2):\n",
    "            mylist.append(i*x2/y2)\n",
    "        mylist.append(x2)\n",
    "\n",
    "        for j in range(1,len(mylist)):\n",
    "            answer += math.ceil(mylist[j])- math.floor(mylist[j-1])\n",
    "        answer *= 2**c\n",
    "\n",
    "    return (w*h) - answer\n",
    "\n",
    "print(solution(8,12))\n",
    "print(solution(2,2))\n",
    "print(solution(1,13))\n",
    "print(solution(2,11))\n",
    "print(solution(10,11))"
   ],
   "metadata": {
    "collapsed": false,
    "pycharm": {
     "name": "#%% version2..\n"
    }
   }
  },
  {
   "cell_type": "code",
   "execution_count": 39,
   "outputs": [
    {
     "data": {
      "text/plain": "8"
     },
     "execution_count": 39,
     "metadata": {},
     "output_type": "execute_result"
    }
   ],
   "source": [
    "''' x,y 가 같을때 엄청 큰경우에 효율성 예외처리.. 좀 어거지로 푼 듯'''\n",
    "\n",
    "import math\n",
    "\n",
    "def solution(w,h):\n",
    "    answer = 0\n",
    "\n",
    "    # 무조건 X가 긴 형태로 변환\n",
    "    x = max(w,h)\n",
    "    y = min(w,h)\n",
    "\n",
    "    for i in range(30): #메모리 절약 위해서 2의 몇배승으로 구할 수 잇는지 구함\n",
    "        t = 2**i\n",
    "        if x%t != 0 or y%t != 0:\n",
    "            c = i-1\n",
    "            break\n",
    "    \n",
    "    if x==y:\n",
    "        return x*y - x\n",
    "    \n",
    "    mylist = [0]\n",
    "    if c == 0:\n",
    "        for i in range(1,y):\n",
    "            mylist.append(i*x/y)\n",
    "        mylist.append(x)\n",
    "\n",
    "        for j in range(1,len(mylist)):\n",
    "            answer += math.ceil(mylist[j])- math.floor(mylist[j-1])\n",
    "\n",
    "    else:\n",
    "        x2 = int(x/2**c)\n",
    "        y2 = int(y/2**c)\n",
    "        for i in range(1,y2):\n",
    "            mylist.append(i*x2/y2)\n",
    "        mylist.append(x2)\n",
    "\n",
    "        for j in range(1,len(mylist)):\n",
    "            answer += math.ceil(mylist[j])- math.floor(mylist[j-1])\n",
    "        answer *= 2**c\n",
    "\n",
    "    return (w*h) - answer\n"
   ],
   "metadata": {
    "collapsed": false,
    "pycharm": {
     "name": "#%% version3..\n"
    }
   }
  }
 ],
 "metadata": {
  "kernelspec": {
   "name": "pytorch17_p38",
   "language": "python",
   "display_name": "pytorch17_p38"
  },
  "language_info": {
   "codemirror_mode": {
    "name": "ipython",
    "version": 2
   },
   "file_extension": ".py",
   "mimetype": "text/x-python",
   "name": "python",
   "nbconvert_exporter": "python",
   "pygments_lexer": "ipython2",
   "version": "2.7.6"
  }
 },
 "nbformat": 4,
 "nbformat_minor": 0
}