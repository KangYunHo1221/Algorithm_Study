{
 "cells": [
  {
   "cell_type": "code",
   "execution_count": 12,
   "outputs": [
    {
     "name": "stdout",
     "output_type": "stream",
     "text": [
      "4\n"
     ]
    }
   ],
   "source": [
    "## 트리\n",
    "## https://www.acmicpc.net/problem/1068\n",
    "\n",
    "n = int(input())\n",
    "\n",
    "mylist = list(map(int, input().split()))\n",
    "\n",
    "#재귀로 해당 녀석을 부모로 하는애 찾고 지우고 걔를 부모로 하는애 찾고 지우고\n",
    "def delete(i):\n",
    "    global mylist\n",
    "    for k in range(n):\n",
    "        if mylist[k] == i:\n",
    "            mylist[k] = 1000\n",
    "            delete(k)\n",
    "    mylist[i] = 1000\n",
    "\n",
    "kill = int(input())\n",
    "delete(kill)\n",
    "\n",
    "\n",
    "result = 0\n",
    "for x in range(n):\n",
    "    if x not in mylist:\n",
    "        if mylist[x] != 1000:\n",
    "            result += 1\n",
    "\n",
    "print(result)"
   ],
   "metadata": {
    "collapsed": false,
    "pycharm": {
     "name": "#%%\n"
    }
   }
  }
 ],
 "metadata": {
  "kernelspec": {
   "name": "pytorch17_p38",
   "language": "python",
   "display_name": "pytorch17_p38"
  },
  "language_info": {
   "codemirror_mode": {
    "name": "ipython",
    "version": 2
   },
   "file_extension": ".py",
   "mimetype": "text/x-python",
   "name": "python",
   "nbconvert_exporter": "python",
   "pygments_lexer": "ipython2",
   "version": "2.7.6"
  }
 },
 "nbformat": 4,
 "nbformat_minor": 0
}