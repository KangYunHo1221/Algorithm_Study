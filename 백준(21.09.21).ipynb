{
 "cells": [
  {
   "cell_type": "code",
   "execution_count": 20,
   "outputs": [
    {
     "name": "stdout",
     "output_type": "stream",
     "text": [
      "98764320\n"
     ]
    }
   ],
   "source": [
    "## 감소하는 수\n",
    "## https://www.acmicpc.net/problem/1038\n",
    "from collections import deque\n",
    "\n",
    "n = int(input())\n",
    "mylist = list()\n",
    "mylistchar = deque()\n",
    "\n",
    "\n",
    "def make_num():\n",
    "    c=0\n",
    "    for x in range(0,10):\n",
    "        mylist.append(x)\n",
    "        mylistchar.append(str(x))\n",
    "\n",
    "\n",
    "    while(c < 1025):\n",
    "        if len(mylistchar) != 0:\n",
    "            target = mylistchar.popleft()\n",
    "            for y in range(0,10):\n",
    "                if int(target[-1]) > y:\n",
    "                    new = target + str(y)\n",
    "                    mylist.append(int(new))\n",
    "                    mylistchar.append(new)\n",
    "                    c+=1\n",
    "        else:\n",
    "            break\n",
    "    return True\n",
    "\n",
    "make_num()\n",
    "mylist = sorted(mylist)\n",
    "\n",
    "if n >= len(mylist):\n",
    "    print(-1)\n",
    "else:\n",
    "    print(mylist[n])"
   ],
   "metadata": {
    "collapsed": false,
    "pycharm": {
     "name": "#%%\n"
    }
   }
  },
  {
   "cell_type": "code",
   "execution_count": 21,
   "outputs": [
    {
     "ename": "IndexError",
     "evalue": "list index out of range",
     "output_type": "error",
     "traceback": [
      "\u001B[1;31m---------------------------------------------------------------------------\u001B[0m",
      "\u001B[1;31mIndexError\u001B[0m                                Traceback (most recent call last)",
      "\u001B[1;32m<ipython-input-21-55a9992c60bc>\u001B[0m in \u001B[0;36m<module>\u001B[1;34m\u001B[0m\n\u001B[0;32m      1\u001B[0m \u001B[0md\u001B[0m \u001B[1;33m=\u001B[0m \u001B[1;33m[\u001B[0m\u001B[1;36m1\u001B[0m\u001B[1;33m,\u001B[0m\u001B[1;36m2\u001B[0m\u001B[1;33m,\u001B[0m\u001B[1;36m3\u001B[0m\u001B[1;33m,\u001B[0m\u001B[1;36m4\u001B[0m\u001B[1;33m]\u001B[0m\u001B[1;33m\u001B[0m\u001B[1;33m\u001B[0m\u001B[0m\n\u001B[0;32m      2\u001B[0m \u001B[1;33m\u001B[0m\u001B[0m\n\u001B[1;32m----> 3\u001B[1;33m \u001B[0md\u001B[0m\u001B[1;33m[\u001B[0m\u001B[0mlen\u001B[0m\u001B[1;33m(\u001B[0m\u001B[0mmylist\u001B[0m\u001B[1;33m)\u001B[0m\u001B[1;33m]\u001B[0m\u001B[1;33m\u001B[0m\u001B[1;33m\u001B[0m\u001B[0m\n\u001B[0m",
      "\u001B[1;31mIndexError\u001B[0m: list index out of range"
     ]
    }
   ],
   "source": [
    "d = [1,2,3,4]\n",
    "\n",
    "d[len(mylist)]"
   ],
   "metadata": {
    "collapsed": false,
    "pycharm": {
     "name": "#%%\n"
    }
   }
  }
 ],
 "metadata": {
  "kernelspec": {
   "name": "pytorch17_p38",
   "language": "python",
   "display_name": "pytorch17_p38"
  },
  "language_info": {
   "codemirror_mode": {
    "name": "ipython",
    "version": 2
   },
   "file_extension": ".py",
   "mimetype": "text/x-python",
   "name": "python",
   "nbconvert_exporter": "python",
   "pygments_lexer": "ipython2",
   "version": "2.7.6"
  }
 },
 "nbformat": 4,
 "nbformat_minor": 0
}