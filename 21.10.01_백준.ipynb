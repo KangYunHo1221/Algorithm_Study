{
 "cells": [
  {
   "cell_type": "code",
   "execution_count": 67,
   "outputs": [
    {
     "name": "stdout",
     "output_type": "stream",
     "text": [
      "1 \n"
     ]
    }
   ],
   "source": [
    "## 소용돌이 예쁘게 출력하기\n",
    "## https://www.acmicpc.net/problem/1022\n",
    "from collections import deque\n",
    "\n",
    "r1, c1, r2, c2 = map(int, input().split())\n",
    "\n",
    "graph = [[0]*(c2-c1+1) for _ in range(r2-r1+1)]\n",
    "if r1<=0<=r2 and c1<=0<=c2:\n",
    "    graph[-r1][-c1] = 1\n",
    "\n",
    "movecount = 1\n",
    "x, y = 0,0\n",
    "t=1\n",
    "maxinput = 0\n",
    "\n",
    "#1, 100020002까지 돌려야함\n",
    "for i in range(1000):\n",
    "    move = deque()\n",
    "    for _ in range(movecount):\n",
    "        move.append(('y',1))\n",
    "    for _ in range(movecount):\n",
    "        move.append(('x',-1))\n",
    "    movecount += 1\n",
    "    for _ in range(movecount):\n",
    "        move.append(('y',-1))\n",
    "    for _ in range(movecount):\n",
    "        move.append(('x',1))\n",
    "    movecount += 1\n",
    "\n",
    "    while move:\n",
    "        target, amount = move.popleft()\n",
    "        amount = int(amount)\n",
    "        if target == 'x':\n",
    "            x += amount\n",
    "        if target == 'y':\n",
    "            y += amount\n",
    "        t += 1\n",
    "\n",
    "        if r1<=x<=r2 and c1<=y<=c2:\n",
    "            graph[x-r1][y-c1] = t\n",
    "            maxinput = t\n",
    "\n",
    "        if t> 10001*10001+1:\n",
    "            break\n",
    "\n",
    "R=r2-r1+1\n",
    "C=c2-c1+1\n",
    "max_num_len = len(str(maxinput))\n",
    "for i in range(R):\n",
    "    for j in range(C):\n",
    "        print(str(graph[i][j]).rjust(max_num_len), end=' ')\n",
    "    print()"
   ],
   "metadata": {
    "collapsed": false,
    "pycharm": {
     "name": "#%%\n"
    }
   }
  }
 ],
 "metadata": {
  "kernelspec": {
   "name": "pytorch17_p38",
   "language": "python",
   "display_name": "pytorch17_p38"
  },
  "language_info": {
   "codemirror_mode": {
    "name": "ipython",
    "version": 2
   },
   "file_extension": ".py",
   "mimetype": "text/x-python",
   "name": "python",
   "nbconvert_exporter": "python",
   "pygments_lexer": "ipython2",
   "version": "2.7.6"
  }
 },
 "nbformat": 4,
 "nbformat_minor": 0
}