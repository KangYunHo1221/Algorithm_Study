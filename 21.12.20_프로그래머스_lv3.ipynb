{
 "cells": [
  {
   "cell_type": "code",
   "execution_count": 9,
   "outputs": [
    {
     "data": {
      "text/plain": "30"
     },
     "execution_count": 9,
     "metadata": {},
     "output_type": "execute_result"
    }
   ],
   "source": [
    "## 정수 삼각형\n",
    "## 프로그래머스 > 코딩테스트 연습\n",
    "\n",
    "def solution(triangle):\n",
    "    answer = 0\n",
    "    dp = [[0]*t for t in range(1,len(triangle)+1)]\n",
    "\n",
    "    dp[0][0] = triangle[0][0]\n",
    "    for i in range(len(triangle)):\n",
    "        for j in range(len(triangle[i])):\n",
    "            if dp[i][j] == 0:\n",
    "                if j == 0:\n",
    "                    dp[i][j] = triangle[i][0] + dp[i-1][0]\n",
    "                elif j == len(triangle[i])-1:\n",
    "                    dp[i][j] = triangle[i][-1] + dp[i-1][-1]\n",
    "                else:\n",
    "                    dp[i][j] = triangle[i][j] + max(dp[i-1][j-1] ,dp[i-1][j])\n",
    "\n",
    "    answer = max(dp[-1])\n",
    "    return answer\n",
    "\n",
    "solution([[7], [3, 8], [8, 1, 0], [2, 7, 4, 4], [4, 5, 2, 6, 5]])"
   ],
   "metadata": {
    "collapsed": false,
    "pycharm": {
     "name": "#%%\n"
    }
   }
  }
 ],
 "metadata": {
  "kernelspec": {
   "name": "pytorch17_p38",
   "language": "python",
   "display_name": "pytorch17_p38"
  },
  "language_info": {
   "codemirror_mode": {
    "name": "ipython",
    "version": 2
   },
   "file_extension": ".py",
   "mimetype": "text/x-python",
   "name": "python",
   "nbconvert_exporter": "python",
   "pygments_lexer": "ipython2",
   "version": "2.7.6"
  }
 },
 "nbformat": 4,
 "nbformat_minor": 0
}