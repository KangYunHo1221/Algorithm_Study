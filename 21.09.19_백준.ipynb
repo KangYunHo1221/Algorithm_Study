{
 "cells": [
  {
   "cell_type": "code",
   "execution_count": 105,
   "outputs": [
    {
     "name": "stdout",
     "output_type": "stream",
     "text": [
      "[2, 2, 3]\n",
      "[2, 3, 3]\n",
      "[2, 3, 4]\n",
      "[2, 2, 3]\n",
      "[2, 2, 2]\n",
      "[2, 2, 4]\n",
      "[2, 3, 3]\n",
      "[2, 2, 3]\n",
      "[2, 3, 4]\n",
      "[2, 3, 3]\n",
      "[3, 3, 4]\n",
      "10\n"
     ]
    }
   ],
   "source": [
    "## 삼각형만들기\n",
    "## https://www.acmicpc.net/problem/1448\n",
    "import itertools\n",
    "\n",
    "n = int(input())\n",
    "mylist = []\n",
    "for _ in range(n):\n",
    "    mylist.append(int(input()))\n",
    "\n",
    "mylist2 = list()\n",
    "for i in itertools.combinations(mylist,3):\n",
    "    if i not in mylist2:\n",
    "        mylist2.append(i)\n",
    "\n",
    "result = -1\n",
    "for j in range(len(mylist2)):\n",
    "    a,b,c = mylist2[j]\n",
    "    checklist = []\n",
    "    checklist.append(a)\n",
    "    checklist.append(b)\n",
    "    checklist.append(c)\n",
    "    checklist = sorted(checklist)\n",
    "\n",
    "    if checklist[0] + checklist[1] > checklist[2]:\n",
    "        if result < checklist[0]+checklist[1]+checklist[2]:\n",
    "            result = checklist[0]+checklist[1]+checklist[2]\n",
    "\n",
    "print(result)"
   ],
   "metadata": {
    "collapsed": false,
    "pycharm": {
     "name": "#%%\n"
    }
   }
  }
 ],
 "metadata": {
  "kernelspec": {
   "name": "pytorch17_p38",
   "language": "python",
   "display_name": "pytorch17_p38"
  },
  "language_info": {
   "codemirror_mode": {
    "name": "ipython",
    "version": 2
   },
   "file_extension": ".py",
   "mimetype": "text/x-python",
   "name": "python",
   "nbconvert_exporter": "python",
   "pygments_lexer": "ipython2",
   "version": "2.7.6"
  }
 },
 "nbformat": 4,
 "nbformat_minor": 0
}