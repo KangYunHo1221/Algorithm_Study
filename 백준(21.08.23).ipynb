{
 "cells": [
  {
   "cell_type": "code",
   "execution_count": 10,
   "outputs": [
    {
     "name": "stdout",
     "output_type": "stream",
     "text": [
      "2 3\n",
      "1 1\n"
     ]
    }
   ],
   "source": [
    "## 피보나치 함수(메모이제이션)\n",
    "## https://www.acmicpc.net/problem/1003\n",
    "\n",
    "a = int(input())\n",
    "\n",
    "zero = [1, 0]\n",
    "one = [0, 1]\n",
    "\n",
    "for n in range (2,41):\n",
    "    zero.append(zero[n-1] + zero[n-2])\n",
    "    one.append(one[n-1] + one[n-2])\n",
    "\n",
    "for _ in range(a):\n",
    "    n = int(input())\n",
    "    print(zero[n], one[n])"
   ],
   "metadata": {
    "collapsed": false,
    "pycharm": {
     "name": "#%%\n"
    }
   }
  },
  {
   "cell_type": "markdown",
   "source": [
    "* 시간이 너무 짧으면 메모이제이션, 점화식 찾는게 효과적\n",
    "* 메모이제이션으로 list 값 메모해놨다가 꺼내는게 효과적"
   ],
   "metadata": {
    "collapsed": false,
    "pycharm": {
     "name": "#%% md\n"
    }
   }
  }
 ],
 "metadata": {
  "kernelspec": {
   "name": "pytorch17_p38",
   "language": "python",
   "display_name": "pytorch17_p38"
  },
  "language_info": {
   "codemirror_mode": {
    "name": "ipython",
    "version": 2
   },
   "file_extension": ".py",
   "mimetype": "text/x-python",
   "name": "python",
   "nbconvert_exporter": "python",
   "pygments_lexer": "ipython2",
   "version": "2.7.6"
  }
 },
 "nbformat": 4,
 "nbformat_minor": 0
}