{
 "cells": [
  {
   "cell_type": "code",
   "execution_count": 21,
   "outputs": [
    {
     "name": "stdout",
     "output_type": "stream",
     "text": [
      "2\n",
      "1\n"
     ]
    }
   ],
   "source": [
    "## 등굣길\n",
    "## 프로그래머스 > 코딩테스트 연습\n",
    "from collections import deque\n",
    "\n",
    "def solution(n, computers):\n",
    "    answer = 0\n",
    "    visited = [0]*n\n",
    "    for com in range(n):\n",
    "        if visited[com] == 0:\n",
    "            visited[com] = 1\n",
    "            q = deque()\n",
    "            q.append(com)\n",
    "\n",
    "            while q:\n",
    "                com = q.popleft()\n",
    "                visited[com] = 1\n",
    "                for connect in range(n):\n",
    "                    if connect != com and computers[com][connect] == 1:\n",
    "                        if visited[connect] == 0:\n",
    "                            q.append(connect)\n",
    "            answer += 1\n",
    "\n",
    "    return answer\n",
    "\n",
    "\n",
    "print(solution(3, [[1, 1, 0], [1, 1, 0], [0, 0, 1]]))\n",
    "print(solution(3, [[1, 1, 0], [1, 1, 1], [0, 1, 1]]))"
   ],
   "metadata": {
    "collapsed": false,
    "pycharm": {
     "name": "#%%\n"
    }
   }
  }
 ],
 "metadata": {
  "kernelspec": {
   "name": "pytorch17_p38",
   "language": "python",
   "display_name": "pytorch17_p38"
  },
  "language_info": {
   "codemirror_mode": {
    "name": "ipython",
    "version": 2
   },
   "file_extension": ".py",
   "mimetype": "text/x-python",
   "name": "python",
   "nbconvert_exporter": "python",
   "pygments_lexer": "ipython2",
   "version": "2.7.6"
  }
 },
 "nbformat": 4,
 "nbformat_minor": 0
}