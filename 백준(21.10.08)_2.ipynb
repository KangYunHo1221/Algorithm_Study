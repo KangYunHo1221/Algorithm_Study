{
 "cells": [
  {
   "cell_type": "code",
   "execution_count": 6,
   "outputs": [
    {
     "name": "stdout",
     "output_type": "stream",
     "text": [
      "7 4\n",
      "7 3\n",
      "8 3\n",
      "8 4\n",
      "9 4\n",
      "9 5\n",
      "8 5\n",
      "7 5\n",
      "6 5\n",
      "6 4\n",
      "5 4\n",
      "5 3\n",
      "6 3\n",
      "6 2\n",
      "7 2\n",
      "7 1\n",
      "8 1\n",
      "8 2\n",
      "9 2\n",
      "9 3\n",
      "8 3\n",
      "9 2\n",
      "21\n"
     ]
    }
   ],
   "source": [
    "## 로봇청소기\n",
    "## https://www.acmicpc.net/problem/14503\n",
    "from collections import deque\n",
    "\n",
    "N,M = map(int, input().split()) #방 크기\n",
    "r, c, d = map(int, input().split()) # 시작점 (r,c), 방향d\n",
    "room = [list(map(int, input().split()))for _ in range(N)]\n",
    "\n",
    "dx = [-1,0,1,0]\n",
    "dy = [0,-1,0,1]\n",
    "\n",
    "q=deque()\n",
    "q.append((r,c,d))\n",
    "room[r][c] = 2 #시작점 방문처리, 1은 벽, 2는 청소 돼 있음\n",
    "count = 1\n",
    "while q:\n",
    "    x, y, d = q.popleft()\n",
    "    for i in range(1,5):\n",
    "        if d+i>3 : #d = d+i-4\n",
    "            if room[x+dx[d+i-4]][y+dy[d+i-4]] == 0:\n",
    "                x = x + dx[d+i-4]\n",
    "                y = y + dy[d+i-4]\n",
    "                room[x][y] = 2\n",
    "                q.append((x,y,d+i-4))\n",
    "                count += 1\n",
    "                break\n",
    "\n",
    "        else : #d = d+i\n",
    "            if room[x+dx[d+i]][y+dy[d+i]] == 0:\n",
    "                x = x + dx[d+i]\n",
    "                y = y + dy[d+i]\n",
    "                room[x][y] = 2\n",
    "                q.append((x,y,d+i))\n",
    "                count += 1\n",
    "                break\n",
    "\n",
    "    if (room[x-dx[d]][y-dy[d]] == 1 and room[x+dx[0]][y+dy[0]] != 0 and room[x+dx[1]][y+dy[1]] != 0\n",
    "            and room[x+dx[2]][y+dy[2]] != 0 and room[x+dx[3]][y+dy[3]] != 0) : #사방이 다 방문이거나 벽이고 후진이 벽\n",
    "        break\n",
    "    elif (room[x-dx[d]][y-dy[d]] != 1 and room[x+dx[0]][y+dy[0]] != 0 and room[x+dx[1]][y+dy[1]] != 0\n",
    "            and room[x+dx[2]][y+dy[2]] != 0 and room[x+dx[3]][y+dy[3]] != 0) : #사방이 다 방문이거나 벽이고 후진이 벽이 아닐때\n",
    "        x = x-dx[d]\n",
    "        y = y-dy[d]\n",
    "        q.append((x,y,d))\n",
    "\n",
    "print(count)"
   ],
   "metadata": {
    "collapsed": false,
    "pycharm": {
     "name": "#%%\n"
    }
   }
  }
 ],
 "metadata": {
  "kernelspec": {
   "name": "pytorch17_p38",
   "language": "python",
   "display_name": "pytorch17_p38"
  },
  "language_info": {
   "codemirror_mode": {
    "name": "ipython",
    "version": 2
   },
   "file_extension": ".py",
   "mimetype": "text/x-python",
   "name": "python",
   "nbconvert_exporter": "python",
   "pygments_lexer": "ipython2",
   "version": "2.7.6"
  }
 },
 "nbformat": 4,
 "nbformat_minor": 0
}