{
 "cells": [
  {
   "cell_type": "code",
   "execution_count": 12,
   "outputs": [
    {
     "name": "stdout",
     "output_type": "stream",
     "text": [
      "5\n"
     ]
    }
   ],
   "source": [
    "## 위장\n",
    "## 프로그래머스 > 해시\n",
    "def solution(clothes):\n",
    "    answer = 1\n",
    "\n",
    "    category_list = []\n",
    "    for i in range(len(clothes)):\n",
    "        cloth, category = clothes[i]\n",
    "        if category not in category_list:\n",
    "            category_list.append(category)\n",
    "\n",
    "    num_of_category = [0] * len(category_list)\n",
    "    for i in range(len(clothes)):\n",
    "        cloth, category = clothes[i]\n",
    "        num_of_category[category_list.index(category)] += 1\n",
    "\n",
    "    for j in num_of_category:\n",
    "        answer = answer * (j+1)\n",
    "\n",
    "    answer -= 1\n",
    "    return answer\n"
   ],
   "metadata": {
    "collapsed": false,
    "pycharm": {
     "name": "#%%\n"
    }
   }
  },
  {
   "cell_type": "markdown",
   "source": [
    "1. 문제를 최대한 차분히 읽는다\n",
    "2. Input과 Output을 최대한 정규해서 파악\n",
    "2. 어떤 알고리즘이 좋을지 손으 풀어보면서 생각"
   ],
   "metadata": {
    "collapsed": false
   }
  }
 ],
 "metadata": {
  "kernelspec": {
   "name": "pytorch17_p38",
   "language": "python",
   "display_name": "pytorch17_p38"
  },
  "language_info": {
   "codemirror_mode": {
    "name": "ipython",
    "version": 2
   },
   "file_extension": ".py",
   "mimetype": "text/x-python",
   "name": "python",
   "nbconvert_exporter": "python",
   "pygments_lexer": "ipython2",
   "version": "2.7.6"
  }
 },
 "nbformat": 4,
 "nbformat_minor": 0
}