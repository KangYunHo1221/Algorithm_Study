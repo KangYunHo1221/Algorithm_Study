{
 "cells": [
  {
   "cell_type": "code",
   "execution_count": 59,
   "outputs": [
    {
     "name": "stdout",
     "output_type": "stream",
     "text": [
      "4294967296\n"
     ]
    }
   ],
   "source": [
    "## Fly me to the Alpha Centauri\n",
    "## 백준(골드5)\n",
    "import math\n",
    "\n",
    "n = int(input())\n",
    "\n",
    "move = []\n",
    "a = 1\n",
    "k = 0\n",
    "move.append(0)\n",
    "# 홀수(2n-1)이면 1+2+...(n-1)+n+(n-1)+...+1 까지가 표현할 수 있는 max\n",
    "# 짝수(2n)이면 1+2+...(n-1)+n+n+(n-1)+...+1 까지가 표현할 수 있는 max\n",
    "while(k < math.pow(2,32)):\n",
    "    if (a%2 == 0):  #짝수면\n",
    "        k = int(a//2)*int((a//2)+1)\n",
    "        move.append(k)\n",
    "    if (a%2 == 1): #홀수면\n",
    "        k = pow(int((a//2)+1),2)\n",
    "        move.append(k)\n",
    "    a += 1\n",
    "\n",
    "for _ in range(n):\n",
    "    x,y = map(int, input().split())\n",
    "    t = y-x\n",
    "    for j in range(1,len(move)):\n",
    "        if t <= move[j]:\n",
    "            print(j)\n",
    "            break"
   ],
   "metadata": {
    "collapsed": false,
    "pycharm": {
     "name": "#%%\n"
    }
   }
  }
 ],
 "metadata": {
  "kernelspec": {
   "name": "pytorch17_p38",
   "language": "python",
   "display_name": "pytorch17_p38"
  },
  "language_info": {
   "codemirror_mode": {
    "name": "ipython",
    "version": 2
   },
   "file_extension": ".py",
   "mimetype": "text/x-python",
   "name": "python",
   "nbconvert_exporter": "python",
   "pygments_lexer": "ipython2",
   "version": "2.7.6"
  }
 },
 "nbformat": 4,
 "nbformat_minor": 0
}