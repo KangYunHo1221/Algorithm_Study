{
 "cells": [
  {
   "cell_type": "code",
   "execution_count": 19,
   "outputs": [
    {
     "name": "stdout",
     "output_type": "stream",
     "text": [
      "[30, 45, 65, 70]\n",
      "0 3\n",
      "0 2\n",
      "0 1\n",
      "1 3\n",
      "1 2\n",
      "2 3\n",
      "4\n"
     ]
    }
   ],
   "source": [
    "## 큰 수 만들기\n",
    "## 프로그래머스 문제\n",
    "def solution(people, limit) :\n",
    "    answer = 0\n",
    "    people.sort()\n",
    "\n",
    "    a = 0\n",
    "    b = len(people) - 1\n",
    "    while a < b : #앞뒤로 하나씩 조이는 방법\n",
    "        if people[b] + people[a] <= limit :\n",
    "            a += 1\n",
    "            answer += 1\n",
    "        b -= 1\n",
    "\n",
    "    return len(people) - answer ##한번 구출할때 2개씩 원소 없어지니까"
   ],
   "metadata": {
    "collapsed": false,
    "pycharm": {
     "name": "#%%\n"
    }
   }
  }
 ],
 "metadata": {
  "kernelspec": {
   "name": "pytorch17_p38",
   "language": "python",
   "display_name": "pytorch17_p38"
  },
  "language_info": {
   "codemirror_mode": {
    "name": "ipython",
    "version": 2
   },
   "file_extension": ".py",
   "mimetype": "text/x-python",
   "name": "python",
   "nbconvert_exporter": "python",
   "pygments_lexer": "ipython2",
   "version": "2.7.6"
  }
 },
 "nbformat": 4,
 "nbformat_minor": 0
}