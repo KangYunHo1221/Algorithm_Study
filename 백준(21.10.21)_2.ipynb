{
 "cells": [
  {
   "cell_type": "code",
   "execution_count": 12,
   "outputs": [
    {
     "name": "stdout",
     "output_type": "stream",
     "text": [
      "5\n"
     ]
    }
   ],
   "source": [
    "## 전화번호 목록\n",
    "## 프로그래머스 > 해시\n",
    "def solution(phone_book):\n",
    "    answer = True\n",
    "    phone_book = sorted(phone_book)\n",
    "\n",
    "    flag = False;\n",
    "    for i in range(len(phone_book)):\n",
    "        for j in range(i+1, len(phone_book)):\n",
    "            k = len(phone_book[j]) - len(phone_book[i])\n",
    "            if k > 0:\n",
    "                int(phone_book[i]) == int(phone_book[j]) % (10**k)\n",
    "                answer = False\n",
    "                flag = True\n",
    "                break\n",
    "        if flag == True:\n",
    "            break\n",
    "\n",
    "    return answer"
   ],
   "metadata": {
    "collapsed": false,
    "pycharm": {
     "name": "#%%\n"
    }
   }
  },
  {
   "cell_type": "markdown",
   "source": [
    "* 문자열은 뺄셈 불가능\n",
    "* 2중 for문은 flag로 나오면 됨됨"
   ],
   "metadata": {
    "collapsed": false
   }
  }
 ],
 "metadata": {
  "kernelspec": {
   "name": "pytorch17_p38",
   "language": "python",
   "display_name": "pytorch17_p38"
  },
  "language_info": {
   "codemirror_mode": {
    "name": "ipython",
    "version": 2
   },
   "file_extension": ".py",
   "mimetype": "text/x-python",
   "name": "python",
   "nbconvert_exporter": "python",
   "pygments_lexer": "ipython2",
   "version": "2.7.6"
  }
 },
 "nbformat": 4,
 "nbformat_minor": 0
}