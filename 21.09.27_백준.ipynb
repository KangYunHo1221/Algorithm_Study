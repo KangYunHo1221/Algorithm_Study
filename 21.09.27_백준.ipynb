{
 "cells": [
  {
   "cell_type": "code",
   "execution_count": 8,
   "outputs": [
    {
     "name": "stdout",
     "output_type": "stream",
     "text": [
      "15\n"
     ]
    }
   ],
   "source": [
    "## 미로탐색\n",
    "## https://www.acmicpc.net/problem/2178\n",
    "from collections import deque\n",
    "\n",
    "n, m = map(int, input().split())\n",
    "graph = [[int(i) for i in list(input())] for _ in range(n)]\n",
    "count = [[int(10e8)]*m for _ in range(n)]\n",
    "\n",
    "dx = [1, -1, 0, 0]\n",
    "dy = [0, 0, 1, -1]\n",
    "count[0][0] = 1\n",
    "\n",
    "def bfs(a,b):\n",
    "    q = deque()\n",
    "    q.append((a,b))\n",
    "\n",
    "    if a==n and b==m:\n",
    "        return count[a][b]\n",
    "    while q:\n",
    "        a, b = q.popleft()\n",
    "        for i in range(4):\n",
    "            x = a + dx[i]\n",
    "            y = b + dy[i]\n",
    "            if 0<=x<n and 0<=y<m:\n",
    "                if graph[x][y] == 1 and count[x][y] > count[a][b] + 1 :\n",
    "                    count[x][y] = count[a][b] + 1\n",
    "                    q.append((x,y))\n",
    "\n",
    "bfs(0,0)\n",
    "\n",
    "\n",
    "if count[n-1][m-1] == int(10e8):\n",
    "    print(-1)\n",
    "else:\n",
    "    print(count[n-1][m-1])"
   ],
   "metadata": {
    "collapsed": false,
    "pycharm": {
     "name": "#%%\n"
    }
   }
  }
 ],
 "metadata": {
  "kernelspec": {
   "name": "pytorch17_p38",
   "language": "python",
   "display_name": "pytorch17_p38"
  },
  "language_info": {
   "codemirror_mode": {
    "name": "ipython",
    "version": 2
   },
   "file_extension": ".py",
   "mimetype": "text/x-python",
   "name": "python",
   "nbconvert_exporter": "python",
   "pygments_lexer": "ipython2",
   "version": "2.7.6"
  }
 },
 "nbformat": 4,
 "nbformat_minor": 0
}