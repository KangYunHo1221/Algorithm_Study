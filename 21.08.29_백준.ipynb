{
 "cells": [
  {
   "cell_type": "code",
   "execution_count": 7,
   "outputs": [
    {
     "name": "stdout",
     "output_type": "stream",
     "text": [
      "2 1\n"
     ]
    }
   ],
   "source": [
    "## 상하좌우(구현)\n",
    "## 이코테 문제\n",
    "\n",
    "n = int(input())\n",
    "plan = input()\n",
    "x, y = 1,1\n",
    "\n",
    "for i in range(len(plan)):\n",
    "    do = plan[i]\n",
    "    if(do=='R'):\n",
    "        if(x+1 <= n):\n",
    "            x+=1\n",
    "    elif(do=='L'):\n",
    "        if(x-1 > 0):\n",
    "            x-=1\n",
    "    elif(do=='U'):\n",
    "        if(y-1 > 0):\n",
    "            y-=1\n",
    "    elif(do=='D'):\n",
    "        if(y+1 < n):\n",
    "            y+=1\n",
    "print(y,x)"
   ],
   "metadata": {
    "collapsed": false,
    "pycharm": {
     "name": "#%%\n"
    }
   }
  },
  {
   "cell_type": "code",
   "source": [
    "##다른 풀이\n",
    "\n",
    "n = int(input())\n",
    "plans = input()\n",
    "x, y = 1,1\n",
    "\n",
    "dx = [0,0,-1,1]\n",
    "dy = [-1,1,0,0]\n",
    "move = ['L','R','U','D']\n",
    "\n",
    "for t in range(len(plans)):\n",
    "    plan = plans[t]\n",
    "    for i in range(len(move)):\n",
    "        if(plan == move[i]): ##calculate vector\n",
    "            nx = x+dx[i]\n",
    "            ny = y+dy[i]\n",
    "    if(nx<1 or ny<1 or nx>n or ny>n): ##if out of range pass\n",
    "        continue\n",
    "    x,y = nx,ny ##update\n",
    "\n",
    "print(x, y)"
   ],
   "metadata": {
    "collapsed": false,
    "pycharm": {
     "name": "#%%\n"
    }
   },
   "execution_count": 8,
   "outputs": [
    {
     "name": "stdout",
     "output_type": "stream",
     "text": [
      "<class 'str'>\n"
     ]
    },
    {
     "ename": "NameError",
     "evalue": "name 'nx' is not defined",
     "output_type": "error",
     "traceback": [
      "\u001B[1;31m---------------------------------------------------------------------------\u001B[0m",
      "\u001B[1;31mNameError\u001B[0m                                 Traceback (most recent call last)",
      "\u001B[1;32m<ipython-input-8-81f3b5f6b5ab>\u001B[0m in \u001B[0;36m<module>\u001B[1;34m\u001B[0m\n\u001B[0;32m     16\u001B[0m             \u001B[0mnx\u001B[0m \u001B[1;33m=\u001B[0m \u001B[0mx\u001B[0m\u001B[1;33m+\u001B[0m\u001B[0mdx\u001B[0m\u001B[1;33m[\u001B[0m\u001B[0mi\u001B[0m\u001B[1;33m]\u001B[0m\u001B[1;33m\u001B[0m\u001B[1;33m\u001B[0m\u001B[0m\n\u001B[0;32m     17\u001B[0m             \u001B[0mny\u001B[0m \u001B[1;33m=\u001B[0m \u001B[0my\u001B[0m\u001B[1;33m+\u001B[0m\u001B[0mdy\u001B[0m\u001B[1;33m[\u001B[0m\u001B[0mi\u001B[0m\u001B[1;33m]\u001B[0m\u001B[1;33m\u001B[0m\u001B[1;33m\u001B[0m\u001B[0m\n\u001B[1;32m---> 18\u001B[1;33m         \u001B[1;32mif\u001B[0m\u001B[1;33m(\u001B[0m\u001B[0mnx\u001B[0m\u001B[1;33m<\u001B[0m\u001B[1;36m1\u001B[0m \u001B[1;32mor\u001B[0m \u001B[0mny\u001B[0m\u001B[1;33m<\u001B[0m\u001B[1;36m1\u001B[0m \u001B[1;32mor\u001B[0m \u001B[0mnx\u001B[0m\u001B[1;33m>\u001B[0m\u001B[0mn\u001B[0m \u001B[1;32mor\u001B[0m \u001B[0mny\u001B[0m\u001B[1;33m>\u001B[0m\u001B[0mn\u001B[0m\u001B[1;33m)\u001B[0m\u001B[1;33m:\u001B[0m \u001B[1;31m##if out of range pass\u001B[0m\u001B[1;33m\u001B[0m\u001B[1;33m\u001B[0m\u001B[0m\n\u001B[0m\u001B[0;32m     19\u001B[0m             \u001B[1;32mcontinue\u001B[0m\u001B[1;33m\u001B[0m\u001B[1;33m\u001B[0m\u001B[0m\n\u001B[0;32m     20\u001B[0m         \u001B[0mx\u001B[0m\u001B[1;33m,\u001B[0m\u001B[0my\u001B[0m \u001B[1;33m=\u001B[0m \u001B[0mnx\u001B[0m\u001B[1;33m,\u001B[0m\u001B[0mny\u001B[0m \u001B[1;31m##update\u001B[0m\u001B[1;33m\u001B[0m\u001B[1;33m\u001B[0m\u001B[0m\n",
      "\u001B[1;31mNameError\u001B[0m: name 'nx' is not defined"
     ]
    }
   ]
  }
 ],
 "metadata": {
  "kernelspec": {
   "name": "pytorch17_p38",
   "language": "python",
   "display_name": "pytorch17_p38"
  },
  "language_info": {
   "codemirror_mode": {
    "name": "ipython",
    "version": 2
   },
   "file_extension": ".py",
   "mimetype": "text/x-python",
   "name": "python",
   "nbconvert_exporter": "python",
   "pygments_lexer": "ipython2",
   "version": "2.7.6"
  }
 },
 "nbformat": 4,
 "nbformat_minor": 0
}