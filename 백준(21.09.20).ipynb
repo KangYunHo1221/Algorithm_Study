{
 "cells": [
  {
   "cell_type": "code",
   "execution_count": 90,
   "outputs": [
    {
     "name": "stdout",
     "output_type": "stream",
     "text": [
      "64\n"
     ]
    }
   ],
   "source": [
    "## 제곱수 찾기\n",
    "## https://www.acmicpc.net/problem/1025\n",
    "import math\n",
    "import sys\n",
    "\n",
    "location = list()\n",
    "small_location = list()\n",
    "\n",
    "M, N = map(int, input().split())\n",
    "\n",
    "numbers = []\n",
    "for _ in range(M):\n",
    "    numbers.append(input())\n",
    "\n",
    "#완전 제곱수인지 판별하는 함수\n",
    "def find_sqr_num(num):\n",
    "    a = int(math.sqrt(num))\n",
    "    if (a*a == num) :\n",
    "        return num\n",
    "    else:\n",
    "        return -1\n",
    "\n",
    "result = -1\n",
    "#find location\n",
    "for m in range(M):\n",
    "    for n in range(N):\n",
    "        for weight_m in range(-M, M):\n",
    "            for weight_n in range(-N,N):\n",
    "                if weight_m == 0 and weight_n == 0 : continue\n",
    "                step = 0\n",
    "                x = m\n",
    "                y = n\n",
    "                value = ''\n",
    "\n",
    "                while(0<= x < M) and (0<= y <N):\n",
    "                    value += str(numbers[x][y])\n",
    "                    step += 1\n",
    "\n",
    "                    check = find_sqr_num(int(value))\n",
    "                    if check > result:\n",
    "                        result = check\n",
    "\n",
    "                    x = m + step * weight_m\n",
    "                    y = n + step * weight_n\n",
    "\n",
    "print(result)"
   ],
   "metadata": {
    "collapsed": false,
    "pycharm": {
     "name": "#%%\n"
    }
   }
  }
 ],
 "metadata": {
  "kernelspec": {
   "name": "pytorch17_p38",
   "language": "python",
   "display_name": "pytorch17_p38"
  },
  "language_info": {
   "codemirror_mode": {
    "name": "ipython",
    "version": 2
   },
   "file_extension": ".py",
   "mimetype": "text/x-python",
   "name": "python",
   "nbconvert_exporter": "python",
   "pygments_lexer": "ipython2",
   "version": "2.7.6"
  }
 },
 "nbformat": 4,
 "nbformat_minor": 0
}