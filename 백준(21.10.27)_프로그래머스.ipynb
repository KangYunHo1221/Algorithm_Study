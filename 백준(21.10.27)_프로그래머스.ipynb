{
 "cells": [
  {
   "cell_type": "code",
   "execution_count": 6,
   "outputs": [
    {
     "data": {
      "text/plain": "2"
     },
     "execution_count": 6,
     "metadata": {},
     "output_type": "execute_result"
    }
   ],
   "source": [
    "## 더 맵게\n",
    "## 프로그래머스 문제\n",
    "\n",
    "from collections import deque\n",
    "\n",
    "def solution(scoville, k):\n",
    "    answer = 0\n",
    "    scoville = sorted(scoville)\n",
    "\n",
    "    if (len(scoville) == 1 and scoville[0] <k):\n",
    "            answer = -1\n",
    "    if (len(scoville) == 0):\n",
    "            answer = -1\n",
    "    if (len(scoville) >= 2):\n",
    "        for i in range(len(scoville)):\n",
    "            if scoville[i] >= k:\n",
    "                scoville = scoville[0:i]\n",
    "                break\n",
    "        if len(scoville) >= 2:\n",
    "            while (scoville[0] < k):\n",
    "                scoville = deque(sorted(scoville))\n",
    "                a = scoville.popleft()\n",
    "                b = scoville.popleft()\n",
    "                c = a+(2*b)\n",
    "                scoville.append(c)\n",
    "                answer += 1\n",
    "\n",
    "                if (len(scoville) <= 1 and scoville[0] <k):\n",
    "                    answer = -1\n",
    "                    break\n",
    "\n",
    "    return answer\n"
   ],
   "metadata": {
    "collapsed": false,
    "pycharm": {
     "name": "#%%\n"
    }
   }
  },
  {
   "cell_type": "code",
   "execution_count": null,
   "outputs": [],
   "source": [
    "import heapq as hq\n",
    "\n",
    "def solution(scoville, K):\n",
    "\n",
    "    hq.heapify(scoville)\n",
    "    answer = 0\n",
    "    while True:\n",
    "        first = hq.heappop(scoville)\n",
    "        if first >= K:\n",
    "            break\n",
    "        if len(scoville) == 0:\n",
    "            return -1\n",
    "        second = hq.heappop(scoville)\n",
    "        hq.heappush(scoville, first + second*2)\n",
    "        answer += 1\n",
    "\n",
    "    return answer"
   ],
   "metadata": {
    "collapsed": false,
    "pycharm": {
     "name": "#%%\n"
    }
   }
  }
 ],
 "metadata": {
  "kernelspec": {
   "name": "pytorch17_p38",
   "language": "python",
   "display_name": "pytorch17_p38"
  },
  "language_info": {
   "codemirror_mode": {
    "name": "ipython",
    "version": 2
   },
   "file_extension": ".py",
   "mimetype": "text/x-python",
   "name": "python",
   "nbconvert_exporter": "python",
   "pygments_lexer": "ipython2",
   "version": "2.7.6"
  }
 },
 "nbformat": 4,
 "nbformat_minor": 0
}