{
 "cells": [
  {
   "cell_type": "code",
   "execution_count": 32,
   "outputs": [
    {
     "name": "stdout",
     "output_type": "stream",
     "text": [
      "130 65\n"
     ]
    }
   ],
   "source": [
    "## 전투\n",
    "## https://www.acmicpc.net/problem/1303\n",
    "from collections import deque\n",
    "n, m = map(int, input().split())\n",
    "graph = [list(input()) for _ in range(m)]\n",
    "\n",
    "dx = [1, -1, 0, 0]\n",
    "dy = [0, 0, 1, -1]\n",
    "\n",
    "w_result = 0\n",
    "b_result = 0\n",
    "\n",
    "def bfs(a,b):\n",
    "    global w_result\n",
    "    global b_result\n",
    "    target = ''\n",
    "\n",
    "    if graph[a][b] != 'V':\n",
    "        target = graph[a][b]\n",
    "\n",
    "    q = deque()\n",
    "    q.append((a,b))\n",
    "    graph[a][b] = 'V'\n",
    "    count = 0\n",
    "\n",
    "    while q:\n",
    "        a,b = q.popleft()\n",
    "        count += 1\n",
    "\n",
    "        for i in range(4):\n",
    "            x = a + dx[i]\n",
    "            y = b + dy[i]\n",
    "            if m>x>=0 and n>y>=0 and graph[x][y] == target:\n",
    "                q.append((x,y))\n",
    "                graph[x][y] = 'V'\n",
    "\n",
    "    if target == 'W':\n",
    "        w_result += (count) * (count)\n",
    "    elif target == 'B':\n",
    "        b_result += (count) * (count)\n",
    "    return\n",
    "\n",
    "for i in range(m):\n",
    "    for j in range(n):\n",
    "        bfs(i,j)\n",
    "\n",
    "print(w_result, b_result)"
   ],
   "metadata": {
    "collapsed": false,
    "pycharm": {
     "name": "#%%\n"
    }
   }
  }
 ],
 "metadata": {
  "kernelspec": {
   "name": "pytorch17_p38",
   "language": "python",
   "display_name": "pytorch17_p38"
  },
  "language_info": {
   "codemirror_mode": {
    "name": "ipython",
    "version": 2
   },
   "file_extension": ".py",
   "mimetype": "text/x-python",
   "name": "python",
   "nbconvert_exporter": "python",
   "pygments_lexer": "ipython2",
   "version": "2.7.6"
  }
 },
 "nbformat": 4,
 "nbformat_minor": 0
}