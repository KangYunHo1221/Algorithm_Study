{
 "cells": [
  {
   "cell_type": "code",
   "execution_count": 1,
   "metadata": {
    "_cell_guid": "b1076dfc-b9ad-4769-8c92-a6c4dae69d19",
    "_uuid": "8f2839f25d086af736a60e9eeb907d3b93b6e0e5",
    "execution": {
     "iopub.execute_input": "2021-03-22T02:48:16.571870Z",
     "iopub.status.busy": "2021-03-22T02:48:16.571178Z",
     "iopub.status.idle": "2021-03-22T02:48:18.159393Z",
     "shell.execute_reply": "2021-03-22T02:48:18.159947Z"
    },
    "papermill": {
     "duration": 1.623735,
     "end_time": "2021-03-22T02:48:18.160300",
     "exception": false,
     "start_time": "2021-03-22T02:48:16.536565",
     "status": "completed"
    },
    "tags": []
   },
   "outputs": [],
   "source": [
    "import pandas as pd\n",
    "import numpy as np\n",
    "import matplotlib.pyplot as plt\n",
    "import seaborn as sns\n",
    "%matplotlib inline\n",
    "\n",
    "from collections import Counter\n",
    "\n",
    "from sklearn.ensemble import RandomForestClassifier, AdaBoostClassifier, GradientBoostingClassifier, ExtraTreesClassifier, VotingClassifier\n",
    "from sklearn.discriminant_analysis import LinearDiscriminantAnalysis\n",
    "from sklearn.linear_model import LogisticRegression\n",
    "from sklearn.neighbors import KNeighborsClassifier\n",
    "from sklearn.tree import DecisionTreeClassifier\n",
    "from sklearn.neural_network import MLPClassifier\n",
    "from sklearn.svm import SVC\n",
    "from sklearn.model_selection import GridSearchCV, cross_val_score, StratifiedKFold, learning_curve\n",
    "\n",
    "sns.set(style='white', context='notebook', palette='deep')\n",
    "import warnings\n",
    "warnings.filterwarnings('ignore')"
   ]
  },
  {
   "cell_type": "code",
   "execution_count": 2,
   "metadata": {
    "execution": {
     "iopub.execute_input": "2021-03-22T02:48:18.225317Z",
     "iopub.status.busy": "2021-03-22T02:48:18.224574Z",
     "iopub.status.idle": "2021-03-22T02:48:18.257368Z",
     "shell.execute_reply": "2021-03-22T02:48:18.257911Z"
    },
    "papermill": {
     "duration": 0.067023,
     "end_time": "2021-03-22T02:48:18.258097",
     "exception": false,
     "start_time": "2021-03-22T02:48:18.191074",
     "status": "completed"
    },
    "tags": []
   },
   "outputs": [],
   "source": [
    "train = pd.read_csv('../input/titanic/train.csv')\n",
    "test = pd.read_csv('../input/titanic/test.csv')"
   ]
  },
  {
   "cell_type": "code",
   "execution_count": 3,
   "metadata": {
    "execution": {
     "iopub.execute_input": "2021-03-22T02:48:18.323649Z",
     "iopub.status.busy": "2021-03-22T02:48:18.323005Z",
     "iopub.status.idle": "2021-03-22T02:48:18.366699Z",
     "shell.execute_reply": "2021-03-22T02:48:18.367281Z"
    },
    "papermill": {
     "duration": 0.077645,
     "end_time": "2021-03-22T02:48:18.367458",
     "exception": false,
     "start_time": "2021-03-22T02:48:18.289813",
     "status": "completed"
    },
    "tags": []
   },
   "outputs": [],
   "source": [
    "def detect_outliers(df, n, features):\n",
    "    outlier_indices=[]\n",
    "    \n",
    "    for col in features:\n",
    "        Q1 = np.percentile(df[col], 25)\n",
    "        Q3 = np.percentile(df[col], 75)\n",
    "        \n",
    "        IQR = Q3 - Q1\n",
    "        \n",
    "        outlier_step = 1.5 * IQR\n",
    "        \n",
    "        outlier_list_col = df[(df[col] < Q1 - outlier_step) | (df[col] > Q3 + outlier_step)].index\n",
    "        \n",
    "        outlier_indices.extend(outlier_list_col)\n",
    "        \n",
    "    outlier_indices = Counter(outlier_indices)\n",
    "    multiple_outliers = list(k for k, v in outlier_indices.items() if v>n)\n",
    "        \n",
    "    return multiple_outliers\n",
    "    \n",
    "Outliers_to_drop = detect_outliers(train, 2,['Age', 'SibSp', 'Parch', 'Fare'])\n"
   ]
  },
  {
   "cell_type": "code",
   "execution_count": 4,
   "metadata": {
    "execution": {
     "iopub.execute_input": "2021-03-22T02:48:18.432297Z",
     "iopub.status.busy": "2021-03-22T02:48:18.431608Z",
     "iopub.status.idle": "2021-03-22T02:48:18.462747Z",
     "shell.execute_reply": "2021-03-22T02:48:18.463215Z"
    },
    "papermill": {
     "duration": 0.065333,
     "end_time": "2021-03-22T02:48:18.463392",
     "exception": false,
     "start_time": "2021-03-22T02:48:18.398059",
     "status": "completed"
    },
    "tags": []
   },
   "outputs": [
    {
     "data": {
      "text/html": [
       "<div>\n",
       "<style scoped>\n",
       "    .dataframe tbody tr th:only-of-type {\n",
       "        vertical-align: middle;\n",
       "    }\n",
       "\n",
       "    .dataframe tbody tr th {\n",
       "        vertical-align: top;\n",
       "    }\n",
       "\n",
       "    .dataframe thead th {\n",
       "        text-align: right;\n",
       "    }\n",
       "</style>\n",
       "<table border=\"1\" class=\"dataframe\">\n",
       "  <thead>\n",
       "    <tr style=\"text-align: right;\">\n",
       "      <th></th>\n",
       "      <th>PassengerId</th>\n",
       "      <th>Survived</th>\n",
       "      <th>Pclass</th>\n",
       "      <th>Name</th>\n",
       "      <th>Sex</th>\n",
       "      <th>Age</th>\n",
       "      <th>SibSp</th>\n",
       "      <th>Parch</th>\n",
       "      <th>Ticket</th>\n",
       "      <th>Fare</th>\n",
       "      <th>Cabin</th>\n",
       "      <th>Embarked</th>\n",
       "    </tr>\n",
       "  </thead>\n",
       "  <tbody>\n",
       "    <tr>\n",
       "      <th>27</th>\n",
       "      <td>28</td>\n",
       "      <td>0</td>\n",
       "      <td>1</td>\n",
       "      <td>Fortune, Mr. Charles Alexander</td>\n",
       "      <td>male</td>\n",
       "      <td>19.0</td>\n",
       "      <td>3</td>\n",
       "      <td>2</td>\n",
       "      <td>19950</td>\n",
       "      <td>263.00</td>\n",
       "      <td>C23 C25 C27</td>\n",
       "      <td>S</td>\n",
       "    </tr>\n",
       "    <tr>\n",
       "      <th>88</th>\n",
       "      <td>89</td>\n",
       "      <td>1</td>\n",
       "      <td>1</td>\n",
       "      <td>Fortune, Miss. Mabel Helen</td>\n",
       "      <td>female</td>\n",
       "      <td>23.0</td>\n",
       "      <td>3</td>\n",
       "      <td>2</td>\n",
       "      <td>19950</td>\n",
       "      <td>263.00</td>\n",
       "      <td>C23 C25 C27</td>\n",
       "      <td>S</td>\n",
       "    </tr>\n",
       "    <tr>\n",
       "      <th>159</th>\n",
       "      <td>160</td>\n",
       "      <td>0</td>\n",
       "      <td>3</td>\n",
       "      <td>Sage, Master. Thomas Henry</td>\n",
       "      <td>male</td>\n",
       "      <td>NaN</td>\n",
       "      <td>8</td>\n",
       "      <td>2</td>\n",
       "      <td>CA. 2343</td>\n",
       "      <td>69.55</td>\n",
       "      <td>NaN</td>\n",
       "      <td>S</td>\n",
       "    </tr>\n",
       "    <tr>\n",
       "      <th>180</th>\n",
       "      <td>181</td>\n",
       "      <td>0</td>\n",
       "      <td>3</td>\n",
       "      <td>Sage, Miss. Constance Gladys</td>\n",
       "      <td>female</td>\n",
       "      <td>NaN</td>\n",
       "      <td>8</td>\n",
       "      <td>2</td>\n",
       "      <td>CA. 2343</td>\n",
       "      <td>69.55</td>\n",
       "      <td>NaN</td>\n",
       "      <td>S</td>\n",
       "    </tr>\n",
       "    <tr>\n",
       "      <th>201</th>\n",
       "      <td>202</td>\n",
       "      <td>0</td>\n",
       "      <td>3</td>\n",
       "      <td>Sage, Mr. Frederick</td>\n",
       "      <td>male</td>\n",
       "      <td>NaN</td>\n",
       "      <td>8</td>\n",
       "      <td>2</td>\n",
       "      <td>CA. 2343</td>\n",
       "      <td>69.55</td>\n",
       "      <td>NaN</td>\n",
       "      <td>S</td>\n",
       "    </tr>\n",
       "    <tr>\n",
       "      <th>324</th>\n",
       "      <td>325</td>\n",
       "      <td>0</td>\n",
       "      <td>3</td>\n",
       "      <td>Sage, Mr. George John Jr</td>\n",
       "      <td>male</td>\n",
       "      <td>NaN</td>\n",
       "      <td>8</td>\n",
       "      <td>2</td>\n",
       "      <td>CA. 2343</td>\n",
       "      <td>69.55</td>\n",
       "      <td>NaN</td>\n",
       "      <td>S</td>\n",
       "    </tr>\n",
       "    <tr>\n",
       "      <th>341</th>\n",
       "      <td>342</td>\n",
       "      <td>1</td>\n",
       "      <td>1</td>\n",
       "      <td>Fortune, Miss. Alice Elizabeth</td>\n",
       "      <td>female</td>\n",
       "      <td>24.0</td>\n",
       "      <td>3</td>\n",
       "      <td>2</td>\n",
       "      <td>19950</td>\n",
       "      <td>263.00</td>\n",
       "      <td>C23 C25 C27</td>\n",
       "      <td>S</td>\n",
       "    </tr>\n",
       "    <tr>\n",
       "      <th>792</th>\n",
       "      <td>793</td>\n",
       "      <td>0</td>\n",
       "      <td>3</td>\n",
       "      <td>Sage, Miss. Stella Anna</td>\n",
       "      <td>female</td>\n",
       "      <td>NaN</td>\n",
       "      <td>8</td>\n",
       "      <td>2</td>\n",
       "      <td>CA. 2343</td>\n",
       "      <td>69.55</td>\n",
       "      <td>NaN</td>\n",
       "      <td>S</td>\n",
       "    </tr>\n",
       "    <tr>\n",
       "      <th>846</th>\n",
       "      <td>847</td>\n",
       "      <td>0</td>\n",
       "      <td>3</td>\n",
       "      <td>Sage, Mr. Douglas Bullen</td>\n",
       "      <td>male</td>\n",
       "      <td>NaN</td>\n",
       "      <td>8</td>\n",
       "      <td>2</td>\n",
       "      <td>CA. 2343</td>\n",
       "      <td>69.55</td>\n",
       "      <td>NaN</td>\n",
       "      <td>S</td>\n",
       "    </tr>\n",
       "    <tr>\n",
       "      <th>863</th>\n",
       "      <td>864</td>\n",
       "      <td>0</td>\n",
       "      <td>3</td>\n",
       "      <td>Sage, Miss. Dorothy Edith \"Dolly\"</td>\n",
       "      <td>female</td>\n",
       "      <td>NaN</td>\n",
       "      <td>8</td>\n",
       "      <td>2</td>\n",
       "      <td>CA. 2343</td>\n",
       "      <td>69.55</td>\n",
       "      <td>NaN</td>\n",
       "      <td>S</td>\n",
       "    </tr>\n",
       "  </tbody>\n",
       "</table>\n",
       "</div>"
      ],
      "text/plain": [
       "     PassengerId  Survived  Pclass                               Name     Sex  \\\n",
       "27            28         0       1     Fortune, Mr. Charles Alexander    male   \n",
       "88            89         1       1         Fortune, Miss. Mabel Helen  female   \n",
       "159          160         0       3         Sage, Master. Thomas Henry    male   \n",
       "180          181         0       3       Sage, Miss. Constance Gladys  female   \n",
       "201          202         0       3                Sage, Mr. Frederick    male   \n",
       "324          325         0       3           Sage, Mr. George John Jr    male   \n",
       "341          342         1       1     Fortune, Miss. Alice Elizabeth  female   \n",
       "792          793         0       3            Sage, Miss. Stella Anna  female   \n",
       "846          847         0       3           Sage, Mr. Douglas Bullen    male   \n",
       "863          864         0       3  Sage, Miss. Dorothy Edith \"Dolly\"  female   \n",
       "\n",
       "      Age  SibSp  Parch    Ticket    Fare        Cabin Embarked  \n",
       "27   19.0      3      2     19950  263.00  C23 C25 C27        S  \n",
       "88   23.0      3      2     19950  263.00  C23 C25 C27        S  \n",
       "159   NaN      8      2  CA. 2343   69.55          NaN        S  \n",
       "180   NaN      8      2  CA. 2343   69.55          NaN        S  \n",
       "201   NaN      8      2  CA. 2343   69.55          NaN        S  \n",
       "324   NaN      8      2  CA. 2343   69.55          NaN        S  \n",
       "341  24.0      3      2     19950  263.00  C23 C25 C27        S  \n",
       "792   NaN      8      2  CA. 2343   69.55          NaN        S  \n",
       "846   NaN      8      2  CA. 2343   69.55          NaN        S  \n",
       "863   NaN      8      2  CA. 2343   69.55          NaN        S  "
      ]
     },
     "execution_count": 4,
     "metadata": {},
     "output_type": "execute_result"
    }
   ],
   "source": [
    "train.loc[Outliers_to_drop]"
   ]
  },
  {
   "cell_type": "code",
   "execution_count": 5,
   "metadata": {
    "execution": {
     "iopub.execute_input": "2021-03-22T02:48:18.529294Z",
     "iopub.status.busy": "2021-03-22T02:48:18.528605Z",
     "iopub.status.idle": "2021-03-22T02:48:18.534472Z",
     "shell.execute_reply": "2021-03-22T02:48:18.533950Z"
    },
    "papermill": {
     "duration": 0.03974,
     "end_time": "2021-03-22T02:48:18.534621",
     "exception": false,
     "start_time": "2021-03-22T02:48:18.494881",
     "status": "completed"
    },
    "tags": []
   },
   "outputs": [],
   "source": [
    "train = train.drop(Outliers_to_drop, axis = 0).reset_index(drop=True)"
   ]
  },
  {
   "cell_type": "code",
   "execution_count": 6,
   "metadata": {
    "execution": {
     "iopub.execute_input": "2021-03-22T02:48:18.607041Z",
     "iopub.status.busy": "2021-03-22T02:48:18.606398Z",
     "iopub.status.idle": "2021-03-22T02:48:18.609729Z",
     "shell.execute_reply": "2021-03-22T02:48:18.610279Z"
    },
    "papermill": {
     "duration": 0.044362,
     "end_time": "2021-03-22T02:48:18.610455",
     "exception": false,
     "start_time": "2021-03-22T02:48:18.566093",
     "status": "completed"
    },
    "tags": []
   },
   "outputs": [],
   "source": [
    "train_len = len(train)\n",
    "dataset = pd.concat(objs=[train,test], axis=0).reset_index(drop=True)"
   ]
  },
  {
   "cell_type": "code",
   "execution_count": 7,
   "metadata": {
    "execution": {
     "iopub.execute_input": "2021-03-22T02:48:18.678433Z",
     "iopub.status.busy": "2021-03-22T02:48:18.677656Z",
     "iopub.status.idle": "2021-03-22T02:48:18.686560Z",
     "shell.execute_reply": "2021-03-22T02:48:18.687016Z"
    },
    "papermill": {
     "duration": 0.044358,
     "end_time": "2021-03-22T02:48:18.687220",
     "exception": false,
     "start_time": "2021-03-22T02:48:18.642862",
     "status": "completed"
    },
    "tags": []
   },
   "outputs": [
    {
     "data": {
      "text/plain": [
       "PassengerId       0\n",
       "Survived        418\n",
       "Pclass            0\n",
       "Name              0\n",
       "Sex               0\n",
       "Age             256\n",
       "SibSp             0\n",
       "Parch             0\n",
       "Ticket            0\n",
       "Fare              1\n",
       "Cabin          1007\n",
       "Embarked          2\n",
       "dtype: int64"
      ]
     },
     "execution_count": 7,
     "metadata": {},
     "output_type": "execute_result"
    }
   ],
   "source": [
    "dataset.isnull().sum()"
   ]
  },
  {
   "cell_type": "code",
   "execution_count": 8,
   "metadata": {
    "execution": {
     "iopub.execute_input": "2021-03-22T02:48:18.762998Z",
     "iopub.status.busy": "2021-03-22T02:48:18.762388Z",
     "iopub.status.idle": "2021-03-22T02:48:18.811347Z",
     "shell.execute_reply": "2021-03-22T02:48:18.810630Z"
    },
    "papermill": {
     "duration": 0.092185,
     "end_time": "2021-03-22T02:48:18.811540",
     "exception": false,
     "start_time": "2021-03-22T02:48:18.719355",
     "status": "completed"
    },
    "tags": []
   },
   "outputs": [
    {
     "data": {
      "text/html": [
       "<div>\n",
       "<style scoped>\n",
       "    .dataframe tbody tr th:only-of-type {\n",
       "        vertical-align: middle;\n",
       "    }\n",
       "\n",
       "    .dataframe tbody tr th {\n",
       "        vertical-align: top;\n",
       "    }\n",
       "\n",
       "    .dataframe thead th {\n",
       "        text-align: right;\n",
       "    }\n",
       "</style>\n",
       "<table border=\"1\" class=\"dataframe\">\n",
       "  <thead>\n",
       "    <tr style=\"text-align: right;\">\n",
       "      <th></th>\n",
       "      <th>PassengerId</th>\n",
       "      <th>Survived</th>\n",
       "      <th>Pclass</th>\n",
       "      <th>Age</th>\n",
       "      <th>SibSp</th>\n",
       "      <th>Parch</th>\n",
       "      <th>Fare</th>\n",
       "    </tr>\n",
       "  </thead>\n",
       "  <tbody>\n",
       "    <tr>\n",
       "      <th>count</th>\n",
       "      <td>881.000000</td>\n",
       "      <td>881.000000</td>\n",
       "      <td>881.000000</td>\n",
       "      <td>711.000000</td>\n",
       "      <td>881.000000</td>\n",
       "      <td>881.000000</td>\n",
       "      <td>881.000000</td>\n",
       "    </tr>\n",
       "    <tr>\n",
       "      <th>mean</th>\n",
       "      <td>446.713961</td>\n",
       "      <td>0.385925</td>\n",
       "      <td>2.307605</td>\n",
       "      <td>29.731603</td>\n",
       "      <td>0.455165</td>\n",
       "      <td>0.363224</td>\n",
       "      <td>31.121566</td>\n",
       "    </tr>\n",
       "    <tr>\n",
       "      <th>std</th>\n",
       "      <td>256.617021</td>\n",
       "      <td>0.487090</td>\n",
       "      <td>0.835055</td>\n",
       "      <td>14.547835</td>\n",
       "      <td>0.871571</td>\n",
       "      <td>0.791839</td>\n",
       "      <td>47.996249</td>\n",
       "    </tr>\n",
       "    <tr>\n",
       "      <th>min</th>\n",
       "      <td>1.000000</td>\n",
       "      <td>0.000000</td>\n",
       "      <td>1.000000</td>\n",
       "      <td>0.420000</td>\n",
       "      <td>0.000000</td>\n",
       "      <td>0.000000</td>\n",
       "      <td>0.000000</td>\n",
       "    </tr>\n",
       "    <tr>\n",
       "      <th>25%</th>\n",
       "      <td>226.000000</td>\n",
       "      <td>0.000000</td>\n",
       "      <td>2.000000</td>\n",
       "      <td>20.250000</td>\n",
       "      <td>0.000000</td>\n",
       "      <td>0.000000</td>\n",
       "      <td>7.895800</td>\n",
       "    </tr>\n",
       "    <tr>\n",
       "      <th>50%</th>\n",
       "      <td>448.000000</td>\n",
       "      <td>0.000000</td>\n",
       "      <td>3.000000</td>\n",
       "      <td>28.000000</td>\n",
       "      <td>0.000000</td>\n",
       "      <td>0.000000</td>\n",
       "      <td>14.454200</td>\n",
       "    </tr>\n",
       "    <tr>\n",
       "      <th>75%</th>\n",
       "      <td>668.000000</td>\n",
       "      <td>1.000000</td>\n",
       "      <td>3.000000</td>\n",
       "      <td>38.000000</td>\n",
       "      <td>1.000000</td>\n",
       "      <td>0.000000</td>\n",
       "      <td>30.500000</td>\n",
       "    </tr>\n",
       "    <tr>\n",
       "      <th>max</th>\n",
       "      <td>891.000000</td>\n",
       "      <td>1.000000</td>\n",
       "      <td>3.000000</td>\n",
       "      <td>80.000000</td>\n",
       "      <td>5.000000</td>\n",
       "      <td>6.000000</td>\n",
       "      <td>512.329200</td>\n",
       "    </tr>\n",
       "  </tbody>\n",
       "</table>\n",
       "</div>"
      ],
      "text/plain": [
       "       PassengerId    Survived      Pclass         Age       SibSp  \\\n",
       "count   881.000000  881.000000  881.000000  711.000000  881.000000   \n",
       "mean    446.713961    0.385925    2.307605   29.731603    0.455165   \n",
       "std     256.617021    0.487090    0.835055   14.547835    0.871571   \n",
       "min       1.000000    0.000000    1.000000    0.420000    0.000000   \n",
       "25%     226.000000    0.000000    2.000000   20.250000    0.000000   \n",
       "50%     448.000000    0.000000    3.000000   28.000000    0.000000   \n",
       "75%     668.000000    1.000000    3.000000   38.000000    1.000000   \n",
       "max     891.000000    1.000000    3.000000   80.000000    5.000000   \n",
       "\n",
       "            Parch        Fare  \n",
       "count  881.000000  881.000000  \n",
       "mean     0.363224   31.121566  \n",
       "std      0.791839   47.996249  \n",
       "min      0.000000    0.000000  \n",
       "25%      0.000000    7.895800  \n",
       "50%      0.000000   14.454200  \n",
       "75%      0.000000   30.500000  \n",
       "max      6.000000  512.329200  "
      ]
     },
     "execution_count": 8,
     "metadata": {},
     "output_type": "execute_result"
    }
   ],
   "source": [
    "train.describe()"
   ]
  },
  {
   "cell_type": "code",
   "execution_count": 9,
   "metadata": {
    "execution": {
     "iopub.execute_input": "2021-03-22T02:48:18.906686Z",
     "iopub.status.busy": "2021-03-22T02:48:18.905872Z",
     "iopub.status.idle": "2021-03-22T02:48:19.260461Z",
     "shell.execute_reply": "2021-03-22T02:48:19.259800Z"
    },
    "papermill": {
     "duration": 0.400899,
     "end_time": "2021-03-22T02:48:19.260606",
     "exception": false,
     "start_time": "2021-03-22T02:48:18.859707",
     "status": "completed"
    },
    "tags": []
   },
   "outputs": [
    {
     "data": {
      "image/png": "[encoded data removed]",
      "text/plain": [
       "<Figure size 432x288 with 2 Axes>"
      ]
     },
     "metadata": {},
     "output_type": "display_data"
    }
   ],
   "source": [
    "g = sns.heatmap(train[['Survived', 'SibSp', 'Parch', 'Age', 'Fare']].corr(), annot=True, fmt=\".2f\", cmap = 'coolwarm')"
   ]
  },
  {
   "cell_type": "code",
   "execution_count": 10,
   "metadata": {
    "execution": {
     "iopub.execute_input": "2021-03-22T02:48:19.338334Z",
     "iopub.status.busy": "2021-03-22T02:48:19.337450Z",
     "iopub.status.idle": "2021-03-22T02:48:19.807578Z",
     "shell.execute_reply": "2021-03-22T02:48:19.808322Z"
    },
    "papermill": {
     "duration": 0.513747,
     "end_time": "2021-03-22T02:48:19.808585",
     "exception": false,
     "start_time": "2021-03-22T02:48:19.294838",
     "status": "completed"
    },
    "tags": []
   },
   "outputs": [
    {
     "data": {
      "image/png": "[encoded data removed]",
      "text/plain": [
       "<Figure size 432x432 with 1 Axes>"
      ]
     },
     "metadata": {},
     "output_type": "display_data"
    }
   ],
   "source": [
    "f = sns.factorplot(x='SibSp', y='Survived', data=train, kind='bar', size=6)\n"
   ]
  },
  {
   "cell_type": "code",
   "execution_count": 11,
   "metadata": {
    "execution": {
     "iopub.execute_input": "2021-03-22T02:48:19.885316Z",
     "iopub.status.busy": "2021-03-22T02:48:19.884622Z",
     "iopub.status.idle": "2021-03-22T02:48:20.426870Z",
     "shell.execute_reply": "2021-03-22T02:48:20.427365Z"
    },
    "papermill": {
     "duration": 0.583776,
     "end_time": "2021-03-22T02:48:20.427553",
     "exception": false,
     "start_time": "2021-03-22T02:48:19.843777",
     "status": "completed"
    },
    "tags": []
   },
   "outputs": [
    {
     "data": {
      "image/png": "[encoded data removed]",
      "text/plain": [
       "<Figure size 432x216 with 2 Axes>"
      ]
     },
     "metadata": {},
     "output_type": "display_data"
    }
   ],
   "source": [
    "f = sns.FacetGrid(train, col = 'Survived')\n",
    "f = f.map(sns.distplot, 'Age')"
   ]
  },
  {
   "cell_type": "code",
   "execution_count": 12,
   "metadata": {
    "execution": {
     "iopub.execute_input": "2021-03-22T02:48:20.504106Z",
     "iopub.status.busy": "2021-03-22T02:48:20.503188Z",
     "iopub.status.idle": "2021-03-22T02:48:20.927374Z",
     "shell.execute_reply": "2021-03-22T02:48:20.926784Z"
    },
    "papermill": {
     "duration": 0.464096,
     "end_time": "2021-03-22T02:48:20.927522",
     "exception": false,
     "start_time": "2021-03-22T02:48:20.463426",
     "status": "completed"
    },
    "tags": []
   },
   "outputs": [
    {
     "data": {
      "text/plain": [
       "<AxesSubplot:xlabel='Age', ylabel='Density'>"
      ]
     },
     "execution_count": 12,
     "metadata": {},
     "output_type": "execute_result"
    },
    {
     "data": {
      "image/png": "[encoded data removed]",
      "text/plain": [
       "<Figure size 720x432 with 2 Axes>"
      ]
     },
     "metadata": {},
     "output_type": "display_data"
    }
   ],
   "source": [
    "f, ax = plt.subplots(1,2,figsize=(10,6))\n",
    "sns.distplot(train[train['Survived']==1]['Age'], ax=ax[0])\n",
    "sns.distplot(train[train['Survived']==0]['Age'], ax=ax[1])"
   ]
  },
  {
   "cell_type": "code",
   "execution_count": 13,
   "metadata": {
    "execution": {
     "iopub.execute_input": "2021-03-22T02:48:21.010689Z",
     "iopub.status.busy": "2021-03-22T02:48:21.009841Z",
     "iopub.status.idle": "2021-03-22T02:48:21.240542Z",
     "shell.execute_reply": "2021-03-22T02:48:21.239881Z"
    },
    "papermill": {
     "duration": 0.275357,
     "end_time": "2021-03-22T02:48:21.240698",
     "exception": false,
     "start_time": "2021-03-22T02:48:20.965341",
     "status": "completed"
    },
    "tags": []
   },
   "outputs": [
    {
     "data": {
      "text/plain": [
       "<matplotlib.legend.Legend at 0x7fcc51c8f410>"
      ]
     },
     "execution_count": 13,
     "metadata": {},
     "output_type": "execute_result"
    },
    {
     "data": {
      "image/png": "[encoded data removed]",
      "text/plain": [
       "<Figure size 432x288 with 1 Axes>"
      ]
     },
     "metadata": {},
     "output_type": "display_data"
    }
   ],
   "source": [
    "f = sns.kdeplot(train['Age'][(train['Survived']==0) & (train['Age'].notnull())])\n",
    "f = sns.kdeplot(train['Age'][(train['Survived']==1) &(train['Age'].notnull())])\n",
    "f.set_xlabel('Age')\n",
    "f.set_ylabel('Frequency of Survived')\n",
    "f.legend(['Not Survived', 'Survived'])"
   ]
  },
  {
   "cell_type": "code",
   "execution_count": 14,
   "metadata": {
    "execution": {
     "iopub.execute_input": "2021-03-22T02:48:21.330027Z",
     "iopub.status.busy": "2021-03-22T02:48:21.329138Z",
     "iopub.status.idle": "2021-03-22T02:48:21.335449Z",
     "shell.execute_reply": "2021-03-22T02:48:21.334904Z"
    },
    "papermill": {
     "duration": 0.054302,
     "end_time": "2021-03-22T02:48:21.335605",
     "exception": false,
     "start_time": "2021-03-22T02:48:21.281303",
     "status": "completed"
    },
    "tags": []
   },
   "outputs": [],
   "source": [
    "dataset.loc[dataset['Fare'].isnull()] = dataset['Fare'].median()"
   ]
  },
  {
   "cell_type": "code",
   "execution_count": 15,
   "metadata": {
    "execution": {
     "iopub.execute_input": "2021-03-22T02:48:21.422667Z",
     "iopub.status.busy": "2021-03-22T02:48:21.419699Z",
     "iopub.status.idle": "2021-03-22T02:48:22.091037Z",
     "shell.execute_reply": "2021-03-22T02:48:22.090514Z"
    },
    "papermill": {
     "duration": 0.716025,
     "end_time": "2021-03-22T02:48:22.091218",
     "exception": false,
     "start_time": "2021-03-22T02:48:21.375193",
     "status": "completed"
    },
    "tags": []
   },
   "outputs": [
    {
     "data": {
      "image/png": "[encoded data removed]",
      "text/plain": [
       "<Figure size 360x360 with 1 Axes>"
      ]
     },
     "metadata": {},
     "output_type": "display_data"
    }
   ],
   "source": [
    "f = sns.displot(dataset['Fare'], color='m', label ='Skewness : %.2f'%(dataset['Fare'].skew()))\n"
   ]
  },
  {
   "cell_type": "code",
   "execution_count": 16,
   "metadata": {
    "execution": {
     "iopub.execute_input": "2021-03-22T02:48:22.182708Z",
     "iopub.status.busy": "2021-03-22T02:48:22.181976Z",
     "iopub.status.idle": "2021-03-22T02:48:22.184083Z",
     "shell.execute_reply": "2021-03-22T02:48:22.184626Z"
    },
    "papermill": {
     "duration": 0.052838,
     "end_time": "2021-03-22T02:48:22.184801",
     "exception": false,
     "start_time": "2021-03-22T02:48:22.131963",
     "status": "completed"
    },
    "tags": []
   },
   "outputs": [],
   "source": [
    "dataset['Fare'] = dataset['Fare'].map(lambda i: np.log(i) if i>0 else 0)"
   ]
  },
  {
   "cell_type": "code",
   "execution_count": 17,
   "metadata": {
    "execution": {
     "iopub.execute_input": "2021-03-22T02:48:22.269060Z",
     "iopub.status.busy": "2021-03-22T02:48:22.268398Z",
     "iopub.status.idle": "2021-03-22T02:48:22.536220Z",
     "shell.execute_reply": "2021-03-22T02:48:22.536799Z"
    },
    "papermill": {
     "duration": 0.311671,
     "end_time": "2021-03-22T02:48:22.536988",
     "exception": false,
     "start_time": "2021-03-22T02:48:22.225317",
     "status": "completed"
    },
    "tags": []
   },
   "outputs": [
    {
     "data": {
      "image/png": "[encoded data removed]",
      "text/plain": [
       "<Figure size 432x288 with 1 Axes>"
      ]
     },
     "metadata": {},
     "output_type": "display_data"
    }
   ],
   "source": [
    "f = sns.distplot(dataset['Fare'])"
   ]
  },
  {
   "cell_type": "code",
   "execution_count": 18,
   "metadata": {
    "execution": {
     "iopub.execute_input": "2021-03-22T02:48:22.623102Z",
     "iopub.status.busy": "2021-03-22T02:48:22.622447Z",
     "iopub.status.idle": "2021-03-22T02:48:22.827225Z",
     "shell.execute_reply": "2021-03-22T02:48:22.827738Z"
    },
    "papermill": {
     "duration": 0.249601,
     "end_time": "2021-03-22T02:48:22.827906",
     "exception": false,
     "start_time": "2021-03-22T02:48:22.578305",
     "status": "completed"
    },
    "tags": []
   },
   "outputs": [
    {
     "data": {
      "image/png": "[encoded data removed]",
      "text/plain": [
       "<Figure size 432x288 with 1 Axes>"
      ]
     },
     "metadata": {},
     "output_type": "display_data"
    }
   ],
   "source": [
    "f = sns.barplot('Sex', 'Survived', data= train)"
   ]
  },
  {
   "cell_type": "code",
   "execution_count": 19,
   "metadata": {
    "execution": {
     "iopub.execute_input": "2021-03-22T02:48:22.915921Z",
     "iopub.status.busy": "2021-03-22T02:48:22.915301Z",
     "iopub.status.idle": "2021-03-22T02:48:22.926782Z",
     "shell.execute_reply": "2021-03-22T02:48:22.927317Z"
    },
    "papermill": {
     "duration": 0.057095,
     "end_time": "2021-03-22T02:48:22.927493",
     "exception": false,
     "start_time": "2021-03-22T02:48:22.870398",
     "status": "completed"
    },
    "tags": []
   },
   "outputs": [
    {
     "data": {
      "text/html": [
       "<div>\n",
       "<style scoped>\n",
       "    .dataframe tbody tr th:only-of-type {\n",
       "        vertical-align: middle;\n",
       "    }\n",
       "\n",
       "    .dataframe tbody tr th {\n",
       "        vertical-align: top;\n",
       "    }\n",
       "\n",
       "    .dataframe thead th {\n",
       "        text-align: right;\n",
       "    }\n",
       "</style>\n",
       "<table border=\"1\" class=\"dataframe\">\n",
       "  <thead>\n",
       "    <tr style=\"text-align: right;\">\n",
       "      <th></th>\n",
       "      <th>Survived</th>\n",
       "    </tr>\n",
       "    <tr>\n",
       "      <th>Sex</th>\n",
       "      <th></th>\n",
       "    </tr>\n",
       "  </thead>\n",
       "  <tbody>\n",
       "    <tr>\n",
       "      <th>female</th>\n",
       "      <td>0.747573</td>\n",
       "    </tr>\n",
       "    <tr>\n",
       "      <th>male</th>\n",
       "      <td>0.190559</td>\n",
       "    </tr>\n",
       "  </tbody>\n",
       "</table>\n",
       "</div>"
      ],
      "text/plain": [
       "        Survived\n",
       "Sex             \n",
       "female  0.747573\n",
       "male    0.190559"
      ]
     },
     "execution_count": 19,
     "metadata": {},
     "output_type": "execute_result"
    }
   ],
   "source": [
    "train[['Sex', 'Survived']].groupby('Sex').mean()"
   ]
  },
  {
   "cell_type": "code",
   "execution_count": 20,
   "metadata": {
    "execution": {
     "iopub.execute_input": "2021-03-22T02:48:23.016706Z",
     "iopub.status.busy": "2021-03-22T02:48:23.016072Z",
     "iopub.status.idle": "2021-03-22T02:48:23.351616Z",
     "shell.execute_reply": "2021-03-22T02:48:23.350944Z"
    },
    "papermill": {
     "duration": 0.381266,
     "end_time": "2021-03-22T02:48:23.351759",
     "exception": false,
     "start_time": "2021-03-22T02:48:22.970493",
     "status": "completed"
    },
    "tags": []
   },
   "outputs": [
    {
     "data": {
      "image/png": "[encoded data removed]",
      "text/plain": [
       "<Figure size 360x360 with 1 Axes>"
      ]
     },
     "metadata": {},
     "output_type": "display_data"
    }
   ],
   "source": [
    "f = sns.factorplot(x='Pclass', y='Survived', data=train, kind='bar')"
   ]
  },
  {
   "cell_type": "code",
   "execution_count": 21,
   "metadata": {
    "execution": {
     "iopub.execute_input": "2021-03-22T02:48:23.446422Z",
     "iopub.status.busy": "2021-03-22T02:48:23.445772Z",
     "iopub.status.idle": "2021-03-22T02:48:23.973546Z",
     "shell.execute_reply": "2021-03-22T02:48:23.974135Z"
    },
    "papermill": {
     "duration": 0.579201,
     "end_time": "2021-03-22T02:48:23.974330",
     "exception": false,
     "start_time": "2021-03-22T02:48:23.395129",
     "status": "completed"
    },
    "tags": []
   },
   "outputs": [
    {
     "data": {
      "text/plain": [
       "<seaborn.axisgrid.FacetGrid at 0x7fcc4f83c050>"
      ]
     },
     "execution_count": 21,
     "metadata": {},
     "output_type": "execute_result"
    },
    {
     "data": {
      "image/png": "[encoded data removed]",
      "text/plain": [
       "<Figure size 509.975x432 with 1 Axes>"
      ]
     },
     "metadata": {},
     "output_type": "display_data"
    }
   ],
   "source": [
    "f = sns.factorplot(x='Pclass', y='Survived', hue='Sex', data=train, size=6, kind='bar',palette = 'muted')\n",
    "f.despine(left=True)"
   ]
  },
  {
   "cell_type": "code",
   "execution_count": 22,
   "metadata": {
    "execution": {
     "iopub.execute_input": "2021-03-22T02:48:24.068536Z",
     "iopub.status.busy": "2021-03-22T02:48:24.067883Z",
     "iopub.status.idle": "2021-03-22T02:48:24.073695Z",
     "shell.execute_reply": "2021-03-22T02:48:24.073141Z"
    },
    "papermill": {
     "duration": 0.054511,
     "end_time": "2021-03-22T02:48:24.073845",
     "exception": false,
     "start_time": "2021-03-22T02:48:24.019334",
     "status": "completed"
    },
    "tags": []
   },
   "outputs": [],
   "source": [
    "dataset['Embarked'] = dataset['Embarked'].fillna('S')"
   ]
  },
  {
   "cell_type": "code",
   "execution_count": 23,
   "metadata": {
    "execution": {
     "iopub.execute_input": "2021-03-22T02:48:24.196091Z",
     "iopub.status.busy": "2021-03-22T02:48:24.190881Z",
     "iopub.status.idle": "2021-03-22T02:48:24.501343Z",
     "shell.execute_reply": "2021-03-22T02:48:24.500763Z"
    },
    "papermill": {
     "duration": 0.38199,
     "end_time": "2021-03-22T02:48:24.501503",
     "exception": false,
     "start_time": "2021-03-22T02:48:24.119513",
     "status": "completed"
    },
    "tags": []
   },
   "outputs": [
    {
     "data": {
      "image/png": "[encoded data removed]",
      "text/plain": [
       "<Figure size 360x360 with 1 Axes>"
      ]
     },
     "metadata": {},
     "output_type": "display_data"
    }
   ],
   "source": [
    "f = sns.factorplot(x = 'Embarked',y='Survived', data = train, kind = 'bar')\n",
    "f = f.set_ylabels('Survived vs Embarked')"
   ]
  },
  {
   "cell_type": "code",
   "execution_count": 24,
   "metadata": {
    "execution": {
     "iopub.execute_input": "2021-03-22T02:48:24.618763Z",
     "iopub.status.busy": "2021-03-22T02:48:24.617341Z",
     "iopub.status.idle": "2021-03-22T02:48:25.195500Z",
     "shell.execute_reply": "2021-03-22T02:48:25.194808Z"
    },
    "papermill": {
     "duration": 0.6483,
     "end_time": "2021-03-22T02:48:25.195645",
     "exception": false,
     "start_time": "2021-03-22T02:48:24.547345",
     "status": "completed"
    },
    "tags": []
   },
   "outputs": [
    {
     "data": {
      "image/png": "[encoded data removed]",
      "text/plain": [
       "<Figure size 1080x360 with 3 Axes>"
      ]
     },
     "metadata": {},
     "output_type": "display_data"
    }
   ],
   "source": [
    "f = sns.factorplot('Pclass', col='Embarked', data=train, kind='count')"
   ]
  },
  {
   "cell_type": "code",
   "execution_count": 25,
   "metadata": {
    "execution": {
     "iopub.execute_input": "2021-03-22T02:48:25.315655Z",
     "iopub.status.busy": "2021-03-22T02:48:25.300698Z",
     "iopub.status.idle": "2021-03-22T02:48:26.804445Z",
     "shell.execute_reply": "2021-03-22T02:48:26.803485Z"
    },
    "papermill": {
     "duration": 1.561974,
     "end_time": "2021-03-22T02:48:26.804663",
     "exception": false,
     "start_time": "2021-03-22T02:48:25.242689",
     "status": "completed"
    },
    "tags": []
   },
   "outputs": [
    {
     "data": {
      "image/png": "[encoded data removed]",
      "text/plain": [
       "<Figure size 360x360 with 1 Axes>"
      ]
     },
     "metadata": {},
     "output_type": "display_data"
    },
    {
     "data": {
      "image/png": "[encoded data removed]",
      "text/plain": [
       "<Figure size 444.975x360 with 1 Axes>"
      ]
     },
     "metadata": {},
     "output_type": "display_data"
    },
    {
     "data": {
      "image/png": "[encoded data removed]",
      "text/plain": [
       "<Figure size 444.975x360 with 1 Axes>"
      ]
     },
     "metadata": {},
     "output_type": "display_data"
    }
   ],
   "source": [
    "f = sns.factorplot(y='Age', x='Sex', data=dataset, kind='box')\n",
    "f = sns.factorplot(y= 'Age', x='Sex', hue='Pclass', data=dataset, kind='box')\n",
    "f = sns.factorplot(x='Sex', y='Age', hue = 'Parch', data=dataset, kind='box')"
   ]
  },
  {
   "cell_type": "code",
   "execution_count": 26,
   "metadata": {
    "execution": {
     "iopub.execute_input": "2021-03-22T02:48:26.914929Z",
     "iopub.status.busy": "2021-03-22T02:48:26.914275Z",
     "iopub.status.idle": "2021-03-22T02:48:26.917759Z",
     "shell.execute_reply": "2021-03-22T02:48:26.918225Z"
    },
    "papermill": {
     "duration": 0.061821,
     "end_time": "2021-03-22T02:48:26.918399",
     "exception": false,
     "start_time": "2021-03-22T02:48:26.856578",
     "status": "completed"
    },
    "tags": []
   },
   "outputs": [],
   "source": [
    "dataset['Sex'] = dataset['Sex'].map({'male' :0 , 'female' : 1})"
   ]
  },
  {
   "cell_type": "code",
   "execution_count": 27,
   "metadata": {
    "execution": {
     "iopub.execute_input": "2021-03-22T02:48:27.025254Z",
     "iopub.status.busy": "2021-03-22T02:48:27.024557Z",
     "iopub.status.idle": "2021-03-22T02:48:27.445076Z",
     "shell.execute_reply": "2021-03-22T02:48:27.444494Z"
    },
    "papermill": {
     "duration": 0.475997,
     "end_time": "2021-03-22T02:48:27.445244",
     "exception": false,
     "start_time": "2021-03-22T02:48:26.969247",
     "status": "completed"
    },
    "tags": []
   },
   "outputs": [
    {
     "data": {
      "image/png": "[encoded data removed]",
      "text/plain": [
       "<Figure size 432x288 with 2 Axes>"
      ]
     },
     "metadata": {},
     "output_type": "display_data"
    }
   ],
   "source": [
    "f = sns.heatmap(dataset[['Age', 'Sex','SibSp', 'Parch', 'Pclass']].corr(), annot=True)"
   ]
  },
  {
   "cell_type": "code",
   "execution_count": 28,
   "metadata": {
    "execution": {
     "iopub.execute_input": "2021-03-22T02:48:27.554840Z",
     "iopub.status.busy": "2021-03-22T02:48:27.553882Z",
     "iopub.status.idle": "2021-03-22T02:48:27.557657Z",
     "shell.execute_reply": "2021-03-22T02:48:27.556971Z"
    },
    "papermill": {
     "duration": 0.060883,
     "end_time": "2021-03-22T02:48:27.557812",
     "exception": false,
     "start_time": "2021-03-22T02:48:27.496929",
     "status": "completed"
    },
    "tags": []
   },
   "outputs": [],
   "source": [
    "index_NaN_age = list(dataset['Age'][dataset['Age'].isnull()].index)"
   ]
  },
  {
   "cell_type": "code",
   "execution_count": 29,
   "metadata": {
    "execution": {
     "iopub.execute_input": "2021-03-22T02:48:27.671726Z",
     "iopub.status.busy": "2021-03-22T02:48:27.669576Z",
     "iopub.status.idle": "2021-03-22T02:48:28.237497Z",
     "shell.execute_reply": "2021-03-22T02:48:28.236944Z"
    },
    "papermill": {
     "duration": 0.628875,
     "end_time": "2021-03-22T02:48:28.237659",
     "exception": false,
     "start_time": "2021-03-22T02:48:27.608784",
     "status": "completed"
    },
    "tags": []
   },
   "outputs": [],
   "source": [
    "for i in index_NaN_age:\n",
    "    age_med = dataset['Age'].median()\n",
    "    age_pred = dataset['Age'][((dataset['SibSp'] == dataset.iloc[i]['SibSp']) \n",
    "                               & (dataset['Parch'] == dataset.iloc[i]['Parch'])\n",
    "                              & (dataset['Pclass'] == dataset.iloc[i]['Pclass']))].median()\n",
    "    if not np.isnan(age_pred):\n",
    "        dataset['Age'].iloc[i] = age_pred\n",
    "    else :\n",
    "        dataset['Age'].iloc[i] = age_med"
   ]
  },
  {
   "cell_type": "code",
   "execution_count": 30,
   "metadata": {
    "execution": {
     "iopub.execute_input": "2021-03-22T02:48:28.346347Z",
     "iopub.status.busy": "2021-03-22T02:48:28.345693Z",
     "iopub.status.idle": "2021-03-22T02:48:28.592975Z",
     "shell.execute_reply": "2021-03-22T02:48:28.593545Z"
    },
    "papermill": {
     "duration": 0.305124,
     "end_time": "2021-03-22T02:48:28.593721",
     "exception": false,
     "start_time": "2021-03-22T02:48:28.288597",
     "status": "completed"
    },
    "tags": []
   },
   "outputs": [
    {
     "data": {
      "image/png": "[encoded data removed]",
      "text/plain": [
       "<Figure size 360x360 with 1 Axes>"
      ]
     },
     "metadata": {},
     "output_type": "display_data"
    }
   ],
   "source": [
    "f = sns.factorplot(x='Survived', y='Age', data=train, kind = 'violin')"
   ]
  },
  {
   "cell_type": "code",
   "execution_count": 31,
   "metadata": {
    "execution": {
     "iopub.execute_input": "2021-03-22T02:48:28.711515Z",
     "iopub.status.busy": "2021-03-22T02:48:28.709033Z",
     "iopub.status.idle": "2021-03-22T02:48:28.714615Z",
     "shell.execute_reply": "2021-03-22T02:48:28.713975Z"
    },
    "papermill": {
     "duration": 0.068125,
     "end_time": "2021-03-22T02:48:28.714770",
     "exception": false,
     "start_time": "2021-03-22T02:48:28.646645",
     "status": "completed"
    },
    "tags": []
   },
   "outputs": [],
   "source": [
    "dataset['Title'] = dataset['Name'].str.extract('([A-Za-z]+)\\.')"
   ]
  },
  {
   "cell_type": "code",
   "execution_count": 32,
   "metadata": {
    "execution": {
     "iopub.execute_input": "2021-03-22T02:48:28.831508Z",
     "iopub.status.busy": "2021-03-22T02:48:28.830528Z",
     "iopub.status.idle": "2021-03-22T02:48:28.836624Z",
     "shell.execute_reply": "2021-03-22T02:48:28.837209Z"
    },
    "papermill": {
     "duration": 0.066899,
     "end_time": "2021-03-22T02:48:28.837384",
     "exception": false,
     "start_time": "2021-03-22T02:48:28.770485",
     "status": "completed"
    },
    "tags": []
   },
   "outputs": [
    {
     "data": {
      "text/plain": [
       "Mr          752\n",
       "Miss        255\n",
       "Mrs         197\n",
       "Master       60\n",
       "Rev           8\n",
       "Dr            8\n",
       "Col           4\n",
       "Ms            2\n",
       "Major         2\n",
       "Mlle          2\n",
       "Mme           1\n",
       "Sir           1\n",
       "Jonkheer      1\n",
       "Lady          1\n",
       "Countess      1\n",
       "Capt          1\n",
       "Dona          1\n",
       "Don           1\n",
       "Name: Title, dtype: int64"
      ]
     },
     "execution_count": 32,
     "metadata": {},
     "output_type": "execute_result"
    }
   ],
   "source": [
    "dataset['Title'].value_counts()"
   ]
  },
  {
   "cell_type": "code",
   "execution_count": 33,
   "metadata": {
    "execution": {
     "iopub.execute_input": "2021-03-22T02:48:28.957340Z",
     "iopub.status.busy": "2021-03-22T02:48:28.956291Z",
     "iopub.status.idle": "2021-03-22T02:48:28.959639Z",
     "shell.execute_reply": "2021-03-22T02:48:28.959113Z"
    },
    "papermill": {
     "duration": 0.069184,
     "end_time": "2021-03-22T02:48:28.959797",
     "exception": false,
     "start_time": "2021-03-22T02:48:28.890613",
     "status": "completed"
    },
    "tags": []
   },
   "outputs": [],
   "source": [
    "dataset['Title'].replace(['Lady', 'the Countess', 'Countess', 'Capt', 'Col', 'Don', 'Dr', 'Major', 'Rev', 'Sir', 'Jonkheer', 'Dona'], 'Rare', inplace = True)\n",
    "dataset['Title'] = dataset['Title'].map({'Master':0, 'Miss':1, 'Ms':1, 'Mlle':1,'Mrs':1, 'Mr':2, 'Rare':3})"
   ]
  },
  {
   "cell_type": "code",
   "execution_count": 34,
   "metadata": {
    "execution": {
     "iopub.execute_input": "2021-03-22T02:48:29.076877Z",
     "iopub.status.busy": "2021-03-22T02:48:29.076020Z",
     "iopub.status.idle": "2021-03-22T02:48:29.080212Z",
     "shell.execute_reply": "2021-03-22T02:48:29.079647Z"
    },
    "papermill": {
     "duration": 0.066431,
     "end_time": "2021-03-22T02:48:29.080364",
     "exception": false,
     "start_time": "2021-03-22T02:48:29.013933",
     "status": "completed"
    },
    "tags": []
   },
   "outputs": [
    {
     "data": {
      "text/plain": [
       "2.0    752\n",
       "1.0    456\n",
       "0.0     60\n",
       "3.0     29\n",
       "Name: Title, dtype: int64"
      ]
     },
     "execution_count": 34,
     "metadata": {},
     "output_type": "execute_result"
    }
   ],
   "source": [
    "dataset['Title'].value_counts()"
   ]
  },
  {
   "cell_type": "code",
   "execution_count": 35,
   "metadata": {
    "execution": {
     "iopub.execute_input": "2021-03-22T02:48:29.191727Z",
     "iopub.status.busy": "2021-03-22T02:48:29.190967Z",
     "iopub.status.idle": "2021-03-22T02:48:29.196476Z",
     "shell.execute_reply": "2021-03-22T02:48:29.196968Z"
    },
    "papermill": {
     "duration": 0.062627,
     "end_time": "2021-03-22T02:48:29.197172",
     "exception": false,
     "start_time": "2021-03-22T02:48:29.134545",
     "status": "completed"
    },
    "tags": []
   },
   "outputs": [],
   "source": [
    "dataset.drop(labels = ['Name'], axis = 1, inplace = True)"
   ]
  },
  {
   "cell_type": "code",
   "execution_count": 36,
   "metadata": {
    "execution": {
     "iopub.execute_input": "2021-03-22T02:48:29.309234Z",
     "iopub.status.busy": "2021-03-22T02:48:29.308572Z",
     "iopub.status.idle": "2021-03-22T02:48:29.314996Z",
     "shell.execute_reply": "2021-03-22T02:48:29.314499Z"
    },
    "papermill": {
     "duration": 0.06351,
     "end_time": "2021-03-22T02:48:29.315139",
     "exception": false,
     "start_time": "2021-03-22T02:48:29.251629",
     "status": "completed"
    },
    "tags": []
   },
   "outputs": [],
   "source": [
    "dataset['Fsize'] = dataset['SibSp'] + dataset['Parch'] +1"
   ]
  },
  {
   "cell_type": "code",
   "execution_count": 37,
   "metadata": {
    "execution": {
     "iopub.execute_input": "2021-03-22T02:48:29.427199Z",
     "iopub.status.busy": "2021-03-22T02:48:29.426544Z",
     "iopub.status.idle": "2021-03-22T02:48:29.927434Z",
     "shell.execute_reply": "2021-03-22T02:48:29.927890Z"
    },
    "papermill": {
     "duration": 0.55849,
     "end_time": "2021-03-22T02:48:29.928069",
     "exception": false,
     "start_time": "2021-03-22T02:48:29.369579",
     "status": "completed"
    },
    "tags": []
   },
   "outputs": [
    {
     "data": {
      "image/png": "[encoded data removed]",
      "text/plain": [
       "<Figure size 432x288 with 1 Axes>"
      ]
     },
     "metadata": {},
     "output_type": "display_data"
    }
   ],
   "source": [
    "f = sns.barplot(x ='Fsize',y = 'Survived', data = dataset)"
   ]
  },
  {
   "cell_type": "code",
   "execution_count": 38,
   "metadata": {
    "execution": {
     "iopub.execute_input": "2021-03-22T02:48:30.043298Z",
     "iopub.status.busy": "2021-03-22T02:48:30.042564Z",
     "iopub.status.idle": "2021-03-22T02:48:30.055933Z",
     "shell.execute_reply": "2021-03-22T02:48:30.056478Z"
    },
    "papermill": {
     "duration": 0.07267,
     "end_time": "2021-03-22T02:48:30.056698",
     "exception": false,
     "start_time": "2021-03-22T02:48:29.984028",
     "status": "completed"
    },
    "tags": []
   },
   "outputs": [],
   "source": [
    "dataset['Single'] = dataset['Fsize'].map(lambda s:1 if s==1 else 0)\n",
    "dataset['SmallF'] = dataset['Fsize'].map(lambda s: 1 if s==2 else 0)\n",
    "dataset['MedF'] = dataset['Fsize'].map(lambda s: 1 if 3<= s <=4 else 0)\n",
    "dataset['LargeF'] = dataset['Fsize'].map(lambda s:1 if s>=5 else 0)\n"
   ]
  },
  {
   "cell_type": "code",
   "execution_count": 39,
   "metadata": {
    "execution": {
     "iopub.execute_input": "2021-03-22T02:48:30.171848Z",
     "iopub.status.busy": "2021-03-22T02:48:30.171062Z",
     "iopub.status.idle": "2021-03-22T02:48:30.196086Z",
     "shell.execute_reply": "2021-03-22T02:48:30.195436Z"
    },
    "papermill": {
     "duration": 0.083216,
     "end_time": "2021-03-22T02:48:30.196252",
     "exception": false,
     "start_time": "2021-03-22T02:48:30.113036",
     "status": "completed"
    },
    "tags": []
   },
   "outputs": [
    {
     "data": {
      "text/html": [
       "<div>\n",
       "<style scoped>\n",
       "    .dataframe tbody tr th:only-of-type {\n",
       "        vertical-align: middle;\n",
       "    }\n",
       "\n",
       "    .dataframe tbody tr th {\n",
       "        vertical-align: top;\n",
       "    }\n",
       "\n",
       "    .dataframe thead th {\n",
       "        text-align: right;\n",
       "    }\n",
       "</style>\n",
       "<table border=\"1\" class=\"dataframe\">\n",
       "  <thead>\n",
       "    <tr style=\"text-align: right;\">\n",
       "      <th></th>\n",
       "      <th>PassengerId</th>\n",
       "      <th>Survived</th>\n",
       "      <th>Pclass</th>\n",
       "      <th>Sex</th>\n",
       "      <th>Age</th>\n",
       "      <th>SibSp</th>\n",
       "      <th>Parch</th>\n",
       "      <th>Ticket</th>\n",
       "      <th>Fare</th>\n",
       "      <th>Cabin</th>\n",
       "      <th>Embarked</th>\n",
       "      <th>Title</th>\n",
       "      <th>Fsize</th>\n",
       "      <th>Single</th>\n",
       "      <th>SmallF</th>\n",
       "      <th>MedF</th>\n",
       "      <th>LargeF</th>\n",
       "    </tr>\n",
       "  </thead>\n",
       "  <tbody>\n",
       "    <tr>\n",
       "      <th>0</th>\n",
       "      <td>1.0</td>\n",
       "      <td>0.0</td>\n",
       "      <td>3.0</td>\n",
       "      <td>0.0</td>\n",
       "      <td>22.0</td>\n",
       "      <td>1.0</td>\n",
       "      <td>0.0</td>\n",
       "      <td>A/5 21171</td>\n",
       "      <td>1.981001</td>\n",
       "      <td>NaN</td>\n",
       "      <td>S</td>\n",
       "      <td>2.0</td>\n",
       "      <td>2.0</td>\n",
       "      <td>0</td>\n",
       "      <td>1</td>\n",
       "      <td>0</td>\n",
       "      <td>0</td>\n",
       "    </tr>\n",
       "    <tr>\n",
       "      <th>1</th>\n",
       "      <td>2.0</td>\n",
       "      <td>1.0</td>\n",
       "      <td>1.0</td>\n",
       "      <td>1.0</td>\n",
       "      <td>38.0</td>\n",
       "      <td>1.0</td>\n",
       "      <td>0.0</td>\n",
       "      <td>PC 17599</td>\n",
       "      <td>4.266662</td>\n",
       "      <td>C85</td>\n",
       "      <td>C</td>\n",
       "      <td>1.0</td>\n",
       "      <td>2.0</td>\n",
       "      <td>0</td>\n",
       "      <td>1</td>\n",
       "      <td>0</td>\n",
       "      <td>0</td>\n",
       "    </tr>\n",
       "    <tr>\n",
       "      <th>2</th>\n",
       "      <td>3.0</td>\n",
       "      <td>1.0</td>\n",
       "      <td>3.0</td>\n",
       "      <td>1.0</td>\n",
       "      <td>26.0</td>\n",
       "      <td>0.0</td>\n",
       "      <td>0.0</td>\n",
       "      <td>STON/O2. 3101282</td>\n",
       "      <td>2.070022</td>\n",
       "      <td>NaN</td>\n",
       "      <td>S</td>\n",
       "      <td>1.0</td>\n",
       "      <td>1.0</td>\n",
       "      <td>1</td>\n",
       "      <td>0</td>\n",
       "      <td>0</td>\n",
       "      <td>0</td>\n",
       "    </tr>\n",
       "    <tr>\n",
       "      <th>3</th>\n",
       "      <td>4.0</td>\n",
       "      <td>1.0</td>\n",
       "      <td>1.0</td>\n",
       "      <td>1.0</td>\n",
       "      <td>35.0</td>\n",
       "      <td>1.0</td>\n",
       "      <td>0.0</td>\n",
       "      <td>113803</td>\n",
       "      <td>3.972177</td>\n",
       "      <td>C123</td>\n",
       "      <td>S</td>\n",
       "      <td>1.0</td>\n",
       "      <td>2.0</td>\n",
       "      <td>0</td>\n",
       "      <td>1</td>\n",
       "      <td>0</td>\n",
       "      <td>0</td>\n",
       "    </tr>\n",
       "    <tr>\n",
       "      <th>4</th>\n",
       "      <td>5.0</td>\n",
       "      <td>0.0</td>\n",
       "      <td>3.0</td>\n",
       "      <td>0.0</td>\n",
       "      <td>35.0</td>\n",
       "      <td>0.0</td>\n",
       "      <td>0.0</td>\n",
       "      <td>373450</td>\n",
       "      <td>2.085672</td>\n",
       "      <td>NaN</td>\n",
       "      <td>S</td>\n",
       "      <td>2.0</td>\n",
       "      <td>1.0</td>\n",
       "      <td>1</td>\n",
       "      <td>0</td>\n",
       "      <td>0</td>\n",
       "      <td>0</td>\n",
       "    </tr>\n",
       "  </tbody>\n",
       "</table>\n",
       "</div>"
      ],
      "text/plain": [
       "   PassengerId  Survived  Pclass  Sex   Age  SibSp  Parch            Ticket  \\\n",
       "0          1.0       0.0     3.0  0.0  22.0    1.0    0.0         A/5 21171   \n",
       "1          2.0       1.0     1.0  1.0  38.0    1.0    0.0          PC 17599   \n",
       "2          3.0       1.0     3.0  1.0  26.0    0.0    0.0  STON/O2. 3101282   \n",
       "3          4.0       1.0     1.0  1.0  35.0    1.0    0.0            113803   \n",
       "4          5.0       0.0     3.0  0.0  35.0    0.0    0.0            373450   \n",
       "\n",
       "       Fare Cabin Embarked  Title  Fsize  Single  SmallF  MedF  LargeF  \n",
       "0  1.981001   NaN        S    2.0    2.0       0       1     0       0  \n",
       "1  4.266662   C85        C    1.0    2.0       0       1     0       0  \n",
       "2  2.070022   NaN        S    1.0    1.0       1       0     0       0  \n",
       "3  3.972177  C123        S    1.0    2.0       0       1     0       0  \n",
       "4  2.085672   NaN        S    2.0    1.0       1       0     0       0  "
      ]
     },
     "execution_count": 39,
     "metadata": {},
     "output_type": "execute_result"
    }
   ],
   "source": [
    "dataset.head()"
   ]
  },
  {
   "cell_type": "code",
   "execution_count": 40,
   "metadata": {
    "execution": {
     "iopub.execute_input": "2021-03-22T02:48:30.312209Z",
     "iopub.status.busy": "2021-03-22T02:48:30.311280Z",
     "iopub.status.idle": "2021-03-22T02:48:30.882167Z",
     "shell.execute_reply": "2021-03-22T02:48:30.882735Z"
    },
    "papermill": {
     "duration": 0.630349,
     "end_time": "2021-03-22T02:48:30.882922",
     "exception": false,
     "start_time": "2021-03-22T02:48:30.252573",
     "status": "completed"
    },
    "tags": []
   },
   "outputs": [
    {
     "data": {
      "image/png": "[encoded data removed]",
      "text/plain": [
       "<Figure size 360x360 with 1 Axes>"
      ]
     },
     "metadata": {},
     "output_type": "display_data"
    },
    {
     "data": {
      "image/png": "[encoded data removed]",
      "text/plain": [
       "<Figure size 360x360 with 1 Axes>"
      ]
     },
     "metadata": {},
     "output_type": "display_data"
    }
   ],
   "source": [
    "f = sns.factorplot(x='Single', y='Survived', data=dataset, kind='bar')\n",
    "f = sns.factorplot(x='SmallF', y='Survived', data=dataset, kind='bar')"
   ]
  },
  {
   "cell_type": "code",
   "execution_count": 41,
   "metadata": {
    "execution": {
     "iopub.execute_input": "2021-03-22T02:48:31.008558Z",
     "iopub.status.busy": "2021-03-22T02:48:31.007531Z",
     "iopub.status.idle": "2021-03-22T02:48:31.017826Z",
     "shell.execute_reply": "2021-03-22T02:48:31.018314Z"
    },
    "papermill": {
     "duration": 0.077304,
     "end_time": "2021-03-22T02:48:31.018505",
     "exception": false,
     "start_time": "2021-03-22T02:48:30.941201",
     "status": "completed"
    },
    "tags": []
   },
   "outputs": [],
   "source": [
    "dataset = pd.get_dummies(dataset, columns=['Title']) #성별\n",
    "dataset = pd.get_dummies(dataset, columns=['Embarked'], prefix='Embark')"
   ]
  },
  {
   "cell_type": "code",
   "execution_count": 42,
   "metadata": {
    "execution": {
     "iopub.execute_input": "2021-03-22T02:48:31.139753Z",
     "iopub.status.busy": "2021-03-22T02:48:31.138785Z",
     "iopub.status.idle": "2021-03-22T02:48:31.145917Z",
     "shell.execute_reply": "2021-03-22T02:48:31.146391Z"
    },
    "papermill": {
     "duration": 0.069998,
     "end_time": "2021-03-22T02:48:31.146569",
     "exception": false,
     "start_time": "2021-03-22T02:48:31.076571",
     "status": "completed"
    },
    "tags": []
   },
   "outputs": [],
   "source": [
    "Ticket = []\n",
    "for i in list(dataset.Ticket):\n",
    "    if not str(i).isdigit() :\n",
    "        Ticket.append(str(i).replace(\".\",\"\").replace(\"/\",\"\").strip().split(' ')[0]) #Take prefix\n",
    "    else:\n",
    "        Ticket.append(\"X\")"
   ]
  },
  {
   "cell_type": "code",
   "execution_count": 43,
   "metadata": {
    "execution": {
     "iopub.execute_input": "2021-03-22T02:48:31.266078Z",
     "iopub.status.busy": "2021-03-22T02:48:31.265079Z",
     "iopub.status.idle": "2021-03-22T02:48:31.272667Z",
     "shell.execute_reply": "2021-03-22T02:48:31.273127Z"
    },
    "papermill": {
     "duration": 0.069509,
     "end_time": "2021-03-22T02:48:31.273328",
     "exception": false,
     "start_time": "2021-03-22T02:48:31.203819",
     "status": "completed"
    },
    "tags": []
   },
   "outputs": [
    {
     "data": {
      "text/plain": [
       "0        A5\n",
       "1        PC\n",
       "2    STONO2\n",
       "3         X\n",
       "4         X\n",
       "Name: Ticket, dtype: object"
      ]
     },
     "execution_count": 43,
     "metadata": {},
     "output_type": "execute_result"
    }
   ],
   "source": [
    "dataset[\"Ticket\"] = Ticket\n",
    "dataset[\"Ticket\"].head()"
   ]
  },
  {
   "cell_type": "code",
   "execution_count": 44,
   "metadata": {
    "execution": {
     "iopub.execute_input": "2021-03-22T02:48:31.393478Z",
     "iopub.status.busy": "2021-03-22T02:48:31.392506Z",
     "iopub.status.idle": "2021-03-22T02:48:31.401545Z",
     "shell.execute_reply": "2021-03-22T02:48:31.402019Z"
    },
    "papermill": {
     "duration": 0.07083,
     "end_time": "2021-03-22T02:48:31.402222",
     "exception": false,
     "start_time": "2021-03-22T02:48:31.331392",
     "status": "completed"
    },
    "tags": []
   },
   "outputs": [],
   "source": [
    "dataset = pd.get_dummies(dataset, columns=['Ticket'], prefix = 'Tkt')"
   ]
  },
  {
   "cell_type": "code",
   "execution_count": 45,
   "metadata": {
    "execution": {
     "iopub.execute_input": "2021-03-22T02:48:31.522429Z",
     "iopub.status.busy": "2021-03-22T02:48:31.521439Z",
     "iopub.status.idle": "2021-03-22T02:48:31.535013Z",
     "shell.execute_reply": "2021-03-22T02:48:31.535513Z"
    },
    "papermill": {
     "duration": 0.075388,
     "end_time": "2021-03-22T02:48:31.535706",
     "exception": false,
     "start_time": "2021-03-22T02:48:31.460318",
     "status": "completed"
    },
    "tags": []
   },
   "outputs": [],
   "source": [
    "dataset['Pclass'] = dataset['Pclass'].astype('category')\n",
    "dataset['Pclass'] = pd.get_dummies(dataset, columns = ['Pclass'], prefix = 'Pc')"
   ]
  },
  {
   "cell_type": "code",
   "execution_count": 46,
   "metadata": {
    "execution": {
     "iopub.execute_input": "2021-03-22T02:48:31.656132Z",
     "iopub.status.busy": "2021-03-22T02:48:31.655111Z",
     "iopub.status.idle": "2021-03-22T02:48:31.661961Z",
     "shell.execute_reply": "2021-03-22T02:48:31.662447Z"
    },
    "papermill": {
     "duration": 0.068746,
     "end_time": "2021-03-22T02:48:31.662636",
     "exception": false,
     "start_time": "2021-03-22T02:48:31.593890",
     "status": "completed"
    },
    "tags": []
   },
   "outputs": [],
   "source": [
    "dataset.drop(labels = ['PassengerId'], axis = 1, inplace = True)"
   ]
  },
  {
   "cell_type": "code",
   "execution_count": 47,
   "metadata": {
    "execution": {
     "iopub.execute_input": "2021-03-22T02:48:31.784818Z",
     "iopub.status.busy": "2021-03-22T02:48:31.783781Z",
     "iopub.status.idle": "2021-03-22T02:48:31.811995Z",
     "shell.execute_reply": "2021-03-22T02:48:31.811364Z"
    },
    "papermill": {
     "duration": 0.090915,
     "end_time": "2021-03-22T02:48:31.812160",
     "exception": false,
     "start_time": "2021-03-22T02:48:31.721245",
     "status": "completed"
    },
    "tags": []
   },
   "outputs": [
    {
     "data": {
      "text/html": [
       "<div>\n",
       "<style scoped>\n",
       "    .dataframe tbody tr th:only-of-type {\n",
       "        vertical-align: middle;\n",
       "    }\n",
       "\n",
       "    .dataframe tbody tr th {\n",
       "        vertical-align: top;\n",
       "    }\n",
       "\n",
       "    .dataframe thead th {\n",
       "        text-align: right;\n",
       "    }\n",
       "</style>\n",
       "<table border=\"1\" class=\"dataframe\">\n",
       "  <thead>\n",
       "    <tr style=\"text-align: right;\">\n",
       "      <th></th>\n",
       "      <th>Survived</th>\n",
       "      <th>Pclass</th>\n",
       "      <th>Sex</th>\n",
       "      <th>Age</th>\n",
       "      <th>SibSp</th>\n",
       "      <th>Parch</th>\n",
       "      <th>Fare</th>\n",
       "      <th>Cabin</th>\n",
       "      <th>Fsize</th>\n",
       "      <th>Single</th>\n",
       "      <th>...</th>\n",
       "      <th>Tkt_SOTONO2</th>\n",
       "      <th>Tkt_SOTONOQ</th>\n",
       "      <th>Tkt_SP</th>\n",
       "      <th>Tkt_STONO</th>\n",
       "      <th>Tkt_STONO2</th>\n",
       "      <th>Tkt_STONOQ</th>\n",
       "      <th>Tkt_SWPP</th>\n",
       "      <th>Tkt_WC</th>\n",
       "      <th>Tkt_WEP</th>\n",
       "      <th>Tkt_X</th>\n",
       "    </tr>\n",
       "  </thead>\n",
       "  <tbody>\n",
       "    <tr>\n",
       "      <th>0</th>\n",
       "      <td>0.0</td>\n",
       "      <td>1.0</td>\n",
       "      <td>0.0</td>\n",
       "      <td>22.0</td>\n",
       "      <td>1.0</td>\n",
       "      <td>0.0</td>\n",
       "      <td>1.981001</td>\n",
       "      <td>NaN</td>\n",
       "      <td>2.0</td>\n",
       "      <td>0</td>\n",
       "      <td>...</td>\n",
       "      <td>0</td>\n",
       "      <td>0</td>\n",
       "      <td>0</td>\n",
       "      <td>0</td>\n",
       "      <td>0</td>\n",
       "      <td>0</td>\n",
       "      <td>0</td>\n",
       "      <td>0</td>\n",
       "      <td>0</td>\n",
       "      <td>0</td>\n",
       "    </tr>\n",
       "    <tr>\n",
       "      <th>1</th>\n",
       "      <td>1.0</td>\n",
       "      <td>2.0</td>\n",
       "      <td>1.0</td>\n",
       "      <td>38.0</td>\n",
       "      <td>1.0</td>\n",
       "      <td>0.0</td>\n",
       "      <td>4.266662</td>\n",
       "      <td>C85</td>\n",
       "      <td>2.0</td>\n",
       "      <td>0</td>\n",
       "      <td>...</td>\n",
       "      <td>0</td>\n",
       "      <td>0</td>\n",
       "      <td>0</td>\n",
       "      <td>0</td>\n",
       "      <td>0</td>\n",
       "      <td>0</td>\n",
       "      <td>0</td>\n",
       "      <td>0</td>\n",
       "      <td>0</td>\n",
       "      <td>0</td>\n",
       "    </tr>\n",
       "    <tr>\n",
       "      <th>2</th>\n",
       "      <td>1.0</td>\n",
       "      <td>3.0</td>\n",
       "      <td>1.0</td>\n",
       "      <td>26.0</td>\n",
       "      <td>0.0</td>\n",
       "      <td>0.0</td>\n",
       "      <td>2.070022</td>\n",
       "      <td>NaN</td>\n",
       "      <td>1.0</td>\n",
       "      <td>1</td>\n",
       "      <td>...</td>\n",
       "      <td>0</td>\n",
       "      <td>0</td>\n",
       "      <td>0</td>\n",
       "      <td>0</td>\n",
       "      <td>1</td>\n",
       "      <td>0</td>\n",
       "      <td>0</td>\n",
       "      <td>0</td>\n",
       "      <td>0</td>\n",
       "      <td>0</td>\n",
       "    </tr>\n",
       "    <tr>\n",
       "      <th>3</th>\n",
       "      <td>1.0</td>\n",
       "      <td>4.0</td>\n",
       "      <td>1.0</td>\n",
       "      <td>35.0</td>\n",
       "      <td>1.0</td>\n",
       "      <td>0.0</td>\n",
       "      <td>3.972177</td>\n",
       "      <td>C123</td>\n",
       "      <td>2.0</td>\n",
       "      <td>0</td>\n",
       "      <td>...</td>\n",
       "      <td>0</td>\n",
       "      <td>0</td>\n",
       "      <td>0</td>\n",
       "      <td>0</td>\n",
       "      <td>0</td>\n",
       "      <td>0</td>\n",
       "      <td>0</td>\n",
       "      <td>0</td>\n",
       "      <td>0</td>\n",
       "      <td>1</td>\n",
       "    </tr>\n",
       "    <tr>\n",
       "      <th>4</th>\n",
       "      <td>0.0</td>\n",
       "      <td>5.0</td>\n",
       "      <td>0.0</td>\n",
       "      <td>35.0</td>\n",
       "      <td>0.0</td>\n",
       "      <td>0.0</td>\n",
       "      <td>2.085672</td>\n",
       "      <td>NaN</td>\n",
       "      <td>1.0</td>\n",
       "      <td>1</td>\n",
       "      <td>...</td>\n",
       "      <td>0</td>\n",
       "      <td>0</td>\n",
       "      <td>0</td>\n",
       "      <td>0</td>\n",
       "      <td>0</td>\n",
       "      <td>0</td>\n",
       "      <td>0</td>\n",
       "      <td>0</td>\n",
       "      <td>0</td>\n",
       "      <td>1</td>\n",
       "    </tr>\n",
       "  </tbody>\n",
       "</table>\n",
       "<p>5 rows × 59 columns</p>\n",
       "</div>"
      ],
      "text/plain": [
       "   Survived Pclass  Sex   Age  SibSp  Parch      Fare Cabin  Fsize  Single  \\\n",
       "0       0.0    1.0  0.0  22.0    1.0    0.0  1.981001   NaN    2.0       0   \n",
       "1       1.0    2.0  1.0  38.0    1.0    0.0  4.266662   C85    2.0       0   \n",
       "2       1.0    3.0  1.0  26.0    0.0    0.0  2.070022   NaN    1.0       1   \n",
       "3       1.0    4.0  1.0  35.0    1.0    0.0  3.972177  C123    2.0       0   \n",
       "4       0.0    5.0  0.0  35.0    0.0    0.0  2.085672   NaN    1.0       1   \n",
       "\n",
       "   ...  Tkt_SOTONO2  Tkt_SOTONOQ  Tkt_SP  Tkt_STONO  Tkt_STONO2  Tkt_STONOQ  \\\n",
       "0  ...            0            0       0          0           0           0   \n",
       "1  ...            0            0       0          0           0           0   \n",
       "2  ...            0            0       0          0           1           0   \n",
       "3  ...            0            0       0          0           0           0   \n",
       "4  ...            0            0       0          0           0           0   \n",
       "\n",
       "   Tkt_SWPP  Tkt_WC  Tkt_WEP  Tkt_X  \n",
       "0         0       0        0      0  \n",
       "1         0       0        0      0  \n",
       "2         0       0        0      0  \n",
       "3         0       0        0      1  \n",
       "4         0       0        0      1  \n",
       "\n",
       "[5 rows x 59 columns]"
      ]
     },
     "execution_count": 47,
     "metadata": {},
     "output_type": "execute_result"
    }
   ],
   "source": [
    "dataset.head()"
   ]
  },
  {
   "cell_type": "code",
   "execution_count": 48,
   "metadata": {
    "execution": {
     "iopub.execute_input": "2021-03-22T02:48:31.938967Z",
     "iopub.status.busy": "2021-03-22T02:48:31.938200Z",
     "iopub.status.idle": "2021-03-22T02:48:31.942305Z",
     "shell.execute_reply": "2021-03-22T02:48:31.941653Z"
    },
    "papermill": {
     "duration": 0.070191,
     "end_time": "2021-03-22T02:48:31.942449",
     "exception": false,
     "start_time": "2021-03-22T02:48:31.872258",
     "status": "completed"
    },
    "tags": []
   },
   "outputs": [],
   "source": [
    "train = dataset[:train_len]\n",
    "test = dataset[train_len:]\n",
    "test.drop(labels = ['Survived'], axis = 1, inplace = True)"
   ]
  },
  {
   "cell_type": "code",
   "execution_count": 49,
   "metadata": {
    "execution": {
     "iopub.execute_input": "2021-03-22T02:48:32.069182Z",
     "iopub.status.busy": "2021-03-22T02:48:32.068447Z",
     "iopub.status.idle": "2021-03-22T02:48:32.071891Z",
     "shell.execute_reply": "2021-03-22T02:48:32.071381Z"
    },
    "papermill": {
     "duration": 0.070005,
     "end_time": "2021-03-22T02:48:32.072047",
     "exception": false,
     "start_time": "2021-03-22T02:48:32.002042",
     "status": "completed"
    },
    "tags": []
   },
   "outputs": [],
   "source": [
    "train['Survived'] = train['Survived'].astype(int)\n",
    "Y_train = train['Survived']\n",
    "X_train = train.drop(labels = ['Survived'], axis = 1)"
   ]
  },
  {
   "cell_type": "code",
   "execution_count": 50,
   "metadata": {
    "execution": {
     "iopub.execute_input": "2021-03-22T02:48:32.197276Z",
     "iopub.status.busy": "2021-03-22T02:48:32.196574Z",
     "iopub.status.idle": "2021-03-22T02:48:32.199301Z",
     "shell.execute_reply": "2021-03-22T02:48:32.199898Z"
    },
    "papermill": {
     "duration": 0.0672,
     "end_time": "2021-03-22T02:48:32.200069",
     "exception": false,
     "start_time": "2021-03-22T02:48:32.132869",
     "status": "completed"
    },
    "tags": []
   },
   "outputs": [],
   "source": [
    "kfold = StratifiedKFold(n_splits= 10)"
   ]
  },
  {
   "cell_type": "code",
   "execution_count": 51,
   "metadata": {
    "execution": {
     "iopub.execute_input": "2021-03-22T02:48:32.322564Z",
     "iopub.status.busy": "2021-03-22T02:48:32.321950Z",
     "iopub.status.idle": "2021-03-22T02:48:32.326102Z",
     "shell.execute_reply": "2021-03-22T02:48:32.326602Z"
    },
    "papermill": {
     "duration": 0.066861,
     "end_time": "2021-03-22T02:48:32.326780",
     "exception": false,
     "start_time": "2021-03-22T02:48:32.259919",
     "status": "completed"
    },
    "tags": []
   },
   "outputs": [],
   "source": [
    "random_state = 2\n",
    "classifiers = []\n",
    "classifiers.append(SVC(random_state = random_state))"
   ]
  },
  {
   "cell_type": "code",
   "execution_count": 52,
   "metadata": {
    "execution": {
     "iopub.execute_input": "2021-03-22T02:48:32.450136Z",
     "iopub.status.busy": "2021-03-22T02:48:32.449358Z",
     "iopub.status.idle": "2021-03-22T02:48:34.534136Z",
     "shell.execute_reply": "2021-03-22T02:48:34.534916Z"
    },
    "papermill": {
     "duration": 2.148196,
     "end_time": "2021-03-22T02:48:34.535116",
     "exception": false,
     "start_time": "2021-03-22T02:48:32.386920",
     "status": "completed"
    },
    "tags": []
   },
   "outputs": [],
   "source": [
    "cv_results = []\n",
    "for classifier in classifiers:\n",
    "    cv_results.append(cross_val_score(classifier, X_train, y =Y_train, scoring = 'accuracy', cv=kfold, n_jobs =4))\n",
    "\n",
    "cv_means = []\n",
    "cv_std = []\n",
    "\n",
    "for cv_result in cv_results:\n",
    "    cv_means.append(cv_result.mean())\n",
    "    cv_std.append(cv_result.std())\n",
    "    \n",
    "    \n",
    "cv_res = pd.DataFrame({\"CrossValMeans\":cv_means,\"CrossValerrors\": cv_std,\"Algorithm\":[\"SVC\"]})\n"
   ]
  },
  {
   "cell_type": "code",
   "execution_count": 53,
   "metadata": {
    "execution": {
     "iopub.execute_input": "2021-03-22T02:48:34.659441Z",
     "iopub.status.busy": "2021-03-22T02:48:34.658377Z",
     "iopub.status.idle": "2021-03-22T02:48:34.798172Z",
     "shell.execute_reply": "2021-03-22T02:48:34.798657Z"
    },
    "papermill": {
     "duration": 0.20343,
     "end_time": "2021-03-22T02:48:34.798837",
     "exception": false,
     "start_time": "2021-03-22T02:48:34.595407",
     "status": "completed"
    },
    "tags": []
   },
   "outputs": [
    {
     "data": {
      "image/png": "[encoded data removed]",
      "text/plain": [
       "<Figure size 432x288 with 1 Axes>"
      ]
     },
     "metadata": {},
     "output_type": "display_data"
    }
   ],
   "source": [
    "f = sns.barplot('CrossValMeans', data = cv_res)"
   ]
  },
  {
   "cell_type": "code",
   "execution_count": null,
   "metadata": {
    "papermill": {
     "duration": 0.05965,
     "end_time": "2021-03-22T02:48:34.919107",
     "exception": false,
     "start_time": "2021-03-22T02:48:34.859457",
     "status": "completed"
    },
    "tags": []
   },
   "outputs": [],
   "source": []
  }
 ],
 "metadata": {
  "kernelspec": {
   "display_name": "Python 3",
   "language": "python",
   "name": "python3"
  },
  "language_info": {
   "codemirror_mode": {
    "name": "ipython",
    "version": 3
   },
   "file_extension": ".py",
   "mimetype": "text/x-python",
   "name": "python",
   "nbconvert_exporter": "python",
   "pygments_lexer": "ipython3",
   "version": "3.7.9"
  },
  "papermill": {
   "default_parameters": {},
   "duration": 25.945284,
   "end_time": "2021-03-22T02:48:35.992107",
   "environment_variables": {},
   "exception": null,
   "input_path": "__notebook__.ipynb",
   "output_path": "__notebook__.ipynb",
   "parameters": {},
   "start_time": "2021-03-22T02:48:10.046823",
   "version": "2.2.2"
  }
 },
 "nbformat": 4,
 "nbformat_minor": 4
}
