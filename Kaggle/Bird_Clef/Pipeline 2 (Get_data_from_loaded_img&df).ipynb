{
 "cells": [
  {
   "cell_type": "code",
   "execution_count": null,
   "metadata": {},
   "outputs": [],
   "source": [
    "###############################################\n",
    "'''\n",
    "                 PIPE LINE 2.0\n",
    "                 Data 불러오기\n",
    "  melspec computing 후 저장한 Label_IDS.json 과\n",
    "        rich_train_meta.csv 불러오기\n",
    "        \n",
    "            dataset으로 저장\n",
    "                                              '''\n",
    "###############################################\n",
    "\n",
    "\n",
    "''' \n",
    "    \n",
    "\n",
    "\n",
    "\n",
    "\n",
    "'''\n"
   ]
  },
  {
   "cell_type": "code",
   "execution_count": 4,
   "metadata": {},
   "outputs": [],
   "source": [
    "import numpy as np\n",
    "import librosa as lb\n",
    "import librosa.display as lbd\n",
    "import soundfile as sf\n",
    "from  soundfile import SoundFile\n",
    "import pandas as pd\n",
    "from  IPython.display import Audio\n",
    "from pathlib import Path\n",
    "\n",
    "import torch\n",
    "from torch import nn, optim\n",
    "from  torch.utils.data import Dataset, DataLoader\n",
    "import torchvision.models as models\n",
    "\n",
    "from matplotlib import pyplot as plt\n",
    "\n",
    "import os, random, gc\n",
    "import re, time, json\n",
    "from  ast import literal_eval\n",
    "\n",
    "\n",
    "from IPython.display import Audio\n",
    "from sklearn.metrics import label_ranking_average_precision_score\n",
    "\n",
    "from tqdm.notebook import tqdm\n",
    "import joblib\n",
    "\n",
    "import pretrainedmodels\n",
    "\n",
    "from sklearn.model_selection import StratifiedKFold\n"
   ]
  },
  {
   "cell_type": "code",
   "execution_count": 5,
   "metadata": {},
   "outputs": [],
   "source": [
    "import sys\n",
    "sys.path.append('../input/timm-pytorch-image-models/pytorch-image-models-master')\n",
    "import timm  ##다양한 model들 있는 라이브러리"
   ]
  },
  {
   "cell_type": "code",
   "execution_count": 6,
   "metadata": {},
   "outputs": [
    {
     "data": {
      "text/plain": [
       "'cuda'"
      ]
     },
     "execution_count": 6,
     "metadata": {},
     "output_type": "execute_result"
    }
   ],
   "source": [
    "device = 'cuda' if torch.cuda.is_available else 'cpu'\n",
    "device"
   ]
  },
  {
   "cell_type": "code",
   "execution_count": 7,
   "metadata": {},
   "outputs": [],
   "source": [
    "##################\n",
    "## Seed Setting ##\n",
    "##################\n",
    "\n",
    "def make_seed(seed = 499):\n",
    "    random.seed(seed)\n",
    "    np.random.seed(seed)\n",
    "    torch.manual_seed(seed)\n",
    "    torch.cuda.manual_seed(seed)\n",
    "    torch.backends.cudnn.deterministic = True\n",
    "    os.environ['PYTHONHASHSEED'] = str(seed)\n",
    "    \n",
    "make_seed()\n",
    "\n",
    "Num_classes = 397 ##label할 classes 갯수(ex 새 종류)\n",
    "SR = 32000 #sampling rate\n",
    "Duration = 7 #time\n",
    "seed = 599\n",
    "n_splits = 5"
   ]
  },
  {
   "cell_type": "code",
   "execution_count": 8,
   "metadata": {},
   "outputs": [
    {
     "name": "stdout",
     "output_type": "stream",
     "text": [
      "['audio_images', 'Label_IDS.json', 'Label_IDS_0.json', 'resnet152_sr32000_d7_v1_v1', 'resnext_sr32000_d7_v1_v1', 'rich_train_metadata.csv', 'rich_train_metadata_0.csv', 'sample_submission.csv', 'test.csv', 'test_soundscapes', 'train_metadata.csv', 'train_short_audio', 'train_soundscapes', 'train_soundscape_labels.csv']\n"
     ]
    }
   ],
   "source": [
    "#################\n",
    "## Path manage ##\n",
    "#################\n",
    "\n",
    "Root_Path = '/Users/ansgh/PycharmProjects/kaggle_notebook/input/birdclef-2021'\n",
    "\n",
    "Train_short_root = Path(Root_Path + str('/train_short_audio'))\n",
    "Train_metadata_root = Path(Root_Path + str('/train_metadata.csv'))\n",
    "\n",
    "Train_audio_image_save_root = Path(Root_Path + str('/audio_images'))\n",
    "Train_audio_image_save_root.mkdir(exist_ok=True, parents=True)\n",
    "\n",
    "## File 내부 확인 \n",
    "file_list = os.listdir(Root_Path)\n",
    "print(file_list)\n",
    "\n",
    "\n",
    "###\n",
    "##  Mel 이미지를 만들었으니 이제는 train이랑 model 만들어야함\n",
    "###\n",
    "\n",
    "## df.to_csv(Root_Path + '/rich_train_metadata.csv', index=True) 있었음\n",
    "\n",
    "Rich_train_path = Path(Root_Path + '/rich_train_metadata.csv')\n",
    "Train_label_paths = Path(Root_Path + '/Label_IDS.json')\n",
    "MODEL_ROOT = Path(\".\") ##save 할때 씀\n",
    "\n",
    "# 만약 n개로 쪼개진 파일이라면(파일이름이 d-part1, d-part2, d-part3 등으로 돼 있다면)\n",
    "# Rich_train_path = sorted(Path(\"블라블라/d-part?./rich_train_metadata.csv\")) 로 읽고\n",
    "# get_df에서 for path in file_path 로 하나씩 읽으면 됨. d-part?랑 sorted 때문에 iter 사용가능"
   ]
  },
  {
   "cell_type": "code",
   "execution_count": 9,
   "metadata": {},
   "outputs": [
    {
     "data": {
      "text/plain": [
       "\" n개로 쪼개진 파일일때 예시\\n\\ndef get_df(file_path = Rich_train_path, label_path = Train_label_paths):\\n    \\n    df = None  #빈 df 생성\\n    Label_IDS = {}  #빈 label 생성\\n    \\n    for path in file_paths:\\n        temp = pd.read_csv(str(file_path), index_col = 0)\\n        temp['impath'] = temp.apply(lambda row: file_path.parent/'audio_images/{}/{}.npy'.format(row.primary_label, row.filename), axis=1)\\n        \\n        df = temp if df is None else df.append(temp)\\n        \\n        \\n        df['secondary_labels'] = df['secondary_labels'].apply(literal_eval) ## 예를들어 second_label에 ['amegfi'] 를 [amegfi] 로 바꿔줌\\n        \\n    for path in label_path:\\n        with open(str(path)) as f:\\n            Label_IDS.update(json.load(f))\\n                \\n    return Label_IDS, df\\n\\n\""
      ]
     },
     "execution_count": 9,
     "metadata": {},
     "output_type": "execute_result"
    }
   ],
   "source": [
    "#####################################\n",
    "##   저장된 Data Frame 불러와서    ##\n",
    "##    impath 맨 뒤에 붙이기        ##\n",
    "##    make_df도 있음 초반부에      ##\n",
    "#####################################\n",
    "## get_df 에서 학습용 df 전처리 하는게 유리할것. (df.rating이 일정이하면 학습에 안쓰겠다 등등)\n",
    "\n",
    "def get_df(file_path = Rich_train_path, label_path = Train_label_paths):\n",
    "    \n",
    "    df = None  #빈 df 생성\n",
    "    Label_IDS = {}  #빈 label 생성\n",
    "    \n",
    "    \n",
    "    temp = pd.read_csv(str(file_path), index_col = False) ##index_col = False면 column을 index로 안쓰고 순서대로 index부여\n",
    "    \n",
    "    temp['impath'] = temp.apply(lambda row: file_path.parent/'audio_images/{}/{}.npy'.format(row.primary_label, row.filename), axis=1)\n",
    "    #impath = sound_path + audio_images + primary_label + filename 으로 불러오겠다\n",
    "        \n",
    "    df = temp if df is None else df.append(temp)\n",
    "        \n",
    "        \n",
    "    df['secondary_labels'] = df['secondary_labels'].apply(literal_eval) ## 예를들어 second_label에 ['amegfi'] 를 [amegfi] 로 바꿔줌\n",
    "        \n",
    "    \n",
    "    with open(str(label_path)) as f:\n",
    "        Label_IDS.update(json.load(f))\n",
    "                \n",
    "    return Label_IDS, df\n",
    "\n",
    "\n",
    "\n",
    "\n",
    "''' n개로 쪼개진 파일일때 예시\n",
    "\n",
    "def get_df(file_path = Rich_train_path, label_path = Train_label_paths):\n",
    "    \n",
    "    df = None  #빈 df 생성\n",
    "    Label_IDS = {}  #빈 label 생성\n",
    "    \n",
    "    for path in file_paths:\n",
    "        temp = pd.read_csv(str(file_path), index_col = 0)\n",
    "        temp['impath'] = temp.apply(lambda row: file_path.parent/'audio_images/{}/{}.npy'.format(row.primary_label, row.filename), axis=1)\n",
    "        \n",
    "        df = temp if df is None else df.append(temp)\n",
    "        \n",
    "        \n",
    "        df['secondary_labels'] = df['secondary_labels'].apply(literal_eval) ## 예를들어 second_label에 ['amegfi'] 를 [amegfi] 로 바꿔줌\n",
    "        \n",
    "    for path in label_path:\n",
    "        with open(str(path)) as f:\n",
    "            Label_IDS.update(json.load(f))\n",
    "                \n",
    "    return Label_IDS, df\n",
    "\n",
    "'''"
   ]
  },
  {
   "cell_type": "code",
   "execution_count": 12,
   "metadata": {},
   "outputs": [],
   "source": [
    "Lable_IDS, df = get_df()"
   ]
  },
  {
   "cell_type": "code",
   "execution_count": 14,
   "metadata": {},
   "outputs": [],
   "source": [
    "#########################################\n",
    "##   불러온 Data Frame 에 맞는         ##\n",
    "##    impath에 해당하는 npy 불러와서   ##\n",
    "##        dic으로 매칭                 ##\n",
    "#########################################\n",
    "\n",
    "Max_read_samples = 5 #메모리 아끼려고 5개만 불러오자 ##load_row에서 return row.filename, np.load(str(row.impath))[:MAX_READ_SAMPLES] 사용\n",
    "def load_data(df):\n",
    "    \n",
    "    '''''''''''' ##여기 수정해서 row 받을때 quality 좋은것만 받을것\n",
    "    \n",
    "    def load_row(row):\n",
    "        # filename = .ogg,  impath = .npy\n",
    "        return row.filename, np.load(str(row.impath))\n",
    "    \n",
    "    \n",
    "    pool = joblib.Parallel(4) #병렬처리\n",
    "    mapper = joblib.delayed(load_row)\n",
    "    tasks = [mapper(row) for row in df.itertuples(False)]\n",
    "    res = pool(tqdm(tasks))\n",
    "    res = dict(res)\n",
    "    \n",
    "    return res"
   ]
  },
  {
   "cell_type": "code",
   "execution_count": 15,
   "metadata": {},
   "outputs": [
    {
     "data": {
      "application/vnd.jupyter.widget-view+json": {
       "model_id": "479723f83910412c82f167baa4008d93",
       "version_major": 2,
       "version_minor": 0
      },
      "text/plain": [
       "  0%|          | 0/62874 [00:00<?, ?it/s]"
      ]
     },
     "metadata": {},
     "output_type": "display_data"
    }
   ],
   "source": [
    "## filename이랑 음성.npy랑 dic 타입으로 저장\n",
    "audio_image_store = load_data(df)"
   ]
  },
  {
   "cell_type": "code",
   "execution_count": 16,
   "metadata": {},
   "outputs": [
    {
     "data": {
      "text/plain": [
       "62874"
      ]
     },
     "execution_count": 16,
     "metadata": {},
     "output_type": "execute_result"
    }
   ],
   "source": [
    "## audio_image가 잘 저장됐는지 확인(길이로 대강만 보자 일단)\n",
    "len(audio_image_store)"
   ]
  },
  {
   "cell_type": "code",
   "execution_count": 17,
   "metadata": {},
   "outputs": [],
   "source": [
    "###################################\n",
    "##        Dataset 만들기          ##\n",
    "##    numpy 3층으로 image 쌓고    ##\n",
    "##     label은  smoothing 해서    ##\n",
    "##         image, label 반환      ##\n",
    "####################################\n",
    "\n",
    "class BirdClefDataset(Dataset):\n",
    "    \n",
    "    def __init__(self, audio_image_store, meta, sr=SR, is_train=True, num_classes=Num_classes, duration=Duration):\n",
    "        \n",
    "        self.audio_image_store = audio_image_store ##audio np array랑 filename 저장된 dic\n",
    "        self.meta = meta.copy().reset_index(drop=True) ##meta는 df\n",
    "        self.sr = sr\n",
    "        self.is_train = is_train\n",
    "        self.num_classes = num_classes\n",
    "        self.duration = duration\n",
    "        self.audio_length = self.duration * self.sr\n",
    "        \n",
    "    \n",
    "    def normalize(self, image):\n",
    "        image = image.astype('float32', copy=False) / 255.0\n",
    "        image = np.stack([image, image, image])\n",
    "        return image\n",
    "    \n",
    "    def __len__(self):\n",
    "        return len(self.meta)\n",
    "    \n",
    "    \n",
    "    def find_mid_img(self, image):\n",
    "        list = []\n",
    "        for i in range(len(image)):\n",
    "            list.append(image[i].sum())\n",
    "        \n",
    "        list = sorted(list)\n",
    "        list[len(image)//2]\n",
    "    \n",
    "        for i in range(len(image)):\n",
    "            list[i] == image[i].sum()\n",
    "            return image[i]\n",
    "    \n",
    "    \n",
    "    \n",
    "    ##이 dataset의 단점이 있는 파트\n",
    "    def __getitem__(self, idx):\n",
    "        row = self.meta.iloc[idx]  #df에서 데이터 하나 불러옴\n",
    "        image = self.audio_image_store[row.filename] #불러온 데이터의 filename으로 audio_image_store에서 image에 해당하는 np array 받아서 image에 저장\n",
    "        \n",
    "        \n",
    "        #방법 1\n",
    "        #image에 저장된 np array는 (x, 128, 281)로써, 음성(.ogg)가 25초라면 7초씩 저장했으므로 x==4, 이미지크기==128,281 이라는 뜻. len(image)는 맨 앞 x를 반환한다.\n",
    "        #즉 윗줄이 뜻하는 것은 AudioToImage 클래스로 image에 저장시킨 7초짜리 x개의 영상중 랜덤으로 하나만 쓰겠다는 뜻이다.\n",
    "        #이것은 단점이 되는데 만약 랜덤하게 뽑은 음성이 표본을 제대로 반영하지 못할수 있기 때문이다.\n",
    "        image = image[np.random.choice(len(image))] \n",
    "        \n",
    "        \n",
    "        #방법2\n",
    "        # 랜덤하게 안뽑고 이미지 중에서 노이즈는 상수라고 쳤을때 신호가 있으면 값이 더 커질것.\n",
    "        # 따라서 중간값 혹은 최댓값을 갖게 뽑아서 써보자\n",
    "        ##image = self.find_mid_img(image)\n",
    "        \n",
    "        \n",
    "        image = self.normalize(image)\n",
    "        \n",
    "        ## Label smoothing. 해당 라벨은 0.995, 나머지는 0.0025로 초기화\n",
    "        t = np.zeros(self.num_classes, dtype=np.float32) + 0.0025 \n",
    "        t[row.label_id] = 0.995\n",
    "        \n",
    "        return image, t"
   ]
  },
  {
   "cell_type": "code",
   "execution_count": 18,
   "metadata": {},
   "outputs": [],
   "source": [
    "dataset = BirdClefDataset(audio_image_store, meta=df, sr=SR, duration=Duration, is_train=True)"
   ]
  },
  {
   "cell_type": "code",
   "execution_count": 19,
   "metadata": {},
   "outputs": [
    {
     "data": {
      "text/plain": [
       "<matplotlib.collections.QuadMesh at 0x178b2705520>"
      ]
     },
     "execution_count": 19,
     "metadata": {},
     "output_type": "execute_result"
    },
    {
     "data": {
      "image/png": "[encoded data removed]",
      "text/plain": [
       "<Figure size 432x288 with 1 Axes>"
      ]
     },
     "metadata": {},
     "output_type": "display_data"
    }
   ],
   "source": [
    "#만든 dataset 확인하기\n",
    "\n",
    "x, y = dataset[np.random.choice(len(dataset))] #random으로 ds에서 하나 받아오기\n",
    "x.shape, y.shape, np.where(y>=0.5) # x는 3층(image, image, image), y는 label, np.where은 하나뽑은 녀석이 label에서 몇번에 등록된 해당하는지\n",
    "lbd.specshow(x[0])"
   ]
  },
  {
   "cell_type": "code",
   "execution_count": null,
   "metadata": {},
   "outputs": [],
   "source": []
  },
  {
   "cell_type": "code",
   "execution_count": null,
   "metadata": {},
   "outputs": [],
   "source": [
    "###############################################\n",
    "'''\n",
    "                 PIPE LINE 2.5\n",
    "          Training, evaluate 모델 만들기\n",
    "                                              '''\n",
    "###############################################\n",
    "\n",
    "\n",
    "''' 1 train == x fold (x == 데이터셋 쪼갠 수,, 예 k fold)\n",
    "    1 fold  == x epochs (x == 반복학습 수)\n",
    "    1 epoch == x step(x는 dataset에서 학습해야되는 step수)'''\n",
    "\n",
    "'''\n",
    "    net (model) 정의 블럭 -> get_model\n",
    "    get_model 호출 블럭 -> one fold\n",
    "    criterion 정의 블럭 -> one_fold\n",
    "    scheduler 정의 -> one fold\n",
    "    data_loader 정의 -> one fold\n",
    "    \n",
    "    \n",
    "    epoch 설정 -> train\n",
    "    n_split 설정 -> split\n",
    "'''\n",
    "\n"
   ]
  },
  {
   "cell_type": "code",
   "execution_count": 20,
   "metadata": {},
   "outputs": [],
   "source": [
    "## Fold 계산 후 값을 저장하기 위한 autosave\n",
    "class AutoSave:\n",
    "    def __init__(self, top_k=2, metric='f1', mode='min', root=None, name='ckpt'):\n",
    "        self.top_k = top_k\n",
    "        self.logs = []\n",
    "        self.metric = metric\n",
    "        self.mode = mode\n",
    "        self.root = Path(root or Root_Path)\n",
    "        assert self.root.exists()\n",
    "        self.name = name\n",
    "        \n",
    "        self.top_models = []\n",
    "        self.top_metrics = []\n",
    "    \n",
    "    def rank(self, val):\n",
    "        r = -1\n",
    "        for top_val in self.top_metrics:\n",
    "            if val <= top_val:\n",
    "                return r\n",
    "            r += 1\n",
    "            \n",
    "        return r\n",
    "    \n",
    "    def log(self, model, metrics):\n",
    "        metric = metrics[self.metric] #list에 f1 저장\n",
    "        rank = self.rank(metric) #성능(f1) 레이팅\n",
    "        \n",
    "        self.top_metrics.insert(rank+1, metric) \n",
    "        if len(self.top_metrics) > self.top_k:\n",
    "            self.top_metrics.pop(0)\n",
    "            \n",
    "        self.logs.append(metrics)\n",
    "        self.save(model, metric, rank, metrics['epoch'])\n",
    "        \n",
    "    def save(self, model, metric, rank, epoch):\n",
    "        t = time.strftime(\"%Y%m%d%H%M%S\")\n",
    "        name = \"{}_epoch_{:02d}_{}_{:.04f}_{}\".format(self.name, epoch, self.metric, metric, t)\n",
    "        name = re.sub(r\"[^\\w_-]\", \"\", name) + \".pth\"\n",
    "        path = self.root.joinpath(name)\n",
    "        \n",
    "        old_model = None\n",
    "        self.top_models.insert(rank+1, name)\n",
    "        if len(self.top_models) > self.top_k:\n",
    "            old_model = self.root.joinpath(self.top_models[0])\n",
    "            self.top_models.pop(0)\n",
    "            \n",
    "        torch.save(model.state_dict(), path.as_posix())\n",
    "        \n",
    "        if old_model is not None:\n",
    "            old_model.unlink()\n",
    "        self.to_json()\n",
    "        \n",
    "        \n",
    "        \n",
    "    def to_json(self):\n",
    "        name = \"{}_logs\".format(self.name)\n",
    "        name = re.sub(r\"[^\\w_-]\", \"\", name) + \".json\"\n",
    "        path = self.root.joinpath(name)\n",
    "\n",
    "        with path.open(\"w\") as f:\n",
    "            json.dump(self.logs, f, indent=2)"
   ]
  },
  {
   "cell_type": "code",
   "execution_count": 21,
   "metadata": {},
   "outputs": [],
   "source": [
    "Train_Batch_Size = 8\n",
    "Train_Num_Workers = 0\n",
    "\n",
    "Val_Batch_Size = 8\n",
    "Val_Num_Workers = 0"
   ]
  },
  {
   "cell_type": "code",
   "execution_count": 22,
   "metadata": {},
   "outputs": [],
   "source": [
    "#############################################\n",
    "##             기본 conv 블럭              ##\n",
    "## 패딩, 노말라이제션, active func 등 묶음 ##\n",
    "#############################################\n",
    "\n",
    "\n",
    "\n",
    "def Convlayer(in_ch, out_ch, kernel_size=3, stride=2, use_leaky = True, use_inst_norm=True, use_pad=True):\n",
    "    \n",
    "    if use_pad:\n",
    "        conv = nn.Conv2d(in_ch, out_ch, kernel_size, stride, 1, bias=True)\n",
    "    else:\n",
    "        conv = nn.Conv2d(in_ch, out_ch, kernel_size, stride, 0, bias=True)\n",
    "     \n",
    "    \n",
    "    if use_inst_norm:\n",
    "        norm = nn.InstanceNorm2d(out_ch)\n",
    "    else:\n",
    "        norm = nn.BatchNorm2d(out_ch)\n",
    "        \n",
    "        \n",
    "    if use_leaky:\n",
    "        actv = nn.LeakyReLU(negative_slope=0.2, inplace=True)\n",
    "    else:\n",
    "        actv = nn.GELU()\n",
    "    \n",
    "    return nn.Sequential(conv, norm, actv)"
   ]
  },
  {
   "cell_type": "code",
   "execution_count": 23,
   "metadata": {},
   "outputs": [],
   "source": [
    "###############################\n",
    "##          Resblock         ##\n",
    "## 안에 더 deep 하게 가능    ##\n",
    "###############################\n",
    "\n",
    "class Resblock(nn.Module):\n",
    "    def __init__(self, in_features, use_dropout=True, dropout_ratio=0.5):\n",
    "        super().__init__()\n",
    "        models = list()\n",
    "        \n",
    "        models.append(Convlayer(in_features, in_features, 1, 1, use_leaky=True, use_inst_norm=False, use_pad=False))\n",
    "        models.append(nn.ReflectionPad2d(1))\n",
    "        models.append(Convlayer(in_features, in_features, 3, 1, use_leaky=True, use_inst_norm=False, use_pad=False))\n",
    "        models.append(nn.ReflectionPad2d(1))\n",
    "        models.append(Convlayer(in_features, in_features, 3, 1, use_leaky=True, use_inst_norm=False, use_pad=False))\n",
    "        \n",
    "        self.res = nn.Sequential(*models)\n",
    "        \n",
    "    \n",
    "    def forward(self, x):\n",
    "        x = x + self.res(x)\n",
    "        x = F.relu(x)\n",
    "        return x"
   ]
  },
  {
   "cell_type": "code",
   "execution_count": 24,
   "metadata": {},
   "outputs": [],
   "source": [
    "###################################### \n",
    "##         model_name으로부터       ##\n",
    "##        model(==net) 불러옴       ##\n",
    "##     num_classes = label 가짓수   ##\n",
    "######################################\n",
    "\n",
    "def get_model(name, num_classes=Num_classes):\n",
    "    \n",
    "    \n",
    "    if 'resnet' in name: ##resnet 쓰고싶으면\n",
    "        model = torch.hub.load('pytorch/vision:v0.6.0', name, pretrained=True) ##python ver에 따라서 v0.6.0이나 0.9.0 등 고를것\n",
    "        model.fc = nn.Linear(model.fc.in_features, num_classes)\n",
    "        \n",
    "    \n",
    "    elif 'resnext' in name: ## resnext 쓰고싶으면(이게 resnet보다 좋음)\n",
    "        model = models.resnext50_32x4d()\n",
    "        model.fc = nn.Linear(model.fc.in_features, num_classes)\n",
    "\n",
    "        \n",
    "    elif 'efficientnet' in name: ## timm라이브러리에 effnet 말고도 많이 있음)\n",
    "        model = timm.create_model('tf_efficientnet_b7_ns', pretrained = True)\n",
    "        model.classifier = nn.Linear(model.classifier.in_features, num_classes)\n",
    "        \n",
    "    else: ##내가 만든 전용 모델 쓰고싶으면\n",
    "        model = list()\n",
    "        model.append(Resblock(3))\n",
    "        model.append(Convlayer(3, 1, 3, 3, use_leaky=False, use_inst_norm=False, use_pad=False))\n",
    "        model.append(nn.Flatten())\n",
    "        model.append(nn.Linear(3906,397)) ##3906\n",
    "        model = nn.Sequential(*model)\n",
    "    \n",
    "    return model"
   ]
  },
  {
   "cell_type": "code",
   "execution_count": 25,
   "metadata": {},
   "outputs": [],
   "source": [
    "#####################################\n",
    "##           One Step              ##\n",
    "##   train_loader 값을 net에 넣음  ##\n",
    "#####################################\n",
    "\n",
    "def one_step(xb,yb, net, criterion, optimizer, scheduler = None):\n",
    "    \n",
    "    xb, yb = xb.to(device), yb.to(device)\n",
    "    \n",
    "    optimizer.zero_grad()\n",
    "    out = net(xb) # net은 model, 예를들면 resnet\n",
    "    \n",
    "    loss = criterion(out, yb)\n",
    "    loss.backward()\n",
    "    optimizer.step()\n",
    "    \n",
    "    \n",
    "    ## F1 Score 계산\n",
    "    with torch.no_grad():\n",
    "        l = loss.item()\n",
    "        \n",
    "        out = out.sigmoid() ##모델따라서 바꿀것(eval것도 같이 바꿔줘야함)\n",
    "        \n",
    "        yb = (yb > 0.5) * 1.0 ## Label smoothing의 threshold\n",
    "        \n",
    "        lrap = label_ranking_average_precision_score(yb.cpu().numpy(), out.cpu().numpy()) #점수계산용\n",
    "        \n",
    "        out = (out > 0.5) * 1.0\n",
    "        \n",
    "        prec = (out * yb).sum() / (1e-6 + out.sum()) ##precision\n",
    "        rec = (out * yb).sum() / (1e-6 + yb.sum()) ##recall\n",
    "        f1 = 2 * prec * rec/(1e-6+prec+rec) ##F1 score, 조화평균\n",
    "        \n",
    "    \n",
    "    if scheduler is not None:\n",
    "        scheduler.step()\n",
    "        \n",
    "    return l, lrap, f1.item(), rec.item(), prec.item()"
   ]
  },
  {
   "cell_type": "code",
   "execution_count": 26,
   "metadata": {},
   "outputs": [
    {
     "data": {
      "text/plain": [
       "'\\nmodel.eval()에 관하여\\neval은 함수를 그 자체로 실행시켜준다는 뜻이다.\\n즉 model.eval()을 하게 되면 스위치를 꺼버려서 예를들면 dropout, batchnorm 등등을 다 업데이트 안하고\\n그냥 그대로 실행만 하겠다는 뜻이다.\\n\\n그래서 evaluate하는 클래스에서 torch.no_grad() 랑 model.eval()을 같이 쓰는 편임\\n'"
      ]
     },
     "execution_count": 26,
     "metadata": {},
     "output_type": "execute_result"
    }
   ],
   "source": [
    "####################################\n",
    "##           One eval             ##\n",
    "##   val_loader 값을 net에 넣음   ##\n",
    "####################################\n",
    "\n",
    "@torch.no_grad() #함수 데코레이터 ##evaluate를 torch.no_Grad인 상태로 실행하겠다.\n",
    "def evaluate(net, criterion, val_loader):\n",
    "    \n",
    "    net.eval()\n",
    "    outs, y = [], []\n",
    "    \n",
    "    val_loader = tqdm(val_loader, leave=False, total=len(val_loader))\n",
    "    \n",
    "    for icount, (xb, yb) in enumerate(val_loader):\n",
    "        y.append(yb.to(device))\n",
    "        xb = xb.to(device)\n",
    "        out = net(xb)\n",
    "        \n",
    "        outs.append(out)\n",
    "    \n",
    "    \n",
    "    ## y, outs 를 list에서 torch로 변경, 이어붙인후 y, out에 저장    \n",
    "    y = torch.cat(y) \n",
    "    out = torch.cat(outs)\n",
    "    \n",
    "    l = criterion(out, y).item()\n",
    "    out = out.sigmoid() #one_Step의 활성화와 맞출것\n",
    "    \n",
    "    y = (y > 0.5) * 1.0\n",
    "    lrap = label_ranking_average_precision_score(y.cpu().numpy(), out.cpu().numpy())\n",
    "    out = (out>0.5) * 1.0\n",
    "    \n",
    "    \n",
    "    ## F1 Score 계산\n",
    "    prec = ((out*y).sum()/(1e-6 + out.sum())).item()\n",
    "    rec = ((out*y).sum()/(1e-6 + y.sum())).item()\n",
    "    f1 = 2*prec*rec/(1e-6+prec+rec)\n",
    "    \n",
    "    return l, lrap, f1, rec, prec\n",
    "\n",
    "\n",
    "\n",
    "'''\n",
    "model.eval()에 관하여\n",
    "eval은 함수를 그 자체로 실행시켜준다는 뜻이다.\n",
    "즉 model.eval()을 하게 되면 스위치를 꺼버려서 예를들면 dropout, batchnorm 등등을 다 업데이트 안하고\n",
    "그냥 그대로 실행만 하겠다는 뜻이다.\n",
    "\n",
    "그래서 evaluate하는 클래스에서 torch.no_grad() 랑 model.eval()을 같이 쓰는 편임\n",
    "'''"
   ]
  },
  {
   "cell_type": "code",
   "execution_count": 27,
   "metadata": {},
   "outputs": [],
   "source": [
    "######################################\n",
    "##           One epoch               ##\n",
    "##   one_step, eval 값 묶어서 반환   ##\n",
    "######################################\n",
    "\n",
    "def one_epoch(net, criterion, optimizer, scheduler, train_loader, val_loader):\n",
    "    \n",
    "    net.train()\n",
    "    l, lrap, prec, rec, f1, icount = 0., 0., 0., 0., 0., 0\n",
    "    train_loader = tqdm(train_loader, leave = False)\n",
    "    epoch_bar = train_loader\n",
    "    \n",
    "    \n",
    "    for (xb, yb) in epoch_bar:\n",
    "        \n",
    "        _l, _lrap, _f1, _rec, _prec = one_step(xb, yb, net, criterion, optimizer)\n",
    "        \n",
    "        l += _l\n",
    "        lrap += _lrap\n",
    "        f1 += _f1\n",
    "        rec += _rec\n",
    "        prec += _prec\n",
    "        \n",
    "        icount += 1\n",
    "        \n",
    "        \n",
    "        ##postfilx 왜 하는지 모르겠음.. 나중에 공부할것\n",
    "        if hasattr(epoch_bar, 'set_postfix') and not icount%10 :\n",
    "            epoch_bar.set_postfix(\n",
    "                loss = \"{:.6f}\".format(l/icount),\n",
    "                lrap = \"{:.3f}\".format(lrap/icount),\n",
    "                prec = \"{:.3f}\".format(prec/icount),\n",
    "                rec = \"{:.3f}\".format(rec/icount),\n",
    "                f1=\"{:3f}\".format(rec/icount)\n",
    "            )\n",
    "            \n",
    "        \n",
    "    scheduler.step()\n",
    "    \n",
    "    \n",
    "    ##평균치 구함\n",
    "    l /= icount\n",
    "    lrap /= icount\n",
    "    f1 /= icount\n",
    "    rec /= icount\n",
    "    prec /= icount\n",
    "    \n",
    "    # val_loader 을 net에 넣는 eval함수 결과\n",
    "    l_val, lrap_val, f1_val, rec_val, prec_val = evaluate(net, criterion, val_loader)\n",
    "    \n",
    "    # train_loader넣은 값과 val_loader을 net에 넣은값 묶어서 반환\n",
    "    return (l, l_val), (lrap, lrap_val), (f1, f1_val), (rec, rec_val), (prec, prec_val)"
   ]
  },
  {
   "cell_type": "code",
   "execution_count": 28,
   "metadata": {},
   "outputs": [],
   "source": [
    "######################################### \n",
    "##             one_fold                ##\n",
    "##    net, criterion, optimizer, scheduler, data_loader  불러옴     ##\n",
    "##        epoch 다 돌림               ##\n",
    "#######################################\n",
    "\n",
    "\n",
    "def one_fold(model_name, fold, train_set, val_set, epochs, save=True, save_root = None):\n",
    "    \n",
    "    \n",
    "    ## f1_Val 저장\n",
    "    save_root = Path(save_root) or Root_Path\n",
    "    saver = AutoSave(root=save_root, name=f\"birdclef_{model_name}_fold{fold}\", metric=\"f1_val\")\n",
    "    \n",
    "    \n",
    "    ## 모델 param 불러오기\n",
    "    net = get_model(model_name).to(device) \n",
    "    criterion = nn.BCEWithLogitsLoss() \n",
    "    optimizer = optim.Adam(net.parameters(), lr=8e-4) \n",
    "    scheduler = optim.lr_scheduler.CosineAnnealingLR(optimizer, eta_min=1e-5, T_max=epochs)\n",
    "    \n",
    "    \n",
    "    ## 데이터 불러오기\n",
    "    ## train에서 df를 train_set이랑 val_set이랑 나눠서 넘겨줌(setdiff1d 참고)\n",
    "    #Dataset -> Mel_img 불러옴\n",
    "    train_data = BirdClefDataset(audio_image_store, meta=df.iloc[train_set].reset_index(drop=True),\n",
    "                           sr=SR, duration=Duration, is_train=True)\n",
    "    #Data_loader -> (batchsize, dataset차원)으로 불러옴 (ex, (batchsize, 3, 256, 256))\n",
    "    train_loader = DataLoader(train_data, batch_size=Train_Batch_Size, num_workers=Train_Num_Workers, shuffle=True, pin_memory=True)\n",
    "    \n",
    "    val_data = BirdClefDataset(audio_image_store, meta=df.iloc[val_set].reset_index(drop=True),  sr=SR, duration=Duration, is_train=False)\n",
    "    val_loader = DataLoader(val_data, batch_size=Val_Batch_Size, num_workers=Val_Num_Workers, shuffle=False)\n",
    "    \n",
    "    #### Epoch 진행 ####\n",
    "    epochs_bar = tqdm(list(range(epochs)), leave=False)\n",
    "    for epoch in epochs_bar:\n",
    "        epochs_bar.set_description(f\"[Epoch in one fold {epoch:02d}]\")\n",
    "        net.train()\n",
    "        \n",
    "        (l, l_val), (lrap, lrap_val), (f1, f1_val), (rec, rec_val), (prec, prec_val) \\\n",
    "        = one_epoch(net=net,\n",
    "                    criterion=criterion,\n",
    "                    optimizer=optimizer,\n",
    "                    scheduler=scheduler,\n",
    "                    train_loader=train_loader,\n",
    "                    val_loader=val_loader,\n",
    "                   )\n",
    "     \n",
    "    \n",
    "        \n",
    "        if save:\n",
    "            metrics = {\n",
    "                \"loss\": l, \"lrap\": lrap, \"f1\": f1, \"rec\": rec, \"prec\": prec,\n",
    "                \"loss_val\": l_val, \"lrap_val\": lrap_val, \"f1_val\": f1_val, \"rec_val\": rec_val, \"prec_val\": prec_val,\n",
    "                \"epoch\": epoch,\n",
    "            }\n",
    "            saver.log(net, metrics)"
   ]
  },
  {
   "cell_type": "code",
   "execution_count": 29,
   "metadata": {},
   "outputs": [],
   "source": [
    "def train(model_name, epochs, save=True, n_splits =n_splits , seed=seed, save_root=None, suffix=\"\", folds=None):\n",
    "    \n",
    "    gc.collect() #garbage collection, 객채들을 순회하며 객채가 안쓰이면 자동으로 삭제해줌\n",
    "    torch.cuda.empty_cache()\n",
    "    \n",
    "    \n",
    "    ## Save\n",
    "    save_root = save_root or (Root_Path + f'/{model_name}{suffix}')\n",
    "    save_root = Path(save_root)\n",
    "    save_root.mkdir(exist_ok=True, parents=True)\n",
    "    \n",
    "    \n",
    "    # Fold labeling 한것(make_df에서) 이용해서 묶어줌\n",
    "    fold_bar = tqdm(df.reset_index().groupby('fold').index.apply(list).items(), total=df.fold.max()+1)\n",
    "    \n",
    "    \n",
    "    for fold, val_set in fold_bar:\n",
    "        if folds and not fold in folds:\n",
    "            continue\n",
    "        \n",
    "        print(f\"\\n [one Fold {fold}]\")\n",
    "        fold_bar.set_description(f\"[Fold {fold}]\")\n",
    "        \n",
    "        # Train_set과 val_set 나눔.  (df - val_set = train_set)\n",
    "        train_set = np.setdiff1d(df.index, val_set)\n",
    "        \n",
    "        \n",
    "        one_fold(model_name, fold=fold, train_set=train_set, val_set=val_set, epochs=epochs, save=save, save_root=save_root)\n",
    "        \n",
    "        \n",
    "        ##메모리 정리\n",
    "        gc.collect()\n",
    "        torch.cuda.empty_cache()"
   ]
  },
  {
   "cell_type": "code",
   "execution_count": 31,
   "metadata": {},
   "outputs": [
    {
     "data": {
      "application/vnd.jupyter.widget-view+json": {
       "model_id": "8f8cd854e741422c990f0cc90edcde90",
       "version_major": 2,
       "version_minor": 0
      },
      "text/plain": [
       "  0%|          | 0/5 [00:00<?, ?it/s]"
      ]
     },
     "metadata": {},
     "output_type": "display_data"
    },
    {
     "name": "stdout",
     "output_type": "stream",
     "text": [
      "\n",
      " [one Fold 0]\n"
     ]
    },
    {
     "data": {
      "application/vnd.jupyter.widget-view+json": {
       "model_id": "d5f1c7fcc4384dda8c0a48b01c3399b7",
       "version_major": 2,
       "version_minor": 0
      },
      "text/plain": [
       "  0%|          | 0/3 [00:00<?, ?it/s]"
      ]
     },
     "metadata": {},
     "output_type": "display_data"
    },
    {
     "data": {
      "application/vnd.jupyter.widget-view+json": {
       "model_id": "c69d5333fbb84c1eb0e7e15fc59f4abe",
       "version_major": 2,
       "version_minor": 0
      },
      "text/plain": [
       "  0%|          | 0/6288 [00:00<?, ?it/s]"
      ]
     },
     "metadata": {},
     "output_type": "display_data"
    },
    {
     "ename": "KeyboardInterrupt",
     "evalue": "",
     "output_type": "error",
     "traceback": [
      "\u001b[1;31m---------------------------------------------------------------------------\u001b[0m",
      "\u001b[1;31mKeyboardInterrupt\u001b[0m                         Traceback (most recent call last)",
      "\u001b[1;32m<ipython-input-31-1413993a0ef9>\u001b[0m in \u001b[0;36m<module>\u001b[1;34m\u001b[0m\n\u001b[1;32m----> 1\u001b[1;33m \u001b[0mtrain\u001b[0m\u001b[1;33m(\u001b[0m\u001b[1;34m'resnext'\u001b[0m\u001b[1;33m,\u001b[0m \u001b[0mepochs\u001b[0m \u001b[1;33m=\u001b[0m \u001b[1;36m3\u001b[0m\u001b[1;33m,\u001b[0m \u001b[0msuffix\u001b[0m\u001b[1;33m=\u001b[0m\u001b[1;34mf\"_sr{SR}_d{Duration}_v1_v1\"\u001b[0m\u001b[1;33m,\u001b[0m \u001b[0mfolds\u001b[0m\u001b[1;33m=\u001b[0m\u001b[1;33m[\u001b[0m\u001b[1;36m0\u001b[0m\u001b[1;33m]\u001b[0m\u001b[1;33m)\u001b[0m\u001b[1;33m\u001b[0m\u001b[1;33m\u001b[0m\u001b[0m\n\u001b[0m",
      "\u001b[1;32m<ipython-input-29-064562b4a1bc>\u001b[0m in \u001b[0;36mtrain\u001b[1;34m(model_name, epochs, save, n_splits, seed, save_root, suffix, folds)\u001b[0m\n\u001b[0;32m     26\u001b[0m \u001b[1;33m\u001b[0m\u001b[0m\n\u001b[0;32m     27\u001b[0m \u001b[1;33m\u001b[0m\u001b[0m\n\u001b[1;32m---> 28\u001b[1;33m         \u001b[0mone_fold\u001b[0m\u001b[1;33m(\u001b[0m\u001b[0mmodel_name\u001b[0m\u001b[1;33m,\u001b[0m \u001b[0mfold\u001b[0m\u001b[1;33m=\u001b[0m\u001b[0mfold\u001b[0m\u001b[1;33m,\u001b[0m \u001b[0mtrain_set\u001b[0m\u001b[1;33m=\u001b[0m\u001b[0mtrain_set\u001b[0m\u001b[1;33m,\u001b[0m \u001b[0mval_set\u001b[0m\u001b[1;33m=\u001b[0m\u001b[0mval_set\u001b[0m\u001b[1;33m,\u001b[0m \u001b[0mepochs\u001b[0m\u001b[1;33m=\u001b[0m\u001b[0mepochs\u001b[0m\u001b[1;33m,\u001b[0m \u001b[0msave\u001b[0m\u001b[1;33m=\u001b[0m\u001b[0msave\u001b[0m\u001b[1;33m,\u001b[0m \u001b[0msave_root\u001b[0m\u001b[1;33m=\u001b[0m\u001b[0msave_root\u001b[0m\u001b[1;33m)\u001b[0m\u001b[1;33m\u001b[0m\u001b[1;33m\u001b[0m\u001b[0m\n\u001b[0m\u001b[0;32m     29\u001b[0m \u001b[1;33m\u001b[0m\u001b[0m\n\u001b[0;32m     30\u001b[0m \u001b[1;33m\u001b[0m\u001b[0m\n",
      "\u001b[1;32m<ipython-input-28-7ca49a510876>\u001b[0m in \u001b[0;36mone_fold\u001b[1;34m(model_name, fold, train_set, val_set, epochs, save, save_root)\u001b[0m\n\u001b[0;32m     39\u001b[0m \u001b[1;33m\u001b[0m\u001b[0m\n\u001b[0;32m     40\u001b[0m         \u001b[1;33m(\u001b[0m\u001b[0ml\u001b[0m\u001b[1;33m,\u001b[0m \u001b[0ml_val\u001b[0m\u001b[1;33m)\u001b[0m\u001b[1;33m,\u001b[0m \u001b[1;33m(\u001b[0m\u001b[0mlrap\u001b[0m\u001b[1;33m,\u001b[0m \u001b[0mlrap_val\u001b[0m\u001b[1;33m)\u001b[0m\u001b[1;33m,\u001b[0m \u001b[1;33m(\u001b[0m\u001b[0mf1\u001b[0m\u001b[1;33m,\u001b[0m \u001b[0mf1_val\u001b[0m\u001b[1;33m)\u001b[0m\u001b[1;33m,\u001b[0m \u001b[1;33m(\u001b[0m\u001b[0mrec\u001b[0m\u001b[1;33m,\u001b[0m \u001b[0mrec_val\u001b[0m\u001b[1;33m)\u001b[0m\u001b[1;33m,\u001b[0m \u001b[1;33m(\u001b[0m\u001b[0mprec\u001b[0m\u001b[1;33m,\u001b[0m \u001b[0mprec_val\u001b[0m\u001b[1;33m)\u001b[0m\u001b[0;31m \u001b[0m\u001b[0;31m\\\u001b[0m\u001b[1;33m\u001b[0m\u001b[1;33m\u001b[0m\u001b[0m\n\u001b[1;32m---> 41\u001b[1;33m         = one_epoch(net=net,\n\u001b[0m\u001b[0;32m     42\u001b[0m                     \u001b[0mcriterion\u001b[0m\u001b[1;33m=\u001b[0m\u001b[0mcriterion\u001b[0m\u001b[1;33m,\u001b[0m\u001b[1;33m\u001b[0m\u001b[1;33m\u001b[0m\u001b[0m\n\u001b[0;32m     43\u001b[0m                     \u001b[0moptimizer\u001b[0m\u001b[1;33m=\u001b[0m\u001b[0moptimizer\u001b[0m\u001b[1;33m,\u001b[0m\u001b[1;33m\u001b[0m\u001b[1;33m\u001b[0m\u001b[0m\n",
      "\u001b[1;32m<ipython-input-27-010f3f719c3f>\u001b[0m in \u001b[0;36mone_epoch\u001b[1;34m(net, criterion, optimizer, scheduler, train_loader, val_loader)\u001b[0m\n\u001b[0;32m     14\u001b[0m     \u001b[1;32mfor\u001b[0m \u001b[1;33m(\u001b[0m\u001b[0mxb\u001b[0m\u001b[1;33m,\u001b[0m \u001b[0myb\u001b[0m\u001b[1;33m)\u001b[0m \u001b[1;32min\u001b[0m \u001b[0mepoch_bar\u001b[0m\u001b[1;33m:\u001b[0m\u001b[1;33m\u001b[0m\u001b[1;33m\u001b[0m\u001b[0m\n\u001b[0;32m     15\u001b[0m \u001b[1;33m\u001b[0m\u001b[0m\n\u001b[1;32m---> 16\u001b[1;33m         \u001b[0m_l\u001b[0m\u001b[1;33m,\u001b[0m \u001b[0m_lrap\u001b[0m\u001b[1;33m,\u001b[0m \u001b[0m_f1\u001b[0m\u001b[1;33m,\u001b[0m \u001b[0m_rec\u001b[0m\u001b[1;33m,\u001b[0m \u001b[0m_prec\u001b[0m \u001b[1;33m=\u001b[0m \u001b[0mone_step\u001b[0m\u001b[1;33m(\u001b[0m\u001b[0mxb\u001b[0m\u001b[1;33m,\u001b[0m \u001b[0myb\u001b[0m\u001b[1;33m,\u001b[0m \u001b[0mnet\u001b[0m\u001b[1;33m,\u001b[0m \u001b[0mcriterion\u001b[0m\u001b[1;33m,\u001b[0m \u001b[0moptimizer\u001b[0m\u001b[1;33m)\u001b[0m\u001b[1;33m\u001b[0m\u001b[1;33m\u001b[0m\u001b[0m\n\u001b[0m\u001b[0;32m     17\u001b[0m \u001b[1;33m\u001b[0m\u001b[0m\n\u001b[0;32m     18\u001b[0m         \u001b[0ml\u001b[0m \u001b[1;33m+=\u001b[0m \u001b[0m_l\u001b[0m\u001b[1;33m\u001b[0m\u001b[1;33m\u001b[0m\u001b[0m\n",
      "\u001b[1;32m<ipython-input-25-7003eb6bea30>\u001b[0m in \u001b[0;36mone_step\u001b[1;34m(xb, yb, net, criterion, optimizer, scheduler)\u001b[0m\n\u001b[0;32m     24\u001b[0m         \u001b[0myb\u001b[0m \u001b[1;33m=\u001b[0m \u001b[1;33m(\u001b[0m\u001b[0myb\u001b[0m \u001b[1;33m>\u001b[0m \u001b[1;36m0.5\u001b[0m\u001b[1;33m)\u001b[0m \u001b[1;33m*\u001b[0m \u001b[1;36m1.0\u001b[0m \u001b[1;31m## Label smoothing의 threshold\u001b[0m\u001b[1;33m\u001b[0m\u001b[1;33m\u001b[0m\u001b[0m\n\u001b[0;32m     25\u001b[0m \u001b[1;33m\u001b[0m\u001b[0m\n\u001b[1;32m---> 26\u001b[1;33m         \u001b[0mlrap\u001b[0m \u001b[1;33m=\u001b[0m \u001b[0mlabel_ranking_average_precision_score\u001b[0m\u001b[1;33m(\u001b[0m\u001b[0myb\u001b[0m\u001b[1;33m.\u001b[0m\u001b[0mcpu\u001b[0m\u001b[1;33m(\u001b[0m\u001b[1;33m)\u001b[0m\u001b[1;33m.\u001b[0m\u001b[0mnumpy\u001b[0m\u001b[1;33m(\u001b[0m\u001b[1;33m)\u001b[0m\u001b[1;33m,\u001b[0m \u001b[0mout\u001b[0m\u001b[1;33m.\u001b[0m\u001b[0mcpu\u001b[0m\u001b[1;33m(\u001b[0m\u001b[1;33m)\u001b[0m\u001b[1;33m.\u001b[0m\u001b[0mnumpy\u001b[0m\u001b[1;33m(\u001b[0m\u001b[1;33m)\u001b[0m\u001b[1;33m)\u001b[0m \u001b[1;31m#점수계산용\u001b[0m\u001b[1;33m\u001b[0m\u001b[1;33m\u001b[0m\u001b[0m\n\u001b[0m\u001b[0;32m     27\u001b[0m \u001b[1;33m\u001b[0m\u001b[0m\n\u001b[0;32m     28\u001b[0m         \u001b[0mout\u001b[0m \u001b[1;33m=\u001b[0m \u001b[1;33m(\u001b[0m\u001b[0mout\u001b[0m \u001b[1;33m>\u001b[0m \u001b[1;36m0.5\u001b[0m\u001b[1;33m)\u001b[0m \u001b[1;33m*\u001b[0m \u001b[1;36m1.0\u001b[0m\u001b[1;33m\u001b[0m\u001b[1;33m\u001b[0m\u001b[0m\n",
      "\u001b[1;32m~\\anaconda3\\envs\\pytorch17_p38\\lib\\site-packages\\sklearn\\utils\\validation.py\u001b[0m in \u001b[0;36minner_f\u001b[1;34m(*args, **kwargs)\u001b[0m\n\u001b[0;32m     61\u001b[0m             \u001b[0mextra_args\u001b[0m \u001b[1;33m=\u001b[0m \u001b[0mlen\u001b[0m\u001b[1;33m(\u001b[0m\u001b[0margs\u001b[0m\u001b[1;33m)\u001b[0m \u001b[1;33m-\u001b[0m \u001b[0mlen\u001b[0m\u001b[1;33m(\u001b[0m\u001b[0mall_args\u001b[0m\u001b[1;33m)\u001b[0m\u001b[1;33m\u001b[0m\u001b[1;33m\u001b[0m\u001b[0m\n\u001b[0;32m     62\u001b[0m             \u001b[1;32mif\u001b[0m \u001b[0mextra_args\u001b[0m \u001b[1;33m<=\u001b[0m \u001b[1;36m0\u001b[0m\u001b[1;33m:\u001b[0m\u001b[1;33m\u001b[0m\u001b[1;33m\u001b[0m\u001b[0m\n\u001b[1;32m---> 63\u001b[1;33m                 \u001b[1;32mreturn\u001b[0m \u001b[0mf\u001b[0m\u001b[1;33m(\u001b[0m\u001b[1;33m*\u001b[0m\u001b[0margs\u001b[0m\u001b[1;33m,\u001b[0m \u001b[1;33m**\u001b[0m\u001b[0mkwargs\u001b[0m\u001b[1;33m)\u001b[0m\u001b[1;33m\u001b[0m\u001b[1;33m\u001b[0m\u001b[0m\n\u001b[0m\u001b[0;32m     64\u001b[0m \u001b[1;33m\u001b[0m\u001b[0m\n\u001b[0;32m     65\u001b[0m             \u001b[1;31m# extra_args > 0\u001b[0m\u001b[1;33m\u001b[0m\u001b[1;33m\u001b[0m\u001b[1;33m\u001b[0m\u001b[0m\n",
      "\u001b[1;32m~\\anaconda3\\envs\\pytorch17_p38\\lib\\site-packages\\sklearn\\metrics\\_ranking.py\u001b[0m in \u001b[0;36mlabel_ranking_average_precision_score\u001b[1;34m(y_true, y_score, sample_weight)\u001b[0m\n\u001b[0;32m   1031\u001b[0m         \u001b[1;32melse\u001b[0m\u001b[1;33m:\u001b[0m\u001b[1;33m\u001b[0m\u001b[1;33m\u001b[0m\u001b[0m\n\u001b[0;32m   1032\u001b[0m             \u001b[0mscores_i\u001b[0m \u001b[1;33m=\u001b[0m \u001b[0my_score\u001b[0m\u001b[1;33m[\u001b[0m\u001b[0mi\u001b[0m\u001b[1;33m]\u001b[0m\u001b[1;33m\u001b[0m\u001b[1;33m\u001b[0m\u001b[0m\n\u001b[1;32m-> 1033\u001b[1;33m             \u001b[0mrank\u001b[0m \u001b[1;33m=\u001b[0m \u001b[0mrankdata\u001b[0m\u001b[1;33m(\u001b[0m\u001b[0mscores_i\u001b[0m\u001b[1;33m,\u001b[0m \u001b[1;34m'max'\u001b[0m\u001b[1;33m)\u001b[0m\u001b[1;33m[\u001b[0m\u001b[0mrelevant\u001b[0m\u001b[1;33m]\u001b[0m\u001b[1;33m\u001b[0m\u001b[1;33m\u001b[0m\u001b[0m\n\u001b[0m\u001b[0;32m   1034\u001b[0m             \u001b[0mL\u001b[0m \u001b[1;33m=\u001b[0m \u001b[0mrankdata\u001b[0m\u001b[1;33m(\u001b[0m\u001b[0mscores_i\u001b[0m\u001b[1;33m[\u001b[0m\u001b[0mrelevant\u001b[0m\u001b[1;33m]\u001b[0m\u001b[1;33m,\u001b[0m \u001b[1;34m'max'\u001b[0m\u001b[1;33m)\u001b[0m\u001b[1;33m\u001b[0m\u001b[1;33m\u001b[0m\u001b[0m\n\u001b[0;32m   1035\u001b[0m             \u001b[0maux\u001b[0m \u001b[1;33m=\u001b[0m \u001b[1;33m(\u001b[0m\u001b[0mL\u001b[0m \u001b[1;33m/\u001b[0m \u001b[0mrank\u001b[0m\u001b[1;33m)\u001b[0m\u001b[1;33m.\u001b[0m\u001b[0mmean\u001b[0m\u001b[1;33m(\u001b[0m\u001b[1;33m)\u001b[0m\u001b[1;33m\u001b[0m\u001b[1;33m\u001b[0m\u001b[0m\n",
      "\u001b[1;32m~\\anaconda3\\envs\\pytorch17_p38\\lib\\site-packages\\scipy\\stats\\stats.py\u001b[0m in \u001b[0;36mrankdata\u001b[1;34m(a, method, axis)\u001b[0m\n\u001b[0;32m   8031\u001b[0m     \u001b[0marr\u001b[0m \u001b[1;33m=\u001b[0m \u001b[0mnp\u001b[0m\u001b[1;33m.\u001b[0m\u001b[0mravel\u001b[0m\u001b[1;33m(\u001b[0m\u001b[0mnp\u001b[0m\u001b[1;33m.\u001b[0m\u001b[0masarray\u001b[0m\u001b[1;33m(\u001b[0m\u001b[0ma\u001b[0m\u001b[1;33m)\u001b[0m\u001b[1;33m)\u001b[0m\u001b[1;33m\u001b[0m\u001b[1;33m\u001b[0m\u001b[0m\n\u001b[0;32m   8032\u001b[0m     \u001b[0malgo\u001b[0m \u001b[1;33m=\u001b[0m \u001b[1;34m'mergesort'\u001b[0m \u001b[1;32mif\u001b[0m \u001b[0mmethod\u001b[0m \u001b[1;33m==\u001b[0m \u001b[1;34m'ordinal'\u001b[0m \u001b[1;32melse\u001b[0m \u001b[1;34m'quicksort'\u001b[0m\u001b[1;33m\u001b[0m\u001b[1;33m\u001b[0m\u001b[0m\n\u001b[1;32m-> 8033\u001b[1;33m     \u001b[0msorter\u001b[0m \u001b[1;33m=\u001b[0m \u001b[0mnp\u001b[0m\u001b[1;33m.\u001b[0m\u001b[0margsort\u001b[0m\u001b[1;33m(\u001b[0m\u001b[0marr\u001b[0m\u001b[1;33m,\u001b[0m \u001b[0mkind\u001b[0m\u001b[1;33m=\u001b[0m\u001b[0malgo\u001b[0m\u001b[1;33m)\u001b[0m\u001b[1;33m\u001b[0m\u001b[1;33m\u001b[0m\u001b[0m\n\u001b[0m\u001b[0;32m   8034\u001b[0m \u001b[1;33m\u001b[0m\u001b[0m\n\u001b[0;32m   8035\u001b[0m     \u001b[0minv\u001b[0m \u001b[1;33m=\u001b[0m \u001b[0mnp\u001b[0m\u001b[1;33m.\u001b[0m\u001b[0mempty\u001b[0m\u001b[1;33m(\u001b[0m\u001b[0msorter\u001b[0m\u001b[1;33m.\u001b[0m\u001b[0msize\u001b[0m\u001b[1;33m,\u001b[0m \u001b[0mdtype\u001b[0m\u001b[1;33m=\u001b[0m\u001b[0mnp\u001b[0m\u001b[1;33m.\u001b[0m\u001b[0mintp\u001b[0m\u001b[1;33m)\u001b[0m\u001b[1;33m\u001b[0m\u001b[1;33m\u001b[0m\u001b[0m\n",
      "\u001b[1;32m<__array_function__ internals>\u001b[0m in \u001b[0;36margsort\u001b[1;34m(*args, **kwargs)\u001b[0m\n",
      "\u001b[1;32m~\\anaconda3\\envs\\pytorch17_p38\\lib\\site-packages\\numpy\\core\\fromnumeric.py\u001b[0m in \u001b[0;36margsort\u001b[1;34m(a, axis, kind, order)\u001b[0m\n\u001b[0;32m   1105\u001b[0m \u001b[1;33m\u001b[0m\u001b[0m\n\u001b[0;32m   1106\u001b[0m     \"\"\"\n\u001b[1;32m-> 1107\u001b[1;33m     \u001b[1;32mreturn\u001b[0m \u001b[0m_wrapfunc\u001b[0m\u001b[1;33m(\u001b[0m\u001b[0ma\u001b[0m\u001b[1;33m,\u001b[0m \u001b[1;34m'argsort'\u001b[0m\u001b[1;33m,\u001b[0m \u001b[0maxis\u001b[0m\u001b[1;33m=\u001b[0m\u001b[0maxis\u001b[0m\u001b[1;33m,\u001b[0m \u001b[0mkind\u001b[0m\u001b[1;33m=\u001b[0m\u001b[0mkind\u001b[0m\u001b[1;33m,\u001b[0m \u001b[0morder\u001b[0m\u001b[1;33m=\u001b[0m\u001b[0morder\u001b[0m\u001b[1;33m)\u001b[0m\u001b[1;33m\u001b[0m\u001b[1;33m\u001b[0m\u001b[0m\n\u001b[0m\u001b[0;32m   1108\u001b[0m \u001b[1;33m\u001b[0m\u001b[0m\n\u001b[0;32m   1109\u001b[0m \u001b[1;33m\u001b[0m\u001b[0m\n",
      "\u001b[1;32m~\\anaconda3\\envs\\pytorch17_p38\\lib\\site-packages\\numpy\\core\\fromnumeric.py\u001b[0m in \u001b[0;36m_wrapfunc\u001b[1;34m(obj, method, *args, **kwds)\u001b[0m\n\u001b[0;32m     56\u001b[0m \u001b[1;33m\u001b[0m\u001b[0m\n\u001b[0;32m     57\u001b[0m     \u001b[1;32mtry\u001b[0m\u001b[1;33m:\u001b[0m\u001b[1;33m\u001b[0m\u001b[1;33m\u001b[0m\u001b[0m\n\u001b[1;32m---> 58\u001b[1;33m         \u001b[1;32mreturn\u001b[0m \u001b[0mbound\u001b[0m\u001b[1;33m(\u001b[0m\u001b[1;33m*\u001b[0m\u001b[0margs\u001b[0m\u001b[1;33m,\u001b[0m \u001b[1;33m**\u001b[0m\u001b[0mkwds\u001b[0m\u001b[1;33m)\u001b[0m\u001b[1;33m\u001b[0m\u001b[1;33m\u001b[0m\u001b[0m\n\u001b[0m\u001b[0;32m     59\u001b[0m     \u001b[1;32mexcept\u001b[0m \u001b[0mTypeError\u001b[0m\u001b[1;33m:\u001b[0m\u001b[1;33m\u001b[0m\u001b[1;33m\u001b[0m\u001b[0m\n\u001b[0;32m     60\u001b[0m         \u001b[1;31m# A TypeError occurs if the object does have such a method in its\u001b[0m\u001b[1;33m\u001b[0m\u001b[1;33m\u001b[0m\u001b[1;33m\u001b[0m\u001b[0m\n",
      "\u001b[1;31mKeyboardInterrupt\u001b[0m: "
     ]
    }
   ],
   "source": [
    "train('resnext', epochs = 3, suffix=f\"_sr{SR}_d{Duration}_v1_v1\", folds=[0])"
   ]
  },
  {
   "cell_type": "code",
   "execution_count": null,
   "metadata": {},
   "outputs": [],
   "source": [
    "'''### 여러 모델 성능 비교할 때 ###\n",
    "\n",
    "Model_names = ['resnest50', 'mymodel']\n",
    "\n",
    "for model_name in Model_names:\n",
    "    train(model_name, epochs = 1, suffix=f\"_sr{SR}_d{DURATION}_v1_v1\", folds=[0])\n",
    "    \n",
    "    \n",
    "'''"
   ]
  },
  {
   "cell_type": "code",
   "execution_count": null,
   "metadata": {},
   "outputs": [],
   "source": [
    "'''\n",
    "train 까지 진행했으면 폴더에 보면 'net이름 + sr + ...' 으로 된 폴더에 '.pth', '.json' 저장 돼 있을거임\n",
    "\n",
    "그걸 input으로 다음 파이프라인 진행할 것임\n",
    "\n",
    "'''"
   ]
  },
  {
   "cell_type": "code",
   "execution_count": null,
   "metadata": {},
   "outputs": [],
   "source": []
  }
 ],
 "metadata": {
  "kernelspec": {
   "display_name": "pytorch17_p38",
   "language": "python",
   "name": "pytorch17_p38"
  },
  "language_info": {
   "codemirror_mode": {
    "name": "ipython",
    "version": 3
   },
   "file_extension": ".py",
   "mimetype": "text/x-python",
   "name": "python",
   "nbconvert_exporter": "python",
   "pygments_lexer": "ipython3",
   "version": "3.8.5"
  }
 },
 "nbformat": 4,
 "nbformat_minor": 4
}
