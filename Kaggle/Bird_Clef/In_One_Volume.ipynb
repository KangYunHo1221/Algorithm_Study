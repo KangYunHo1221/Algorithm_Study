{
 "cells": [
  {
   "cell_type": "code",
   "execution_count": 1,
   "metadata": {},
   "outputs": [
    {
     "name": "stdout",
     "output_type": "stream",
     "text": [
      "Fri May 28 02:25:21 2021       \n",
      "+-----------------------------------------------------------------------------+\n",
      "| NVIDIA-SMI 460.89       Driver Version: 460.89       CUDA Version: 11.2     |\n",
      "|-------------------------------+----------------------+----------------------+\n",
      "| GPU  Name            TCC/WDDM | Bus-Id        Disp.A | Volatile Uncorr. ECC |\n",
      "| Fan  Temp  Perf  Pwr:Usage/Cap|         Memory-Usage | GPU-Util  Compute M. |\n",
      "|                               |                      |               MIG M. |\n",
      "|===============================+======================+======================|\n",
      "|   0  GeForce RTX 2060   WDDM  | 00000000:01:00.0 Off |                  N/A |\n",
      "| N/A   39C    P8     2W /  N/A |    224MiB /  6144MiB |      0%      Default |\n",
      "|                               |                      |                  N/A |\n",
      "+-------------------------------+----------------------+----------------------+\n",
      "                                                                               \n",
      "+-----------------------------------------------------------------------------+\n",
      "| Processes:                                                                  |\n",
      "|  GPU   GI   CI        PID   Type   Process name                  GPU Memory |\n",
      "|        ID   ID                                                   Usage      |\n",
      "|=============================================================================|\n",
      "|    0   N/A  N/A     17676    C+G   ...n64\\EpicGamesLauncher.exe    N/A      |\n",
      "+-----------------------------------------------------------------------------+\n"
     ]
    }
   ],
   "source": [
    "###########################\n",
    "##     메모리 체크       ##\n",
    "\n",
    "!nvidia-smi\n",
    "\n",
    "'''\n",
    "메모리 오류 생길 시\n",
    "1. 데이터 새는 부분 없는지 확인할것(ex. evaluate하는데 torch.no_grad 안돼 있다거나..)\n",
    "\n",
    "2. conv에서 size 너무 크지않은지 확인\n",
    "\n",
    "3. 파이프라인 쪼개기(한 kernel에서 imagetransform, 다른 kernel에서 training 등등)\n",
    "3. batch size 줄이기\n",
    "\n",
    "4. Holding python variable\n",
    "    ex) for x, y in train_loader:\n",
    "            x = torch.tensor(x, device=device, dtype=torch.float32)\n",
    "            z = model(x)\n",
    "            features.append(z)\n",
    "            \n",
    "            에서\n",
    "            \n",
    "        for x, y in train_loader:\n",
    "            x = torch.tensor(x, device=device, dtype=torch.float32)\n",
    "            z = model(x)\n",
    "            features.append(z.tolist())\n",
    "            \n",
    "           로 변경\n",
    "           \n",
    "5. dtype변경 -> net(model) 에서 요구하는 type이랑 맞춰야 돼서 귀찮음, 효과도 미미\n",
    "    windows에서 x64도 dtype=int32로 설정된다고 함\n",
    "    train, test 의 input tensor 에 .to(torch.int64) 붙이면 될때 있음\n",
    "    \n",
    "6. torch.cuda.empty_cache() 사용 -> 크게 도움 안됨, 한 fold나 돌렸을때 써주면 미미하게 도움되는듯\n",
    "7. gc.collect() 사용 -> 크게 도움 안됨, 한 fold나 돌렸을때 써주면 미미하게 도움 되는듯\n",
    " \n",
    "'''\n",
    "import warnings\n",
    "warnings.filterwarnings(action='ignore')\n"
   ]
  },
  {
   "cell_type": "code",
   "execution_count": 2,
   "metadata": {
    "pycharm": {
     "is_executing": true,
     "name": "#%%\n"
    }
   },
   "outputs": [],
   "source": [
    "import numpy as np\n",
    "import librosa as lb\n",
    "import librosa.display as lbd\n",
    "import soundfile as sf\n",
    "from  soundfile import SoundFile\n",
    "import pandas as pd\n",
    "from  IPython.display import Audio\n",
    "from pathlib import Path\n",
    "\n",
    "import torch\n",
    "from torch import nn, optim\n",
    "from  torch.utils.data import Dataset, DataLoader\n",
    "import torchvision.models as models\n",
    "from torchvision import transforms, utils\n",
    "\n",
    "from matplotlib import pyplot as plt\n",
    "\n",
    "import os, random, gc\n",
    "import re, time, json\n",
    "from  ast import literal_eval\n",
    "\n",
    "\n",
    "from IPython.display import Audio\n",
    "from sklearn.metrics import label_ranking_average_precision_score\n",
    "\n",
    "from tqdm.notebook import tqdm\n",
    "import joblib\n",
    "\n",
    "import pretrainedmodels\n",
    "\n",
    "from sklearn.model_selection import StratifiedKFold\n"
   ]
  },
  {
   "cell_type": "code",
   "execution_count": 3,
   "metadata": {},
   "outputs": [],
   "source": [
    "import sys\n",
    "sys.path.append('../input/timm-pytorch-image-models/pytorch-image-models-master')\n",
    "import timm  ##다양한 model들 있는 라이브러리"
   ]
  },
  {
   "cell_type": "code",
   "execution_count": 4,
   "metadata": {},
   "outputs": [
    {
     "name": "stdout",
     "output_type": "stream",
     "text": [
      "C:\\Users\\ansgh\\PycharmProjects\\kaggle_notebook\\input\\spec_augment-master\n",
      "torch.Size([1, 4, 4]) torch.Size([1, 4, 2])\n",
      "torch.Size([1, 4, 4]) torch.Size([1, 4, 2])\n"
     ]
    }
   ],
   "source": [
    "## SparseImageWarp 불러오기위한 경로로 이동 (폴더내에 위치한 spec_augment_master 위치)\n",
    "\n",
    "%cd /Users/ansgh/PycharmProjects/kaggle_notebook/input/spec_augment-master/\n",
    "\n",
    "import ipynb\n",
    "import SparseImageWarp\n",
    "from ipynb.fs.full.SparseImageWarp import sparse_image_warp"
   ]
  },
  {
   "cell_type": "code",
   "execution_count": 5,
   "metadata": {},
   "outputs": [
    {
     "data": {
      "text/plain": [
       "'cuda'"
      ]
     },
     "execution_count": 5,
     "metadata": {},
     "output_type": "execute_result"
    }
   ],
   "source": [
    "device = 'cuda' if torch.cuda.is_available else 'cpu'\n",
    "device"
   ]
  },
  {
   "cell_type": "code",
   "execution_count": 6,
   "metadata": {},
   "outputs": [],
   "source": [
    "##################\n",
    "## Seed Setting ##\n",
    "##################\n",
    "\n",
    "def make_seed(seed = 499):\n",
    "    random.seed(seed)\n",
    "    np.random.seed(seed)\n",
    "    torch.manual_seed(seed)\n",
    "    torch.cuda.manual_seed(seed)\n",
    "    torch.backends.cudnn.deterministic = True\n",
    "    os.environ['PYTHONHASHSEED'] = str(seed)\n",
    "    \n",
    "make_seed()\n",
    "\n",
    "Num_classes = 397 ##label할 classes 갯수(ex 새 종류)\n",
    "SR = 32000 #sampling rate\n",
    "Duration = 7 #time\n",
    "seed = 599\n",
    "n_splits = 5"
   ]
  },
  {
   "cell_type": "code",
   "execution_count": 7,
   "metadata": {},
   "outputs": [
    {
     "data": {
      "text/plain": [
       "' \\n    \\n    \\n    \\n데이터 셋이 너무 큰 경우 Part_id 로 쪼개서 작업할수도 있음\\nget_df 에서 학습용 df 전처리 하는게 유리할것. (df.rating이 일정이하면 학습에 안쓰겠다 등등)\\n\\n\\n\\n\\n'"
      ]
     },
     "execution_count": 7,
     "metadata": {},
     "output_type": "execute_result"
    }
   ],
   "source": [
    "###############################################\n",
    "'''\n",
    "                 PIPE LINE 1\n",
    "                 Data 전처리\n",
    "              melspec computing\n",
    "                                              '''\n",
    "###############################################\n",
    "\n",
    "\n",
    "''' \n",
    "    \n",
    "    \n",
    "    \n",
    "데이터 셋이 너무 큰 경우 Part_id 로 쪼개서 작업할수도 있음\n",
    "get_df 에서 학습용 df 전처리 하는게 유리할것. (df.rating이 일정이하면 학습에 안쓰겠다 등등)\n",
    "\n",
    "\n",
    "\n",
    "\n",
    "'''\n",
    "\n"
   ]
  },
  {
   "cell_type": "code",
   "execution_count": 8,
   "metadata": {},
   "outputs": [
    {
     "name": "stdout",
     "output_type": "stream",
     "text": [
      "['audio_images', 'efficientnet_sr32000_d7_v1_v1', 'Label_IDS.json', 'Label_IDS_0.json', 'resnet152_sr32000_d7_v1_v1', 'resnext_sr32000_d7_v1_v1', 'rich_train_metadata.csv', 'rich_train_metadata_0.csv', 'sample_submission.csv', 'test.csv', 'test_soundscapes', 'train_metadata.csv', 'train_short_audio', 'train_soundscapes', 'train_soundscape_labels.csv']\n"
     ]
    }
   ],
   "source": [
    "#################\n",
    "## Path manage ##\n",
    "#################\n",
    "\n",
    "Root_Path = '/Users/ansgh/PycharmProjects/kaggle_notebook/input/birdclef-2021'\n",
    "\n",
    "Train_short_root = Path(Root_Path + str('/train_short_audio'))\n",
    "Train_metadata_root = Path(Root_Path + str('/train_metadata.csv'))\n",
    "\n",
    "Train_audio_image_save_root = Path(Root_Path + str('/audio_images'))\n",
    "Train_audio_image_save_root.mkdir(exist_ok=True, parents=True)\n",
    "\n",
    "## File 내부 확인 \n",
    "file_list = os.listdir(Root_Path)\n",
    "print(file_list)"
   ]
  },
  {
   "cell_type": "code",
   "execution_count": 11,
   "metadata": {},
   "outputs": [],
   "source": [
    "#####################\n",
    "## Audio File info ##\n",
    "#####################\n",
    "\n",
    "def get_audio_info(filepath):\n",
    "    with SoundFile(filepath) as f:\n",
    "        sr = f.samplerate\n",
    "        frames = f.frames\n",
    "        duration = float(frames)/sr\n",
    "        \n",
    "    return {'frames': frames, 'sr':sr, 'duration': duration}\n",
    "\n",
    "#오디오 파일에서 sr, running_time, frame 이 제일 중요한 정보기 때문에 이것들만 dic에 저장"
   ]
  },
  {
   "cell_type": "code",
   "execution_count": 12,
   "metadata": {},
   "outputs": [
    {
     "data": {
      "text/plain": [
       "[0, 15718, 31437, 47155, 62874]"
      ]
     },
     "execution_count": 12,
     "metadata": {},
     "output_type": "execute_result"
    }
   ],
   "source": [
    "###############################################\n",
    "## 데이터셋이 클때 분할하기 위한 테크닉      ##\n",
    "##   이거 한 후에 make_df함수에서 쓰면 됨    ##\n",
    "###############################################\n",
    "\n",
    "Part_id = 0\n",
    "Part_indexs = np.linspace(0, 62874, 5)  #birdclef 가 62874개라 5분할\n",
    "Part_indexs = list(map(int, Part_indexs)) #분할한후 index로 쓸것이기때문에 int로 치환\n",
    "\n",
    "Part_indexs"
   ]
  },
  {
   "cell_type": "code",
   "execution_count": 13,
   "metadata": {},
   "outputs": [],
   "source": [
    "################################################\n",
    "##       Metadata + Audio_info 해서           ##\n",
    "##              DataFrame 생성                ##\n",
    "################################################\n",
    "\n",
    "def make_df(n_splits = 5, seed = seed, nrows = None):\n",
    "    \n",
    "    df = pd.read_csv(Train_metadata_root, nrows=nrows) #전체열 다 불러옴\n",
    "    Label_IDS = {label: label_id for label_id, label in enumerate(sorted(df['primary_label'].unique()))}  #고유종마다 ids 부여, ex 참새 = 0, 비둘기 = 1\n",
    "\n",
    "    \n",
    "    df = df.iloc[Part_indexs[Part_id] : Part_indexs[Part_id + 1]] #5분할중에 한파트\n",
    "    df['label_id'] = df['primary_label'].map(Label_IDS) ##Primary Label을 기준으로 같은 종마다 같은 Label_IDS 배정 ex.참새_1 = 0, 참새_2 = 0, 비둘기 = 1 \n",
    "    df['filepath'] = [str(Train_short_root/primary_label/filename) for primary_label, filename in zip(df.primary_label, df.filename)] #df에 file_path 추가\n",
    "\n",
    "    \n",
    "    pool = joblib.Parallel(6) ##병렬처리해서 속도up\n",
    "    mapper = joblib.delayed(get_audio_info) #get_audio_info 함수\n",
    "    tasks = [mapper(filepath) for filepath in df.filepath]\n",
    "    # df의 filepath열에 저장된 filepath를 get_audio_info에 넣고 모든 병렬처리 끝날때까지 기다리도록 설정\n",
    "    \n",
    "    \n",
    "    audio_info_index = []\n",
    "    for i in range( Part_indexs[Part_id], Part_indexs[Part_id + 1] ):\n",
    "        audio_info_index.append(i)\n",
    "        \n",
    "    df = pd.concat([df, pd.DataFrame( pool(tqdm(tasks)), index=audio_info_index )], axis=1, sort=False) #원래df 옆에 task한거(get_audio_info 결과) 붙임\n",
    "    \n",
    "    \n",
    "    #나중에 K-Fold 쓰기위해서 Fold할 number를 df에 labeling\n",
    "    skf = StratifiedKFold(n_splits=n_splits, random_state=seed, shuffle=True)\n",
    "    splits = skf.split(np.arange(len(df)), y=df.label_id.values)\n",
    "    df['fold'] = -1\n",
    "    \n",
    "    for fold, (train_set, val_set) in enumerate(splits):\n",
    "        df.loc[df.index[val_set], 'fold'] = fold\n",
    "    \n",
    "    return Label_IDS, df"
   ]
  },
  {
   "cell_type": "code",
   "execution_count": 99,
   "metadata": {
    "scrolled": true
   },
   "outputs": [
    {
     "data": {
      "application/vnd.jupyter.widget-view+json": {
       "model_id": "09328ea17f644c1dadddb9deff5fbcc0",
       "version_major": 2,
       "version_minor": 0
      },
      "text/plain": [
       "  0%|          | 0/15718 [00:00<?, ?it/s]"
      ]
     },
     "metadata": {},
     "output_type": "display_data"
    },
    {
     "data": {
      "application/vnd.jupyter.widget-view+json": {
       "model_id": "483cdc5f1ad1423cbeb0697adcddaa36",
       "version_major": 2,
       "version_minor": 0
      },
      "text/plain": [
       "  0%|          | 0/15718 [00:00<?, ?it/s]"
      ]
     },
     "metadata": {},
     "output_type": "display_data"
    },
    {
     "ename": "KeyboardInterrupt",
     "evalue": "",
     "output_type": "error",
     "traceback": [
      "\u001B[1;31m---------------------------------------------------------------------------\u001B[0m",
      "\u001B[1;31mKeyboardInterrupt\u001B[0m                         Traceback (most recent call last)",
      "\u001B[1;32m<ipython-input-99-ea038af2d6cc>\u001B[0m in \u001B[0;36m<module>\u001B[1;34m\u001B[0m\n\u001B[0;32m     10\u001B[0m         \u001B[0mjson\u001B[0m\u001B[1;33m.\u001B[0m\u001B[0mdump\u001B[0m\u001B[1;33m(\u001B[0m\u001B[0mLabel_IDS\u001B[0m\u001B[1;33m,\u001B[0m \u001B[0mf\u001B[0m\u001B[1;33m)\u001B[0m \u001B[1;31m#Label_IDS 객채를 json_file에 넣음\u001B[0m\u001B[1;33m\u001B[0m\u001B[1;33m\u001B[0m\u001B[0m\n\u001B[0;32m     11\u001B[0m \u001B[1;33m\u001B[0m\u001B[0m\n\u001B[1;32m---> 12\u001B[1;33m     \u001B[0mget_audios_as_images\u001B[0m\u001B[1;33m(\u001B[0m\u001B[0mdf\u001B[0m\u001B[1;33m)\u001B[0m\u001B[1;33m\u001B[0m\u001B[1;33m\u001B[0m\u001B[0m\n\u001B[0m",
      "\u001B[1;32m<ipython-input-98-07c09c1f2700>\u001B[0m in \u001B[0;36mget_audios_as_images\u001B[1;34m(df)\u001B[0m\n\u001B[0;32m      7\u001B[0m     \u001B[0mtasks\u001B[0m \u001B[1;33m=\u001B[0m \u001B[1;33m[\u001B[0m\u001B[0mmapper\u001B[0m\u001B[1;33m(\u001B[0m\u001B[0mrow\u001B[0m\u001B[1;33m)\u001B[0m \u001B[1;32mfor\u001B[0m \u001B[0mrow\u001B[0m \u001B[1;32min\u001B[0m \u001B[0mdf\u001B[0m\u001B[1;33m.\u001B[0m\u001B[0mitertuples\u001B[0m\u001B[1;33m(\u001B[0m\u001B[1;32mFalse\u001B[0m\u001B[1;33m)\u001B[0m\u001B[1;33m]\u001B[0m\u001B[1;33m\u001B[0m\u001B[1;33m\u001B[0m\u001B[0m\n\u001B[0;32m      8\u001B[0m \u001B[1;33m\u001B[0m\u001B[0m\n\u001B[1;32m----> 9\u001B[1;33m     \u001B[0mpool\u001B[0m\u001B[1;33m(\u001B[0m\u001B[0mtqdm\u001B[0m\u001B[1;33m(\u001B[0m\u001B[0mtasks\u001B[0m\u001B[1;33m)\u001B[0m\u001B[1;33m)\u001B[0m\u001B[1;33m\u001B[0m\u001B[1;33m\u001B[0m\u001B[0m\n\u001B[0m",
      "\u001B[1;32m~\\anaconda3\\envs\\pytorch17_p38\\lib\\site-packages\\joblib\\parallel.py\u001B[0m in \u001B[0;36m__call__\u001B[1;34m(self, iterable)\u001B[0m\n\u001B[0;32m   1052\u001B[0m \u001B[1;33m\u001B[0m\u001B[0m\n\u001B[0;32m   1053\u001B[0m             \u001B[1;32mwith\u001B[0m \u001B[0mself\u001B[0m\u001B[1;33m.\u001B[0m\u001B[0m_backend\u001B[0m\u001B[1;33m.\u001B[0m\u001B[0mretrieval_context\u001B[0m\u001B[1;33m(\u001B[0m\u001B[1;33m)\u001B[0m\u001B[1;33m:\u001B[0m\u001B[1;33m\u001B[0m\u001B[1;33m\u001B[0m\u001B[0m\n\u001B[1;32m-> 1054\u001B[1;33m                 \u001B[0mself\u001B[0m\u001B[1;33m.\u001B[0m\u001B[0mretrieve\u001B[0m\u001B[1;33m(\u001B[0m\u001B[1;33m)\u001B[0m\u001B[1;33m\u001B[0m\u001B[1;33m\u001B[0m\u001B[0m\n\u001B[0m\u001B[0;32m   1055\u001B[0m             \u001B[1;31m# Make sure that we get a last message telling us we are done\u001B[0m\u001B[1;33m\u001B[0m\u001B[1;33m\u001B[0m\u001B[1;33m\u001B[0m\u001B[0m\n\u001B[0;32m   1056\u001B[0m             \u001B[0melapsed_time\u001B[0m \u001B[1;33m=\u001B[0m \u001B[0mtime\u001B[0m\u001B[1;33m.\u001B[0m\u001B[0mtime\u001B[0m\u001B[1;33m(\u001B[0m\u001B[1;33m)\u001B[0m \u001B[1;33m-\u001B[0m \u001B[0mself\u001B[0m\u001B[1;33m.\u001B[0m\u001B[0m_start_time\u001B[0m\u001B[1;33m\u001B[0m\u001B[1;33m\u001B[0m\u001B[0m\n",
      "\u001B[1;32m~\\anaconda3\\envs\\pytorch17_p38\\lib\\site-packages\\joblib\\parallel.py\u001B[0m in \u001B[0;36mretrieve\u001B[1;34m(self)\u001B[0m\n\u001B[0;32m    931\u001B[0m             \u001B[1;32mtry\u001B[0m\u001B[1;33m:\u001B[0m\u001B[1;33m\u001B[0m\u001B[1;33m\u001B[0m\u001B[0m\n\u001B[0;32m    932\u001B[0m                 \u001B[1;32mif\u001B[0m \u001B[0mgetattr\u001B[0m\u001B[1;33m(\u001B[0m\u001B[0mself\u001B[0m\u001B[1;33m.\u001B[0m\u001B[0m_backend\u001B[0m\u001B[1;33m,\u001B[0m \u001B[1;34m'supports_timeout'\u001B[0m\u001B[1;33m,\u001B[0m \u001B[1;32mFalse\u001B[0m\u001B[1;33m)\u001B[0m\u001B[1;33m:\u001B[0m\u001B[1;33m\u001B[0m\u001B[1;33m\u001B[0m\u001B[0m\n\u001B[1;32m--> 933\u001B[1;33m                     \u001B[0mself\u001B[0m\u001B[1;33m.\u001B[0m\u001B[0m_output\u001B[0m\u001B[1;33m.\u001B[0m\u001B[0mextend\u001B[0m\u001B[1;33m(\u001B[0m\u001B[0mjob\u001B[0m\u001B[1;33m.\u001B[0m\u001B[0mget\u001B[0m\u001B[1;33m(\u001B[0m\u001B[0mtimeout\u001B[0m\u001B[1;33m=\u001B[0m\u001B[0mself\u001B[0m\u001B[1;33m.\u001B[0m\u001B[0mtimeout\u001B[0m\u001B[1;33m)\u001B[0m\u001B[1;33m)\u001B[0m\u001B[1;33m\u001B[0m\u001B[1;33m\u001B[0m\u001B[0m\n\u001B[0m\u001B[0;32m    934\u001B[0m                 \u001B[1;32melse\u001B[0m\u001B[1;33m:\u001B[0m\u001B[1;33m\u001B[0m\u001B[1;33m\u001B[0m\u001B[0m\n\u001B[0;32m    935\u001B[0m                     \u001B[0mself\u001B[0m\u001B[1;33m.\u001B[0m\u001B[0m_output\u001B[0m\u001B[1;33m.\u001B[0m\u001B[0mextend\u001B[0m\u001B[1;33m(\u001B[0m\u001B[0mjob\u001B[0m\u001B[1;33m.\u001B[0m\u001B[0mget\u001B[0m\u001B[1;33m(\u001B[0m\u001B[1;33m)\u001B[0m\u001B[1;33m)\u001B[0m\u001B[1;33m\u001B[0m\u001B[1;33m\u001B[0m\u001B[0m\n",
      "\u001B[1;32m~\\anaconda3\\envs\\pytorch17_p38\\lib\\site-packages\\joblib\\_parallel_backends.py\u001B[0m in \u001B[0;36mwrap_future_result\u001B[1;34m(future, timeout)\u001B[0m\n\u001B[0;32m    540\u001B[0m         AsyncResults.get from multiprocessing.\"\"\"\n\u001B[0;32m    541\u001B[0m         \u001B[1;32mtry\u001B[0m\u001B[1;33m:\u001B[0m\u001B[1;33m\u001B[0m\u001B[1;33m\u001B[0m\u001B[0m\n\u001B[1;32m--> 542\u001B[1;33m             \u001B[1;32mreturn\u001B[0m \u001B[0mfuture\u001B[0m\u001B[1;33m.\u001B[0m\u001B[0mresult\u001B[0m\u001B[1;33m(\u001B[0m\u001B[0mtimeout\u001B[0m\u001B[1;33m=\u001B[0m\u001B[0mtimeout\u001B[0m\u001B[1;33m)\u001B[0m\u001B[1;33m\u001B[0m\u001B[1;33m\u001B[0m\u001B[0m\n\u001B[0m\u001B[0;32m    543\u001B[0m         \u001B[1;32mexcept\u001B[0m \u001B[0mCfTimeoutError\u001B[0m \u001B[1;32mas\u001B[0m \u001B[0me\u001B[0m\u001B[1;33m:\u001B[0m\u001B[1;33m\u001B[0m\u001B[1;33m\u001B[0m\u001B[0m\n\u001B[0;32m    544\u001B[0m             \u001B[1;32mraise\u001B[0m \u001B[0mTimeoutError\u001B[0m \u001B[1;32mfrom\u001B[0m \u001B[0me\u001B[0m\u001B[1;33m\u001B[0m\u001B[1;33m\u001B[0m\u001B[0m\n",
      "\u001B[1;32m~\\anaconda3\\envs\\pytorch17_p38\\lib\\concurrent\\futures\\_base.py\u001B[0m in \u001B[0;36mresult\u001B[1;34m(self, timeout)\u001B[0m\n\u001B[0;32m    432\u001B[0m                 \u001B[1;32mreturn\u001B[0m \u001B[0mself\u001B[0m\u001B[1;33m.\u001B[0m\u001B[0m__get_result\u001B[0m\u001B[1;33m(\u001B[0m\u001B[1;33m)\u001B[0m\u001B[1;33m\u001B[0m\u001B[1;33m\u001B[0m\u001B[0m\n\u001B[0;32m    433\u001B[0m \u001B[1;33m\u001B[0m\u001B[0m\n\u001B[1;32m--> 434\u001B[1;33m             \u001B[0mself\u001B[0m\u001B[1;33m.\u001B[0m\u001B[0m_condition\u001B[0m\u001B[1;33m.\u001B[0m\u001B[0mwait\u001B[0m\u001B[1;33m(\u001B[0m\u001B[0mtimeout\u001B[0m\u001B[1;33m)\u001B[0m\u001B[1;33m\u001B[0m\u001B[1;33m\u001B[0m\u001B[0m\n\u001B[0m\u001B[0;32m    435\u001B[0m \u001B[1;33m\u001B[0m\u001B[0m\n\u001B[0;32m    436\u001B[0m             \u001B[1;32mif\u001B[0m \u001B[0mself\u001B[0m\u001B[1;33m.\u001B[0m\u001B[0m_state\u001B[0m \u001B[1;32min\u001B[0m \u001B[1;33m[\u001B[0m\u001B[0mCANCELLED\u001B[0m\u001B[1;33m,\u001B[0m \u001B[0mCANCELLED_AND_NOTIFIED\u001B[0m\u001B[1;33m]\u001B[0m\u001B[1;33m:\u001B[0m\u001B[1;33m\u001B[0m\u001B[1;33m\u001B[0m\u001B[0m\n",
      "\u001B[1;32m~\\anaconda3\\envs\\pytorch17_p38\\lib\\threading.py\u001B[0m in \u001B[0;36mwait\u001B[1;34m(self, timeout)\u001B[0m\n\u001B[0;32m    300\u001B[0m         \u001B[1;32mtry\u001B[0m\u001B[1;33m:\u001B[0m    \u001B[1;31m# restore state no matter what (e.g., KeyboardInterrupt)\u001B[0m\u001B[1;33m\u001B[0m\u001B[1;33m\u001B[0m\u001B[0m\n\u001B[0;32m    301\u001B[0m             \u001B[1;32mif\u001B[0m \u001B[0mtimeout\u001B[0m \u001B[1;32mis\u001B[0m \u001B[1;32mNone\u001B[0m\u001B[1;33m:\u001B[0m\u001B[1;33m\u001B[0m\u001B[1;33m\u001B[0m\u001B[0m\n\u001B[1;32m--> 302\u001B[1;33m                 \u001B[0mwaiter\u001B[0m\u001B[1;33m.\u001B[0m\u001B[0macquire\u001B[0m\u001B[1;33m(\u001B[0m\u001B[1;33m)\u001B[0m\u001B[1;33m\u001B[0m\u001B[1;33m\u001B[0m\u001B[0m\n\u001B[0m\u001B[0;32m    303\u001B[0m                 \u001B[0mgotit\u001B[0m \u001B[1;33m=\u001B[0m \u001B[1;32mTrue\u001B[0m\u001B[1;33m\u001B[0m\u001B[1;33m\u001B[0m\u001B[0m\n\u001B[0;32m    304\u001B[0m             \u001B[1;32melse\u001B[0m\u001B[1;33m:\u001B[0m\u001B[1;33m\u001B[0m\u001B[1;33m\u001B[0m\u001B[0m\n",
      "\u001B[1;31mKeyboardInterrupt\u001B[0m: "
     ]
    }
   ],
   "source": [
    "# 합친 Data_Frame 생성 (Part_id == 0 이기 때문에 5개를 loop로 5개 다 돌려야 전체 데이터 셋임)\n",
    "for Part_id in range(4):\n",
    "    Label_IDS, df = make_df()\n",
    "\n",
    "    # 새 df를 csv로 저장\n",
    "    df.to_csv(Root_Path + f'/rich_train_metadata_{Part_id}.csv', index=True)\n",
    "    \n",
    "    #json이 data 전송할때 더 유리하다고 함, json도 같이 저장해줍시다.\n",
    "    with open(Root_Path + f'/Label_IDS_{Part_id}.json', 'w') as f: ## Label_IDS.json 이름의 파일을 'w'rite모드로 열어서\n",
    "        json.dump(Label_IDS, f) #Label_IDS 객채를 json_file에 넣음\n",
    "        \n",
    "    get_audios_as_images(df) ##이건 넘어갔다가 Audio_do_image 파트 보고 다시올것."
   ]
  },
  {
   "cell_type": "code",
   "execution_count": 13,
   "metadata": {},
   "outputs": [],
   "source": [
    "#######################################\n",
    "##                                   ##  \n",
    "## 음성처리 위한 Melspectrogram 계산 ## \n",
    "##                                   ##\n",
    "#######################################\n",
    "\n",
    "class MelSpecComputer:\n",
    "    def __init__(self, sr, n_mels, fmin, fmax, **kwargs):\n",
    "        self.sr = sr\n",
    "        self.n_mels = n_mels\n",
    "        self.fmin = fmin\n",
    "        self.fmax = fmax\n",
    "        kwargs['n_fft'] = kwargs.get('n_fft', self.sr//10) ##SR//10으로 n_fft 설정\n",
    "        kwargs['hop_length'] = kwargs.get('hop_length', self.sr//(10*4)) ##hop length == fft마다 겹치는 길이\n",
    "        self.kwargs = kwargs\n",
    "    \n",
    "    \n",
    "    def __call__(self, audio):\n",
    "        \n",
    "        melspec = lb.feature.melspectrogram(\n",
    "            audio, sr=self.sr, n_mels=self.n_mels, fmin=self.fmin, fmax=self.fmax, **self.kwargs\n",
    "        )\n",
    "        melspec = lb.power_to_db(melspec).astype(np.float32)\n",
    "        \n",
    "        return melspec"
   ]
  },
  {
   "cell_type": "code",
   "execution_count": 14,
   "metadata": {},
   "outputs": [],
   "source": [
    "#########################################\n",
    "##          Mel Image normalize        ##   \n",
    "## 이미지 노말라이징 안하면 너무 밝음  ##\n",
    "#########################################\n",
    "\n",
    "def mono_to_color(X, eps=1e-6, mean=None, std=None):\n",
    "    mean = mean or X.mean()\n",
    "    std = std or X.std()\n",
    "    X = (X - mean) / (std + eps)\n",
    "    \n",
    "    _min, _max = X.min(), X.max()\n",
    "\n",
    "    if (_max - _min) > eps:\n",
    "        V = np.clip(X, _min, _max)\n",
    "        V = 255 * (V - _min) / (_max - _min)\n",
    "        V = V.astype(np.uint8)\n",
    "    else:\n",
    "        V = np.zeros_like(X, dtype=np.uint8)\n",
    "\n",
    "    return V"
   ]
  },
  {
   "cell_type": "code",
   "execution_count": 15,
   "metadata": {},
   "outputs": [],
   "source": [
    "######################################\n",
    "##          Crop Padding            ##   \n",
    "## 규격에 맞게 사이즈 trimming 하기 ##\n",
    "######################################\n",
    "\n",
    "def crop_or_pad(y, length, is_train=True, start=None):\n",
    "    # y가 규격보다 짧으면\n",
    "    if len(y) < length:\n",
    "        y = np.concatenate([y, np.zeros(length - len(y))]) ## 부족한 길이를 0우로 padding 함\n",
    "        \n",
    "        n_repeats = length // len(y)\n",
    "        epsilon = length % len(y)\n",
    "        \n",
    "        y= np.concatenate([y]*n_repeats + [y[:epsilon]]) ##적당히 채워줌\n",
    "        \n",
    "    # y가 규격보다 길면    \n",
    "    elif len(y) > length:\n",
    "        if not is_train:\n",
    "            start = start or 0\n",
    "        else:\n",
    "            start = start or np.random.randint(len(y) - length)\n",
    "            \n",
    "        y = y[start : start + length] ##이러면 length짜리 y로 변경됨\n",
    "        \n",
    "        \n",
    "    return y"
   ]
  },
  {
   "cell_type": "code",
   "execution_count": 9,
   "metadata": {},
   "outputs": [],
   "source": [
    "############################                  \n",
    "##   Audio to Image       ##\n",
    "############################\n",
    "\n",
    "\n",
    "class AudioToImage:\n",
    "    def __init__(self, sr=SR, n_mels=128, fmin=0, fmax=None, duration=Duration, step=None, res_type='kaiser_fast', resample=True):\n",
    "        \n",
    "        self.sr = sr\n",
    "        self.n_mels = n_mels\n",
    "        self.fmin = fmin\n",
    "        self.fmax = fmax or self.sr//2 ##안넣으면 nyquist로 씀\n",
    "        self.duration = duration\n",
    "        self.audio_length = self.duration * self.sr #audio들은 길이가 다 다르기 때문에 audio_length만큼씩 같은 길이로 토막내서 보관\n",
    "        self.step = step or self.audio_length\n",
    "        self.res_type = res_type\n",
    "        self.resample = resample\n",
    "        \n",
    "        self.mel_spec_computer = MelSpecComputer(sr=self.sr, n_mels=self.n_mels, fmin=self.fmin, fmax=self.fmax)\n",
    "        \n",
    "    def audio_to_image(self, audio):\n",
    "        melspec = self.mel_spec_computer(audio)\n",
    "        image = mono_to_color(melspec)\n",
    "        \n",
    "        return image\n",
    "    \n",
    "    def __call__(self, row, save=True):\n",
    "        audio, orig_sr = sf.read(row.filepath, dtype='float32')\n",
    "        \n",
    "        #전처리 Audio_to_img 하기전에 음성과 우리의 sr이 안맞으면 안되기때문에..\n",
    "        if self.resample and orig_sr != self.sr: #resampling이 요청되거나(sampling rate가 안맞을때)\n",
    "            audio = lb.resample(audio, orig_sr, self.sr, res_type=self.res_type)\n",
    "          \n",
    "        \n",
    "        ##본처리\n",
    "        \n",
    "        #먼저 음성마다 다른 길이를 맞춰주기 위해서 같은 길이로 샘플링할것임\n",
    "        # audio길이를 i:i+audio_len 즉 audio_len만큼 읽을건데, i범위는 0부터 총길이-원하는길이 , 원하는 길이 간격으로\n",
    "        # 즉 audios에 저장 되는것은 [0~audio_len, audio_len~2*audio_len, ..... ,x*audio_len~총길이] 이런식으로 샘플링해서 저장\n",
    "        audios = [audio[i: i+self.audio_length] for i in range(0, max(1, len(audio) - self.audio_length+1), self.step)]\n",
    "        # 마지막 (x*audio_len ~ 총 길이) 인 샘플은 총 길이가 (x+1)*audio_len 이 아니면 더 짧게 나올것임, 따라서 crop_padding해줌\n",
    "        audios[-1] = crop_or_pad(audios[-1], length=self.audio_length)\n",
    "        \n",
    "        #audios에 잘라서 넣은 audio들을\n",
    "        images = [self.audio_to_image(audio) for audio in audios]\n",
    "        images = np.stack(images)\n",
    "        \n",
    "        \n",
    "        #저장\n",
    "        if save:\n",
    "            path = Train_audio_image_save_root/f\"{row.primary_label}/{row.filename}.npy\"\n",
    "            path.parent.mkdir(exist_ok=True, parents=True) #parent는 상위경로도 생성한다는 뜻\n",
    "            np.save(str(path), images)\n",
    "        \n",
    "        else:\n",
    "            return row.filename, images"
   ]
  },
  {
   "cell_type": "code",
   "execution_count": 10,
   "metadata": {},
   "outputs": [],
   "source": [
    "## Audio to Image 실행\n",
    "\n",
    "def get_audios_as_images(df):\n",
    "    pool = joblib.Parallel(2)\n",
    "    converter = AudioToImage(step=int(Duration*0.666*SR)) ##Step ==audio_length\n",
    "    mapper = joblib.delayed(converter)\n",
    "    tasks = [mapper(row) for row in df.itertuples(False)]\n",
    "\n",
    "    pool(tqdm(tasks))"
   ]
  },
  {
   "cell_type": "code",
   "execution_count": 18,
   "metadata": {
    "pycharm": {
     "is_executing": true
    }
   },
   "outputs": [
    {
     "data": {
      "text/plain": [
       "\"\\n# For example.. we can see longest duration mel image\\nrow_example = df.loc[df.duration.idxmax()]\\nmels_example = np.load(str((Train_audio_image_save_root/row.primary_label/row.filename).as_posix() + '.npy'))\\nprint(mels_example.shape)\\nlbd.specshow(mels_example[0])\\n# as_posix 쓰면 str 안에 존재하는 \\\\ 가 | 로 바뀜\\n\""
      ]
     },
     "execution_count": 18,
     "metadata": {},
     "output_type": "execute_result"
    }
   ],
   "source": [
    "'''\n",
    "# For example.. we can see longest duration mel image\n",
    "row_example = df.loc[df.duration.idxmax()]\n",
    "mels_example = np.load(str((Train_audio_image_save_root/row.primary_label/row.filename).as_posix() + '.npy'))\n",
    "print(mels_example.shape)\n",
    "lbd.specshow(mels_example[0])\n",
    "# as_posix 쓰면 str 안에 존재하는 \\ 가 | 로 바뀜\n",
    "'''"
   ]
  },
  {
   "cell_type": "code",
   "execution_count": 51,
   "metadata": {
    "pycharm": {
     "is_executing": true
    }
   },
   "outputs": [
    {
     "data": {
      "text/plain": [
       "' \\n    \\n\\n\\n\\n\\n'"
      ]
     },
     "execution_count": 51,
     "metadata": {},
     "output_type": "execute_result"
    }
   ],
   "source": [
    "###############################################\n",
    "'''\n",
    "                 PIPE LINE 2.0\n",
    "                 Data 불러오기\n",
    "  melspec computing 후 저장한 Label_IDS.json 과\n",
    "        rich_train_meta.csv 불러오기\n",
    "        \n",
    "            dataset으로 저장\n",
    "                                              '''\n",
    "###############################################\n",
    "\n",
    "\n",
    "''' \n",
    "    \n",
    "\n",
    "\n",
    "\n",
    "\n",
    "'''\n"
   ]
  },
  {
   "cell_type": "code",
   "execution_count": 9,
   "metadata": {
    "pycharm": {
     "is_executing": true
    }
   },
   "outputs": [],
   "source": [
    "###\n",
    "##  Mel 이미지를 만들었으니 이제는 train이랑 model 만들어야함\n",
    "###\n",
    "\n",
    "## df.to_csv(Root_Path + '/rich_train_metadata.csv', index=True) 있었음\n",
    "\n",
    "Rich_train_path = Path(Root_Path + '/rich_train_metadata.csv')\n",
    "Train_label_paths = Path(Root_Path + '/Label_IDS.json')\n",
    "MODEL_ROOT = Path(\".\") ##save 할때 씀\n",
    "\n",
    "# 만약 n개로 쪼개진 파일이라면(파일이름이 d-part1, d-part2, d-part3 등으로 돼 있다면)\n",
    "# Rich_train_path = sorted(Path(\"블라블라/d-part?./rich_train_metadata.csv\")) 로 읽고\n",
    "# get_df에서 for path in file_path 로 하나씩 읽으면 됨. d-part?랑 sorted 때문에 iter 사용가능"
   ]
  },
  {
   "cell_type": "code",
   "execution_count": 10,
   "metadata": {
    "pycharm": {
     "is_executing": true
    }
   },
   "outputs": [
    {
     "data": {
      "text/plain": [
       "\" n개로 쪼개진 파일일때 예시\\n\\ndef get_df(file_path = Rich_train_path, label_path = Train_label_paths):\\n    \\n    df = None  #빈 df 생성\\n    Label_IDS = {}  #빈 label 생성\\n    \\n    for path in file_paths:\\n        temp = pd.read_csv(str(file_path), index_col = 0)\\n        temp['impath'] = temp.apply(lambda row: file_path.parent/'audio_images/{}/{}.npy'.format(row.primary_label, row.filename), axis=1)\\n        \\n        df = temp if df is None else df.append(temp)\\n        \\n        \\n        df['secondary_labels'] = df['secondary_labels'].apply(literal_eval) ## 예를들어 second_label에 ['amegfi'] 를 [amegfi] 로 바꿔줌\\n        \\n    for path in label_path:\\n        with open(str(path)) as f:\\n            Label_IDS.update(json.load(f))\\n                \\n    return Label_IDS, df\\n\\n\""
      ]
     },
     "execution_count": 10,
     "metadata": {},
     "output_type": "execute_result"
    }
   ],
   "source": [
    "#####################################\n",
    "##   저장된 Data Frame 불러와서    ##\n",
    "##    impath 맨 뒤에 붙이기        ##\n",
    "##    make_df도 있음 초반부에      ##\n",
    "#####################################\n",
    "## get_df 에서 학습용 df 전처리 하는게 유리할것. (df.rating이 일정이하면 학습에 안쓰겠다 등등)\n",
    "\n",
    "def get_df(file_path = Rich_train_path, label_path = Train_label_paths):\n",
    "    \n",
    "    df = None  #빈 df 생성\n",
    "    Label_IDS = {}  #빈 label 생성\n",
    "    \n",
    "    \n",
    "    temp = pd.read_csv(str(file_path), index_col = False) ##index_col = False면 column을 index로 안쓰고 순서대로 index부여\n",
    "    \n",
    "    temp['impath'] = temp.apply(lambda row: file_path.parent/'audio_images/{}/{}.npy'.format(row.primary_label, row.filename), axis=1)\n",
    "    #impath = sound_path + audio_images + primary_label + filename 으로 불러오겠다\n",
    "        \n",
    "    df = temp if df is None else df.append(temp)\n",
    "        \n",
    "        \n",
    "    df['secondary_labels'] = df['secondary_labels'].apply(literal_eval) ## 예를들어 second_label에 ['amegfi'] 를 [amegfi] 로 바꿔줌\n",
    "        \n",
    "    \n",
    "    with open(str(label_path)) as f:\n",
    "        Label_IDS.update(json.load(f))\n",
    "                \n",
    "    return Label_IDS, df\n",
    "\n",
    "\n",
    "\n",
    "\n",
    "''' n개로 쪼개진 파일일때 예시\n",
    "\n",
    "def get_df(file_path = Rich_train_path, label_path = Train_label_paths):\n",
    "    \n",
    "    df = None  #빈 df 생성\n",
    "    Label_IDS = {}  #빈 label 생성\n",
    "    \n",
    "    for path in file_paths:\n",
    "        temp = pd.read_csv(str(file_path), index_col = 0)\n",
    "        temp['impath'] = temp.apply(lambda row: file_path.parent/'audio_images/{}/{}.npy'.format(row.primary_label, row.filename), axis=1)\n",
    "        \n",
    "        df = temp if df is None else df.append(temp)\n",
    "        \n",
    "        \n",
    "        df['secondary_labels'] = df['secondary_labels'].apply(literal_eval) ## 예를들어 second_label에 ['amegfi'] 를 [amegfi] 로 바꿔줌\n",
    "        \n",
    "    for path in label_path:\n",
    "        with open(str(path)) as f:\n",
    "            Label_IDS.update(json.load(f))\n",
    "                \n",
    "    return Label_IDS, df\n",
    "\n",
    "'''"
   ]
  },
  {
   "cell_type": "code",
   "execution_count": 11,
   "metadata": {
    "pycharm": {
     "is_executing": true
    }
   },
   "outputs": [],
   "source": [
    "Lable_IDS, df = get_df()"
   ]
  },
  {
   "cell_type": "code",
   "execution_count": 12,
   "metadata": {},
   "outputs": [
    {
     "data": {
      "text/plain": [
       "\"\\ndf_low_rating = df[(df['rating'] > -1) & (df['rating'] < 3.5)]\\n\\ndf.drop(df_low_rating.index, inplace = True)\\ndf.reset_index(drop=True, inplace=True)## 이거 안해주면 중간에 인덱스가 1,2,3,4,8,9,10,13 처럼 빈거 생겨서 이터에러뜸\\n\\n\\ndf.rating.value_counts()\""
      ]
     },
     "execution_count": 12,
     "metadata": {},
     "output_type": "execute_result"
    }
   ],
   "source": [
    "#########################################\n",
    "##         Rating 기준으로 삭제        ##\n",
    "##            in Data Frame            ##\n",
    "#########################################\n",
    "## data 수가 줄어듦 -> fold를 적게 나눠서 데이터 셋을 늘려서 상회시켜보자\n",
    "'''\n",
    "df_low_rating = df[(df['rating'] > -1) & (df['rating'] < 3.5)]\n",
    "\n",
    "df.drop(df_low_rating.index, inplace = True)\n",
    "df.reset_index(drop=True, inplace=True)## 이거 안해주면 중간에 인덱스가 1,2,3,4,8,9,10,13 처럼 빈거 생겨서 이터에러뜸\n",
    "\n",
    "\n",
    "df.rating.value_counts()'''"
   ]
  },
  {
   "cell_type": "code",
   "execution_count": 13,
   "metadata": {
    "pycharm": {
     "is_executing": true
    }
   },
   "outputs": [],
   "source": [
    "#########################################\n",
    "##   불러온 Data Frame 에 맞는         ##\n",
    "##    impath에 해당하는 npy 불러와서   ##\n",
    "##        dic으로 매칭                 ##\n",
    "#########################################\n",
    "\n",
    "Max_read_samples = 5 #메모리 아끼려고 5개만 불러오자 ##load_row에서 return row.filename, np.load(str(row.impath))[:MAX_READ_SAMPLES] 사용\n",
    "def load_data(df):\n",
    "    \n",
    "    '''''''''''' ##여기 수정해서 row 받을때 quality 좋은것만 받을것\n",
    "    \n",
    "    def load_row(row):\n",
    "        # filename = .ogg,  impath = .npy\n",
    "        return row.filename, np.load(str(row.impath))\n",
    "    \n",
    "    \n",
    "    pool = joblib.Parallel(4) #병렬처리\n",
    "    mapper = joblib.delayed(load_row)\n",
    "    tasks = [mapper(row) for row in df.itertuples(False)]\n",
    "    res = pool(tqdm(tasks))\n",
    "    res = dict(res)\n",
    "    \n",
    "    return res"
   ]
  },
  {
   "cell_type": "code",
   "execution_count": 14,
   "metadata": {
    "pycharm": {
     "is_executing": true
    }
   },
   "outputs": [
    {
     "data": {
      "application/vnd.jupyter.widget-view+json": {
       "model_id": "5c777d9fdcda420b8f38ef086549994a",
       "version_major": 2,
       "version_minor": 0
      },
      "text/plain": [
       "  0%|          | 0/62874 [00:00<?, ?it/s]"
      ]
     },
     "metadata": {},
     "output_type": "display_data"
    }
   ],
   "source": [
    "## filename이랑 음성.npy랑 dic 타입으로 저장\n",
    "audio_image_store = load_data(df)"
   ]
  },
  {
   "cell_type": "code",
   "execution_count": 15,
   "metadata": {
    "pycharm": {
     "is_executing": true
    }
   },
   "outputs": [
    {
     "data": {
      "text/plain": [
       "62874"
      ]
     },
     "execution_count": 15,
     "metadata": {},
     "output_type": "execute_result"
    }
   ],
   "source": [
    "## audio_image가 잘 저장됐는지 확인(길이로 대강만 보자 일단)\n",
    "len(audio_image_store)"
   ]
  },
  {
   "cell_type": "code",
   "execution_count": 16,
   "metadata": {
    "pycharm": {
     "is_executing": true
    }
   },
   "outputs": [],
   "source": [
    "###################################\n",
    "##        Dataset 만들기          ##\n",
    "##    numpy 3층으로 image 쌓고    ##\n",
    "##     label은  smoothing 해서    ##\n",
    "##         image, label 반환      ##\n",
    "####################################\n",
    "\n",
    "class BirdClefDataset(Dataset):\n",
    "    \n",
    "    def __init__(self, audio_image_store, meta, sr=SR, is_train=True, num_classes=Num_classes, duration=Duration):\n",
    "        \n",
    "        self.audio_image_store = audio_image_store ##audio np array랑 filename 저장된 dic\n",
    "        self.meta = meta.copy().reset_index(drop=True) ##meta는 df\n",
    "        self.sr = sr\n",
    "        self.is_train = is_train\n",
    "        self.num_classes = num_classes\n",
    "        self.duration = duration\n",
    "        self.audio_length = self.duration * self.sr\n",
    "        \n",
    "    \n",
    "    def normalize(self, image):\n",
    "        image = image.astype('float32', copy=False) / 255.0\n",
    "        image = np.stack([image, image, image])\n",
    "        return image\n",
    "    \n",
    "    def __len__(self):\n",
    "        return len(self.meta)\n",
    "    \n",
    "\n",
    "    \n",
    "    ##이 dataset의 단점이 있는 파트\n",
    "    def __getitem__(self, idx):\n",
    "        row = self.meta.iloc[idx]  #df에서 데이터 하나 불러옴\n",
    "        image = self.audio_image_store[row.filename] #불러온 데이터의 filename으로 audio_image_store에서 image에 해당하는 np array 받아서 image에 저장\n",
    "        \n",
    "\n",
    "        #image에 저장된 np array는 (x, 128, 281)로써, 음성(.ogg)가 25초라면 7초씩 저장했으므로 x==4, 이미지크기==128,281 이라는 뜻. len(image)는 맨 앞 x를 반환한다.\n",
    "        #즉 윗줄이 뜻하는 것은 AudioToImage 클래스로 image에 저장시킨 7초짜리 x개의 영상중 랜덤으로 하나만 쓰겠다는 뜻이다.\n",
    "        #이것은 단점이 되는데 만약 랜덤하게 뽑은 음성이 표본을 제대로 반영하지 못할수 있기 때문이다.\n",
    "        image = image[np.random.choice(len(image))] \n",
    "        \n",
    "        \n",
    "        image = self.normalize(image)\n",
    "        \n",
    "        ## Label smoothing. 해당 라벨은 0.995, 나머지는 0.0025로 초기화\n",
    "        t = np.zeros(self.num_classes, dtype=np.float32) + 0.0025 \n",
    "        t[row.label_id] = 0.995\n",
    "        \n",
    "        return image, t"
   ]
  },
  {
   "cell_type": "code",
   "execution_count": 18,
   "metadata": {
    "pycharm": {
     "is_executing": true
    }
   },
   "outputs": [],
   "source": [
    "dataset = BirdClefDataset(audio_image_store, meta=df, sr=SR, duration=Duration, is_train=True)"
   ]
  },
  {
   "cell_type": "code",
   "execution_count": 19,
   "metadata": {
    "pycharm": {
     "is_executing": true
    }
   },
   "outputs": [
    {
     "name": "stdout",
     "output_type": "stream",
     "text": [
      "(3, 128, 281) (397,) (array([386], dtype=int64),)\n"
     ]
    },
    {
     "data": {
      "text/plain": [
       "<matplotlib.collections.QuadMesh at 0x2031c755eb0>"
      ]
     },
     "execution_count": 19,
     "metadata": {},
     "output_type": "execute_result"
    },
    {
     "data": {
      "image/png": "[encoded data removed]",
      "text/plain": [
       "<Figure size 432x288 with 1 Axes>"
      ]
     },
     "metadata": {},
     "output_type": "display_data"
    }
   ],
   "source": [
    "#만든 dataset 확인하기\n",
    "\n",
    "x, y = dataset[np.random.choice(len(dataset))] #random으로 ds에서 하나 받아오기\n",
    "print(x.shape, y.shape, np.where(y>=0.5)) # x는 3층(image, image, image), y는 label, np.where은 하나뽑은 녀석이 label에서 몇번에 등록된 해당하는지\n",
    "lbd.specshow(x[0])"
   ]
  },
  {
   "cell_type": "code",
   "execution_count": 20,
   "metadata": {},
   "outputs": [
    {
     "data": {
      "text/plain": [
       "'\\n                 PIPE LINE 2.2\\n                불러온 데이터를\\n             Augmentation 한 이후\\n                dataset으로 저장\\n                                              '"
      ]
     },
     "execution_count": 20,
     "metadata": {},
     "output_type": "execute_result"
    }
   ],
   "source": [
    "###############################################\n",
    "'''\n",
    "                 PIPE LINE 2.2\n",
    "                불러온 데이터를\n",
    "             Augmentation 한 이후\n",
    "                dataset으로 저장\n",
    "                                              '''\n",
    "###############################################\n",
    "\n",
    "\n"
   ]
  },
  {
   "cell_type": "code",
   "execution_count": 17,
   "metadata": {},
   "outputs": [],
   "source": [
    "##########################\n",
    "##     Time Warp 함수    ##\n",
    "##########################\n",
    "\n",
    "def time_warp(spec, W=5):\n",
    "    num_rows = spec.shape[1]\n",
    "    spec_len = spec.shape[2]\n",
    "    device = spec.device\n",
    "    \n",
    "    y = num_rows//2\n",
    "    horizontal_line_at_ctr = spec[0][y]\n",
    "    assert len(horizontal_line_at_ctr) == spec_len\n",
    "    \n",
    "    point_to_warp = horizontal_line_at_ctr[random.randrange(W, spec_len - W)]\n",
    "    assert isinstance(point_to_warp, torch.Tensor)\n",
    "\n",
    "    # Uniform distribution from (0,W) with chance to be up to W negative\n",
    "    dist_to_warp = random.randrange(-W, W)\n",
    "    src_pts, dest_pts = (torch.tensor([[[y, point_to_warp]]], device=device), \n",
    "                         torch.tensor([[[y, point_to_warp + dist_to_warp]]], device=device))\n",
    "    warped_spectro, dense_flows = sparse_image_warp(spec, src_pts, dest_pts)\n",
    "    return warped_spectro.squeeze(3)"
   ]
  },
  {
   "cell_type": "code",
   "execution_count": 18,
   "metadata": {},
   "outputs": [],
   "source": [
    "class Warp_Aug_BirdClefDataset(BirdClefDataset):\n",
    "    def __init__(self, audio_image_store, meta, sr=SR, is_train=True, num_classes=Num_classes, duration=Duration):\n",
    "        \n",
    "        self.audio_image_store = audio_image_store ##audio np array랑 filename 저장된 dic\n",
    "        self.meta = meta.copy().reset_index(drop=True) ##meta는 df\n",
    "        self.sr = sr\n",
    "        self.is_train = is_train\n",
    "        self.num_classes = num_classes\n",
    "        self.duration = duration\n",
    "        self.audio_length = self.duration * self.sr\n",
    "        \n",
    "    \n",
    "    def normalize(self, image):\n",
    "        image = image.astype('float32', copy=False) / 255.0\n",
    "        image = np.stack([image, image, image])\n",
    "        return image\n",
    "    \n",
    "    def __len__(self):\n",
    "        return len(self.meta)\n",
    "    \n",
    "    \n",
    "    ##이 dataset의 단점이 있는 파트\n",
    "    def __getitem__(self, idx):\n",
    "        row = self.meta.iloc[idx]  #df에서 데이터 하나 불러옴\n",
    "        image = self.audio_image_store[row.filename] #불러온 데이터의 filename으로 audio_image_store에서 image에 해당하는 np array 받아서 image에 저장\n",
    "        \n",
    "        image = image[np.random.choice(len(image))] \n",
    "        \n",
    "        \n",
    "        ## Augmentation할때 Torch(1,x,x) -> Torch(1,x,x) 인 함수라서 torch로 변경후\n",
    "        ## Unsqueeze로 Image(x,x) -> (1,x,x) 해준 후\n",
    "        ## 함수 돌리고\n",
    "        ## Squeeze로 (1,x,x) -> (x,x) 해준 후\n",
    "        ## 다시 numpy 로 만들어 줌\n",
    "        image = torch.from_numpy(image)\n",
    "        image = image.unsqueeze(0)\n",
    "        image = time_warp(image, W=2)\n",
    "        image = image.squeeze(0)\n",
    "        image = image.numpy()\n",
    "        \n",
    "        image = self.normalize(image)\n",
    "        \n",
    "        ## Label smoothing. 해당 라벨은 0.995, 나머지는 0.0025로 초기화\n",
    "        t = np.zeros(self.num_classes, dtype=np.float32) + 0.0025 \n",
    "        t[row.label_id] = 0.995\n",
    "        \n",
    "        return image, t"
   ]
  },
  {
   "cell_type": "code",
   "execution_count": 23,
   "metadata": {},
   "outputs": [],
   "source": [
    "a_dataset = Warp_Aug_BirdClefDataset(audio_image_store, meta=df, sr=SR, duration=Duration, is_train=True)"
   ]
  },
  {
   "cell_type": "code",
   "execution_count": 48,
   "metadata": {},
   "outputs": [
    {
     "name": "stdout",
     "output_type": "stream",
     "text": [
      "(3, 128, 281) (397,) (array([305], dtype=int64),)\n"
     ]
    },
    {
     "data": {
      "text/plain": [
       "<matplotlib.collections.QuadMesh at 0x20334d9ebe0>"
      ]
     },
     "execution_count": 48,
     "metadata": {},
     "output_type": "execute_result"
    },
    {
     "data": {
      "image/png": "[encoded data removed]",
      "text/plain": [
       "<Figure size 432x288 with 1 Axes>"
      ]
     },
     "metadata": {},
     "output_type": "display_data"
    }
   ],
   "source": [
    "#만든 dataset 확인하기\n",
    "\n",
    "xa, ya = a_dataset[np.random.choice(len(a_dataset))] #random으로 ds에서 하나 받아오기\n",
    "print(xa.shape, ya.shape, np.where(ya>=0.5)) # x는 3층(image, image, image), y는 label, np.where은 하나뽑은 녀석이 label에서 몇번에 등록된 해당하는지lbd.specshow(x[0])\n",
    "lbd.specshow(xa[0])"
   ]
  },
  {
   "cell_type": "code",
   "execution_count": null,
   "metadata": {},
   "outputs": [],
   "source": []
  },
  {
   "cell_type": "code",
   "execution_count": 19,
   "metadata": {},
   "outputs": [],
   "source": [
    "################################\n",
    "##     Frequency Mask 함수    ##\n",
    "################################\n",
    "\n",
    "def freq_mask(spec, F=30, num_masks=1, replace_with_zero=False):\n",
    "    cloned = spec.clone()\n",
    "    num_mel_channels = cloned.shape[1]\n",
    "    \n",
    "    for i in range(0, num_masks):        \n",
    "        f = random.randrange(0, F)\n",
    "        f_zero = random.randrange(0, num_mel_channels - f)\n",
    "\n",
    "        # avoids randrange error if values are equal and range is empty\n",
    "        if (f_zero == f_zero + f): return cloned\n",
    "\n",
    "        mask_end = random.randrange(f_zero, f_zero + f) \n",
    "        if (replace_with_zero): cloned[0][f_zero:mask_end] = 0\n",
    "        else: cloned[0][f_zero:mask_end] = cloned.mean()\n",
    "    \n",
    "    return cloned"
   ]
  },
  {
   "cell_type": "code",
   "execution_count": 20,
   "metadata": {},
   "outputs": [],
   "source": [
    "################################\n",
    "##       Time Mask 함수       ##\n",
    "################################\n",
    "\n",
    "def time_mask(spec, T=40, num_masks=1, replace_with_zero=False):\n",
    "    cloned = spec.clone()\n",
    "    len_spectro = cloned.shape[2]\n",
    "    \n",
    "    for i in range(0, num_masks):\n",
    "        t = random.randrange(0, T)\n",
    "        t_zero = random.randrange(0, len_spectro - t)\n",
    "\n",
    "        # avoids randrange error if values are equal and range is empty\n",
    "        if (t_zero == t_zero + t): return cloned\n",
    "\n",
    "        mask_end = random.randrange(t_zero, t_zero + t)\n",
    "        if (replace_with_zero): cloned[0][:,t_zero:mask_end] = 0\n",
    "        else: cloned[0][:,t_zero:mask_end] = cloned.mean()\n",
    "    return cloned"
   ]
  },
  {
   "cell_type": "code",
   "execution_count": 21,
   "metadata": {},
   "outputs": [],
   "source": [
    "class Mask_Aug_BirdClefDataset(BirdClefDataset):\n",
    "    def __init__(self, audio_image_store, meta, sr=SR, is_train=True, num_classes=Num_classes, duration=Duration):\n",
    "        \n",
    "        self.audio_image_store = audio_image_store ##audio np array랑 filename 저장된 dic\n",
    "        self.meta = meta.copy().reset_index(drop=True) ##meta는 df\n",
    "        self.sr = sr\n",
    "        self.is_train = is_train\n",
    "        self.num_classes = num_classes\n",
    "        self.duration = duration\n",
    "        self.audio_length = self.duration * self.sr\n",
    "        \n",
    "    \n",
    "    def normalize(self, image):\n",
    "        image = image.astype('float32', copy=False) / 255.0\n",
    "        image = np.stack([image, image, image])\n",
    "        return image\n",
    "    \n",
    "    def __len__(self):\n",
    "        return len(self.meta)\n",
    "    \n",
    "    \n",
    "    ##이 dataset의 단점이 있는 파트\n",
    "    def __getitem__(self, idx):\n",
    "        row = self.meta.iloc[idx]  #df에서 데이터 하나 불러옴\n",
    "        image = self.audio_image_store[row.filename] #불러온 데이터의 filename으로 audio_image_store에서 image에 해당하는 np array 받아서 image에 저장\n",
    "        \n",
    "        \n",
    "        \n",
    "        image = image[np.random.choice(len(image))] \n",
    "        \n",
    "        \n",
    "        ## Augmentation할때 Torch(1,x,x) -> Torch(1,x,x) 인 함수라서 torch로 변경후\n",
    "        ## Unsqueeze로 Image(x,x) -> (1,x,x) 해준 후\n",
    "        ## 함수 돌리고\n",
    "        ## Squeeze로 (1,x,x) -> (x,x) 해준 후\n",
    "        ## 다시 numpy 로 만들어 줌\n",
    "        image = torch.from_numpy(image * 1.0)\n",
    "        image = image.unsqueeze(0)\n",
    "        image = time_mask(freq_mask(image, num_masks=2), num_masks=2)\n",
    "        image = image.squeeze(0)\n",
    "        image = image.numpy()\n",
    "        \n",
    "        image = self.normalize(image)\n",
    "        \n",
    "        ## Label smoothing. 해당 라벨은 0.995, 나머지는 0.0025로 초기화\n",
    "        t = np.zeros(self.num_classes, dtype=np.float32) + 0.0025 \n",
    "        t[row.label_id] = 0.995\n",
    "        \n",
    "        return image, t"
   ]
  },
  {
   "cell_type": "code",
   "execution_count": 28,
   "metadata": {},
   "outputs": [],
   "source": [
    "m_dataset = Mask_Aug_BirdClefDataset(audio_image_store, meta=df, sr=SR, duration=Duration, is_train=True)"
   ]
  },
  {
   "cell_type": "code",
   "execution_count": 32,
   "metadata": {},
   "outputs": [
    {
     "name": "stdout",
     "output_type": "stream",
     "text": [
      "(3, 128, 281) (397,) (array([13], dtype=int64),)\n"
     ]
    },
    {
     "data": {
      "text/plain": [
       "<matplotlib.collections.QuadMesh at 0x20328051b80>"
      ]
     },
     "execution_count": 32,
     "metadata": {},
     "output_type": "execute_result"
    },
    {
     "data": {
      "image/png": "[encoded data removed]",
      "text/plain": [
       "<Figure size 432x288 with 1 Axes>"
      ]
     },
     "metadata": {},
     "output_type": "display_data"
    }
   ],
   "source": [
    "#만든 dataset 확인하기\n",
    "\n",
    "xm, ym = m_dataset[np.random.choice(len(m_dataset))] #random으로 ds에서 하나 받아오기\n",
    "print(xm.shape, ym.shape, np.where(ym>=0.5)) # x는 3층(image, image, image), y는 label, np.where은 하나뽑은 녀석이 label에서 몇번에 등록된 해당하는지lbd.specshow(x[0])\n",
    "lbd.specshow(xm[0])"
   ]
  },
  {
   "cell_type": "code",
   "execution_count": 33,
   "metadata": {},
   "outputs": [
    {
     "data": {
      "text/plain": [
       "188622"
      ]
     },
     "execution_count": 33,
     "metadata": {},
     "output_type": "execute_result"
    }
   ],
   "source": [
    "######################################\n",
    "##       Dataset 합치기 예시       ##\n",
    "#####################################\n",
    "\n",
    "Merged_dataset = torch.utils.data.ConcatDataset([dataset, a_dataset, m_dataset])\n",
    "len(Merged_dataset)"
   ]
  },
  {
   "cell_type": "code",
   "execution_count": 40,
   "metadata": {},
   "outputs": [
    {
     "name": "stdout",
     "output_type": "stream",
     "text": [
      "(3, 128, 281) (397,) (array([291], dtype=int64),)\n"
     ]
    },
    {
     "data": {
      "text/plain": [
       "<matplotlib.collections.QuadMesh at 0x2033249a250>"
      ]
     },
     "execution_count": 40,
     "metadata": {},
     "output_type": "execute_result"
    },
    {
     "data": {
      "image/png": "[encoded data removed]",
      "text/plain": [
       "<Figure size 432x288 with 1 Axes>"
      ]
     },
     "metadata": {},
     "output_type": "display_data"
    }
   ],
   "source": [
    "xt, yt = Merged_dataset[np.random.choice(len(Merged_dataset))] #random으로 ds에서 하나 받아오기\n",
    "print(xt.shape, yt.shape, np.where(yt>=0.5)) # x는 3층(image, image, image), y는 label, np.where은 하나뽑은 녀석이 label에서 몇번에 등록된 해당하는지lbd.specshow(x[0])\n",
    "lbd.specshow(xt[0])"
   ]
  },
  {
   "cell_type": "code",
   "execution_count": null,
   "metadata": {},
   "outputs": [],
   "source": []
  },
  {
   "cell_type": "code",
   "execution_count": null,
   "metadata": {},
   "outputs": [],
   "source": []
  },
  {
   "cell_type": "code",
   "execution_count": 21,
   "metadata": {
    "pycharm": {
     "is_executing": true
    }
   },
   "outputs": [
    {
     "data": {
      "text/plain": [
       "'\\n    net (model) 정의 블럭 -> get_model\\n    get_model 호출 블럭 -> one fold\\n    criterion 정의 블럭 -> one_fold\\n    scheduler 정의 -> one fold\\n    data_loader 정의 -> one fold\\n    \\n    \\n    epoch 설정 -> train\\n    n_split 설정 -> split\\n'"
      ]
     },
     "execution_count": 21,
     "metadata": {},
     "output_type": "execute_result"
    }
   ],
   "source": [
    "###############################################\n",
    "'''\n",
    "                 PIPE LINE 2.5\n",
    "          Training, evaluate 모델 만들기\n",
    "                                              '''\n",
    "###############################################\n",
    "\n",
    "\n",
    "''' 1 train == x fold (x == 데이터셋 쪼갠 수,,  k fold)\n",
    "    1 fold  == x epochs (x == 반복학습 수)\n",
    "    1 epoch == x step(x는 dataset에서 학습해야되는 step수)'''\n",
    "\n",
    "'''\n",
    "    net (model) 정의 블럭 -> get_model\n",
    "    get_model 호출 블럭 -> one fold\n",
    "    criterion 정의 블럭 -> one_fold\n",
    "    scheduler 정의 -> one fold\n",
    "    data_loader 정의 -> one fold\n",
    "    \n",
    "    \n",
    "    epoch 설정 -> train\n",
    "    n_split 설정 -> split\n",
    "'''\n",
    "\n"
   ]
  },
  {
   "cell_type": "code",
   "execution_count": 22,
   "metadata": {
    "pycharm": {
     "is_executing": true
    }
   },
   "outputs": [],
   "source": [
    "## Fold 계산 후 값을 저장하기 위한 autosave\n",
    "class AutoSave:\n",
    "    def __init__(self, top_k=2, metric='f1', mode='min', root=None, name='ckpt'):\n",
    "        self.top_k = top_k\n",
    "        self.logs = []\n",
    "        self.metric = metric\n",
    "        self.mode = mode\n",
    "        self.root = Path(root or Root_Path)\n",
    "        assert self.root.exists()\n",
    "        self.name = name\n",
    "        \n",
    "        self.top_models = []\n",
    "        self.top_metrics = []\n",
    "    \n",
    "    def rank(self, val):\n",
    "        r = -1\n",
    "        for top_val in self.top_metrics:\n",
    "            if val <= top_val:\n",
    "                return r\n",
    "            r += 1\n",
    "            \n",
    "        return r\n",
    "    \n",
    "    def log(self, model, metrics):\n",
    "        metric = metrics[self.metric] #list에 f1 저장\n",
    "        rank = self.rank(metric) #성능(f1) 레이팅\n",
    "        \n",
    "        self.top_metrics.insert(rank+1, metric) \n",
    "        if len(self.top_metrics) > self.top_k:\n",
    "            self.top_metrics.pop(0)\n",
    "            \n",
    "        self.logs.append(metrics)\n",
    "        self.save(model, metric, rank, metrics['epoch'])\n",
    "        \n",
    "    def save(self, model, metric, rank, epoch):\n",
    "        t = time.strftime(\"%Y%m%d%H%M%S\")\n",
    "        name = \"{}_epoch_{:02d}_{}_{:.04f}_{}\".format(self.name, epoch, self.metric, metric, t)\n",
    "        name = re.sub(r\"[^\\w_-]\", \"\", name) + \".pth\"\n",
    "        path = self.root.joinpath(name)\n",
    "        \n",
    "        old_model = None\n",
    "        self.top_models.insert(rank+1, name)\n",
    "        if len(self.top_models) > self.top_k:\n",
    "            old_model = self.root.joinpath(self.top_models[0])\n",
    "            self.top_models.pop(0)\n",
    "            \n",
    "        torch.save(model.state_dict(), path.as_posix())\n",
    "        \n",
    "        if old_model is not None:\n",
    "            old_model.unlink()\n",
    "        self.to_json()\n",
    "        \n",
    "        \n",
    "        \n",
    "    def to_json(self):\n",
    "        name = \"{}_logs\".format(self.name)\n",
    "        name = re.sub(r\"[^\\w_-]\", \"\", name) + \".json\"\n",
    "        path = self.root.joinpath(name)\n",
    "\n",
    "        with path.open(\"w\") as f:\n",
    "            json.dump(self.logs, f, indent=2)"
   ]
  },
  {
   "cell_type": "code",
   "execution_count": 23,
   "metadata": {
    "pycharm": {
     "is_executing": true
    }
   },
   "outputs": [],
   "source": [
    "Train_Batch_Size = 16\n",
    "Train_Num_Workers = 0\n",
    "\n",
    "Val_Batch_Size = 16\n",
    "Val_Num_Workers = 0"
   ]
  },
  {
   "cell_type": "code",
   "execution_count": 24,
   "metadata": {},
   "outputs": [],
   "source": [
    "#############################################\n",
    "##             기본 conv 블럭              ##\n",
    "## 패딩, 노말라이제션, active func 등 묶음 ##\n",
    "#############################################\n",
    "\n",
    "\n",
    "\n",
    "def Convlayer(in_ch, out_ch, kernel_size=3, stride=2, use_leaky = True, use_inst_norm=True, use_pad=True):\n",
    "    \n",
    "    if use_pad:\n",
    "        conv = nn.Conv2d(in_ch, out_ch, kernel_size, stride, 1, bias=True)\n",
    "    else:\n",
    "        conv = nn.Conv2d(in_ch, out_ch, kernel_size, stride, 0, bias=True)\n",
    "     \n",
    "    \n",
    "    if use_inst_norm:\n",
    "        norm = nn.InstanceNorm2d(out_ch)\n",
    "    else:\n",
    "        norm = nn.BatchNorm2d(out_ch)\n",
    "        \n",
    "        \n",
    "    if use_leaky:\n",
    "        actv = nn.LeakyReLU(negative_slope=0.2, inplace=True)\n",
    "    else:\n",
    "        actv = nn.GELU()\n",
    "    \n",
    "    return nn.Sequential(conv, norm, actv)"
   ]
  },
  {
   "cell_type": "code",
   "execution_count": 25,
   "metadata": {},
   "outputs": [],
   "source": [
    "###############################\n",
    "##          Resblock         ##\n",
    "## 안에 더 deep 하게 가능    ##\n",
    "###############################\n",
    "\n",
    "class Resblock(nn.Module):\n",
    "    def __init__(self, in_features, use_dropout=True, dropout_ratio=0.5):\n",
    "        super().__init__()\n",
    "        models = list()\n",
    "        \n",
    "        models.append(Convlayer(in_features, in_features, 1, 1, use_leaky=True, use_inst_norm=False, use_pad=False))\n",
    "        models.append(nn.ReflectionPad2d(1))\n",
    "        models.append(Convlayer(in_features, in_features, 3, 1, use_leaky=True, use_inst_norm=False, use_pad=False))\n",
    "        models.append(nn.ReflectionPad2d(1))\n",
    "        models.append(Convlayer(in_features, in_features, 3, 1, use_leaky=True, use_inst_norm=False, use_pad=False))\n",
    "        \n",
    "        self.res = nn.Sequential(*models)\n",
    "        \n",
    "    \n",
    "    def forward(self, x):\n",
    "        x = x + self.res(x)\n",
    "        x = F.relu(x)\n",
    "        return x"
   ]
  },
  {
   "cell_type": "code",
   "execution_count": 26,
   "metadata": {
    "pycharm": {
     "is_executing": true
    }
   },
   "outputs": [],
   "source": [
    "###################################### \n",
    "##         model_name으로부터       ##\n",
    "##        model(==net) 불러옴       ##\n",
    "##     num_classes = label 가짓수   ##\n",
    "######################################\n",
    "\n",
    "def get_model(name, num_classes=Num_classes):\n",
    "    \n",
    "    \n",
    "    if 'resnet' in name: ##resnet 쓰고싶으면\n",
    "        model = torch.hub.load('pytorch/vision:v0.6.0', name, pretrained=True) ##python ver에 따라서 v0.6.0이나 0.9.0 등 고를것\n",
    "        model.fc = nn.Linear(model.fc.in_features, num_classes)\n",
    "        \n",
    "    \n",
    "    elif 'resnext' in name: ## resnext 쓰고싶으면(이게 resnet보다 좋음)\n",
    "        model = models.resnext50_32x4d()\n",
    "        model.fc = nn.Linear(model.fc.in_features, num_classes)\n",
    "\n",
    "        \n",
    "    elif 'efficientnet' in name: ## timm라이브러리에 effnet 말고도 많이 있음)\n",
    "        model = timm.create_model('tf_efficientnet_b4_ns', pretrained = True)\n",
    "        model.classifier = nn.Linear(model.classifier.in_features, num_classes)\n",
    "        \n",
    "    else: ##내가 만든 전용 모델 쓰고싶으면\n",
    "        model = list()\n",
    "        model.append(Resblock(3))\n",
    "        model.append(Convlayer(3, 1, 3, 3, use_leaky=False, use_inst_norm=False, use_pad=False))\n",
    "        model.append(nn.Flatten())\n",
    "        model.append(nn.Linear(3906,397)) ##3906\n",
    "        model = nn.Sequential(*model)\n",
    "    \n",
    "    return model"
   ]
  },
  {
   "cell_type": "code",
   "execution_count": 27,
   "metadata": {
    "pycharm": {
     "is_executing": true
    }
   },
   "outputs": [],
   "source": [
    "#####################################\n",
    "##           One Step              ##\n",
    "##   train_loader 값을 net에 넣음  ##\n",
    "#####################################\n",
    "\n",
    "def one_step(xb,yb, net, criterion, optimizer, scheduler = None):\n",
    "    \n",
    "    xb, yb = xb.to(device), yb.to(device)\n",
    "    \n",
    "    optimizer.zero_grad()\n",
    "    out = net(xb) # net은 model, 예를들면 resnet\n",
    "    \n",
    "    loss = criterion(out, yb)\n",
    "    loss.backward()\n",
    "    optimizer.step()\n",
    "    \n",
    "    \n",
    "    ## F1 Score 계산\n",
    "    with torch.no_grad():\n",
    "        l = loss.item()\n",
    "        \n",
    "        out = out.sigmoid() ##모델따라서 바꿀것(eval것도 같이 바꿔줘야함)\n",
    "        \n",
    "        yb = (yb > 0.5) * 1.0 ## Label smoothing의 threshold\n",
    "        \n",
    "        lrap = label_ranking_average_precision_score(yb.cpu().numpy(), out.cpu().numpy()) #점수계산용\n",
    "        \n",
    "        out = (out > 0.5) * 1.0\n",
    "        \n",
    "        prec = (out * yb).sum() / (1e-6 + out.sum()) ##precision\n",
    "        rec = (out * yb).sum() / (1e-6 + yb.sum()) ##recall\n",
    "        f1 = 2 * prec * rec/(1e-6+prec+rec) ##F1 score, 조화평균\n",
    "        \n",
    "    \n",
    "    if scheduler is not None:\n",
    "        scheduler.step()\n",
    "        \n",
    "    return l, lrap, f1.item(), rec.item(), prec.item()"
   ]
  },
  {
   "cell_type": "code",
   "execution_count": 28,
   "metadata": {
    "pycharm": {
     "is_executing": true
    }
   },
   "outputs": [
    {
     "data": {
      "text/plain": [
       "'\\nmodel.eval()에 관하여\\neval은 함수를 그 자체로 실행시켜준다는 뜻이다.\\n즉 model.eval()을 하게 되면 스위치를 꺼버려서 예를들면 dropout, batchnorm 등등을 다 업데이트 안하고\\n그냥 그대로 실행만 하겠다는 뜻이다.\\n\\n그래서 evaluate하는 클래스에서 torch.no_grad() 랑 model.eval()을 같이 쓰는 편임\\n'"
      ]
     },
     "execution_count": 28,
     "metadata": {},
     "output_type": "execute_result"
    }
   ],
   "source": [
    "####################################\n",
    "##           One eval             ##\n",
    "##   val_loader 값을 net에 넣음   ##\n",
    "####################################\n",
    "\n",
    "@torch.no_grad() #함수 데코레이터 ##evaluate를 torch.no_Grad인 상태로 실행하겠다.\n",
    "def evaluate(net, criterion, val_loader):\n",
    "    \n",
    "    net.eval()\n",
    "    outs, y = [], []\n",
    "    \n",
    "    val_loader = tqdm(val_loader, leave=False, total=len(val_loader))\n",
    "    \n",
    "    for icount, (xb, yb) in enumerate(val_loader):\n",
    "        y.append(yb.to(device))\n",
    "        xb = xb.to(device)\n",
    "        out = net(xb)\n",
    "        \n",
    "        outs.append(out)\n",
    "    \n",
    "    \n",
    "    ## y, outs 를 list에서 torch로 변경, 이어붙인후 y, out에 저장    \n",
    "    y = torch.cat(y) \n",
    "    out = torch.cat(outs)\n",
    "    \n",
    "    l = criterion(out, y).item()\n",
    "    out = out.sigmoid() #one_Step의 활성화와 맞출것\n",
    "    \n",
    "    y = (y > 0.5) * 1.0\n",
    "    lrap = label_ranking_average_precision_score(y.cpu().numpy(), out.cpu().numpy())\n",
    "    out = (out>0.5) * 1.0\n",
    "    \n",
    "    \n",
    "    ## F1 Score 계산\n",
    "    prec = ((out*y).sum()/(1e-6 + out.sum())).item()\n",
    "    rec = ((out*y).sum()/(1e-6 + y.sum())).item()\n",
    "    f1 = 2*prec*rec/(1e-6+prec+rec)\n",
    "    \n",
    "    return l, lrap, f1, rec, prec\n",
    "\n",
    "\n",
    "\n",
    "'''\n",
    "model.eval()에 관하여\n",
    "eval은 함수를 그 자체로 실행시켜준다는 뜻이다.\n",
    "즉 model.eval()을 하게 되면 스위치를 꺼버려서 예를들면 dropout, batchnorm 등등을 다 업데이트 안하고\n",
    "그냥 그대로 실행만 하겠다는 뜻이다.\n",
    "\n",
    "그래서 evaluate하는 클래스에서 torch.no_grad() 랑 model.eval()을 같이 쓰는 편임\n",
    "'''"
   ]
  },
  {
   "cell_type": "code",
   "execution_count": 29,
   "metadata": {
    "pycharm": {
     "is_executing": true
    }
   },
   "outputs": [],
   "source": [
    "######################################\n",
    "##           One epoch               ##\n",
    "##   one_step, eval 값 묶어서 반환   ##\n",
    "######################################\n",
    "\n",
    "def one_epoch(net, criterion, optimizer, scheduler, train_loader, val_loader):\n",
    "    \n",
    "    net.train()\n",
    "    l, lrap, prec, rec, f1, icount = 0., 0., 0., 0., 0., 0\n",
    "    train_loader = tqdm(train_loader, leave = False)\n",
    "    epoch_bar = train_loader\n",
    "    \n",
    "    \n",
    "    for (xb, yb) in epoch_bar:\n",
    "        \n",
    "        _l, _lrap, _f1, _rec, _prec = one_step(xb, yb, net, criterion, optimizer)\n",
    "        \n",
    "        l += _l\n",
    "        lrap += _lrap\n",
    "        f1 += _f1\n",
    "        rec += _rec\n",
    "        prec += _prec\n",
    "        \n",
    "        icount += 1\n",
    "        \n",
    "        \n",
    "        ##postfilx 왜 하는지 모르겠음.. 나중에 공부할것\n",
    "        if hasattr(epoch_bar, 'set_postfix') and not icount%10 :\n",
    "            epoch_bar.set_postfix(\n",
    "                loss = \"{:.6f}\".format(l/icount),\n",
    "                lrap = \"{:.3f}\".format(lrap/icount),\n",
    "                prec = \"{:.3f}\".format(prec/icount),\n",
    "                rec = \"{:.3f}\".format(rec/icount),\n",
    "                f1=\"{:3f}\".format(rec/icount)\n",
    "            )\n",
    "            \n",
    "        \n",
    "    scheduler.step()\n",
    "    \n",
    "    \n",
    "    ##평균치 구함\n",
    "    l /= icount\n",
    "    lrap /= icount\n",
    "    f1 /= icount\n",
    "    rec /= icount\n",
    "    prec /= icount\n",
    "    \n",
    "    # val_loader 을 net에 넣는 eval함수 결과\n",
    "    l_val, lrap_val, f1_val, rec_val, prec_val = evaluate(net, criterion, val_loader)\n",
    "    \n",
    "    # train_loader넣은 값과 val_loader을 net에 넣은값 묶어서 반환\n",
    "    return (l, l_val), (lrap, lrap_val), (f1, f1_val), (rec, rec_val), (prec, prec_val)"
   ]
  },
  {
   "cell_type": "code",
   "execution_count": 30,
   "metadata": {
    "pycharm": {
     "is_executing": true
    }
   },
   "outputs": [],
   "source": [
    "######################################### \n",
    "##             one_fold                ##\n",
    "##    net, criterion, optimizer, scheduler, data_loader  불러옴     ##\n",
    "##        epoch 다 돌림               ##\n",
    "#######################################\n",
    "\n",
    "\n",
    "def one_fold(model_name, fold, train_set, val_set, epochs, save=True, save_root = None):\n",
    "    \n",
    "    \n",
    "    ## f1_Val 저장\n",
    "    save_root = Path(save_root) or Root_Path\n",
    "    saver = AutoSave(root=save_root, name=f\"birdclef_{model_name}_fold{fold}\", metric=\"f1_val\")\n",
    "    \n",
    "    \n",
    "    ## 모델 param 불러오기\n",
    "\n",
    "    #방법1. 새 모델 생성\n",
    "    net = get_model(model_name).to(device)\n",
    "    \n",
    "    #방법2. 내 모델 불러와서 이어서 학습시키기\n",
    "    #p = Path(\"/Users/ansgh/PycharmProjects/kaggle_notebook/input/birdclef-2021/efficientnet_sr32000_d7_v1_v1/birdclef_efficientnet_fold2_epoch_02_f1_val_03480_20210525221814.pth\")\n",
    "    #net = load_net(p.as_posix())\n",
    "    \n",
    "    criterion = nn.BCEWithLogitsLoss() \n",
    "    optimizer = optim.Adam(net.parameters(), lr=8e-4) \n",
    "    scheduler = optim.lr_scheduler.CosineAnnealingLR(optimizer, eta_min=1e-5, T_max=epochs)\n",
    "    \n",
    "    \n",
    "    ## 데이터 불러오기\n",
    "    ## train에서 df를 train_set이랑 val_set이랑 나눠서 넘겨줌(setdiff1d 참고)\n",
    "    ## Audio_image_store -> Mel_img 불러옴\n",
    "    \n",
    "    ## Augmentation 진행후 합쳐줌\n",
    "    train_data1 = BirdClefDataset(audio_image_store, meta=df.iloc[train_set].reset_index(drop=True),\n",
    "                           sr=SR, duration=Duration, is_train=True)\n",
    "    train_data2 = Warp_Aug_BirdClefDataset(audio_image_store, meta=df.iloc[train_set].reset_index(drop=True),\n",
    "                           sr=SR, duration=Duration, is_train=True)\n",
    "    train_data3 = Mask_Aug_BirdClefDataset(audio_image_store, meta=df.iloc[train_set].reset_index(drop=True),\n",
    "                           sr=SR, duration=Duration, is_train=True)\n",
    "    Merged_train_data = torch.utils.data.ConcatDataset([train_data1, train_data2, train_data3])\n",
    "    #Data_loader -> (batchsize, dataset차원)으로 불러옴 (ex, (batchsize, 3, 256, 256))\n",
    "    train_loader = DataLoader(Merged_train_data, batch_size=Train_Batch_Size, num_workers=Train_Num_Workers, shuffle=True, pin_memory=True)\n",
    "    \n",
    "\n",
    "    ## Valdata\n",
    "    val_data = BirdClefDataset(audio_image_store, meta=df.iloc[val_set].reset_index(drop=True),  sr=SR, duration=Duration, is_train=False)\n",
    "    val_loader = DataLoader(val_data, batch_size=Val_Batch_Size, num_workers=Val_Num_Workers, shuffle=False)\n",
    "    \n",
    "    \n",
    "    \n",
    "    #### Epoch 진행 ####\n",
    "    epochs_bar = tqdm(list(range(epochs)), leave=False)\n",
    "    for epoch in epochs_bar:\n",
    "        epochs_bar.set_description(f\"[Epoch in one fold {epoch:02d}]\")\n",
    "        net.train()\n",
    "        \n",
    "        (l, l_val), (lrap, lrap_val), (f1, f1_val), (rec, rec_val), (prec, prec_val) \\\n",
    "        = one_epoch(net=net,\n",
    "                    criterion=criterion,\n",
    "                    optimizer=optimizer,\n",
    "                    scheduler=scheduler,\n",
    "                    train_loader=train_loader,\n",
    "                    val_loader=val_loader,\n",
    "                   )\n",
    "     \n",
    "    \n",
    "        \n",
    "        if save:\n",
    "            metrics = {\n",
    "                \"loss\": l, \"lrap\": lrap, \"f1\": f1, \"rec\": rec, \"prec\": prec,\n",
    "                \"loss_val\": l_val, \"lrap_val\": lrap_val, \"f1_val\": f1_val, \"rec_val\": rec_val, \"prec_val\": prec_val,\n",
    "                \"epoch\": epoch,\n",
    "            }\n",
    "            saver.log(net, metrics)"
   ]
  },
  {
   "cell_type": "code",
   "execution_count": 31,
   "metadata": {
    "pycharm": {
     "is_executing": true
    }
   },
   "outputs": [],
   "source": [
    "def train(model_name, epochs, save=True, n_splits =n_splits , seed=seed, save_root=None, suffix=\"\", folds=None):\n",
    "    \n",
    "    gc.collect() #garbage collection, 객채들을 순회하며 객채가 안쓰이면 자동으로 삭제해줌\n",
    "    torch.cuda.empty_cache()\n",
    "    \n",
    "    \n",
    "    ## Save\n",
    "    save_root = save_root or (Root_Path + f'/{model_name}{suffix}')\n",
    "    save_root = Path(save_root)\n",
    "    save_root.mkdir(exist_ok=True, parents=True)\n",
    "    \n",
    "    \n",
    "    # Fold labeling 한것(make_df에서) 이용해서 fold끼리 묶어줌\n",
    "    fold_bar = tqdm(df.reset_index().groupby('fold').index.apply(list).items(), total=df.fold.max()+1)\n",
    "    \n",
    "    \n",
    "    for fold, val_set in fold_bar:\n",
    "        if folds and not fold in folds:\n",
    "            continue\n",
    "        \n",
    "        print(f\"\\n [one Fold {fold}]\")\n",
    "        fold_bar.set_description(f\"[Fold {fold}]\")\n",
    "        \n",
    "        # Train_set과 val_set 나눔.  (df - val_set = train_set)\n",
    "        train_set = np.setdiff1d(df.index, val_set)\n",
    "        \n",
    "        \n",
    "        one_fold(model_name, fold=fold, train_set=train_set, val_set=val_set, epochs=epochs, save=save, save_root=save_root)\n",
    "        \n",
    "        \n",
    "        ##메모리 정리\n",
    "        gc.collect()\n",
    "        torch.cuda.empty_cache()"
   ]
  },
  {
   "cell_type": "code",
   "execution_count": null,
   "metadata": {
    "pycharm": {
     "is_executing": true
    },
    "scrolled": true
   },
   "outputs": [
    {
     "data": {
      "application/vnd.jupyter.widget-view+json": {
       "model_id": "b3283b9596a54070abd67a29cf5c5149",
       "version_major": 2,
       "version_minor": 0
      },
      "text/plain": [
       "  0%|          | 0/5 [00:00<?, ?it/s]"
      ]
     },
     "metadata": {},
     "output_type": "display_data"
    },
    {
     "name": "stdout",
     "output_type": "stream",
     "text": [
      "\n",
      " [one Fold 0]\n"
     ]
    },
    {
     "name": "stderr",
     "output_type": "stream",
     "text": [
      "Using cache found in C:\\Users\\ansgh/.cache\\torch\\hub\\pytorch_vision_v0.6.0\n"
     ]
    },
    {
     "data": {
      "application/vnd.jupyter.widget-view+json": {
       "model_id": "4fc7aca8ffb64f38abec0b20b5e9f40b",
       "version_major": 2,
       "version_minor": 0
      },
      "text/plain": [
       "  0%|          | 0/16 [00:00<?, ?it/s]"
      ]
     },
     "metadata": {},
     "output_type": "display_data"
    },
    {
     "data": {
      "application/vnd.jupyter.widget-view+json": {
       "model_id": "",
       "version_major": 2,
       "version_minor": 0
      },
      "text/plain": [
       "  0%|          | 0/9432 [00:00<?, ?it/s]"
      ]
     },
     "metadata": {},
     "output_type": "display_data"
    },
    {
     "data": {
      "application/vnd.jupyter.widget-view+json": {
       "model_id": "",
       "version_major": 2,
       "version_minor": 0
      },
      "text/plain": [
       "  0%|          | 0/786 [00:00<?, ?it/s]"
      ]
     },
     "metadata": {},
     "output_type": "display_data"
    },
    {
     "data": {
      "application/vnd.jupyter.widget-view+json": {
       "model_id": "",
       "version_major": 2,
       "version_minor": 0
      },
      "text/plain": [
       "  0%|          | 0/9432 [00:00<?, ?it/s]"
      ]
     },
     "metadata": {},
     "output_type": "display_data"
    },
    {
     "data": {
      "application/vnd.jupyter.widget-view+json": {
       "model_id": "",
       "version_major": 2,
       "version_minor": 0
      },
      "text/plain": [
       "  0%|          | 0/786 [00:00<?, ?it/s]"
      ]
     },
     "metadata": {},
     "output_type": "display_data"
    },
    {
     "data": {
      "application/vnd.jupyter.widget-view+json": {
       "model_id": "",
       "version_major": 2,
       "version_minor": 0
      },
      "text/plain": [
       "  0%|          | 0/9432 [00:00<?, ?it/s]"
      ]
     },
     "metadata": {},
     "output_type": "display_data"
    },
    {
     "data": {
      "application/vnd.jupyter.widget-view+json": {
       "model_id": "",
       "version_major": 2,
       "version_minor": 0
      },
      "text/plain": [
       "  0%|          | 0/786 [00:00<?, ?it/s]"
      ]
     },
     "metadata": {},
     "output_type": "display_data"
    },
    {
     "data": {
      "application/vnd.jupyter.widget-view+json": {
       "model_id": "",
       "version_major": 2,
       "version_minor": 0
      },
      "text/plain": [
       "  0%|          | 0/9432 [00:00<?, ?it/s]"
      ]
     },
     "metadata": {},
     "output_type": "display_data"
    },
    {
     "data": {
      "application/vnd.jupyter.widget-view+json": {
       "model_id": "",
       "version_major": 2,
       "version_minor": 0
      },
      "text/plain": [
       "  0%|          | 0/786 [00:00<?, ?it/s]"
      ]
     },
     "metadata": {},
     "output_type": "display_data"
    },
    {
     "data": {
      "application/vnd.jupyter.widget-view+json": {
       "model_id": "",
       "version_major": 2,
       "version_minor": 0
      },
      "text/plain": [
       "  0%|          | 0/9432 [00:00<?, ?it/s]"
      ]
     },
     "metadata": {},
     "output_type": "display_data"
    },
    {
     "data": {
      "application/vnd.jupyter.widget-view+json": {
       "model_id": "",
       "version_major": 2,
       "version_minor": 0
      },
      "text/plain": [
       "  0%|          | 0/786 [00:00<?, ?it/s]"
      ]
     },
     "metadata": {},
     "output_type": "display_data"
    },
    {
     "data": {
      "application/vnd.jupyter.widget-view+json": {
       "model_id": "",
       "version_major": 2,
       "version_minor": 0
      },
      "text/plain": [
       "  0%|          | 0/9432 [00:00<?, ?it/s]"
      ]
     },
     "metadata": {},
     "output_type": "display_data"
    },
    {
     "data": {
      "application/vnd.jupyter.widget-view+json": {
       "model_id": "",
       "version_major": 2,
       "version_minor": 0
      },
      "text/plain": [
       "  0%|          | 0/786 [00:00<?, ?it/s]"
      ]
     },
     "metadata": {},
     "output_type": "display_data"
    },
    {
     "data": {
      "application/vnd.jupyter.widget-view+json": {
       "model_id": "",
       "version_major": 2,
       "version_minor": 0
      },
      "text/plain": [
       "  0%|          | 0/9432 [00:00<?, ?it/s]"
      ]
     },
     "metadata": {},
     "output_type": "display_data"
    },
    {
     "data": {
      "application/vnd.jupyter.widget-view+json": {
       "model_id": "",
       "version_major": 2,
       "version_minor": 0
      },
      "text/plain": [
       "  0%|          | 0/786 [00:00<?, ?it/s]"
      ]
     },
     "metadata": {},
     "output_type": "display_data"
    },
    {
     "data": {
      "application/vnd.jupyter.widget-view+json": {
       "model_id": "",
       "version_major": 2,
       "version_minor": 0
      },
      "text/plain": [
       "  0%|          | 0/9432 [00:00<?, ?it/s]"
      ]
     },
     "metadata": {},
     "output_type": "display_data"
    },
    {
     "data": {
      "application/vnd.jupyter.widget-view+json": {
       "model_id": "",
       "version_major": 2,
       "version_minor": 0
      },
      "text/plain": [
       "  0%|          | 0/786 [00:00<?, ?it/s]"
      ]
     },
     "metadata": {},
     "output_type": "display_data"
    },
    {
     "data": {
      "application/vnd.jupyter.widget-view+json": {
       "model_id": "",
       "version_major": 2,
       "version_minor": 0
      },
      "text/plain": [
       "  0%|          | 0/9432 [00:00<?, ?it/s]"
      ]
     },
     "metadata": {},
     "output_type": "display_data"
    },
    {
     "data": {
      "application/vnd.jupyter.widget-view+json": {
       "model_id": "",
       "version_major": 2,
       "version_minor": 0
      },
      "text/plain": [
       "  0%|          | 0/786 [00:00<?, ?it/s]"
      ]
     },
     "metadata": {},
     "output_type": "display_data"
    },
    {
     "data": {
      "application/vnd.jupyter.widget-view+json": {
       "model_id": "",
       "version_major": 2,
       "version_minor": 0
      },
      "text/plain": [
       "  0%|          | 0/9432 [00:00<?, ?it/s]"
      ]
     },
     "metadata": {},
     "output_type": "display_data"
    },
    {
     "data": {
      "application/vnd.jupyter.widget-view+json": {
       "model_id": "",
       "version_major": 2,
       "version_minor": 0
      },
      "text/plain": [
       "  0%|          | 0/786 [00:00<?, ?it/s]"
      ]
     },
     "metadata": {},
     "output_type": "display_data"
    },
    {
     "data": {
      "application/vnd.jupyter.widget-view+json": {
       "model_id": "",
       "version_major": 2,
       "version_minor": 0
      },
      "text/plain": [
       "  0%|          | 0/9432 [00:00<?, ?it/s]"
      ]
     },
     "metadata": {},
     "output_type": "display_data"
    },
    {
     "data": {
      "application/vnd.jupyter.widget-view+json": {
       "model_id": "",
       "version_major": 2,
       "version_minor": 0
      },
      "text/plain": [
       "  0%|          | 0/786 [00:00<?, ?it/s]"
      ]
     },
     "metadata": {},
     "output_type": "display_data"
    },
    {
     "data": {
      "application/vnd.jupyter.widget-view+json": {
       "model_id": "",
       "version_major": 2,
       "version_minor": 0
      },
      "text/plain": [
       "  0%|          | 0/9432 [00:00<?, ?it/s]"
      ]
     },
     "metadata": {},
     "output_type": "display_data"
    },
    {
     "data": {
      "application/vnd.jupyter.widget-view+json": {
       "model_id": "",
       "version_major": 2,
       "version_minor": 0
      },
      "text/plain": [
       "  0%|          | 0/786 [00:00<?, ?it/s]"
      ]
     },
     "metadata": {},
     "output_type": "display_data"
    },
    {
     "data": {
      "application/vnd.jupyter.widget-view+json": {
       "model_id": "",
       "version_major": 2,
       "version_minor": 0
      },
      "text/plain": [
       "  0%|          | 0/9432 [00:00<?, ?it/s]"
      ]
     },
     "metadata": {},
     "output_type": "display_data"
    },
    {
     "data": {
      "application/vnd.jupyter.widget-view+json": {
       "model_id": "",
       "version_major": 2,
       "version_minor": 0
      },
      "text/plain": [
       "  0%|          | 0/786 [00:00<?, ?it/s]"
      ]
     },
     "metadata": {},
     "output_type": "display_data"
    },
    {
     "data": {
      "application/vnd.jupyter.widget-view+json": {
       "model_id": "c70045f771aa414f82e4812d431559fc",
       "version_major": 2,
       "version_minor": 0
      },
      "text/plain": [
       "  0%|          | 0/9432 [00:00<?, ?it/s]"
      ]
     },
     "metadata": {},
     "output_type": "display_data"
    }
   ],
   "source": [
    "train('resnet152', epochs = 16, suffix=f\"_sr{SR}_d{Duration}_v1_v1\", folds=[0])"
   ]
  },
  {
   "cell_type": "code",
   "execution_count": null,
   "metadata": {
    "pycharm": {
     "is_executing": true
    }
   },
   "outputs": [],
   "source": [
    "'''### 여러 모델 성능 비교할 때 ###\n",
    "\n",
    "Model_names = ['resnest50', 'mymodel']\n",
    "\n",
    "for model_name in Model_names:\n",
    "    train(model_name, epochs = 1, suffix=f\"_sr{SR}_d{DURATION}_v1_v1\", folds=[0])\n",
    "    \n",
    "    \n",
    "'''"
   ]
  },
  {
   "cell_type": "code",
   "execution_count": 74,
   "metadata": {},
   "outputs": [
    {
     "data": {
      "text/plain": [
       "\"\\ntrain 까지 진행했으면 폴더에 보면 'net이름 + sr + ...' 으로 된 폴더에 '.pth', '.json' 저장 돼 있을거임\\n\\n그걸 input으로 다음 파이프라인 진행할 것임\\n\\n\""
      ]
     },
     "execution_count": 74,
     "metadata": {},
     "output_type": "execute_result"
    }
   ],
   "source": [
    "'''\n",
    "train 까지 진행했으면 폴더에 보면 'net이름 + sr + ...' 으로 된 폴더에 '.pth', '.json' 저장 돼 있을거임\n",
    "\n",
    "그걸 input으로 다음 파이프라인 진행할 것임\n",
    "\n",
    "'''"
   ]
  },
  {
   "cell_type": "code",
   "execution_count": null,
   "metadata": {},
   "outputs": [],
   "source": [
    "###############################################\n",
    "'''\n",
    "                 PIPE LINE 3\n",
    "          모델 불러와서 평가하기\n",
    "                                              '''\n",
    "###############################################\n",
    "\n",
    "'''\n",
    "PipeLine 으로 따로따로 작업하려면\n",
    "\n",
    "class MelSpecComputer\n",
    "def mono_to_color\n",
    "class BirdCLEFDataset\n",
    "불러올것\n",
    "\n",
    "\n",
    "'''"
   ]
  },
  {
   "cell_type": "code",
   "execution_count": null,
   "metadata": {},
   "outputs": [],
   "source": [
    "Num_classes = 397\n",
    "SR = 32_000\n",
    "Duration = 5\n",
    "THRESH = 0.25\n",
    "\n",
    "\n",
    "device = torch.device(\"cuda\" if torch.cuda.is_available() else \"cpu\")\n",
    "print(\"device:\", device)\n",
    "\n",
    "TEST_AUDIO_ROOT = Path(\"../input/birdclef-2021/test_soundscapes\")\n",
    "SAMPLE_SUB_PATH = \"../input/birdclef-2021/sample_submission.csv\"\n",
    "TARGET_PATH = None\n",
    "    \n",
    "    \n",
    "## Test Audio 에 아무것도 없으면(룰 상 제출용 커밋할때만 test_soundscapes에 접근가능하기때문에 연습때는 train_soundscapes꺼 씀)\n",
    "if not len(list(TEST_AUDIO_ROOT.glob(\"*.ogg\"))):\n",
    "    TEST_AUDIO_ROOT = Path(\"../input/birdclef-2021/train_soundscapes\")\n",
    "    SAMPLE_SUB_PATH = None\n",
    "    # SAMPLE_SUB_PATH = \"../input/birdclef-2021/sample_submission.csv\"\n",
    "    TARGET_PATH = Path(\"../input/birdclef-2021/train_soundscape_labels.csv\")"
   ]
  },
  {
   "cell_type": "code",
   "execution_count": null,
   "metadata": {},
   "outputs": [],
   "source": [
    "'''\n",
    "\n",
    "class MelSpecComputer\n",
    "def mono_to_color\n",
    "class BirdCLEFDataset\n",
    "불러와야 함\n",
    "\n",
    "'''"
   ]
  },
  {
   "cell_type": "code",
   "execution_count": null,
   "metadata": {},
   "outputs": [],
   "source": [
    "data = pd.DataFrame(\n",
    "     [(path.stem, *path.stem.split(\"_\"), path) for path in Path(TEST_AUDIO_ROOT).glob(\"*.ogg\")],\n",
    "    columns = [\"filename\", \"id\", \"site\", \"date\", \"filepath\"]\n",
    ")\n",
    "print(data.shape)\n",
    "data.head()"
   ]
  },
  {
   "cell_type": "code",
   "execution_count": null,
   "metadata": {},
   "outputs": [],
   "source": [
    "## 메타데이터(정답지) 불러오기\n",
    "df_train = pd.read_csv(\"../input/birdclef-2021/train_metadata.csv\")\n",
    "\n",
    "LABEL_IDS = {label: label_id for label_id,label in enumerate(sorted(df_train[\"primary_label\"].unique()))}\n",
    "INV_LABEL_IDS = {val: key for key,val in LABEL_IDS.items()}"
   ]
  },
  {
   "cell_type": "code",
   "execution_count": null,
   "metadata": {},
   "outputs": [],
   "source": [
    "test_data = BirdCLEFDataset(data=data)\n",
    "len(test_data), test_data[0].shape, test_data[1].shape\n",
    "# 20 -> train_soundscape에 20개 있음\n",
    "# 120 -> 10분(각 train_soundscape음성) / 5초\n",
    "# 3 - > normalize에서 3쌓음\n",
    "# 128, 201 -> 이미지 사이즈"
   ]
  },
  {
   "cell_type": "code",
   "execution_count": 32,
   "metadata": {},
   "outputs": [],
   "source": [
    "NUM_CLASSES = 397\n",
    "def load_net(checkpoint_path, num_classes=NUM_CLASSES):\n",
    "    net = timm.create_model('tf_efficientnet_b4_ns', pretrained = False)\n",
    "    net.classifier = nn.Linear(net.classifier.in_features, num_classes)\n",
    "    \n",
    "    dummy_device = torch.device(\"cpu\")\n",
    "    d = torch.load(checkpoint_path, map_location=dummy_device)\n",
    "    for key in list(d.keys()):\n",
    "        d[key.replace(\"model.\", \"\")] = d.pop(key)\n",
    "    net.load_state_dict(d)\n",
    "    net = net.to(device)\n",
    "    net = net.eval()\n",
    "    return net"
   ]
  },
  {
   "cell_type": "code",
   "execution_count": 96,
   "metadata": {},
   "outputs": [
    {
     "ename": "FileNotFoundError",
     "evalue": "[Errno 2] No such file or directory: '../input/bird-clef/resnet152_sr32000_d7_v1_v1/birdclef_resnet152_fold0_epoch_00_f1_val_01435_20210513145723.pth'",
     "output_type": "error",
     "traceback": [
      "\u001B[1;31m---------------------------------------------------------------------------\u001B[0m",
      "\u001B[1;31mFileNotFoundError\u001B[0m                         Traceback (most recent call last)",
      "\u001B[1;32m<ipython-input-96-72901fdb3e6f>\u001B[0m in \u001B[0;36m<module>\u001B[1;34m\u001B[0m\n\u001B[0;32m      4\u001B[0m \u001B[1;33m\u001B[0m\u001B[0m\n\u001B[0;32m      5\u001B[0m \u001B[1;33m\u001B[0m\u001B[0m\n\u001B[1;32m----> 6\u001B[1;33m nets = [\n\u001B[0m\u001B[0;32m      7\u001B[0m         \u001B[0mload_net\u001B[0m\u001B[1;33m(\u001B[0m\u001B[0mcheckpoint_path\u001B[0m\u001B[1;33m.\u001B[0m\u001B[0mas_posix\u001B[0m\u001B[1;33m(\u001B[0m\u001B[1;33m)\u001B[0m\u001B[1;33m)\u001B[0m \u001B[1;32mfor\u001B[0m \u001B[0mcheckpoint_path\u001B[0m \u001B[1;32min\u001B[0m \u001B[0mcheckpoint_paths\u001B[0m\u001B[1;33m\u001B[0m\u001B[1;33m\u001B[0m\u001B[0m\n\u001B[0;32m      8\u001B[0m ]\n",
      "\u001B[1;32m<ipython-input-96-72901fdb3e6f>\u001B[0m in \u001B[0;36m<listcomp>\u001B[1;34m(.0)\u001B[0m\n\u001B[0;32m      5\u001B[0m \u001B[1;33m\u001B[0m\u001B[0m\n\u001B[0;32m      6\u001B[0m nets = [\n\u001B[1;32m----> 7\u001B[1;33m         \u001B[0mload_net\u001B[0m\u001B[1;33m(\u001B[0m\u001B[0mcheckpoint_path\u001B[0m\u001B[1;33m.\u001B[0m\u001B[0mas_posix\u001B[0m\u001B[1;33m(\u001B[0m\u001B[1;33m)\u001B[0m\u001B[1;33m)\u001B[0m \u001B[1;32mfor\u001B[0m \u001B[0mcheckpoint_path\u001B[0m \u001B[1;32min\u001B[0m \u001B[0mcheckpoint_paths\u001B[0m\u001B[1;33m\u001B[0m\u001B[1;33m\u001B[0m\u001B[0m\n\u001B[0m\u001B[0;32m      8\u001B[0m ]\n",
      "\u001B[1;32m<ipython-input-95-4fb2dcefa377>\u001B[0m in \u001B[0;36mload_net\u001B[1;34m(checkpoint_path, num_classes)\u001B[0m\n\u001B[0;32m      5\u001B[0m \u001B[1;33m\u001B[0m\u001B[0m\n\u001B[0;32m      6\u001B[0m     \u001B[0mdummy_device\u001B[0m \u001B[1;33m=\u001B[0m \u001B[0mtorch\u001B[0m\u001B[1;33m.\u001B[0m\u001B[0mdevice\u001B[0m\u001B[1;33m(\u001B[0m\u001B[1;34m\"cpu\"\u001B[0m\u001B[1;33m)\u001B[0m\u001B[1;33m\u001B[0m\u001B[1;33m\u001B[0m\u001B[0m\n\u001B[1;32m----> 7\u001B[1;33m     \u001B[0md\u001B[0m \u001B[1;33m=\u001B[0m \u001B[0mtorch\u001B[0m\u001B[1;33m.\u001B[0m\u001B[0mload\u001B[0m\u001B[1;33m(\u001B[0m\u001B[0mcheckpoint_path\u001B[0m\u001B[1;33m,\u001B[0m \u001B[0mmap_location\u001B[0m\u001B[1;33m=\u001B[0m\u001B[0mdummy_device\u001B[0m\u001B[1;33m)\u001B[0m\u001B[1;33m\u001B[0m\u001B[1;33m\u001B[0m\u001B[0m\n\u001B[0m\u001B[0;32m      8\u001B[0m     \u001B[1;32mfor\u001B[0m \u001B[0mkey\u001B[0m \u001B[1;32min\u001B[0m \u001B[0mlist\u001B[0m\u001B[1;33m(\u001B[0m\u001B[0md\u001B[0m\u001B[1;33m.\u001B[0m\u001B[0mkeys\u001B[0m\u001B[1;33m(\u001B[0m\u001B[1;33m)\u001B[0m\u001B[1;33m)\u001B[0m\u001B[1;33m:\u001B[0m\u001B[1;33m\u001B[0m\u001B[1;33m\u001B[0m\u001B[0m\n\u001B[0;32m      9\u001B[0m         \u001B[0md\u001B[0m\u001B[1;33m[\u001B[0m\u001B[0mkey\u001B[0m\u001B[1;33m.\u001B[0m\u001B[0mreplace\u001B[0m\u001B[1;33m(\u001B[0m\u001B[1;34m\"model.\"\u001B[0m\u001B[1;33m,\u001B[0m \u001B[1;34m\"\"\u001B[0m\u001B[1;33m)\u001B[0m\u001B[1;33m]\u001B[0m \u001B[1;33m=\u001B[0m \u001B[0md\u001B[0m\u001B[1;33m.\u001B[0m\u001B[0mpop\u001B[0m\u001B[1;33m(\u001B[0m\u001B[0mkey\u001B[0m\u001B[1;33m)\u001B[0m\u001B[1;33m\u001B[0m\u001B[1;33m\u001B[0m\u001B[0m\n",
      "\u001B[1;32m~\\anaconda3\\envs\\pytorch17_p38\\lib\\site-packages\\torch\\serialization.py\u001B[0m in \u001B[0;36mload\u001B[1;34m(f, map_location, pickle_module, **pickle_load_args)\u001B[0m\n\u001B[0;32m    579\u001B[0m         \u001B[0mpickle_load_args\u001B[0m\u001B[1;33m[\u001B[0m\u001B[1;34m'encoding'\u001B[0m\u001B[1;33m]\u001B[0m \u001B[1;33m=\u001B[0m \u001B[1;34m'utf-8'\u001B[0m\u001B[1;33m\u001B[0m\u001B[1;33m\u001B[0m\u001B[0m\n\u001B[0;32m    580\u001B[0m \u001B[1;33m\u001B[0m\u001B[0m\n\u001B[1;32m--> 581\u001B[1;33m     \u001B[1;32mwith\u001B[0m \u001B[0m_open_file_like\u001B[0m\u001B[1;33m(\u001B[0m\u001B[0mf\u001B[0m\u001B[1;33m,\u001B[0m \u001B[1;34m'rb'\u001B[0m\u001B[1;33m)\u001B[0m \u001B[1;32mas\u001B[0m \u001B[0mopened_file\u001B[0m\u001B[1;33m:\u001B[0m\u001B[1;33m\u001B[0m\u001B[1;33m\u001B[0m\u001B[0m\n\u001B[0m\u001B[0;32m    582\u001B[0m         \u001B[1;32mif\u001B[0m \u001B[0m_is_zipfile\u001B[0m\u001B[1;33m(\u001B[0m\u001B[0mopened_file\u001B[0m\u001B[1;33m)\u001B[0m\u001B[1;33m:\u001B[0m\u001B[1;33m\u001B[0m\u001B[1;33m\u001B[0m\u001B[0m\n\u001B[0;32m    583\u001B[0m             \u001B[1;31m# The zipfile reader is going to advance the current file position.\u001B[0m\u001B[1;33m\u001B[0m\u001B[1;33m\u001B[0m\u001B[1;33m\u001B[0m\u001B[0m\n",
      "\u001B[1;32m~\\anaconda3\\envs\\pytorch17_p38\\lib\\site-packages\\torch\\serialization.py\u001B[0m in \u001B[0;36m_open_file_like\u001B[1;34m(name_or_buffer, mode)\u001B[0m\n\u001B[0;32m    228\u001B[0m \u001B[1;32mdef\u001B[0m \u001B[0m_open_file_like\u001B[0m\u001B[1;33m(\u001B[0m\u001B[0mname_or_buffer\u001B[0m\u001B[1;33m,\u001B[0m \u001B[0mmode\u001B[0m\u001B[1;33m)\u001B[0m\u001B[1;33m:\u001B[0m\u001B[1;33m\u001B[0m\u001B[1;33m\u001B[0m\u001B[0m\n\u001B[0;32m    229\u001B[0m     \u001B[1;32mif\u001B[0m \u001B[0m_is_path\u001B[0m\u001B[1;33m(\u001B[0m\u001B[0mname_or_buffer\u001B[0m\u001B[1;33m)\u001B[0m\u001B[1;33m:\u001B[0m\u001B[1;33m\u001B[0m\u001B[1;33m\u001B[0m\u001B[0m\n\u001B[1;32m--> 230\u001B[1;33m         \u001B[1;32mreturn\u001B[0m \u001B[0m_open_file\u001B[0m\u001B[1;33m(\u001B[0m\u001B[0mname_or_buffer\u001B[0m\u001B[1;33m,\u001B[0m \u001B[0mmode\u001B[0m\u001B[1;33m)\u001B[0m\u001B[1;33m\u001B[0m\u001B[1;33m\u001B[0m\u001B[0m\n\u001B[0m\u001B[0;32m    231\u001B[0m     \u001B[1;32melse\u001B[0m\u001B[1;33m:\u001B[0m\u001B[1;33m\u001B[0m\u001B[1;33m\u001B[0m\u001B[0m\n\u001B[0;32m    232\u001B[0m         \u001B[1;32mif\u001B[0m \u001B[1;34m'w'\u001B[0m \u001B[1;32min\u001B[0m \u001B[0mmode\u001B[0m\u001B[1;33m:\u001B[0m\u001B[1;33m\u001B[0m\u001B[1;33m\u001B[0m\u001B[0m\n",
      "\u001B[1;32m~\\anaconda3\\envs\\pytorch17_p38\\lib\\site-packages\\torch\\serialization.py\u001B[0m in \u001B[0;36m__init__\u001B[1;34m(self, name, mode)\u001B[0m\n\u001B[0;32m    209\u001B[0m \u001B[1;32mclass\u001B[0m \u001B[0m_open_file\u001B[0m\u001B[1;33m(\u001B[0m\u001B[0m_opener\u001B[0m\u001B[1;33m)\u001B[0m\u001B[1;33m:\u001B[0m\u001B[1;33m\u001B[0m\u001B[1;33m\u001B[0m\u001B[0m\n\u001B[0;32m    210\u001B[0m     \u001B[1;32mdef\u001B[0m \u001B[0m__init__\u001B[0m\u001B[1;33m(\u001B[0m\u001B[0mself\u001B[0m\u001B[1;33m,\u001B[0m \u001B[0mname\u001B[0m\u001B[1;33m,\u001B[0m \u001B[0mmode\u001B[0m\u001B[1;33m)\u001B[0m\u001B[1;33m:\u001B[0m\u001B[1;33m\u001B[0m\u001B[1;33m\u001B[0m\u001B[0m\n\u001B[1;32m--> 211\u001B[1;33m         \u001B[0msuper\u001B[0m\u001B[1;33m(\u001B[0m\u001B[0m_open_file\u001B[0m\u001B[1;33m,\u001B[0m \u001B[0mself\u001B[0m\u001B[1;33m)\u001B[0m\u001B[1;33m.\u001B[0m\u001B[0m__init__\u001B[0m\u001B[1;33m(\u001B[0m\u001B[0mopen\u001B[0m\u001B[1;33m(\u001B[0m\u001B[0mname\u001B[0m\u001B[1;33m,\u001B[0m \u001B[0mmode\u001B[0m\u001B[1;33m)\u001B[0m\u001B[1;33m)\u001B[0m\u001B[1;33m\u001B[0m\u001B[1;33m\u001B[0m\u001B[0m\n\u001B[0m\u001B[0;32m    212\u001B[0m \u001B[1;33m\u001B[0m\u001B[0m\n\u001B[0;32m    213\u001B[0m     \u001B[1;32mdef\u001B[0m \u001B[0m__exit__\u001B[0m\u001B[1;33m(\u001B[0m\u001B[0mself\u001B[0m\u001B[1;33m,\u001B[0m \u001B[1;33m*\u001B[0m\u001B[0margs\u001B[0m\u001B[1;33m)\u001B[0m\u001B[1;33m:\u001B[0m\u001B[1;33m\u001B[0m\u001B[1;33m\u001B[0m\u001B[0m\n",
      "\u001B[1;31mFileNotFoundError\u001B[0m: [Errno 2] No such file or directory: '../input/bird-clef/resnet152_sr32000_d7_v1_v1/birdclef_resnet152_fold0_epoch_00_f1_val_01435_20210513145723.pth'"
     ]
    }
   ],
   "source": [
    "checkpoint_paths = [\n",
    "    Path(\"../input/bird-clef/resnet152_sr32000_d7_v1_v1/birdclef_resnet152_fold0_epoch_00_f1_val_01435_20210513145723.pth\"),\n",
    "]\n",
    "\n",
    "\n",
    "nets = [\n",
    "        load_net(checkpoint_path.as_posix()) for checkpoint_path in checkpoint_paths\n",
    "]"
   ]
  },
  {
   "cell_type": "code",
   "execution_count": null,
   "metadata": {},
   "outputs": [],
   "source": [
    "## Threshold 보다 높은 값만 pred라는 list에 저장\n",
    "\n",
    "@torch.no_grad()\n",
    "def get_thresh_preds(out, thresh=None):\n",
    "    thresh = thresh or THRESH\n",
    "    o = (-out).argsort(1)\n",
    "    npreds = (out > thresh).sum(1)\n",
    "    preds = []\n",
    "    for oo, npred in zip(o, npreds):\n",
    "        preds.append(oo[:npred].cpu().numpy().tolist())\n",
    "    return preds"
   ]
  },
  {
   "cell_type": "code",
   "execution_count": null,
   "metadata": {},
   "outputs": [],
   "source": [
    "## pred라는 list를 받아서 그 안에 새이름이 있으면 keep, 없으면 'nocall'로 변경\n",
    "def get_bird_names(preds):\n",
    "    bird_names = []\n",
    "    for pred in preds:\n",
    "        if not pred:\n",
    "            bird_names.append(\"nocall\")\n",
    "        else:\n",
    "            bird_names.append(\" \".join([INV_LABEL_IDS[bird_id] for bird_id in pred]))\n",
    "    return bird_names"
   ]
  },
  {
   "cell_type": "code",
   "execution_count": null,
   "metadata": {},
   "outputs": [],
   "source": [
    "##predict 실행해서 label 확률표 반환\n",
    "\n",
    "def predict(nets, test_data, names=True):\n",
    "    preds = []\n",
    "    with torch.no_grad():\n",
    "        for idx in  tqdm(list(range(len(test_data)))):\n",
    "            xb = torch.from_numpy(test_data[idx]).to(device)\n",
    "            pred = 0.\n",
    "            for net in nets:\n",
    "                o = net(xb)\n",
    "                o = torch.sigmoid(o)\n",
    "\n",
    "                pred += o\n",
    "\n",
    "            pred /= len(nets)\n",
    "            \n",
    "            if names:\n",
    "                pred = get_bird_names(get_thresh_preds(pred))\n",
    "\n",
    "            preds.append(pred)\n",
    "    return preds"
   ]
  },
  {
   "cell_type": "code",
   "execution_count": null,
   "metadata": {},
   "outputs": [],
   "source": [
    "pred_probas = predict(nets, test_data, names=False)\n",
    "print(len(pred_probas))"
   ]
  },
  {
   "cell_type": "code",
   "execution_count": null,
   "metadata": {},
   "outputs": [],
   "source": [
    "##새 이름 list로 전\n",
    "preds = [get_bird_names(get_thresh_preds(pred, thresh=THRESH)) for pred in pred_probas]"
   ]
  },
  {
   "cell_type": "code",
   "execution_count": null,
   "metadata": {},
   "outputs": [],
   "source": [
    "######################################\n",
    "##    submission 만들기 위한 작업   ##\n",
    "######################################\n",
    "\n",
    "\n",
    "def preds_as_df(data, preds):\n",
    "    sub = {\n",
    "        \"row_id\": [],\n",
    "        \"birds\": [],\n",
    "    }\n",
    "    \n",
    "    for row, pred in zip(data.itertuples(False), preds):\n",
    "        row_id = [f\"{row.id}_{row.site}_{5*i}\" for i in range(1, len(pred)+1)]\n",
    "        sub[\"birds\"] += pred\n",
    "        sub[\"row_id\"] += row_id\n",
    "        \n",
    "    sub = pd.DataFrame(sub)\n",
    "    \n",
    "    if SAMPLE_SUB_PATH:\n",
    "        sample_sub = pd.read_csv(SAMPLE_SUB_PATH, usecols=[\"row_id\"])\n",
    "        sub = sample_sub.merge(sub, on=\"row_id\", how=\"left\")\n",
    "        sub[\"birds\"] = sub[\"birds\"].fillna(\"nocall\")\n",
    "    return sub"
   ]
  },
  {
   "cell_type": "code",
   "execution_count": null,
   "metadata": {},
   "outputs": [],
   "source": [
    "sub = preds_as_df(data, preds)\n",
    "print(sub.shape)\n",
    "sub"
   ]
  },
  {
   "cell_type": "code",
   "execution_count": null,
   "metadata": {},
   "outputs": [],
   "source": [
    "sub.to_csv(\"submission.csv\", index=False)"
   ]
  },
  {
   "cell_type": "code",
   "execution_count": null,
   "metadata": {},
   "outputs": [],
   "source": [
    "######################################\n",
    "##         성능 확인하기            ##\n",
    "######################################\n",
    "\n",
    "\n",
    "def get_metrics(s_true, s_pred):\n",
    "    s_true = set(s_true.split())\n",
    "    s_pred = set(s_pred.split())\n",
    "    n, n_true, n_pred = len(s_true.intersection(s_pred)), len(s_true), len(s_pred)\n",
    "    \n",
    "    prec = n/n_pred\n",
    "    rec = n/n_true\n",
    "    f1 = 2*prec*rec/(prec + rec) if prec + rec else 0\n",
    "    \n",
    "    return {\"f1\": f1, \"prec\": prec, \"rec\": rec, \"n_true\": n_true, \"n_pred\": n_pred, \"n\": n}"
   ]
  },
  {
   "cell_type": "code",
   "execution_count": null,
   "metadata": {},
   "outputs": [],
   "source": [
    "if TARGET_PATH:\n",
    "    sub_target = pd.read_csv(TARGET_PATH)\n",
    "    sub_target = sub_target.merge(sub, how=\"left\", on=\"row_id\")\n",
    "    \n",
    "    print(sub_target[\"birds_x\"].notnull().sum(), sub_target[\"birds_x\"].notnull().sum())\n",
    "    assert sub_target[\"birds_x\"].notnull().all()\n",
    "    assert sub_target[\"birds_y\"].notnull().all()\n",
    "    \n",
    "    df_metrics = pd.DataFrame([get_metrics(s_true, s_pred) for s_true, s_pred in zip(sub_target.birds_x, sub_target.birds_y)])\n",
    "    \n",
    "    print(df_metrics.mean())\n"
   ]
  },
  {
   "cell_type": "code",
   "execution_count": null,
   "metadata": {},
   "outputs": [],
   "source": [
    "sub_target[sub_target.birds_y != \"nocall\"]"
   ]
  },
  {
   "cell_type": "code",
   "execution_count": null,
   "metadata": {},
   "outputs": [],
   "source": [
    "sub_target[sub_target.birds_x != \"nocall\"]"
   ]
  },
  {
   "cell_type": "code",
   "execution_count": null,
   "metadata": {},
   "outputs": [],
   "source": []
  },
  {
   "cell_type": "code",
   "execution_count": null,
   "metadata": {},
   "outputs": [],
   "source": [
    "## 성능 증가 고려사항 http://www.gisdeveloper.co.kr/?p=8443"
   ]
  }
 ],
 "metadata": {
  "kernelspec": {
   "display_name": "pytorch17_p38",
   "language": "python",
   "name": "pytorch17_p38"
  },
  "language_info": {
   "codemirror_mode": {
    "name": "ipython",
    "version": 3
   },
   "file_extension": ".py",
   "mimetype": "text/x-python",
   "name": "python",
   "nbconvert_exporter": "python",
   "pygments_lexer": "ipython3",
   "version": "3.8.5"
  }
 },
 "nbformat": 4,
 "nbformat_minor": 1
}