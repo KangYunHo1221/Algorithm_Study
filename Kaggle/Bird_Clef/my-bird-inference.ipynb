{
 "cells": [
  {
   "cell_type": "code",
   "execution_count": 1,
   "id": "endangered-munich",
   "metadata": {
    "execution": {
     "iopub.execute_input": "2021-05-14T16:02:04.355443Z",
     "iopub.status.busy": "2021-05-14T16:02:04.354868Z",
     "iopub.status.idle": "2021-05-14T16:02:08.742456Z",
     "shell.execute_reply": "2021-05-14T16:02:08.742982Z"
    },
    "papermill": {
     "duration": 4.414955,
     "end_time": "2021-05-14T16:02:08.743406",
     "exception": false,
     "start_time": "2021-05-14T16:02:04.328451",
     "status": "completed"
    },
    "tags": []
   },
   "outputs": [],
   "source": [
    "import numpy as np\n",
    "import librosa as lb\n",
    "import soundfile as sf\n",
    "import pandas as pd\n",
    "import cv2\n",
    "from pathlib import Path\n",
    "import re\n",
    "\n",
    "import torch\n",
    "from torch import nn\n",
    "from  torch.utils.data import Dataset, DataLoader\n",
    "import torchvision.models as models\n",
    "from tqdm.notebook import tqdm\n",
    "\n",
    "import time"
   ]
  },
  {
   "cell_type": "code",
   "execution_count": 2,
   "id": "composite-horse",
   "metadata": {
    "execution": {
     "iopub.execute_input": "2021-05-14T16:02:08.831825Z",
     "iopub.status.busy": "2021-05-14T16:02:08.830342Z",
     "iopub.status.idle": "2021-05-14T16:02:08.842843Z",
     "shell.execute_reply": "2021-05-14T16:02:08.842307Z"
    },
    "papermill": {
     "duration": 0.081293,
     "end_time": "2021-05-14T16:02:08.842964",
     "exception": false,
     "start_time": "2021-05-14T16:02:08.761671",
     "status": "completed"
    },
    "tags": []
   },
   "outputs": [
    {
     "name": "stdout",
     "output_type": "stream",
     "text": [
      "DEVICE: cuda\n"
     ]
    }
   ],
   "source": [
    "NUM_CLASSES = 397\n",
    "SR = 32_000\n",
    "DURATION = 5\n",
    "THRESH = 0.25\n",
    "\n",
    "\n",
    "DEVICE = torch.device(\"cuda\" if torch.cuda.is_available() else \"cpu\")\n",
    "print(\"DEVICE:\", DEVICE)\n",
    "\n",
    "TEST_AUDIO_ROOT = Path(\"../input/birdclef-2021/test_soundscapes\")\n",
    "SAMPLE_SUB_PATH = \"../input/birdclef-2021/sample_submission.csv\"\n",
    "TARGET_PATH = None\n",
    "    \n",
    "    \n",
    "## Test Audio 에 아무것도 없으면(룰 상 제출용 커밋할때만 test_soundscapes에 접근가능하기때문에 연습때는 train_soundscapes꺼 씀)\n",
    "if not len(list(TEST_AUDIO_ROOT.glob(\"*.ogg\"))):\n",
    "    TEST_AUDIO_ROOT = Path(\"../input/birdclef-2021/train_soundscapes\")\n",
    "    SAMPLE_SUB_PATH = None\n",
    "    # SAMPLE_SUB_PATH = \"../input/birdclef-2021/sample_submission.csv\"\n",
    "    TARGET_PATH = Path(\"../input/birdclef-2021/train_soundscape_labels.csv\")"
   ]
  },
  {
   "cell_type": "code",
   "execution_count": 3,
   "id": "unusual-cambodia",
   "metadata": {
    "execution": {
     "iopub.execute_input": "2021-05-14T16:02:08.880827Z",
     "iopub.status.busy": "2021-05-14T16:02:08.880278Z",
     "iopub.status.idle": "2021-05-14T16:02:08.883569Z",
     "shell.execute_reply": "2021-05-14T16:02:08.883150Z"
    },
    "papermill": {
     "duration": 0.025086,
     "end_time": "2021-05-14T16:02:08.883688",
     "exception": false,
     "start_time": "2021-05-14T16:02:08.858602",
     "status": "completed"
    },
    "tags": []
   },
   "outputs": [],
   "source": [
    "class MelSpecComputer:\n",
    "    def __init__(self, sr, n_mels, fmin, fmax, **kwargs):\n",
    "        self.sr = sr\n",
    "        self.n_mels = n_mels\n",
    "        self.fmin = fmin\n",
    "        self.fmax = fmax\n",
    "        kwargs[\"n_fft\"] = kwargs.get(\"n_fft\", self.sr//10)\n",
    "        kwargs[\"hop_length\"] = kwargs.get(\"hop_length\", self.sr//(10*4))\n",
    "        self.kwargs = kwargs\n",
    "\n",
    "    def __call__(self, y):\n",
    "\n",
    "        melspec = lb.feature.melspectrogram(\n",
    "            y, sr=self.sr, n_mels=self.n_mels, fmin=self.fmin, fmax=self.fmax, **self.kwargs,\n",
    "        )\n",
    "\n",
    "        melspec = lb.power_to_db(melspec).astype(np.float32)\n",
    "        return melspec"
   ]
  },
  {
   "cell_type": "code",
   "execution_count": 4,
   "id": "gross-police",
   "metadata": {
    "execution": {
     "iopub.execute_input": "2021-05-14T16:02:08.922929Z",
     "iopub.status.busy": "2021-05-14T16:02:08.922345Z",
     "iopub.status.idle": "2021-05-14T16:02:08.925818Z",
     "shell.execute_reply": "2021-05-14T16:02:08.926269Z"
    },
    "papermill": {
     "duration": 0.027397,
     "end_time": "2021-05-14T16:02:08.926401",
     "exception": false,
     "start_time": "2021-05-14T16:02:08.899004",
     "status": "completed"
    },
    "tags": []
   },
   "outputs": [],
   "source": [
    "def mono_to_color(X, eps=1e-6, mean=None, std=None):\n",
    "    mean = mean or X.mean()\n",
    "    std = std or X.std()\n",
    "    X = (X - mean) / (std + eps)\n",
    "    \n",
    "    _min, _max = X.min(), X.max()\n",
    "\n",
    "    if (_max - _min) > eps:\n",
    "        V = np.clip(X, _min, _max)\n",
    "        V = 255 * (V - _min) / (_max - _min)\n",
    "        V = V.astype(np.uint8)\n",
    "    else:\n",
    "        V = np.zeros_like(X, dtype=np.uint8)\n",
    "\n",
    "    return V\n",
    "\n",
    "def crop_or_pad(y, length):\n",
    "    if len(y) < length:\n",
    "        y = np.concatenate([y, length - np.zeros(len(y))])\n",
    "    elif len(y) > length:\n",
    "        y = y[:length]\n",
    "    return y"
   ]
  },
  {
   "cell_type": "code",
   "execution_count": 5,
   "id": "colored-reduction",
   "metadata": {
    "execution": {
     "iopub.execute_input": "2021-05-14T16:02:08.970894Z",
     "iopub.status.busy": "2021-05-14T16:02:08.969580Z",
     "iopub.status.idle": "2021-05-14T16:02:08.971880Z",
     "shell.execute_reply": "2021-05-14T16:02:08.972451Z"
    },
    "papermill": {
     "duration": 0.03075,
     "end_time": "2021-05-14T16:02:08.972592",
     "exception": false,
     "start_time": "2021-05-14T16:02:08.941842",
     "status": "completed"
    },
    "tags": []
   },
   "outputs": [],
   "source": [
    "class BirdCLEFDataset(Dataset):\n",
    "    def __init__(self, data, sr=SR, n_mels=128, fmin=0, fmax=None, duration=DURATION, step=None, res_type=\"kaiser_fast\", resample=True):\n",
    "        \n",
    "        self.data = data\n",
    "        \n",
    "        self.sr = sr\n",
    "        self.n_mels = n_mels\n",
    "        self.fmin = fmin\n",
    "        self.fmax = fmax or self.sr//2\n",
    "\n",
    "        self.duration = duration\n",
    "        self.audio_length = self.duration*self.sr\n",
    "        self.step = step or self.audio_length\n",
    "        \n",
    "        self.res_type = res_type\n",
    "        self.resample = resample\n",
    "\n",
    "        self.mel_spec_computer = MelSpecComputer(sr=self.sr, n_mels=self.n_mels, fmin=self.fmin,\n",
    "                                                 fmax=self.fmax)\n",
    "    def __len__(self):\n",
    "        return len(self.data)\n",
    "    \n",
    "    @staticmethod\n",
    "    def normalize(image):\n",
    "        image = image.astype(\"float32\", copy=False) / 255.0\n",
    "        image = np.stack([image, image, image])\n",
    "        return image\n",
    "    \n",
    "    def audio_to_image(self, audio):\n",
    "        melspec = self.mel_spec_computer(audio) \n",
    "        image = mono_to_color(melspec)\n",
    "        image = self.normalize(image)\n",
    "        return image\n",
    "\n",
    "    def read_file(self, filepath):\n",
    "        audio, orig_sr = sf.read(filepath, dtype=\"float32\")\n",
    "\n",
    "        if self.resample and orig_sr != self.sr:\n",
    "            audio = lb.resample(audio, orig_sr, self.sr, res_type=self.res_type)\n",
    "          \n",
    "        audios = []\n",
    "        for i in range(self.audio_length, len(audio) + self.step, self.step):\n",
    "            start = max(0, i - self.audio_length)\n",
    "            end = start + self.audio_length\n",
    "            audios.append(audio[start:end])\n",
    "            \n",
    "        if len(audios[-1]) < self.audio_length:\n",
    "            audios = audios[:-1]\n",
    "            \n",
    "        images = [self.audio_to_image(audio) for audio in audios]\n",
    "        images = np.stack(images)\n",
    "        \n",
    "        return images\n",
    "    \n",
    "        \n",
    "    def __getitem__(self, idx):\n",
    "        return self.read_file(self.data.loc[idx, \"filepath\"])"
   ]
  },
  {
   "cell_type": "code",
   "execution_count": 6,
   "id": "exact-cheese",
   "metadata": {
    "execution": {
     "iopub.execute_input": "2021-05-14T16:02:09.007591Z",
     "iopub.status.busy": "2021-05-14T16:02:09.007053Z",
     "iopub.status.idle": "2021-05-14T16:02:09.048819Z",
     "shell.execute_reply": "2021-05-14T16:02:09.048412Z"
    },
    "papermill": {
     "duration": 0.061167,
     "end_time": "2021-05-14T16:02:09.048937",
     "exception": false,
     "start_time": "2021-05-14T16:02:08.987770",
     "status": "completed"
    },
    "tags": []
   },
   "outputs": [
    {
     "name": "stdout",
     "output_type": "stream",
     "text": [
      "(20, 5)\n"
     ]
    },
    {
     "data": {
      "text/html": [
       "<div>\n",
       "<style scoped>\n",
       "    .dataframe tbody tr th:only-of-type {\n",
       "        vertical-align: middle;\n",
       "    }\n",
       "\n",
       "    .dataframe tbody tr th {\n",
       "        vertical-align: top;\n",
       "    }\n",
       "\n",
       "    .dataframe thead th {\n",
       "        text-align: right;\n",
       "    }\n",
       "</style>\n",
       "<table border=\"1\" class=\"dataframe\">\n",
       "  <thead>\n",
       "    <tr style=\"text-align: right;\">\n",
       "      <th></th>\n",
       "      <th>filename</th>\n",
       "      <th>id</th>\n",
       "      <th>site</th>\n",
       "      <th>date</th>\n",
       "      <th>filepath</th>\n",
       "    </tr>\n",
       "  </thead>\n",
       "  <tbody>\n",
       "    <tr>\n",
       "      <th>0</th>\n",
       "      <td>20152_SSW_20170805</td>\n",
       "      <td>20152</td>\n",
       "      <td>SSW</td>\n",
       "      <td>20170805</td>\n",
       "      <td>../input/birdclef-2021/train_soundscapes/20152...</td>\n",
       "    </tr>\n",
       "    <tr>\n",
       "      <th>1</th>\n",
       "      <td>57610_COR_20190904</td>\n",
       "      <td>57610</td>\n",
       "      <td>COR</td>\n",
       "      <td>20190904</td>\n",
       "      <td>../input/birdclef-2021/train_soundscapes/57610...</td>\n",
       "    </tr>\n",
       "    <tr>\n",
       "      <th>2</th>\n",
       "      <td>7843_SSW_20170325</td>\n",
       "      <td>7843</td>\n",
       "      <td>SSW</td>\n",
       "      <td>20170325</td>\n",
       "      <td>../input/birdclef-2021/train_soundscapes/7843_...</td>\n",
       "    </tr>\n",
       "    <tr>\n",
       "      <th>3</th>\n",
       "      <td>42907_SSW_20170708</td>\n",
       "      <td>42907</td>\n",
       "      <td>SSW</td>\n",
       "      <td>20170708</td>\n",
       "      <td>../input/birdclef-2021/train_soundscapes/42907...</td>\n",
       "    </tr>\n",
       "    <tr>\n",
       "      <th>4</th>\n",
       "      <td>7019_COR_20190904</td>\n",
       "      <td>7019</td>\n",
       "      <td>COR</td>\n",
       "      <td>20190904</td>\n",
       "      <td>../input/birdclef-2021/train_soundscapes/7019_...</td>\n",
       "    </tr>\n",
       "  </tbody>\n",
       "</table>\n",
       "</div>"
      ],
      "text/plain": [
       "             filename     id site      date  \\\n",
       "0  20152_SSW_20170805  20152  SSW  20170805   \n",
       "1  57610_COR_20190904  57610  COR  20190904   \n",
       "2   7843_SSW_20170325   7843  SSW  20170325   \n",
       "3  42907_SSW_20170708  42907  SSW  20170708   \n",
       "4   7019_COR_20190904   7019  COR  20190904   \n",
       "\n",
       "                                            filepath  \n",
       "0  ../input/birdclef-2021/train_soundscapes/20152...  \n",
       "1  ../input/birdclef-2021/train_soundscapes/57610...  \n",
       "2  ../input/birdclef-2021/train_soundscapes/7843_...  \n",
       "3  ../input/birdclef-2021/train_soundscapes/42907...  \n",
       "4  ../input/birdclef-2021/train_soundscapes/7019_...  "
      ]
     },
     "execution_count": 6,
     "metadata": {},
     "output_type": "execute_result"
    }
   ],
   "source": [
    "#Train_soundscapes(평가 할 녀석)을 df로 불러오기\n",
    "\n",
    "data = pd.DataFrame(\n",
    "     [(path.stem, *path.stem.split(\"_\"), path) for path in Path(TEST_AUDIO_ROOT).glob(\"*.ogg\")],\n",
    "    columns = [\"filename\", \"id\", \"site\", \"date\", \"filepath\"]\n",
    ")\n",
    "print(data.shape)\n",
    "data.head()"
   ]
  },
  {
   "cell_type": "code",
   "execution_count": 7,
   "id": "delayed-disorder",
   "metadata": {
    "execution": {
     "iopub.execute_input": "2021-05-14T16:02:09.087922Z",
     "iopub.status.busy": "2021-05-14T16:02:09.087424Z",
     "iopub.status.idle": "2021-05-14T16:02:09.650296Z",
     "shell.execute_reply": "2021-05-14T16:02:09.649733Z"
    },
    "papermill": {
     "duration": 0.58534,
     "end_time": "2021-05-14T16:02:09.650431",
     "exception": false,
     "start_time": "2021-05-14T16:02:09.065091",
     "status": "completed"
    },
    "tags": []
   },
   "outputs": [],
   "source": [
    "## 메타데이터(정답지) 불러오기\n",
    "df_train = pd.read_csv(\"../input/birdclef-2021/train_metadata.csv\")\n",
    "\n",
    "LABEL_IDS = {label: label_id for label_id,label in enumerate(sorted(df_train[\"primary_label\"].unique()))}\n",
    "INV_LABEL_IDS = {val: key for key,val in LABEL_IDS.items()}"
   ]
  },
  {
   "cell_type": "code",
   "execution_count": 8,
   "id": "packed-austin",
   "metadata": {
    "execution": {
     "iopub.execute_input": "2021-05-14T16:02:09.689429Z",
     "iopub.status.busy": "2021-05-14T16:02:09.688836Z",
     "iopub.status.idle": "2021-05-14T16:02:15.993927Z",
     "shell.execute_reply": "2021-05-14T16:02:15.995185Z"
    },
    "papermill": {
     "duration": 6.32778,
     "end_time": "2021-05-14T16:02:15.995491",
     "exception": false,
     "start_time": "2021-05-14T16:02:09.667711",
     "status": "completed"
    },
    "tags": []
   },
   "outputs": [
    {
     "data": {
      "text/plain": [
       "(20, (120, 3, 128, 201), (120, 3, 128, 201))"
      ]
     },
     "execution_count": 8,
     "metadata": {},
     "output_type": "execute_result"
    }
   ],
   "source": [
    "test_data = BirdCLEFDataset(data=data)\n",
    "len(test_data), test_data[0].shape, test_data[1].shape\n",
    "# 20 -> train_soundscape에 20개 있음\n",
    "# 120 -> 10분(각 train_soundscape음성) / 5초\n",
    "# 3 - > normalize에서 3쌓음\n",
    "# 128, 201 -> 이미지 사이즈"
   ]
  },
  {
   "cell_type": "code",
   "execution_count": 9,
   "id": "bacterial-cotton",
   "metadata": {
    "execution": {
     "iopub.execute_input": "2021-05-14T16:02:16.076517Z",
     "iopub.status.busy": "2021-05-14T16:02:16.075597Z",
     "iopub.status.idle": "2021-05-14T16:02:16.078574Z",
     "shell.execute_reply": "2021-05-14T16:02:16.079675Z"
    },
    "papermill": {
     "duration": 0.048502,
     "end_time": "2021-05-14T16:02:16.080050",
     "exception": false,
     "start_time": "2021-05-14T16:02:16.031548",
     "status": "completed"
    },
    "tags": []
   },
   "outputs": [],
   "source": [
    "def load_net(checkpoint_path, num_classes=NUM_CLASSES):\n",
    "    net = models.resnet152(pretrained = False)\n",
    "    net.fc = nn.Linear(net.fc.in_features, num_classes)\n",
    "    dummy_device = torch.device(\"cpu\")\n",
    "    d = torch.load(checkpoint_path, map_location=dummy_device)\n",
    "    for key in list(d.keys()):\n",
    "        d[key.replace(\"model.\", \"\")] = d.pop(key)\n",
    "    net.load_state_dict(d)\n",
    "    net = net.to(DEVICE)\n",
    "    net = net.eval()\n",
    "    return net"
   ]
  },
  {
   "cell_type": "code",
   "execution_count": 10,
   "id": "standard-kentucky",
   "metadata": {
    "execution": {
     "iopub.execute_input": "2021-05-14T16:02:16.164132Z",
     "iopub.status.busy": "2021-05-14T16:02:16.163155Z",
     "iopub.status.idle": "2021-05-14T16:02:27.567907Z",
     "shell.execute_reply": "2021-05-14T16:02:27.567407Z"
    },
    "papermill": {
     "duration": 11.448503,
     "end_time": "2021-05-14T16:02:27.568049",
     "exception": false,
     "start_time": "2021-05-14T16:02:16.119546",
     "status": "completed"
    },
    "tags": []
   },
   "outputs": [],
   "source": [
    "checkpoint_paths = [\n",
    "    Path(\"../input/bird-clef/resnet152_sr32000_d7_v1_v1/birdclef_resnet152_fold0_epoch_00_f1_val_01435_20210513145723.pth\"),\n",
    "]\n",
    "\n",
    "\n",
    "nets = [\n",
    "        load_net(checkpoint_path.as_posix()) for checkpoint_path in checkpoint_paths\n",
    "]"
   ]
  },
  {
   "cell_type": "code",
   "execution_count": 11,
   "id": "academic-growth",
   "metadata": {
    "execution": {
     "iopub.execute_input": "2021-05-14T16:02:27.609193Z",
     "iopub.status.busy": "2021-05-14T16:02:27.607611Z",
     "iopub.status.idle": "2021-05-14T16:02:27.610052Z",
     "shell.execute_reply": "2021-05-14T16:02:27.610489Z"
    },
    "papermill": {
     "duration": 0.025528,
     "end_time": "2021-05-14T16:02:27.610620",
     "exception": false,
     "start_time": "2021-05-14T16:02:27.585092",
     "status": "completed"
    },
    "tags": []
   },
   "outputs": [],
   "source": [
    "## Threshold 보다 높은 값만 pred라는 list에 저장\n",
    "\n",
    "@torch.no_grad()\n",
    "def get_thresh_preds(out, thresh=None):\n",
    "    thresh = thresh or THRESH\n",
    "    o = (-out).argsort(1)\n",
    "    npreds = (out > thresh).sum(1)\n",
    "    preds = []\n",
    "    for oo, npred in zip(o, npreds):\n",
    "        preds.append(oo[:npred].cpu().numpy().tolist())\n",
    "    return preds"
   ]
  },
  {
   "cell_type": "code",
   "execution_count": 12,
   "id": "brown-cleaners",
   "metadata": {
    "execution": {
     "iopub.execute_input": "2021-05-14T16:02:27.653287Z",
     "iopub.status.busy": "2021-05-14T16:02:27.652604Z",
     "iopub.status.idle": "2021-05-14T16:02:27.656586Z",
     "shell.execute_reply": "2021-05-14T16:02:27.656135Z"
    },
    "papermill": {
     "duration": 0.027107,
     "end_time": "2021-05-14T16:02:27.656694",
     "exception": false,
     "start_time": "2021-05-14T16:02:27.629587",
     "status": "completed"
    },
    "tags": []
   },
   "outputs": [],
   "source": [
    "## pred라는 list를 받아서 그 안에 새이름이 있으면 keep, 없으면 'nocall'로 변경\n",
    "def get_bird_names(preds):\n",
    "    bird_names = []\n",
    "    for pred in preds:\n",
    "        if not pred:\n",
    "            bird_names.append(\"nocall\")\n",
    "        else:\n",
    "            bird_names.append(\" \".join([INV_LABEL_IDS[bird_id] for bird_id in pred]))\n",
    "    return bird_names"
   ]
  },
  {
   "cell_type": "code",
   "execution_count": 13,
   "id": "after-polymer",
   "metadata": {
    "execution": {
     "iopub.execute_input": "2021-05-14T16:02:27.698776Z",
     "iopub.status.busy": "2021-05-14T16:02:27.698178Z",
     "iopub.status.idle": "2021-05-14T16:02:27.701439Z",
     "shell.execute_reply": "2021-05-14T16:02:27.700990Z"
    },
    "papermill": {
     "duration": 0.027276,
     "end_time": "2021-05-14T16:02:27.701547",
     "exception": false,
     "start_time": "2021-05-14T16:02:27.674271",
     "status": "completed"
    },
    "tags": []
   },
   "outputs": [],
   "source": [
    "##predict 실행해서 label 확률표 반환\n",
    "\n",
    "def predict(nets, test_data, names=True):\n",
    "    preds = []\n",
    "    with torch.no_grad():\n",
    "        for idx in  tqdm(list(range(len(test_data)))):\n",
    "            xb = torch.from_numpy(test_data[idx]).to(DEVICE)\n",
    "            pred = 0.\n",
    "            for net in nets:\n",
    "                o = net(xb)\n",
    "                o = torch.sigmoid(o)\n",
    "\n",
    "                pred += o\n",
    "\n",
    "            pred /= len(nets)\n",
    "            \n",
    "            if names:\n",
    "                pred = get_bird_names(get_thresh_preds(pred))\n",
    "\n",
    "            preds.append(pred)\n",
    "    return preds"
   ]
  },
  {
   "cell_type": "code",
   "execution_count": 14,
   "id": "restricted-rebate",
   "metadata": {
    "execution": {
     "iopub.execute_input": "2021-05-14T16:02:27.742518Z",
     "iopub.status.busy": "2021-05-14T16:02:27.741663Z",
     "iopub.status.idle": "2021-05-14T16:03:35.348106Z",
     "shell.execute_reply": "2021-05-14T16:03:35.348931Z"
    },
    "papermill": {
     "duration": 67.629299,
     "end_time": "2021-05-14T16:03:35.349185",
     "exception": false,
     "start_time": "2021-05-14T16:02:27.719886",
     "status": "completed"
    },
    "tags": []
   },
   "outputs": [
    {
     "data": {
      "application/vnd.jupyter.widget-view+json": {
       "model_id": "7a22b70223b64c67a0fec59d1d74f40b",
       "version_major": 2,
       "version_minor": 0
      },
      "text/plain": [
       "  0%|          | 0/20 [00:00<?, ?it/s]"
      ]
     },
     "metadata": {},
     "output_type": "display_data"
    },
    {
     "name": "stdout",
     "output_type": "stream",
     "text": [
      "20\n"
     ]
    }
   ],
   "source": [
    "pred_probas = predict(nets, test_data, names=False)\n",
    "print(len(pred_probas))"
   ]
  },
  {
   "cell_type": "code",
   "execution_count": 15,
   "id": "oriented-washington",
   "metadata": {
    "execution": {
     "iopub.execute_input": "2021-05-14T16:03:35.399861Z",
     "iopub.status.busy": "2021-05-14T16:03:35.399190Z",
     "iopub.status.idle": "2021-05-14T16:03:35.606586Z",
     "shell.execute_reply": "2021-05-14T16:03:35.606090Z"
    },
    "papermill": {
     "duration": 0.22992,
     "end_time": "2021-05-14T16:03:35.606705",
     "exception": false,
     "start_time": "2021-05-14T16:03:35.376785",
     "status": "completed"
    },
    "tags": []
   },
   "outputs": [],
   "source": [
    "##새 이름 list로 전\n",
    "preds = [get_bird_names(get_thresh_preds(pred, thresh=THRESH)) for pred in pred_probas]"
   ]
  },
  {
   "cell_type": "markdown",
   "id": "greater-carbon",
   "metadata": {
    "papermill": {
     "duration": 0.017768,
     "end_time": "2021-05-14T16:03:35.642799",
     "exception": false,
     "start_time": "2021-05-14T16:03:35.625031",
     "status": "completed"
    },
    "tags": []
   },
   "source": [
    "# submission 만들기 위한 작업"
   ]
  },
  {
   "cell_type": "code",
   "execution_count": 16,
   "id": "several-workshop",
   "metadata": {
    "execution": {
     "iopub.execute_input": "2021-05-14T16:03:35.684973Z",
     "iopub.status.busy": "2021-05-14T16:03:35.684445Z",
     "iopub.status.idle": "2021-05-14T16:03:35.688238Z",
     "shell.execute_reply": "2021-05-14T16:03:35.687819Z"
    },
    "papermill": {
     "duration": 0.027465,
     "end_time": "2021-05-14T16:03:35.688345",
     "exception": false,
     "start_time": "2021-05-14T16:03:35.660880",
     "status": "completed"
    },
    "tags": []
   },
   "outputs": [],
   "source": [
    "def preds_as_df(data, preds):\n",
    "    sub = {\n",
    "        \"row_id\": [],\n",
    "        \"birds\": [],\n",
    "    }\n",
    "    \n",
    "    for row, pred in zip(data.itertuples(False), preds):\n",
    "        row_id = [f\"{row.id}_{row.site}_{5*i}\" for i in range(1, len(pred)+1)]\n",
    "        sub[\"birds\"] += pred\n",
    "        sub[\"row_id\"] += row_id\n",
    "        \n",
    "    sub = pd.DataFrame(sub)\n",
    "    \n",
    "    if SAMPLE_SUB_PATH:\n",
    "        sample_sub = pd.read_csv(SAMPLE_SUB_PATH, usecols=[\"row_id\"])\n",
    "        sub = sample_sub.merge(sub, on=\"row_id\", how=\"left\")\n",
    "        sub[\"birds\"] = sub[\"birds\"].fillna(\"nocall\")\n",
    "    return sub"
   ]
  },
  {
   "cell_type": "code",
   "execution_count": 17,
   "id": "global-nudist",
   "metadata": {
    "execution": {
     "iopub.execute_input": "2021-05-14T16:03:35.737317Z",
     "iopub.status.busy": "2021-05-14T16:03:35.736725Z",
     "iopub.status.idle": "2021-05-14T16:03:35.743746Z",
     "shell.execute_reply": "2021-05-14T16:03:35.743327Z"
    },
    "papermill": {
     "duration": 0.037605,
     "end_time": "2021-05-14T16:03:35.743870",
     "exception": false,
     "start_time": "2021-05-14T16:03:35.706265",
     "status": "completed"
    },
    "tags": []
   },
   "outputs": [
    {
     "name": "stdout",
     "output_type": "stream",
     "text": [
      "(2400, 2)\n"
     ]
    },
    {
     "data": {
      "text/html": [
       "<div>\n",
       "<style scoped>\n",
       "    .dataframe tbody tr th:only-of-type {\n",
       "        vertical-align: middle;\n",
       "    }\n",
       "\n",
       "    .dataframe tbody tr th {\n",
       "        vertical-align: top;\n",
       "    }\n",
       "\n",
       "    .dataframe thead th {\n",
       "        text-align: right;\n",
       "    }\n",
       "</style>\n",
       "<table border=\"1\" class=\"dataframe\">\n",
       "  <thead>\n",
       "    <tr style=\"text-align: right;\">\n",
       "      <th></th>\n",
       "      <th>row_id</th>\n",
       "      <th>birds</th>\n",
       "    </tr>\n",
       "  </thead>\n",
       "  <tbody>\n",
       "    <tr>\n",
       "      <th>0</th>\n",
       "      <td>20152_SSW_5</td>\n",
       "      <td>nocall</td>\n",
       "    </tr>\n",
       "    <tr>\n",
       "      <th>1</th>\n",
       "      <td>20152_SSW_10</td>\n",
       "      <td>nocall</td>\n",
       "    </tr>\n",
       "    <tr>\n",
       "      <th>2</th>\n",
       "      <td>20152_SSW_15</td>\n",
       "      <td>nocall</td>\n",
       "    </tr>\n",
       "    <tr>\n",
       "      <th>3</th>\n",
       "      <td>20152_SSW_20</td>\n",
       "      <td>nocall</td>\n",
       "    </tr>\n",
       "    <tr>\n",
       "      <th>4</th>\n",
       "      <td>20152_SSW_25</td>\n",
       "      <td>nocall</td>\n",
       "    </tr>\n",
       "    <tr>\n",
       "      <th>...</th>\n",
       "      <td>...</td>\n",
       "      <td>...</td>\n",
       "    </tr>\n",
       "    <tr>\n",
       "      <th>2395</th>\n",
       "      <td>26709_SSW_580</td>\n",
       "      <td>nocall</td>\n",
       "    </tr>\n",
       "    <tr>\n",
       "      <th>2396</th>\n",
       "      <td>26709_SSW_585</td>\n",
       "      <td>nocall</td>\n",
       "    </tr>\n",
       "    <tr>\n",
       "      <th>2397</th>\n",
       "      <td>26709_SSW_590</td>\n",
       "      <td>nocall</td>\n",
       "    </tr>\n",
       "    <tr>\n",
       "      <th>2398</th>\n",
       "      <td>26709_SSW_595</td>\n",
       "      <td>nocall</td>\n",
       "    </tr>\n",
       "    <tr>\n",
       "      <th>2399</th>\n",
       "      <td>26709_SSW_600</td>\n",
       "      <td>nocall</td>\n",
       "    </tr>\n",
       "  </tbody>\n",
       "</table>\n",
       "<p>2400 rows × 2 columns</p>\n",
       "</div>"
      ],
      "text/plain": [
       "             row_id   birds\n",
       "0       20152_SSW_5  nocall\n",
       "1      20152_SSW_10  nocall\n",
       "2      20152_SSW_15  nocall\n",
       "3      20152_SSW_20  nocall\n",
       "4      20152_SSW_25  nocall\n",
       "...             ...     ...\n",
       "2395  26709_SSW_580  nocall\n",
       "2396  26709_SSW_585  nocall\n",
       "2397  26709_SSW_590  nocall\n",
       "2398  26709_SSW_595  nocall\n",
       "2399  26709_SSW_600  nocall\n",
       "\n",
       "[2400 rows x 2 columns]"
      ]
     },
     "execution_count": 17,
     "metadata": {},
     "output_type": "execute_result"
    }
   ],
   "source": [
    "sub = preds_as_df(data, preds)\n",
    "print(sub.shape)\n",
    "sub"
   ]
  },
  {
   "cell_type": "code",
   "execution_count": 18,
   "id": "forward-firewall",
   "metadata": {
    "execution": {
     "iopub.execute_input": "2021-05-14T16:03:35.785335Z",
     "iopub.status.busy": "2021-05-14T16:03:35.784724Z",
     "iopub.status.idle": "2021-05-14T16:03:35.918446Z",
     "shell.execute_reply": "2021-05-14T16:03:35.917796Z"
    },
    "papermill": {
     "duration": 0.155503,
     "end_time": "2021-05-14T16:03:35.918572",
     "exception": false,
     "start_time": "2021-05-14T16:03:35.763069",
     "status": "completed"
    },
    "tags": []
   },
   "outputs": [],
   "source": [
    "sub.to_csv(\"submission.csv\", index=False)"
   ]
  },
  {
   "cell_type": "markdown",
   "id": "gross-sector",
   "metadata": {
    "papermill": {
     "duration": 0.018711,
     "end_time": "2021-05-14T16:03:35.956554",
     "exception": false,
     "start_time": "2021-05-14T16:03:35.937843",
     "status": "completed"
    },
    "tags": []
   },
   "source": [
    "# 아쉬우니까 성능 점수 직접 확인해보기"
   ]
  },
  {
   "cell_type": "code",
   "execution_count": 19,
   "id": "forced-bridal",
   "metadata": {
    "execution": {
     "iopub.execute_input": "2021-05-14T16:03:36.000076Z",
     "iopub.status.busy": "2021-05-14T16:03:35.999425Z",
     "iopub.status.idle": "2021-05-14T16:03:36.002825Z",
     "shell.execute_reply": "2021-05-14T16:03:36.003210Z"
    },
    "papermill": {
     "duration": 0.027855,
     "end_time": "2021-05-14T16:03:36.003335",
     "exception": false,
     "start_time": "2021-05-14T16:03:35.975480",
     "status": "completed"
    },
    "tags": []
   },
   "outputs": [],
   "source": [
    "def get_metrics(s_true, s_pred):\n",
    "    s_true = set(s_true.split())\n",
    "    s_pred = set(s_pred.split())\n",
    "    n, n_true, n_pred = len(s_true.intersection(s_pred)), len(s_true), len(s_pred)\n",
    "    \n",
    "    prec = n/n_pred\n",
    "    rec = n/n_true\n",
    "    f1 = 2*prec*rec/(prec + rec) if prec + rec else 0\n",
    "    \n",
    "    return {\"f1\": f1, \"prec\": prec, \"rec\": rec, \"n_true\": n_true, \"n_pred\": n_pred, \"n\": n}"
   ]
  },
  {
   "cell_type": "code",
   "execution_count": 20,
   "id": "disabled-selection",
   "metadata": {
    "execution": {
     "iopub.execute_input": "2021-05-14T16:03:36.048541Z",
     "iopub.status.busy": "2021-05-14T16:03:36.048040Z",
     "iopub.status.idle": "2021-05-14T16:03:36.087411Z",
     "shell.execute_reply": "2021-05-14T16:03:36.087963Z"
    },
    "papermill": {
     "duration": 0.065872,
     "end_time": "2021-05-14T16:03:36.088142",
     "exception": false,
     "start_time": "2021-05-14T16:03:36.022270",
     "status": "completed"
    },
    "tags": []
   },
   "outputs": [
    {
     "name": "stdout",
     "output_type": "stream",
     "text": [
      "2400 2400\n",
      "f1        0.629549\n",
      "prec      0.629722\n",
      "rec       0.629667\n",
      "n_true    1.130000\n",
      "n_pred    1.011250\n",
      "n         0.630417\n",
      "dtype: float64\n"
     ]
    }
   ],
   "source": [
    "if TARGET_PATH:\n",
    "    sub_target = pd.read_csv(TARGET_PATH)\n",
    "    sub_target = sub_target.merge(sub, how=\"left\", on=\"row_id\")\n",
    "    \n",
    "    print(sub_target[\"birds_x\"].notnull().sum(), sub_target[\"birds_x\"].notnull().sum())\n",
    "    assert sub_target[\"birds_x\"].notnull().all()\n",
    "    assert sub_target[\"birds_y\"].notnull().all()\n",
    "    \n",
    "    df_metrics = pd.DataFrame([get_metrics(s_true, s_pred) for s_true, s_pred in zip(sub_target.birds_x, sub_target.birds_y)])\n",
    "    \n",
    "    print(df_metrics.mean())"
   ]
  },
  {
   "cell_type": "code",
   "execution_count": 21,
   "id": "premier-aberdeen",
   "metadata": {
    "execution": {
     "iopub.execute_input": "2021-05-14T16:03:36.142781Z",
     "iopub.status.busy": "2021-05-14T16:03:36.142295Z",
     "iopub.status.idle": "2021-05-14T16:03:36.147754Z",
     "shell.execute_reply": "2021-05-14T16:03:36.148135Z"
    },
    "papermill": {
     "duration": 0.039904,
     "end_time": "2021-05-14T16:03:36.148263",
     "exception": false,
     "start_time": "2021-05-14T16:03:36.108359",
     "status": "completed"
    },
    "tags": []
   },
   "outputs": [
    {
     "data": {
      "text/html": [
       "<div>\n",
       "<style scoped>\n",
       "    .dataframe tbody tr th:only-of-type {\n",
       "        vertical-align: middle;\n",
       "    }\n",
       "\n",
       "    .dataframe tbody tr th {\n",
       "        vertical-align: top;\n",
       "    }\n",
       "\n",
       "    .dataframe thead th {\n",
       "        text-align: right;\n",
       "    }\n",
       "</style>\n",
       "<table border=\"1\" class=\"dataframe\">\n",
       "  <thead>\n",
       "    <tr style=\"text-align: right;\">\n",
       "      <th></th>\n",
       "      <th>row_id</th>\n",
       "      <th>site</th>\n",
       "      <th>audio_id</th>\n",
       "      <th>seconds</th>\n",
       "      <th>birds_x</th>\n",
       "      <th>birds_y</th>\n",
       "    </tr>\n",
       "  </thead>\n",
       "  <tbody>\n",
       "    <tr>\n",
       "      <th>55</th>\n",
       "      <td>7019_COR_280</td>\n",
       "      <td>COR</td>\n",
       "      <td>7019</td>\n",
       "      <td>280</td>\n",
       "      <td>nocall</td>\n",
       "      <td>bkcchi</td>\n",
       "    </tr>\n",
       "    <tr>\n",
       "      <th>56</th>\n",
       "      <td>7019_COR_285</td>\n",
       "      <td>COR</td>\n",
       "      <td>7019</td>\n",
       "      <td>285</td>\n",
       "      <td>nocall</td>\n",
       "      <td>bkcchi</td>\n",
       "    </tr>\n",
       "    <tr>\n",
       "      <th>134</th>\n",
       "      <td>7954_COR_75</td>\n",
       "      <td>COR</td>\n",
       "      <td>7954</td>\n",
       "      <td>75</td>\n",
       "      <td>nocall</td>\n",
       "      <td>bewwre</td>\n",
       "    </tr>\n",
       "    <tr>\n",
       "      <th>145</th>\n",
       "      <td>7954_COR_130</td>\n",
       "      <td>COR</td>\n",
       "      <td>7954</td>\n",
       "      <td>130</td>\n",
       "      <td>nocall</td>\n",
       "      <td>banana bkcchi</td>\n",
       "    </tr>\n",
       "    <tr>\n",
       "      <th>240</th>\n",
       "      <td>11254_COR_5</td>\n",
       "      <td>COR</td>\n",
       "      <td>11254</td>\n",
       "      <td>5</td>\n",
       "      <td>rubwre1</td>\n",
       "      <td>andsol1</td>\n",
       "    </tr>\n",
       "    <tr>\n",
       "      <th>...</th>\n",
       "      <td>...</td>\n",
       "      <td>...</td>\n",
       "      <td>...</td>\n",
       "      <td>...</td>\n",
       "      <td>...</td>\n",
       "      <td>...</td>\n",
       "    </tr>\n",
       "    <tr>\n",
       "      <th>2247</th>\n",
       "      <td>51010_SSW_440</td>\n",
       "      <td>SSW</td>\n",
       "      <td>51010</td>\n",
       "      <td>440</td>\n",
       "      <td>balori grycat</td>\n",
       "      <td>bkbplo amered</td>\n",
       "    </tr>\n",
       "    <tr>\n",
       "      <th>2263</th>\n",
       "      <td>51010_SSW_520</td>\n",
       "      <td>SSW</td>\n",
       "      <td>51010</td>\n",
       "      <td>520</td>\n",
       "      <td>balori bkcchi</td>\n",
       "      <td>blujay</td>\n",
       "    </tr>\n",
       "    <tr>\n",
       "      <th>2269</th>\n",
       "      <td>51010_SSW_550</td>\n",
       "      <td>SSW</td>\n",
       "      <td>51010</td>\n",
       "      <td>550</td>\n",
       "      <td>balori bkcchi</td>\n",
       "      <td>bkbplo</td>\n",
       "    </tr>\n",
       "    <tr>\n",
       "      <th>2272</th>\n",
       "      <td>51010_SSW_565</td>\n",
       "      <td>SSW</td>\n",
       "      <td>51010</td>\n",
       "      <td>565</td>\n",
       "      <td>bkcchi norcar</td>\n",
       "      <td>amered</td>\n",
       "    </tr>\n",
       "    <tr>\n",
       "      <th>2279</th>\n",
       "      <td>51010_SSW_600</td>\n",
       "      <td>SSW</td>\n",
       "      <td>51010</td>\n",
       "      <td>600</td>\n",
       "      <td>bkcchi</td>\n",
       "      <td>bkcchi</td>\n",
       "    </tr>\n",
       "  </tbody>\n",
       "</table>\n",
       "<p>148 rows × 6 columns</p>\n",
       "</div>"
      ],
      "text/plain": [
       "             row_id site  audio_id  seconds        birds_x        birds_y\n",
       "55     7019_COR_280  COR      7019      280         nocall         bkcchi\n",
       "56     7019_COR_285  COR      7019      285         nocall         bkcchi\n",
       "134     7954_COR_75  COR      7954       75         nocall         bewwre\n",
       "145    7954_COR_130  COR      7954      130         nocall  banana bkcchi\n",
       "240     11254_COR_5  COR     11254        5        rubwre1        andsol1\n",
       "...             ...  ...       ...      ...            ...            ...\n",
       "2247  51010_SSW_440  SSW     51010      440  balori grycat  bkbplo amered\n",
       "2263  51010_SSW_520  SSW     51010      520  balori bkcchi         blujay\n",
       "2269  51010_SSW_550  SSW     51010      550  balori bkcchi         bkbplo\n",
       "2272  51010_SSW_565  SSW     51010      565  bkcchi norcar         amered\n",
       "2279  51010_SSW_600  SSW     51010      600         bkcchi         bkcchi\n",
       "\n",
       "[148 rows x 6 columns]"
      ]
     },
     "execution_count": 21,
     "metadata": {},
     "output_type": "execute_result"
    }
   ],
   "source": [
    "sub_target[sub_target.birds_y != \"nocall\"]"
   ]
  },
  {
   "cell_type": "code",
   "execution_count": 22,
   "id": "excess-confusion",
   "metadata": {
    "execution": {
     "iopub.execute_input": "2021-05-14T16:03:36.193660Z",
     "iopub.status.busy": "2021-05-14T16:03:36.192782Z",
     "iopub.status.idle": "2021-05-14T16:03:36.207188Z",
     "shell.execute_reply": "2021-05-14T16:03:36.207650Z"
    },
    "papermill": {
     "duration": 0.039432,
     "end_time": "2021-05-14T16:03:36.207779",
     "exception": false,
     "start_time": "2021-05-14T16:03:36.168347",
     "status": "completed"
    },
    "tags": []
   },
   "outputs": [
    {
     "data": {
      "text/html": [
       "<div>\n",
       "<style scoped>\n",
       "    .dataframe tbody tr th:only-of-type {\n",
       "        vertical-align: middle;\n",
       "    }\n",
       "\n",
       "    .dataframe tbody tr th {\n",
       "        vertical-align: top;\n",
       "    }\n",
       "\n",
       "    .dataframe thead th {\n",
       "        text-align: right;\n",
       "    }\n",
       "</style>\n",
       "<table border=\"1\" class=\"dataframe\">\n",
       "  <thead>\n",
       "    <tr style=\"text-align: right;\">\n",
       "      <th></th>\n",
       "      <th>row_id</th>\n",
       "      <th>site</th>\n",
       "      <th>audio_id</th>\n",
       "      <th>seconds</th>\n",
       "      <th>birds_x</th>\n",
       "      <th>birds_y</th>\n",
       "    </tr>\n",
       "  </thead>\n",
       "  <tbody>\n",
       "    <tr>\n",
       "      <th>240</th>\n",
       "      <td>11254_COR_5</td>\n",
       "      <td>COR</td>\n",
       "      <td>11254</td>\n",
       "      <td>5</td>\n",
       "      <td>rubwre1</td>\n",
       "      <td>andsol1</td>\n",
       "    </tr>\n",
       "    <tr>\n",
       "      <th>242</th>\n",
       "      <td>11254_COR_15</td>\n",
       "      <td>COR</td>\n",
       "      <td>11254</td>\n",
       "      <td>15</td>\n",
       "      <td>rubwre1</td>\n",
       "      <td>nocall</td>\n",
       "    </tr>\n",
       "    <tr>\n",
       "      <th>244</th>\n",
       "      <td>11254_COR_25</td>\n",
       "      <td>COR</td>\n",
       "      <td>11254</td>\n",
       "      <td>25</td>\n",
       "      <td>rubwre1</td>\n",
       "      <td>bkcchi</td>\n",
       "    </tr>\n",
       "    <tr>\n",
       "      <th>267</th>\n",
       "      <td>11254_COR_140</td>\n",
       "      <td>COR</td>\n",
       "      <td>11254</td>\n",
       "      <td>140</td>\n",
       "      <td>obnthr1</td>\n",
       "      <td>nocall</td>\n",
       "    </tr>\n",
       "    <tr>\n",
       "      <th>268</th>\n",
       "      <td>11254_COR_145</td>\n",
       "      <td>COR</td>\n",
       "      <td>11254</td>\n",
       "      <td>145</td>\n",
       "      <td>obnthr1</td>\n",
       "      <td>nocall</td>\n",
       "    </tr>\n",
       "    <tr>\n",
       "      <th>...</th>\n",
       "      <td>...</td>\n",
       "      <td>...</td>\n",
       "      <td>...</td>\n",
       "      <td>...</td>\n",
       "      <td>...</td>\n",
       "      <td>...</td>\n",
       "    </tr>\n",
       "    <tr>\n",
       "      <th>2391</th>\n",
       "      <td>54955_SSW_560</td>\n",
       "      <td>SSW</td>\n",
       "      <td>54955</td>\n",
       "      <td>560</td>\n",
       "      <td>grycat</td>\n",
       "      <td>nocall</td>\n",
       "    </tr>\n",
       "    <tr>\n",
       "      <th>2393</th>\n",
       "      <td>54955_SSW_570</td>\n",
       "      <td>SSW</td>\n",
       "      <td>54955</td>\n",
       "      <td>570</td>\n",
       "      <td>grycat</td>\n",
       "      <td>nocall</td>\n",
       "    </tr>\n",
       "    <tr>\n",
       "      <th>2394</th>\n",
       "      <td>54955_SSW_575</td>\n",
       "      <td>SSW</td>\n",
       "      <td>54955</td>\n",
       "      <td>575</td>\n",
       "      <td>chswar</td>\n",
       "      <td>nocall</td>\n",
       "    </tr>\n",
       "    <tr>\n",
       "      <th>2396</th>\n",
       "      <td>54955_SSW_585</td>\n",
       "      <td>SSW</td>\n",
       "      <td>54955</td>\n",
       "      <td>585</td>\n",
       "      <td>grycat</td>\n",
       "      <td>nocall</td>\n",
       "    </tr>\n",
       "    <tr>\n",
       "      <th>2397</th>\n",
       "      <td>54955_SSW_590</td>\n",
       "      <td>SSW</td>\n",
       "      <td>54955</td>\n",
       "      <td>590</td>\n",
       "      <td>grycat</td>\n",
       "      <td>nocall</td>\n",
       "    </tr>\n",
       "  </tbody>\n",
       "</table>\n",
       "<p>871 rows × 6 columns</p>\n",
       "</div>"
      ],
      "text/plain": [
       "             row_id site  audio_id  seconds  birds_x  birds_y\n",
       "240     11254_COR_5  COR     11254        5  rubwre1  andsol1\n",
       "242    11254_COR_15  COR     11254       15  rubwre1   nocall\n",
       "244    11254_COR_25  COR     11254       25  rubwre1   bkcchi\n",
       "267   11254_COR_140  COR     11254      140  obnthr1   nocall\n",
       "268   11254_COR_145  COR     11254      145  obnthr1   nocall\n",
       "...             ...  ...       ...      ...      ...      ...\n",
       "2391  54955_SSW_560  SSW     54955      560   grycat   nocall\n",
       "2393  54955_SSW_570  SSW     54955      570   grycat   nocall\n",
       "2394  54955_SSW_575  SSW     54955      575   chswar   nocall\n",
       "2396  54955_SSW_585  SSW     54955      585   grycat   nocall\n",
       "2397  54955_SSW_590  SSW     54955      590   grycat   nocall\n",
       "\n",
       "[871 rows x 6 columns]"
      ]
     },
     "execution_count": 22,
     "metadata": {},
     "output_type": "execute_result"
    }
   ],
   "source": [
    "sub_target[sub_target.birds_x != \"nocall\"]"
   ]
  },
  {
   "cell_type": "code",
   "execution_count": null,
   "id": "wireless-supply",
   "metadata": {
    "papermill": {
     "duration": 0.020447,
     "end_time": "2021-05-14T16:03:36.248854",
     "exception": false,
     "start_time": "2021-05-14T16:03:36.228407",
     "status": "completed"
    },
    "tags": []
   },
   "outputs": [],
   "source": []
  }
 ],
 "metadata": {
  "kernelspec": {
   "display_name": "Python 3",
   "language": "python",
   "name": "python3"
  },
  "language_info": {
   "codemirror_mode": {
    "name": "ipython",
    "version": 3
   },
   "file_extension": ".py",
   "mimetype": "text/x-python",
   "name": "python",
   "nbconvert_exporter": "python",
   "pygments_lexer": "ipython3",
   "version": "3.7.10"
  },
  "papermill": {
   "default_parameters": {},
   "duration": 101.984482,
   "end_time": "2021-05-14T16:03:38.764861",
   "environment_variables": {},
   "exception": null,
   "input_path": "__notebook__.ipynb",
   "output_path": "__notebook__.ipynb",
   "parameters": {},
   "start_time": "2021-05-14T16:01:56.780379",
   "version": "2.3.3"
  },
  "widgets": {
   "application/vnd.jupyter.widget-state+json": {
    "state": {
     "081535e98f974ccf87ec6fcec87fa5a5": {
      "model_module": "@jupyter-widgets/controls",
      "model_module_version": "1.5.0",
      "model_name": "ProgressStyleModel",
      "state": {
       "_model_module": "@jupyter-widgets/controls",
       "_model_module_version": "1.5.0",
       "_model_name": "ProgressStyleModel",
       "_view_count": null,
       "_view_module": "@jupyter-widgets/base",
       "_view_module_version": "1.2.0",
       "_view_name": "StyleView",
       "bar_color": null,
       "description_width": ""
      }
     },
     "2bf805b1bfbe436ab5f3836d04ff80b6": {
      "model_module": "@jupyter-widgets/controls",
      "model_module_version": "1.5.0",
      "model_name": "DescriptionStyleModel",
      "state": {
       "_model_module": "@jupyter-widgets/controls",
       "_model_module_version": "1.5.0",
       "_model_name": "DescriptionStyleModel",
       "_view_count": null,
       "_view_module": "@jupyter-widgets/base",
       "_view_module_version": "1.2.0",
       "_view_name": "StyleView",
       "description_width": ""
      }
     },
     "30d435db7b0145638e366164ffcf7c4f": {
      "model_module": "@jupyter-widgets/base",
      "model_module_version": "1.2.0",
      "model_name": "LayoutModel",
      "state": {
       "_model_module": "@jupyter-widgets/base",
       "_model_module_version": "1.2.0",
       "_model_name": "LayoutModel",
       "_view_count": null,
       "_view_module": "@jupyter-widgets/base",
       "_view_module_version": "1.2.0",
       "_view_name": "LayoutView",
       "align_content": null,
       "align_items": null,
       "align_self": null,
       "border": null,
       "bottom": null,
       "display": null,
       "flex": null,
       "flex_flow": null,
       "grid_area": null,
       "grid_auto_columns": null,
       "grid_auto_flow": null,
       "grid_auto_rows": null,
       "grid_column": null,
       "grid_gap": null,
       "grid_row": null,
       "grid_template_areas": null,
       "grid_template_columns": null,
       "grid_template_rows": null,
       "height": null,
       "justify_content": null,
       "justify_items": null,
       "left": null,
       "margin": null,
       "max_height": null,
       "max_width": null,
       "min_height": null,
       "min_width": null,
       "object_fit": null,
       "object_position": null,
       "order": null,
       "overflow": null,
       "overflow_x": null,
       "overflow_y": null,
       "padding": null,
       "right": null,
       "top": null,
       "visibility": null,
       "width": null
      }
     },
     "3746941f69c64f9d859c67b4a78b3237": {
      "model_module": "@jupyter-widgets/base",
      "model_module_version": "1.2.0",
      "model_name": "LayoutModel",
      "state": {
       "_model_module": "@jupyter-widgets/base",
       "_model_module_version": "1.2.0",
       "_model_name": "LayoutModel",
       "_view_count": null,
       "_view_module": "@jupyter-widgets/base",
       "_view_module_version": "1.2.0",
       "_view_name": "LayoutView",
       "align_content": null,
       "align_items": null,
       "align_self": null,
       "border": null,
       "bottom": null,
       "display": null,
       "flex": null,
       "flex_flow": null,
       "grid_area": null,
       "grid_auto_columns": null,
       "grid_auto_flow": null,
       "grid_auto_rows": null,
       "grid_column": null,
       "grid_gap": null,
       "grid_row": null,
       "grid_template_areas": null,
       "grid_template_columns": null,
       "grid_template_rows": null,
       "height": null,
       "justify_content": null,
       "justify_items": null,
       "left": null,
       "margin": null,
       "max_height": null,
       "max_width": null,
       "min_height": null,
       "min_width": null,
       "object_fit": null,
       "object_position": null,
       "order": null,
       "overflow": null,
       "overflow_x": null,
       "overflow_y": null,
       "padding": null,
       "right": null,
       "top": null,
       "visibility": null,
       "width": null
      }
     },
     "4eddd791d3b949129fb74924e267e15e": {
      "model_module": "@jupyter-widgets/controls",
      "model_module_version": "1.5.0",
      "model_name": "DescriptionStyleModel",
      "state": {
       "_model_module": "@jupyter-widgets/controls",
       "_model_module_version": "1.5.0",
       "_model_name": "DescriptionStyleModel",
       "_view_count": null,
       "_view_module": "@jupyter-widgets/base",
       "_view_module_version": "1.2.0",
       "_view_name": "StyleView",
       "description_width": ""
      }
     },
     "661487b02b1b43728aafaab507030a21": {
      "model_module": "@jupyter-widgets/controls",
      "model_module_version": "1.5.0",
      "model_name": "FloatProgressModel",
      "state": {
       "_dom_classes": [],
       "_model_module": "@jupyter-widgets/controls",
       "_model_module_version": "1.5.0",
       "_model_name": "FloatProgressModel",
       "_view_count": null,
       "_view_module": "@jupyter-widgets/controls",
       "_view_module_version": "1.5.0",
       "_view_name": "ProgressView",
       "bar_style": "success",
       "description": "",
       "description_tooltip": null,
       "layout": "IPY_MODEL_30d435db7b0145638e366164ffcf7c4f",
       "max": 20.0,
       "min": 0.0,
       "orientation": "horizontal",
       "style": "IPY_MODEL_081535e98f974ccf87ec6fcec87fa5a5",
       "value": 20.0
      }
     },
     "7a22b70223b64c67a0fec59d1d74f40b": {
      "model_module": "@jupyter-widgets/controls",
      "model_module_version": "1.5.0",
      "model_name": "HBoxModel",
      "state": {
       "_dom_classes": [],
       "_model_module": "@jupyter-widgets/controls",
       "_model_module_version": "1.5.0",
       "_model_name": "HBoxModel",
       "_view_count": null,
       "_view_module": "@jupyter-widgets/controls",
       "_view_module_version": "1.5.0",
       "_view_name": "HBoxView",
       "box_style": "",
       "children": [
        "IPY_MODEL_a743a2e6350a4100929ac409e67a02c4",
        "IPY_MODEL_661487b02b1b43728aafaab507030a21",
        "IPY_MODEL_841603f6bf0c400a93802525fc88ad4c"
       ],
       "layout": "IPY_MODEL_c64920848f044aaaa760d144aab0003c"
      }
     },
     "7beb8f7bc84b46bca53e7474c13da67c": {
      "model_module": "@jupyter-widgets/base",
      "model_module_version": "1.2.0",
      "model_name": "LayoutModel",
      "state": {
       "_model_module": "@jupyter-widgets/base",
       "_model_module_version": "1.2.0",
       "_model_name": "LayoutModel",
       "_view_count": null,
       "_view_module": "@jupyter-widgets/base",
       "_view_module_version": "1.2.0",
       "_view_name": "LayoutView",
       "align_content": null,
       "align_items": null,
       "align_self": null,
       "border": null,
       "bottom": null,
       "display": null,
       "flex": null,
       "flex_flow": null,
       "grid_area": null,
       "grid_auto_columns": null,
       "grid_auto_flow": null,
       "grid_auto_rows": null,
       "grid_column": null,
       "grid_gap": null,
       "grid_row": null,
       "grid_template_areas": null,
       "grid_template_columns": null,
       "grid_template_rows": null,
       "height": null,
       "justify_content": null,
       "justify_items": null,
       "left": null,
       "margin": null,
       "max_height": null,
       "max_width": null,
       "min_height": null,
       "min_width": null,
       "object_fit": null,
       "object_position": null,
       "order": null,
       "overflow": null,
       "overflow_x": null,
       "overflow_y": null,
       "padding": null,
       "right": null,
       "top": null,
       "visibility": null,
       "width": null
      }
     },
     "841603f6bf0c400a93802525fc88ad4c": {
      "model_module": "@jupyter-widgets/controls",
      "model_module_version": "1.5.0",
      "model_name": "HTMLModel",
      "state": {
       "_dom_classes": [],
       "_model_module": "@jupyter-widgets/controls",
       "_model_module_version": "1.5.0",
       "_model_name": "HTMLModel",
       "_view_count": null,
       "_view_module": "@jupyter-widgets/controls",
       "_view_module_version": "1.5.0",
       "_view_name": "HTMLView",
       "description": "",
       "description_tooltip": null,
       "layout": "IPY_MODEL_3746941f69c64f9d859c67b4a78b3237",
       "placeholder": "​",
       "style": "IPY_MODEL_2bf805b1bfbe436ab5f3836d04ff80b6",
       "value": " 20/20 [01:07&lt;00:00,  3.30s/it]"
      }
     },
     "a743a2e6350a4100929ac409e67a02c4": {
      "model_module": "@jupyter-widgets/controls",
      "model_module_version": "1.5.0",
      "model_name": "HTMLModel",
      "state": {
       "_dom_classes": [],
       "_model_module": "@jupyter-widgets/controls",
       "_model_module_version": "1.5.0",
       "_model_name": "HTMLModel",
       "_view_count": null,
       "_view_module": "@jupyter-widgets/controls",
       "_view_module_version": "1.5.0",
       "_view_name": "HTMLView",
       "description": "",
       "description_tooltip": null,
       "layout": "IPY_MODEL_7beb8f7bc84b46bca53e7474c13da67c",
       "placeholder": "​",
       "style": "IPY_MODEL_4eddd791d3b949129fb74924e267e15e",
       "value": "100%"
      }
     },
     "c64920848f044aaaa760d144aab0003c": {
      "model_module": "@jupyter-widgets/base",
      "model_module_version": "1.2.0",
      "model_name": "LayoutModel",
      "state": {
       "_model_module": "@jupyter-widgets/base",
       "_model_module_version": "1.2.0",
       "_model_name": "LayoutModel",
       "_view_count": null,
       "_view_module": "@jupyter-widgets/base",
       "_view_module_version": "1.2.0",
       "_view_name": "LayoutView",
       "align_content": null,
       "align_items": null,
       "align_self": null,
       "border": null,
       "bottom": null,
       "display": null,
       "flex": null,
       "flex_flow": null,
       "grid_area": null,
       "grid_auto_columns": null,
       "grid_auto_flow": null,
       "grid_auto_rows": null,
       "grid_column": null,
       "grid_gap": null,
       "grid_row": null,
       "grid_template_areas": null,
       "grid_template_columns": null,
       "grid_template_rows": null,
       "height": null,
       "justify_content": null,
       "justify_items": null,
       "left": null,
       "margin": null,
       "max_height": null,
       "max_width": null,
       "min_height": null,
       "min_width": null,
       "object_fit": null,
       "object_position": null,
       "order": null,
       "overflow": null,
       "overflow_x": null,
       "overflow_y": null,
       "padding": null,
       "right": null,
       "top": null,
       "visibility": null,
       "width": null
      }
     }
    },
    "version_major": 2,
    "version_minor": 0
   }
  }
 },
 "nbformat": 4,
 "nbformat_minor": 5
}
