{
 "cells": [
  {
   "cell_type": "code",
   "execution_count": 31,
   "metadata": {},
   "outputs": [],
   "source": [
    "import torch\n",
    "import torch.nn as nn\n",
    "import torchvision\n",
    "import torch.optim as optim\n",
    "import torchvision.datasets as dataset\n",
    "from torchvision import datasets\n",
    "from torch.utils.data import DataLoader\n",
    "import torchvision.transforms as transforms\n",
    "from torch.utils.tensorboard import SummaryWriter"
   ]
  },
  {
   "cell_type": "code",
   "execution_count": 32,
   "metadata": {},
   "outputs": [],
   "source": [
    "class Discriminator(nn.Module):\n",
    "    def __init__(self, in_features):\n",
    "        super().__init__()\n",
    "        self.disc = nn.Sequential(\n",
    "            nn.Linear(in_features, 128),\n",
    "            nn.LeakyReLU(0.01),\n",
    "            nn.Linear(128, 1),\n",
    "            nn.Sigmoid(),\n",
    "        )\n",
    "\n",
    "    def forward(self, x):\n",
    "        return self.disc(x)"
   ]
  },
  {
   "cell_type": "code",
   "execution_count": 33,
   "metadata": {},
   "outputs": [],
   "source": [
    "class Generator(nn.Module):\n",
    "    def __init__(self, z_dim, img_dim):\n",
    "        super().__init__()\n",
    "        self.gen = nn.Sequential(\n",
    "            nn.Linear(z_dim, 256),\n",
    "            nn.LeakyReLU(0.01),\n",
    "            nn.Linear(256, img_dim),\n",
    "            nn.Tanh(),  # normalize inputs to [-1, 1] so make outputs [-1, 1]\n",
    "        )\n",
    "\n",
    "    def forward(self, x):\n",
    "        return self.gen(x)"
   ]
  },
  {
   "cell_type": "code",
   "execution_count": 34,
   "metadata": {},
   "outputs": [],
   "source": [
    "device = \"cuda\" if torch.cuda.is_available() else \"cpu\"\n",
    "lr = 3e-4\n",
    "z_dim = 64\n",
    "image_dim = 28 * 28 * 1  # 784\n",
    "batch_size = 32\n",
    "num_epochs = 50"
   ]
  },
  {
   "cell_type": "code",
   "execution_count": 35,
   "metadata": {},
   "outputs": [],
   "source": [
    "disc = Discriminator(image_dim).to(device)\n",
    "gen = Generator(z_dim, image_dim).to(device)\n",
    "fixed_noise = torch.randn((batch_size, z_dim)).to(device)"
   ]
  },
  {
   "cell_type": "code",
   "execution_count": 36,
   "metadata": {},
   "outputs": [],
   "source": [
    "transforms = transforms.Compose(\n",
    "    [transforms.ToTensor(), transforms.Normalize((0.5,), (0.5,)),]\n",
    ")"
   ]
  },
  {
   "cell_type": "code",
   "execution_count": 37,
   "metadata": {},
   "outputs": [],
   "source": [
    "dataset = datasets.MNIST(root='/dataset/', transform=transforms, download=True)\n",
    "mloader = DataLoader(dataset, batch_size=batch_size, shuffle=True)"
   ]
  },
  {
   "cell_type": "code",
   "execution_count": 38,
   "metadata": {},
   "outputs": [],
   "source": [
    "opt_disc = optim.Adam(disc.parameters(),lr=lr)\n",
    "opt_gen = optim.Adam(gen.parameters(), lr=lr)\n",
    "criterion = nn.BCELoss()\n",
    "writer_fake = SummaryWriter(f\"logs/fake\")\n",
    "writer_real = SummaryWriter(f\"logs/real\")\n",
    "step = 0"
   ]
  },
  {
   "cell_type": "code",
   "execution_count": 39,
   "metadata": {},
   "outputs": [
    {
     "name": "stdout",
     "output_type": "stream",
     "text": [
      "Epoch [0/50] Batch 0/1875                       Loss D: 0.6728, loss G: 0.6970\n",
      "Epoch [1/50] Batch 0/1875                       Loss D: 0.2995, loss G: 1.7903\n",
      "Epoch [2/50] Batch 0/1875                       Loss D: 0.6743, loss G: 0.6925\n",
      "Epoch [3/50] Batch 0/1875                       Loss D: 0.8741, loss G: 0.7288\n",
      "Epoch [4/50] Batch 0/1875                       Loss D: 0.4246, loss G: 1.2617\n",
      "Epoch [5/50] Batch 0/1875                       Loss D: 0.3440, loss G: 1.6084\n",
      "Epoch [6/50] Batch 0/1875                       Loss D: 0.4414, loss G: 1.2946\n",
      "Epoch [7/50] Batch 0/1875                       Loss D: 0.7766, loss G: 1.3243\n",
      "Epoch [8/50] Batch 0/1875                       Loss D: 0.4852, loss G: 1.3977\n",
      "Epoch [9/50] Batch 0/1875                       Loss D: 0.5232, loss G: 1.4057\n",
      "Epoch [10/50] Batch 0/1875                       Loss D: 0.2715, loss G: 2.1673\n",
      "Epoch [11/50] Batch 0/1875                       Loss D: 0.3480, loss G: 1.9572\n",
      "Epoch [12/50] Batch 0/1875                       Loss D: 0.6101, loss G: 1.5036\n",
      "Epoch [13/50] Batch 0/1875                       Loss D: 0.6011, loss G: 1.1082\n",
      "Epoch [14/50] Batch 0/1875                       Loss D: 0.5554, loss G: 1.1488\n",
      "Epoch [15/50] Batch 0/1875                       Loss D: 0.5739, loss G: 1.7952\n",
      "Epoch [16/50] Batch 0/1875                       Loss D: 0.5794, loss G: 1.7962\n",
      "Epoch [17/50] Batch 0/1875                       Loss D: 0.4877, loss G: 1.8363\n",
      "Epoch [18/50] Batch 0/1875                       Loss D: 0.5235, loss G: 2.0773\n",
      "Epoch [19/50] Batch 0/1875                       Loss D: 0.5112, loss G: 1.2653\n",
      "Epoch [20/50] Batch 0/1875                       Loss D: 0.4525, loss G: 1.6660\n",
      "Epoch [21/50] Batch 0/1875                       Loss D: 0.5586, loss G: 1.6423\n",
      "Epoch [22/50] Batch 0/1875                       Loss D: 0.6270, loss G: 1.3806\n",
      "Epoch [23/50] Batch 0/1875                       Loss D: 0.3878, loss G: 1.9793\n",
      "Epoch [24/50] Batch 0/1875                       Loss D: 0.4371, loss G: 1.8675\n",
      "Epoch [25/50] Batch 0/1875                       Loss D: 0.4702, loss G: 1.9334\n",
      "Epoch [26/50] Batch 0/1875                       Loss D: 0.5253, loss G: 1.4099\n",
      "Epoch [27/50] Batch 0/1875                       Loss D: 0.6223, loss G: 1.6842\n",
      "Epoch [28/50] Batch 0/1875                       Loss D: 0.6501, loss G: 1.2541\n",
      "Epoch [29/50] Batch 0/1875                       Loss D: 0.4263, loss G: 2.0786\n",
      "Epoch [30/50] Batch 0/1875                       Loss D: 0.4815, loss G: 1.1841\n",
      "Epoch [31/50] Batch 0/1875                       Loss D: 0.5641, loss G: 1.1670\n",
      "Epoch [32/50] Batch 0/1875                       Loss D: 0.3737, loss G: 1.9505\n",
      "Epoch [33/50] Batch 0/1875                       Loss D: 0.6565, loss G: 2.0935\n",
      "Epoch [34/50] Batch 0/1875                       Loss D: 0.5272, loss G: 1.6483\n",
      "Epoch [35/50] Batch 0/1875                       Loss D: 0.6336, loss G: 1.2844\n",
      "Epoch [36/50] Batch 0/1875                       Loss D: 0.8228, loss G: 1.1069\n",
      "Epoch [37/50] Batch 0/1875                       Loss D: 0.7328, loss G: 1.1019\n",
      "Epoch [38/50] Batch 0/1875                       Loss D: 0.6230, loss G: 1.1578\n",
      "Epoch [39/50] Batch 0/1875                       Loss D: 0.6279, loss G: 1.1705\n",
      "Epoch [40/50] Batch 0/1875                       Loss D: 0.4597, loss G: 1.5798\n",
      "Epoch [41/50] Batch 0/1875                       Loss D: 0.7213, loss G: 1.1806\n",
      "Epoch [42/50] Batch 0/1875                       Loss D: 0.6709, loss G: 1.3903\n",
      "Epoch [43/50] Batch 0/1875                       Loss D: 0.8684, loss G: 1.0834\n",
      "Epoch [44/50] Batch 0/1875                       Loss D: 0.6867, loss G: 1.0366\n",
      "Epoch [45/50] Batch 0/1875                       Loss D: 0.6707, loss G: 1.2126\n",
      "Epoch [46/50] Batch 0/1875                       Loss D: 0.4991, loss G: 1.4458\n",
      "Epoch [47/50] Batch 0/1875                       Loss D: 0.6622, loss G: 1.1250\n",
      "Epoch [48/50] Batch 0/1875                       Loss D: 0.5307, loss G: 1.3632\n",
      "Epoch [49/50] Batch 0/1875                       Loss D: 0.5922, loss G: 1.1286\n"
     ]
    }
   ],
   "source": [
    "for epoch in range(num_epochs):\n",
    "    for batch_idx, (real, _) in enumerate(mloader):\n",
    "        real = real.view(-1, 784).to(device)\n",
    "        batch_size = real.shape[0]\n",
    "\n",
    "        ### Train Discriminator: max log(D(x)) + log(1 - D(G(z)))\n",
    "        noise = torch.randn(batch_size, z_dim).to(device)\n",
    "        fake = gen(noise)\n",
    "        disc_real = disc(real).view(-1)\n",
    "        lossD_real = criterion(disc_real, torch.ones_like(disc_real))\n",
    "        disc_fake = disc(fake).view(-1)\n",
    "        lossD_fake = criterion(disc_fake, torch.zeros_like(disc_fake))\n",
    "        lossD = (lossD_real + lossD_fake) / 2\n",
    "        disc.zero_grad()\n",
    "        lossD.backward(retain_graph=True)\n",
    "        opt_disc.step()\n",
    "\n",
    "        ### Train Generator: min log(1 - D(G(z))) <-> max log(D(G(z))\n",
    "        # where the second option of maximizing doesn't suffer from\n",
    "        # saturating gradients\n",
    "        output = disc(fake).view(-1)\n",
    "        lossG = criterion(output, torch.ones_like(output))\n",
    "        gen.zero_grad()\n",
    "        lossG.backward()\n",
    "        opt_gen.step()\n",
    "\n",
    "        if batch_idx == 0:\n",
    "            print(\n",
    "                f\"Epoch [{epoch}/{num_epochs}] Batch {batch_idx}/{len(mloader)} \\\n",
    "                      Loss D: {lossD:.4f}, loss G: {lossG:.4f}\"\n",
    "            )\n",
    "\n",
    "            with torch.no_grad():\n",
    "                fake = gen(fixed_noise).reshape(-1, 1, 28, 28)\n",
    "                data = real.reshape(-1, 1, 28, 28)\n",
    "                img_grid_fake = torchvision.utils.make_grid(fake, normalize=True)\n",
    "                img_grid_real = torchvision.utils.make_grid(data, normalize=True)\n",
    "\n",
    "                writer_fake.add_image(\n",
    "                    \"Mnist Fake Images\", img_grid_fake, global_step=step\n",
    "                )\n",
    "                writer_real.add_image(\n",
    "                    \"Mnist Real Images\", img_grid_real, global_step=step\n",
    "                )\n",
    "                step += 1"
   ]
  },
  {
   "cell_type": "code",
   "execution_count": null,
   "metadata": {},
   "outputs": [],
   "source": []
  }
 ],
 "metadata": {
  "kernelspec": {
   "display_name": "pytorch17_p38",
   "language": "python",
   "name": "pytorch17_p38"
  },
  "language_info": {
   "codemirror_mode": {
    "name": "ipython",
    "version": 3
   },
   "file_extension": ".py",
   "mimetype": "text/x-python",
   "name": "python",
   "nbconvert_exporter": "python",
   "pygments_lexer": "ipython3",
   "version": "3.8.5"
  }
 },
 "nbformat": 4,
 "nbformat_minor": 4
}
