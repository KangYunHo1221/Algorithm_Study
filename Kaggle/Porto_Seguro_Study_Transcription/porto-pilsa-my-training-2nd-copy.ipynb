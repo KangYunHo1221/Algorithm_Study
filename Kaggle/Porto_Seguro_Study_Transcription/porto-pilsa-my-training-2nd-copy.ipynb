{
 "cells": [
  {
   "cell_type": "code",
   "execution_count": 1,
   "metadata": {
    "execution": {
     "iopub.execute_input": "2021-03-30T20:17:50.350492Z",
     "iopub.status.busy": "2021-03-30T20:17:50.349751Z",
     "iopub.status.idle": "2021-03-30T20:17:51.711981Z",
     "shell.execute_reply": "2021-03-30T20:17:51.711279Z"
    },
    "papermill": {
     "duration": 1.390668,
     "end_time": "2021-03-30T20:17:51.712190",
     "exception": false,
     "start_time": "2021-03-30T20:17:50.321522",
     "status": "completed"
    },
    "tags": []
   },
   "outputs": [],
   "source": [
    "import pandas as pd\n",
    "import numpy as np\n",
    "import matplotlib.pyplot as plt\n",
    "import seaborn as sns\n",
    "from sklearn.impute import SimpleImputer\n",
    "from sklearn.preprocessing import PolynomialFeatures\n",
    "from sklearn.preprocessing import StandardScaler\n",
    "from sklearn.feature_selection import VarianceThreshold\n",
    "from sklearn.feature_selection import SelectFromModel\n",
    "from sklearn.utils import shuffle\n",
    "from sklearn.ensemble import RandomForestClassifier\n",
    "\n",
    "pd.set_option('display.max_columns', 100)"
   ]
  },
  {
   "cell_type": "code",
   "execution_count": 2,
   "metadata": {
    "execution": {
     "iopub.execute_input": "2021-03-30T20:17:51.760593Z",
     "iopub.status.busy": "2021-03-30T20:17:51.759661Z",
     "iopub.status.idle": "2021-03-30T20:17:51.762549Z",
     "shell.execute_reply": "2021-03-30T20:17:51.762021Z"
    },
    "papermill": {
     "duration": 0.028491,
     "end_time": "2021-03-30T20:17:51.762690",
     "exception": false,
     "start_time": "2021-03-30T20:17:51.734199",
     "status": "completed"
    },
    "tags": []
   },
   "outputs": [],
   "source": [
    "DEBUG = True\n",
    "\n",
    "if DEBUG:\n",
    "    NROWS = 100000\n",
    "else:\n",
    "    NROWS = None"
   ]
  },
  {
   "cell_type": "code",
   "execution_count": 3,
   "metadata": {
    "execution": {
     "iopub.execute_input": "2021-03-30T20:17:51.813079Z",
     "iopub.status.busy": "2021-03-30T20:17:51.812468Z",
     "iopub.status.idle": "2021-03-30T20:17:53.311523Z",
     "shell.execute_reply": "2021-03-30T20:17:53.312038Z"
    },
    "papermill": {
     "duration": 1.52662,
     "end_time": "2021-03-30T20:17:53.312233",
     "exception": false,
     "start_time": "2021-03-30T20:17:51.785613",
     "status": "completed"
    },
    "tags": []
   },
   "outputs": [
    {
     "name": "stdout",
     "output_type": "stream",
     "text": [
      "CPU times: user 662 ms, sys: 147 ms, total: 809 ms\n",
      "Wall time: 1.49 s\n"
     ]
    }
   ],
   "source": [
    "%%time\n",
    "\n",
    "train = pd.read_csv('../input/porto-seguros-safe-driver-prediction-dataset/train.csv', nrows = NROWS)\n",
    "test = pd.read_csv('../input/porto-seguros-safe-driver-prediction-dataset/test.csv', nrows = NROWS)"
   ]
  },
  {
   "cell_type": "code",
   "execution_count": 4,
   "metadata": {
    "execution": {
     "iopub.execute_input": "2021-03-30T20:17:53.359734Z",
     "iopub.status.busy": "2021-03-30T20:17:53.359138Z",
     "iopub.status.idle": "2021-03-30T20:17:53.365874Z",
     "shell.execute_reply": "2021-03-30T20:17:53.365340Z"
    },
    "papermill": {
     "duration": 0.031251,
     "end_time": "2021-03-30T20:17:53.365997",
     "exception": false,
     "start_time": "2021-03-30T20:17:53.334746",
     "status": "completed"
    },
    "tags": []
   },
   "outputs": [
    {
     "data": {
      "text/plain": [
       "(100000, 59)"
      ]
     },
     "execution_count": 4,
     "metadata": {},
     "output_type": "execute_result"
    }
   ],
   "source": [
    "train.shape"
   ]
  },
  {
   "cell_type": "code",
   "execution_count": 5,
   "metadata": {
    "execution": {
     "iopub.execute_input": "2021-03-30T20:17:53.416389Z",
     "iopub.status.busy": "2021-03-30T20:17:53.415441Z",
     "iopub.status.idle": "2021-03-30T20:17:53.419725Z",
     "shell.execute_reply": "2021-03-30T20:17:53.419287Z"
    },
    "papermill": {
     "duration": 0.03148,
     "end_time": "2021-03-30T20:17:53.419871",
     "exception": false,
     "start_time": "2021-03-30T20:17:53.388391",
     "status": "completed"
    },
    "tags": []
   },
   "outputs": [
    {
     "data": {
      "text/plain": [
       "['ps_ind_02_cat',\n",
       " 'ps_ind_04_cat',\n",
       " 'ps_ind_05_cat',\n",
       " 'ps_car_01_cat',\n",
       " 'ps_car_02_cat',\n",
       " 'ps_car_03_cat',\n",
       " 'ps_car_04_cat',\n",
       " 'ps_car_05_cat',\n",
       " 'ps_car_06_cat',\n",
       " 'ps_car_07_cat',\n",
       " 'ps_car_08_cat',\n",
       " 'ps_car_09_cat',\n",
       " 'ps_car_10_cat',\n",
       " 'ps_car_11_cat']"
      ]
     },
     "execution_count": 5,
     "metadata": {},
     "output_type": "execute_result"
    }
   ],
   "source": [
    "cat_cols = [col for col in train.columns if 'cat' in col]\n",
    "cat_cols"
   ]
  },
  {
   "cell_type": "code",
   "execution_count": 6,
   "metadata": {
    "execution": {
     "iopub.execute_input": "2021-03-30T20:17:53.479052Z",
     "iopub.status.busy": "2021-03-30T20:17:53.473544Z",
     "iopub.status.idle": "2021-03-30T20:17:53.485116Z",
     "shell.execute_reply": "2021-03-30T20:17:53.485526Z"
    },
    "papermill": {
     "duration": 0.043092,
     "end_time": "2021-03-30T20:17:53.485692",
     "exception": false,
     "start_time": "2021-03-30T20:17:53.442600",
     "status": "completed"
    },
    "tags": []
   },
   "outputs": [
    {
     "data": {
      "text/plain": [
       " 1    72801\n",
       " 2    20504\n",
       " 3     4777\n",
       " 4     1887\n",
       "-1       31\n",
       "Name: ps_ind_02_cat, dtype: int64"
      ]
     },
     "execution_count": 6,
     "metadata": {},
     "output_type": "execute_result"
    }
   ],
   "source": [
    "train[cat_cols[0]].value_counts()"
   ]
  },
  {
   "cell_type": "code",
   "execution_count": 7,
   "metadata": {
    "execution": {
     "iopub.execute_input": "2021-03-30T20:17:53.537853Z",
     "iopub.status.busy": "2021-03-30T20:17:53.537260Z",
     "iopub.status.idle": "2021-03-30T20:17:53.700348Z",
     "shell.execute_reply": "2021-03-30T20:17:53.699822Z"
    },
    "papermill": {
     "duration": 0.191755,
     "end_time": "2021-03-30T20:17:53.700491",
     "exception": false,
     "start_time": "2021-03-30T20:17:53.508736",
     "status": "completed"
    },
    "tags": []
   },
   "outputs": [
    {
     "data": {
      "text/plain": [
       "(100000, 59)"
      ]
     },
     "execution_count": 7,
     "metadata": {},
     "output_type": "execute_result"
    }
   ],
   "source": [
    "train.drop_duplicates()\n",
    "train.shape"
   ]
  },
  {
   "cell_type": "code",
   "execution_count": 8,
   "metadata": {
    "execution": {
     "iopub.execute_input": "2021-03-30T20:17:53.754474Z",
     "iopub.status.busy": "2021-03-30T20:17:53.753562Z",
     "iopub.status.idle": "2021-03-30T20:17:53.756344Z",
     "shell.execute_reply": "2021-03-30T20:17:53.755846Z"
    },
    "papermill": {
     "duration": 0.032802,
     "end_time": "2021-03-30T20:17:53.756483",
     "exception": false,
     "start_time": "2021-03-30T20:17:53.723681",
     "status": "completed"
    },
    "tags": []
   },
   "outputs": [],
   "source": [
    "data = []\n",
    "for f in train.columns:\n",
    "    if f == 'target':\n",
    "        role = 'target'\n",
    "    elif f == 'id':\n",
    "        role = 'id'\n",
    "    else:\n",
    "        role = 'input'\n",
    "        \n",
    "    if 'bin' in f or f == 'target':\n",
    "        level = 'binary'\n",
    "    elif 'cat' in f or f == 'id':\n",
    "        level = 'nominal'\n",
    "    elif train[f].dtype == float:\n",
    "        level = 'interval'\n",
    "    elif train[f].dtype == int:\n",
    "        level = 'ordinal'\n",
    "        \n",
    "    keep = True\n",
    "    if f == 'id':\n",
    "        keep = 'False'\n",
    "        \n",
    "    dtype = train[f].dtype\n",
    "    \n",
    "    f_dict = {\n",
    "        'varname' : f,\n",
    "        'role' : role,\n",
    "        'level' : level,\n",
    "        'keep' : keep,\n",
    "        'dtype' : dtype\n",
    "    }\n",
    "    data.append(f_dict)\n",
    "   "
   ]
  },
  {
   "cell_type": "code",
   "execution_count": 9,
   "metadata": {
    "execution": {
     "iopub.execute_input": "2021-03-30T20:17:53.809718Z",
     "iopub.status.busy": "2021-03-30T20:17:53.809083Z",
     "iopub.status.idle": "2021-03-30T20:17:53.811467Z",
     "shell.execute_reply": "2021-03-30T20:17:53.811840Z"
    },
    "papermill": {
     "duration": 0.032291,
     "end_time": "2021-03-30T20:17:53.812000",
     "exception": false,
     "start_time": "2021-03-30T20:17:53.779709",
     "status": "completed"
    },
    "tags": []
   },
   "outputs": [],
   "source": [
    "meta = pd.DataFrame(data, columns=['varname', 'role', 'level', 'keep', 'dtype'])\n",
    "meta.set_index('varname', inplace = True)"
   ]
  },
  {
   "cell_type": "code",
   "execution_count": 10,
   "metadata": {
    "execution": {
     "iopub.execute_input": "2021-03-30T20:17:53.863117Z",
     "iopub.status.busy": "2021-03-30T20:17:53.862559Z",
     "iopub.status.idle": "2021-03-30T20:17:53.869540Z",
     "shell.execute_reply": "2021-03-30T20:17:53.868877Z"
    },
    "papermill": {
     "duration": 0.034309,
     "end_time": "2021-03-30T20:17:53.869693",
     "exception": false,
     "start_time": "2021-03-30T20:17:53.835384",
     "status": "completed"
    },
    "tags": []
   },
   "outputs": [
    {
     "data": {
      "text/plain": [
       "Index(['id', 'ps_ind_02_cat', 'ps_ind_04_cat', 'ps_ind_05_cat',\n",
       "       'ps_car_01_cat', 'ps_car_02_cat', 'ps_car_03_cat', 'ps_car_04_cat',\n",
       "       'ps_car_05_cat', 'ps_car_06_cat', 'ps_car_07_cat', 'ps_car_08_cat',\n",
       "       'ps_car_09_cat', 'ps_car_10_cat', 'ps_car_11_cat'],\n",
       "      dtype='object', name='varname')"
      ]
     },
     "execution_count": 10,
     "metadata": {},
     "output_type": "execute_result"
    }
   ],
   "source": [
    "meta.loc[(meta.level == 'nominal') & (meta.keep)].index"
   ]
  },
  {
   "cell_type": "code",
   "execution_count": 11,
   "metadata": {
    "execution": {
     "iopub.execute_input": "2021-03-30T20:17:53.929035Z",
     "iopub.status.busy": "2021-03-30T20:17:53.928399Z",
     "iopub.status.idle": "2021-03-30T20:17:53.941545Z",
     "shell.execute_reply": "2021-03-30T20:17:53.942071Z"
    },
    "papermill": {
     "duration": 0.04853,
     "end_time": "2021-03-30T20:17:53.942262",
     "exception": false,
     "start_time": "2021-03-30T20:17:53.893732",
     "status": "completed"
    },
    "tags": []
   },
   "outputs": [
    {
     "data": {
      "text/html": [
       "<div>\n",
       "<style scoped>\n",
       "    .dataframe tbody tr th:only-of-type {\n",
       "        vertical-align: middle;\n",
       "    }\n",
       "\n",
       "    .dataframe tbody tr th {\n",
       "        vertical-align: top;\n",
       "    }\n",
       "\n",
       "    .dataframe thead th {\n",
       "        text-align: right;\n",
       "    }\n",
       "</style>\n",
       "<table border=\"1\" class=\"dataframe\">\n",
       "  <thead>\n",
       "    <tr style=\"text-align: right;\">\n",
       "      <th></th>\n",
       "      <th>role</th>\n",
       "      <th>level</th>\n",
       "      <th>count</th>\n",
       "    </tr>\n",
       "  </thead>\n",
       "  <tbody>\n",
       "    <tr>\n",
       "      <th>0</th>\n",
       "      <td>id</td>\n",
       "      <td>nominal</td>\n",
       "      <td>1</td>\n",
       "    </tr>\n",
       "    <tr>\n",
       "      <th>1</th>\n",
       "      <td>input</td>\n",
       "      <td>binary</td>\n",
       "      <td>17</td>\n",
       "    </tr>\n",
       "    <tr>\n",
       "      <th>2</th>\n",
       "      <td>input</td>\n",
       "      <td>interval</td>\n",
       "      <td>10</td>\n",
       "    </tr>\n",
       "    <tr>\n",
       "      <th>3</th>\n",
       "      <td>input</td>\n",
       "      <td>nominal</td>\n",
       "      <td>14</td>\n",
       "    </tr>\n",
       "    <tr>\n",
       "      <th>4</th>\n",
       "      <td>input</td>\n",
       "      <td>ordinal</td>\n",
       "      <td>16</td>\n",
       "    </tr>\n",
       "    <tr>\n",
       "      <th>5</th>\n",
       "      <td>target</td>\n",
       "      <td>binary</td>\n",
       "      <td>1</td>\n",
       "    </tr>\n",
       "  </tbody>\n",
       "</table>\n",
       "</div>"
      ],
      "text/plain": [
       "     role     level  count\n",
       "0      id   nominal      1\n",
       "1   input    binary     17\n",
       "2   input  interval     10\n",
       "3   input   nominal     14\n",
       "4   input   ordinal     16\n",
       "5  target    binary      1"
      ]
     },
     "execution_count": 11,
     "metadata": {},
     "output_type": "execute_result"
    }
   ],
   "source": [
    "pd.DataFrame({'count': meta.groupby(['role','level'])['role'].size()}).reset_index()"
   ]
  },
  {
   "cell_type": "code",
   "execution_count": 12,
   "metadata": {
    "execution": {
     "iopub.execute_input": "2021-03-30T20:17:53.997907Z",
     "iopub.status.busy": "2021-03-30T20:17:53.997030Z",
     "iopub.status.idle": "2021-03-30T20:17:54.076762Z",
     "shell.execute_reply": "2021-03-30T20:17:54.077152Z"
    },
    "papermill": {
     "duration": 0.109935,
     "end_time": "2021-03-30T20:17:54.077336",
     "exception": false,
     "start_time": "2021-03-30T20:17:53.967401",
     "status": "completed"
    },
    "tags": []
   },
   "outputs": [
    {
     "data": {
      "text/html": [
       "<div>\n",
       "<style scoped>\n",
       "    .dataframe tbody tr th:only-of-type {\n",
       "        vertical-align: middle;\n",
       "    }\n",
       "\n",
       "    .dataframe tbody tr th {\n",
       "        vertical-align: top;\n",
       "    }\n",
       "\n",
       "    .dataframe thead th {\n",
       "        text-align: right;\n",
       "    }\n",
       "</style>\n",
       "<table border=\"1\" class=\"dataframe\">\n",
       "  <thead>\n",
       "    <tr style=\"text-align: right;\">\n",
       "      <th></th>\n",
       "      <th>ps_reg_01</th>\n",
       "      <th>ps_reg_02</th>\n",
       "      <th>ps_reg_03</th>\n",
       "      <th>ps_car_12</th>\n",
       "      <th>ps_car_13</th>\n",
       "      <th>ps_car_14</th>\n",
       "      <th>ps_car_15</th>\n",
       "      <th>ps_calc_01</th>\n",
       "      <th>ps_calc_02</th>\n",
       "      <th>ps_calc_03</th>\n",
       "    </tr>\n",
       "  </thead>\n",
       "  <tbody>\n",
       "    <tr>\n",
       "      <th>count</th>\n",
       "      <td>100000.000000</td>\n",
       "      <td>100000.000000</td>\n",
       "      <td>100000.000000</td>\n",
       "      <td>100000.000000</td>\n",
       "      <td>100000.000000</td>\n",
       "      <td>100000.000000</td>\n",
       "      <td>100000.000000</td>\n",
       "      <td>100000.000000</td>\n",
       "      <td>100000.000000</td>\n",
       "      <td>100000.000000</td>\n",
       "    </tr>\n",
       "    <tr>\n",
       "      <th>mean</th>\n",
       "      <td>0.610932</td>\n",
       "      <td>0.440689</td>\n",
       "      <td>0.549986</td>\n",
       "      <td>0.379749</td>\n",
       "      <td>0.812314</td>\n",
       "      <td>0.277426</td>\n",
       "      <td>3.065537</td>\n",
       "      <td>0.449908</td>\n",
       "      <td>0.448632</td>\n",
       "      <td>0.450141</td>\n",
       "    </tr>\n",
       "    <tr>\n",
       "      <th>std</th>\n",
       "      <td>0.288378</td>\n",
       "      <td>0.404073</td>\n",
       "      <td>0.795653</td>\n",
       "      <td>0.058258</td>\n",
       "      <td>0.222757</td>\n",
       "      <td>0.354939</td>\n",
       "      <td>0.733315</td>\n",
       "      <td>0.286854</td>\n",
       "      <td>0.286697</td>\n",
       "      <td>0.287042</td>\n",
       "    </tr>\n",
       "    <tr>\n",
       "      <th>min</th>\n",
       "      <td>0.000000</td>\n",
       "      <td>0.000000</td>\n",
       "      <td>-1.000000</td>\n",
       "      <td>0.141421</td>\n",
       "      <td>0.313241</td>\n",
       "      <td>-1.000000</td>\n",
       "      <td>0.000000</td>\n",
       "      <td>0.000000</td>\n",
       "      <td>0.000000</td>\n",
       "      <td>0.000000</td>\n",
       "    </tr>\n",
       "    <tr>\n",
       "      <th>25%</th>\n",
       "      <td>0.400000</td>\n",
       "      <td>0.200000</td>\n",
       "      <td>0.524404</td>\n",
       "      <td>0.316228</td>\n",
       "      <td>0.670882</td>\n",
       "      <td>0.333167</td>\n",
       "      <td>2.828427</td>\n",
       "      <td>0.200000</td>\n",
       "      <td>0.200000</td>\n",
       "      <td>0.200000</td>\n",
       "    </tr>\n",
       "    <tr>\n",
       "      <th>50%</th>\n",
       "      <td>0.700000</td>\n",
       "      <td>0.300000</td>\n",
       "      <td>0.721110</td>\n",
       "      <td>0.374166</td>\n",
       "      <td>0.765541</td>\n",
       "      <td>0.368782</td>\n",
       "      <td>3.316625</td>\n",
       "      <td>0.500000</td>\n",
       "      <td>0.400000</td>\n",
       "      <td>0.500000</td>\n",
       "    </tr>\n",
       "    <tr>\n",
       "      <th>75%</th>\n",
       "      <td>0.900000</td>\n",
       "      <td>0.600000</td>\n",
       "      <td>1.003120</td>\n",
       "      <td>0.400000</td>\n",
       "      <td>0.905573</td>\n",
       "      <td>0.396989</td>\n",
       "      <td>3.605551</td>\n",
       "      <td>0.700000</td>\n",
       "      <td>0.700000</td>\n",
       "      <td>0.700000</td>\n",
       "    </tr>\n",
       "    <tr>\n",
       "      <th>max</th>\n",
       "      <td>0.900000</td>\n",
       "      <td>1.800000</td>\n",
       "      <td>3.490791</td>\n",
       "      <td>1.264911</td>\n",
       "      <td>3.253698</td>\n",
       "      <td>0.636396</td>\n",
       "      <td>3.741657</td>\n",
       "      <td>0.900000</td>\n",
       "      <td>0.900000</td>\n",
       "      <td>0.900000</td>\n",
       "    </tr>\n",
       "  </tbody>\n",
       "</table>\n",
       "</div>"
      ],
      "text/plain": [
       "           ps_reg_01      ps_reg_02      ps_reg_03      ps_car_12  \\\n",
       "count  100000.000000  100000.000000  100000.000000  100000.000000   \n",
       "mean        0.610932       0.440689       0.549986       0.379749   \n",
       "std         0.288378       0.404073       0.795653       0.058258   \n",
       "min         0.000000       0.000000      -1.000000       0.141421   \n",
       "25%         0.400000       0.200000       0.524404       0.316228   \n",
       "50%         0.700000       0.300000       0.721110       0.374166   \n",
       "75%         0.900000       0.600000       1.003120       0.400000   \n",
       "max         0.900000       1.800000       3.490791       1.264911   \n",
       "\n",
       "           ps_car_13      ps_car_14      ps_car_15     ps_calc_01  \\\n",
       "count  100000.000000  100000.000000  100000.000000  100000.000000   \n",
       "mean        0.812314       0.277426       3.065537       0.449908   \n",
       "std         0.222757       0.354939       0.733315       0.286854   \n",
       "min         0.313241      -1.000000       0.000000       0.000000   \n",
       "25%         0.670882       0.333167       2.828427       0.200000   \n",
       "50%         0.765541       0.368782       3.316625       0.500000   \n",
       "75%         0.905573       0.396989       3.605551       0.700000   \n",
       "max         3.253698       0.636396       3.741657       0.900000   \n",
       "\n",
       "          ps_calc_02     ps_calc_03  \n",
       "count  100000.000000  100000.000000  \n",
       "mean        0.448632       0.450141  \n",
       "std         0.286697       0.287042  \n",
       "min         0.000000       0.000000  \n",
       "25%         0.200000       0.200000  \n",
       "50%         0.400000       0.500000  \n",
       "75%         0.700000       0.700000  \n",
       "max         0.900000       0.900000  "
      ]
     },
     "execution_count": 12,
     "metadata": {},
     "output_type": "execute_result"
    }
   ],
   "source": [
    "v = meta.loc[(meta.level =='interval') & meta.keep].index\n",
    "train[v].describe()"
   ]
  },
  {
   "cell_type": "code",
   "execution_count": 13,
   "metadata": {
    "execution": {
     "iopub.execute_input": "2021-03-30T20:17:54.147053Z",
     "iopub.status.busy": "2021-03-30T20:17:54.146081Z",
     "iopub.status.idle": "2021-03-30T20:17:54.236037Z",
     "shell.execute_reply": "2021-03-30T20:17:54.235117Z"
    },
    "papermill": {
     "duration": 0.133654,
     "end_time": "2021-03-30T20:17:54.236188",
     "exception": false,
     "start_time": "2021-03-30T20:17:54.102534",
     "status": "completed"
    },
    "tags": []
   },
   "outputs": [
    {
     "data": {
      "text/html": [
       "<div>\n",
       "<style scoped>\n",
       "    .dataframe tbody tr th:only-of-type {\n",
       "        vertical-align: middle;\n",
       "    }\n",
       "\n",
       "    .dataframe tbody tr th {\n",
       "        vertical-align: top;\n",
       "    }\n",
       "\n",
       "    .dataframe thead th {\n",
       "        text-align: right;\n",
       "    }\n",
       "</style>\n",
       "<table border=\"1\" class=\"dataframe\">\n",
       "  <thead>\n",
       "    <tr style=\"text-align: right;\">\n",
       "      <th></th>\n",
       "      <th>ps_ind_01</th>\n",
       "      <th>ps_ind_03</th>\n",
       "      <th>ps_ind_14</th>\n",
       "      <th>ps_ind_15</th>\n",
       "      <th>ps_car_11</th>\n",
       "      <th>ps_calc_04</th>\n",
       "      <th>ps_calc_05</th>\n",
       "      <th>ps_calc_06</th>\n",
       "      <th>ps_calc_07</th>\n",
       "      <th>ps_calc_08</th>\n",
       "      <th>ps_calc_09</th>\n",
       "      <th>ps_calc_10</th>\n",
       "      <th>ps_calc_11</th>\n",
       "      <th>ps_calc_12</th>\n",
       "      <th>ps_calc_13</th>\n",
       "      <th>ps_calc_14</th>\n",
       "    </tr>\n",
       "  </thead>\n",
       "  <tbody>\n",
       "    <tr>\n",
       "      <th>count</th>\n",
       "      <td>100000.000000</td>\n",
       "      <td>100000.000000</td>\n",
       "      <td>100000.000000</td>\n",
       "      <td>100000.000000</td>\n",
       "      <td>100000.000000</td>\n",
       "      <td>100000.000000</td>\n",
       "      <td>100000.000000</td>\n",
       "      <td>100000.000000</td>\n",
       "      <td>100000.000000</td>\n",
       "      <td>100000.000000</td>\n",
       "      <td>100000.000000</td>\n",
       "      <td>100000.000000</td>\n",
       "      <td>100000.000000</td>\n",
       "      <td>100000.000000</td>\n",
       "      <td>100000.000000</td>\n",
       "      <td>100000.000000</td>\n",
       "    </tr>\n",
       "    <tr>\n",
       "      <th>mean</th>\n",
       "      <td>1.903690</td>\n",
       "      <td>4.434040</td>\n",
       "      <td>0.012610</td>\n",
       "      <td>7.320070</td>\n",
       "      <td>2.344030</td>\n",
       "      <td>2.367400</td>\n",
       "      <td>1.885610</td>\n",
       "      <td>7.692350</td>\n",
       "      <td>2.996860</td>\n",
       "      <td>9.221540</td>\n",
       "      <td>2.334880</td>\n",
       "      <td>8.419470</td>\n",
       "      <td>5.449950</td>\n",
       "      <td>1.444620</td>\n",
       "      <td>2.874080</td>\n",
       "      <td>7.525540</td>\n",
       "    </tr>\n",
       "    <tr>\n",
       "      <th>std</th>\n",
       "      <td>1.983783</td>\n",
       "      <td>2.700789</td>\n",
       "      <td>0.129735</td>\n",
       "      <td>3.552114</td>\n",
       "      <td>0.833991</td>\n",
       "      <td>1.117448</td>\n",
       "      <td>1.135517</td>\n",
       "      <td>1.336331</td>\n",
       "      <td>1.412979</td>\n",
       "      <td>1.462984</td>\n",
       "      <td>1.247578</td>\n",
       "      <td>2.906844</td>\n",
       "      <td>2.336029</td>\n",
       "      <td>1.204154</td>\n",
       "      <td>1.694029</td>\n",
       "      <td>2.750859</td>\n",
       "    </tr>\n",
       "    <tr>\n",
       "      <th>min</th>\n",
       "      <td>0.000000</td>\n",
       "      <td>0.000000</td>\n",
       "      <td>0.000000</td>\n",
       "      <td>0.000000</td>\n",
       "      <td>0.000000</td>\n",
       "      <td>0.000000</td>\n",
       "      <td>0.000000</td>\n",
       "      <td>1.000000</td>\n",
       "      <td>0.000000</td>\n",
       "      <td>2.000000</td>\n",
       "      <td>0.000000</td>\n",
       "      <td>0.000000</td>\n",
       "      <td>0.000000</td>\n",
       "      <td>0.000000</td>\n",
       "      <td>0.000000</td>\n",
       "      <td>0.000000</td>\n",
       "    </tr>\n",
       "    <tr>\n",
       "      <th>25%</th>\n",
       "      <td>0.000000</td>\n",
       "      <td>2.000000</td>\n",
       "      <td>0.000000</td>\n",
       "      <td>5.000000</td>\n",
       "      <td>2.000000</td>\n",
       "      <td>2.000000</td>\n",
       "      <td>1.000000</td>\n",
       "      <td>7.000000</td>\n",
       "      <td>2.000000</td>\n",
       "      <td>8.000000</td>\n",
       "      <td>1.000000</td>\n",
       "      <td>6.000000</td>\n",
       "      <td>4.000000</td>\n",
       "      <td>1.000000</td>\n",
       "      <td>2.000000</td>\n",
       "      <td>6.000000</td>\n",
       "    </tr>\n",
       "    <tr>\n",
       "      <th>50%</th>\n",
       "      <td>1.000000</td>\n",
       "      <td>4.000000</td>\n",
       "      <td>0.000000</td>\n",
       "      <td>7.000000</td>\n",
       "      <td>3.000000</td>\n",
       "      <td>2.000000</td>\n",
       "      <td>2.000000</td>\n",
       "      <td>8.000000</td>\n",
       "      <td>3.000000</td>\n",
       "      <td>9.000000</td>\n",
       "      <td>2.000000</td>\n",
       "      <td>8.000000</td>\n",
       "      <td>5.000000</td>\n",
       "      <td>1.000000</td>\n",
       "      <td>3.000000</td>\n",
       "      <td>7.000000</td>\n",
       "    </tr>\n",
       "    <tr>\n",
       "      <th>75%</th>\n",
       "      <td>3.000000</td>\n",
       "      <td>6.000000</td>\n",
       "      <td>0.000000</td>\n",
       "      <td>10.000000</td>\n",
       "      <td>3.000000</td>\n",
       "      <td>3.000000</td>\n",
       "      <td>3.000000</td>\n",
       "      <td>9.000000</td>\n",
       "      <td>4.000000</td>\n",
       "      <td>10.000000</td>\n",
       "      <td>3.000000</td>\n",
       "      <td>10.000000</td>\n",
       "      <td>7.000000</td>\n",
       "      <td>2.000000</td>\n",
       "      <td>4.000000</td>\n",
       "      <td>9.000000</td>\n",
       "    </tr>\n",
       "    <tr>\n",
       "      <th>max</th>\n",
       "      <td>7.000000</td>\n",
       "      <td>11.000000</td>\n",
       "      <td>4.000000</td>\n",
       "      <td>13.000000</td>\n",
       "      <td>3.000000</td>\n",
       "      <td>5.000000</td>\n",
       "      <td>6.000000</td>\n",
       "      <td>10.000000</td>\n",
       "      <td>9.000000</td>\n",
       "      <td>12.000000</td>\n",
       "      <td>7.000000</td>\n",
       "      <td>23.000000</td>\n",
       "      <td>19.000000</td>\n",
       "      <td>10.000000</td>\n",
       "      <td>12.000000</td>\n",
       "      <td>22.000000</td>\n",
       "    </tr>\n",
       "  </tbody>\n",
       "</table>\n",
       "</div>"
      ],
      "text/plain": [
       "           ps_ind_01      ps_ind_03      ps_ind_14      ps_ind_15  \\\n",
       "count  100000.000000  100000.000000  100000.000000  100000.000000   \n",
       "mean        1.903690       4.434040       0.012610       7.320070   \n",
       "std         1.983783       2.700789       0.129735       3.552114   \n",
       "min         0.000000       0.000000       0.000000       0.000000   \n",
       "25%         0.000000       2.000000       0.000000       5.000000   \n",
       "50%         1.000000       4.000000       0.000000       7.000000   \n",
       "75%         3.000000       6.000000       0.000000      10.000000   \n",
       "max         7.000000      11.000000       4.000000      13.000000   \n",
       "\n",
       "           ps_car_11     ps_calc_04     ps_calc_05     ps_calc_06  \\\n",
       "count  100000.000000  100000.000000  100000.000000  100000.000000   \n",
       "mean        2.344030       2.367400       1.885610       7.692350   \n",
       "std         0.833991       1.117448       1.135517       1.336331   \n",
       "min         0.000000       0.000000       0.000000       1.000000   \n",
       "25%         2.000000       2.000000       1.000000       7.000000   \n",
       "50%         3.000000       2.000000       2.000000       8.000000   \n",
       "75%         3.000000       3.000000       3.000000       9.000000   \n",
       "max         3.000000       5.000000       6.000000      10.000000   \n",
       "\n",
       "          ps_calc_07     ps_calc_08     ps_calc_09     ps_calc_10  \\\n",
       "count  100000.000000  100000.000000  100000.000000  100000.000000   \n",
       "mean        2.996860       9.221540       2.334880       8.419470   \n",
       "std         1.412979       1.462984       1.247578       2.906844   \n",
       "min         0.000000       2.000000       0.000000       0.000000   \n",
       "25%         2.000000       8.000000       1.000000       6.000000   \n",
       "50%         3.000000       9.000000       2.000000       8.000000   \n",
       "75%         4.000000      10.000000       3.000000      10.000000   \n",
       "max         9.000000      12.000000       7.000000      23.000000   \n",
       "\n",
       "          ps_calc_11     ps_calc_12     ps_calc_13     ps_calc_14  \n",
       "count  100000.000000  100000.000000  100000.000000  100000.000000  \n",
       "mean        5.449950       1.444620       2.874080       7.525540  \n",
       "std         2.336029       1.204154       1.694029       2.750859  \n",
       "min         0.000000       0.000000       0.000000       0.000000  \n",
       "25%         4.000000       1.000000       2.000000       6.000000  \n",
       "50%         5.000000       1.000000       3.000000       7.000000  \n",
       "75%         7.000000       2.000000       4.000000       9.000000  \n",
       "max        19.000000      10.000000      12.000000      22.000000  "
      ]
     },
     "execution_count": 13,
     "metadata": {},
     "output_type": "execute_result"
    }
   ],
   "source": [
    "v = meta.loc[(meta.level == 'ordinal') & meta.keep].index\n",
    "train[v].describe()"
   ]
  },
  {
   "cell_type": "code",
   "execution_count": 14,
   "metadata": {
    "execution": {
     "iopub.execute_input": "2021-03-30T20:17:54.305906Z",
     "iopub.status.busy": "2021-03-30T20:17:54.305287Z",
     "iopub.status.idle": "2021-03-30T20:17:54.389748Z",
     "shell.execute_reply": "2021-03-30T20:17:54.390188Z"
    },
    "papermill": {
     "duration": 0.128877,
     "end_time": "2021-03-30T20:17:54.390351",
     "exception": false,
     "start_time": "2021-03-30T20:17:54.261474",
     "status": "completed"
    },
    "tags": []
   },
   "outputs": [
    {
     "data": {
      "text/html": [
       "<div>\n",
       "<style scoped>\n",
       "    .dataframe tbody tr th:only-of-type {\n",
       "        vertical-align: middle;\n",
       "    }\n",
       "\n",
       "    .dataframe tbody tr th {\n",
       "        vertical-align: top;\n",
       "    }\n",
       "\n",
       "    .dataframe thead th {\n",
       "        text-align: right;\n",
       "    }\n",
       "</style>\n",
       "<table border=\"1\" class=\"dataframe\">\n",
       "  <thead>\n",
       "    <tr style=\"text-align: right;\">\n",
       "      <th></th>\n",
       "      <th>target</th>\n",
       "      <th>ps_ind_06_bin</th>\n",
       "      <th>ps_ind_07_bin</th>\n",
       "      <th>ps_ind_08_bin</th>\n",
       "      <th>ps_ind_09_bin</th>\n",
       "      <th>ps_ind_10_bin</th>\n",
       "      <th>ps_ind_11_bin</th>\n",
       "      <th>ps_ind_12_bin</th>\n",
       "      <th>ps_ind_13_bin</th>\n",
       "      <th>ps_ind_16_bin</th>\n",
       "      <th>ps_ind_17_bin</th>\n",
       "      <th>ps_ind_18_bin</th>\n",
       "      <th>ps_calc_15_bin</th>\n",
       "      <th>ps_calc_16_bin</th>\n",
       "      <th>ps_calc_17_bin</th>\n",
       "      <th>ps_calc_18_bin</th>\n",
       "      <th>ps_calc_19_bin</th>\n",
       "      <th>ps_calc_20_bin</th>\n",
       "    </tr>\n",
       "  </thead>\n",
       "  <tbody>\n",
       "    <tr>\n",
       "      <th>count</th>\n",
       "      <td>100000.00000</td>\n",
       "      <td>100000.000000</td>\n",
       "      <td>100000.000000</td>\n",
       "      <td>100000.000000</td>\n",
       "      <td>100000.00000</td>\n",
       "      <td>100000.000000</td>\n",
       "      <td>100000.000000</td>\n",
       "      <td>100000.000000</td>\n",
       "      <td>100000.00000</td>\n",
       "      <td>100000.000000</td>\n",
       "      <td>100000.000000</td>\n",
       "      <td>100000.000000</td>\n",
       "      <td>100000.000000</td>\n",
       "      <td>100000.000000</td>\n",
       "      <td>100000.000000</td>\n",
       "      <td>100000.000000</td>\n",
       "      <td>100000.000000</td>\n",
       "      <td>100000.000000</td>\n",
       "    </tr>\n",
       "    <tr>\n",
       "      <th>mean</th>\n",
       "      <td>0.03671</td>\n",
       "      <td>0.393240</td>\n",
       "      <td>0.254790</td>\n",
       "      <td>0.164800</td>\n",
       "      <td>0.18717</td>\n",
       "      <td>0.000410</td>\n",
       "      <td>0.001960</td>\n",
       "      <td>0.009260</td>\n",
       "      <td>0.00098</td>\n",
       "      <td>0.660520</td>\n",
       "      <td>0.121640</td>\n",
       "      <td>0.151670</td>\n",
       "      <td>0.122720</td>\n",
       "      <td>0.630440</td>\n",
       "      <td>0.555720</td>\n",
       "      <td>0.286890</td>\n",
       "      <td>0.350700</td>\n",
       "      <td>0.153550</td>\n",
       "    </tr>\n",
       "    <tr>\n",
       "      <th>std</th>\n",
       "      <td>0.18805</td>\n",
       "      <td>0.488472</td>\n",
       "      <td>0.435745</td>\n",
       "      <td>0.371002</td>\n",
       "      <td>0.39005</td>\n",
       "      <td>0.020244</td>\n",
       "      <td>0.044229</td>\n",
       "      <td>0.095783</td>\n",
       "      <td>0.03129</td>\n",
       "      <td>0.473535</td>\n",
       "      <td>0.326871</td>\n",
       "      <td>0.358703</td>\n",
       "      <td>0.328117</td>\n",
       "      <td>0.482688</td>\n",
       "      <td>0.496888</td>\n",
       "      <td>0.452312</td>\n",
       "      <td>0.477192</td>\n",
       "      <td>0.360519</td>\n",
       "    </tr>\n",
       "    <tr>\n",
       "      <th>min</th>\n",
       "      <td>0.00000</td>\n",
       "      <td>0.000000</td>\n",
       "      <td>0.000000</td>\n",
       "      <td>0.000000</td>\n",
       "      <td>0.00000</td>\n",
       "      <td>0.000000</td>\n",
       "      <td>0.000000</td>\n",
       "      <td>0.000000</td>\n",
       "      <td>0.00000</td>\n",
       "      <td>0.000000</td>\n",
       "      <td>0.000000</td>\n",
       "      <td>0.000000</td>\n",
       "      <td>0.000000</td>\n",
       "      <td>0.000000</td>\n",
       "      <td>0.000000</td>\n",
       "      <td>0.000000</td>\n",
       "      <td>0.000000</td>\n",
       "      <td>0.000000</td>\n",
       "    </tr>\n",
       "    <tr>\n",
       "      <th>25%</th>\n",
       "      <td>0.00000</td>\n",
       "      <td>0.000000</td>\n",
       "      <td>0.000000</td>\n",
       "      <td>0.000000</td>\n",
       "      <td>0.00000</td>\n",
       "      <td>0.000000</td>\n",
       "      <td>0.000000</td>\n",
       "      <td>0.000000</td>\n",
       "      <td>0.00000</td>\n",
       "      <td>0.000000</td>\n",
       "      <td>0.000000</td>\n",
       "      <td>0.000000</td>\n",
       "      <td>0.000000</td>\n",
       "      <td>0.000000</td>\n",
       "      <td>0.000000</td>\n",
       "      <td>0.000000</td>\n",
       "      <td>0.000000</td>\n",
       "      <td>0.000000</td>\n",
       "    </tr>\n",
       "    <tr>\n",
       "      <th>50%</th>\n",
       "      <td>0.00000</td>\n",
       "      <td>0.000000</td>\n",
       "      <td>0.000000</td>\n",
       "      <td>0.000000</td>\n",
       "      <td>0.00000</td>\n",
       "      <td>0.000000</td>\n",
       "      <td>0.000000</td>\n",
       "      <td>0.000000</td>\n",
       "      <td>0.00000</td>\n",
       "      <td>1.000000</td>\n",
       "      <td>0.000000</td>\n",
       "      <td>0.000000</td>\n",
       "      <td>0.000000</td>\n",
       "      <td>1.000000</td>\n",
       "      <td>1.000000</td>\n",
       "      <td>0.000000</td>\n",
       "      <td>0.000000</td>\n",
       "      <td>0.000000</td>\n",
       "    </tr>\n",
       "    <tr>\n",
       "      <th>75%</th>\n",
       "      <td>0.00000</td>\n",
       "      <td>1.000000</td>\n",
       "      <td>1.000000</td>\n",
       "      <td>0.000000</td>\n",
       "      <td>0.00000</td>\n",
       "      <td>0.000000</td>\n",
       "      <td>0.000000</td>\n",
       "      <td>0.000000</td>\n",
       "      <td>0.00000</td>\n",
       "      <td>1.000000</td>\n",
       "      <td>0.000000</td>\n",
       "      <td>0.000000</td>\n",
       "      <td>0.000000</td>\n",
       "      <td>1.000000</td>\n",
       "      <td>1.000000</td>\n",
       "      <td>1.000000</td>\n",
       "      <td>1.000000</td>\n",
       "      <td>0.000000</td>\n",
       "    </tr>\n",
       "    <tr>\n",
       "      <th>max</th>\n",
       "      <td>1.00000</td>\n",
       "      <td>1.000000</td>\n",
       "      <td>1.000000</td>\n",
       "      <td>1.000000</td>\n",
       "      <td>1.00000</td>\n",
       "      <td>1.000000</td>\n",
       "      <td>1.000000</td>\n",
       "      <td>1.000000</td>\n",
       "      <td>1.00000</td>\n",
       "      <td>1.000000</td>\n",
       "      <td>1.000000</td>\n",
       "      <td>1.000000</td>\n",
       "      <td>1.000000</td>\n",
       "      <td>1.000000</td>\n",
       "      <td>1.000000</td>\n",
       "      <td>1.000000</td>\n",
       "      <td>1.000000</td>\n",
       "      <td>1.000000</td>\n",
       "    </tr>\n",
       "  </tbody>\n",
       "</table>\n",
       "</div>"
      ],
      "text/plain": [
       "             target  ps_ind_06_bin  ps_ind_07_bin  ps_ind_08_bin  \\\n",
       "count  100000.00000  100000.000000  100000.000000  100000.000000   \n",
       "mean        0.03671       0.393240       0.254790       0.164800   \n",
       "std         0.18805       0.488472       0.435745       0.371002   \n",
       "min         0.00000       0.000000       0.000000       0.000000   \n",
       "25%         0.00000       0.000000       0.000000       0.000000   \n",
       "50%         0.00000       0.000000       0.000000       0.000000   \n",
       "75%         0.00000       1.000000       1.000000       0.000000   \n",
       "max         1.00000       1.000000       1.000000       1.000000   \n",
       "\n",
       "       ps_ind_09_bin  ps_ind_10_bin  ps_ind_11_bin  ps_ind_12_bin  \\\n",
       "count   100000.00000  100000.000000  100000.000000  100000.000000   \n",
       "mean         0.18717       0.000410       0.001960       0.009260   \n",
       "std          0.39005       0.020244       0.044229       0.095783   \n",
       "min          0.00000       0.000000       0.000000       0.000000   \n",
       "25%          0.00000       0.000000       0.000000       0.000000   \n",
       "50%          0.00000       0.000000       0.000000       0.000000   \n",
       "75%          0.00000       0.000000       0.000000       0.000000   \n",
       "max          1.00000       1.000000       1.000000       1.000000   \n",
       "\n",
       "       ps_ind_13_bin  ps_ind_16_bin  ps_ind_17_bin  ps_ind_18_bin  \\\n",
       "count   100000.00000  100000.000000  100000.000000  100000.000000   \n",
       "mean         0.00098       0.660520       0.121640       0.151670   \n",
       "std          0.03129       0.473535       0.326871       0.358703   \n",
       "min          0.00000       0.000000       0.000000       0.000000   \n",
       "25%          0.00000       0.000000       0.000000       0.000000   \n",
       "50%          0.00000       1.000000       0.000000       0.000000   \n",
       "75%          0.00000       1.000000       0.000000       0.000000   \n",
       "max          1.00000       1.000000       1.000000       1.000000   \n",
       "\n",
       "       ps_calc_15_bin  ps_calc_16_bin  ps_calc_17_bin  ps_calc_18_bin  \\\n",
       "count   100000.000000   100000.000000   100000.000000   100000.000000   \n",
       "mean         0.122720        0.630440        0.555720        0.286890   \n",
       "std          0.328117        0.482688        0.496888        0.452312   \n",
       "min          0.000000        0.000000        0.000000        0.000000   \n",
       "25%          0.000000        0.000000        0.000000        0.000000   \n",
       "50%          0.000000        1.000000        1.000000        0.000000   \n",
       "75%          0.000000        1.000000        1.000000        1.000000   \n",
       "max          1.000000        1.000000        1.000000        1.000000   \n",
       "\n",
       "       ps_calc_19_bin  ps_calc_20_bin  \n",
       "count   100000.000000   100000.000000  \n",
       "mean         0.350700        0.153550  \n",
       "std          0.477192        0.360519  \n",
       "min          0.000000        0.000000  \n",
       "25%          0.000000        0.000000  \n",
       "50%          0.000000        0.000000  \n",
       "75%          1.000000        0.000000  \n",
       "max          1.000000        1.000000  "
      ]
     },
     "execution_count": 14,
     "metadata": {},
     "output_type": "execute_result"
    }
   ],
   "source": [
    "v  = meta.loc[(meta.level == 'binary') & meta.keep].index\n",
    "train[v].describe()"
   ]
  },
  {
   "cell_type": "code",
   "execution_count": 15,
   "metadata": {
    "execution": {
     "iopub.execute_input": "2021-03-30T20:17:54.447436Z",
     "iopub.status.busy": "2021-03-30T20:17:54.446614Z",
     "iopub.status.idle": "2021-03-30T20:17:54.516369Z",
     "shell.execute_reply": "2021-03-30T20:17:54.515587Z"
    },
    "papermill": {
     "duration": 0.100297,
     "end_time": "2021-03-30T20:17:54.516525",
     "exception": false,
     "start_time": "2021-03-30T20:17:54.416228",
     "status": "completed"
    },
    "tags": []
   },
   "outputs": [],
   "source": [
    "desired_apriori = 0.1\n",
    "\n",
    "idx_0 = train[train.target == 0].index\n",
    "idx_1 = train[train.target == 1].index\n",
    "\n",
    "nb_0 = len(train.loc[idx_0])\n",
    "nb_1 = len(train.loc[idx_1])"
   ]
  },
  {
   "cell_type": "code",
   "execution_count": 16,
   "metadata": {
    "execution": {
     "iopub.execute_input": "2021-03-30T20:17:54.571493Z",
     "iopub.status.busy": "2021-03-30T20:17:54.570610Z",
     "iopub.status.idle": "2021-03-30T20:17:54.574589Z",
     "shell.execute_reply": "2021-03-30T20:17:54.575086Z"
    },
    "papermill": {
     "duration": 0.032948,
     "end_time": "2021-03-30T20:17:54.575262",
     "exception": false,
     "start_time": "2021-03-30T20:17:54.542314",
     "status": "completed"
    },
    "tags": []
   },
   "outputs": [],
   "source": [
    "undersampling_rate = ((1-desired_apriori)*nb_1)/((nb_0 * desired_apriori))"
   ]
  },
  {
   "cell_type": "code",
   "execution_count": 17,
   "metadata": {
    "execution": {
     "iopub.execute_input": "2021-03-30T20:17:54.630381Z",
     "iopub.status.busy": "2021-03-30T20:17:54.629490Z",
     "iopub.status.idle": "2021-03-30T20:17:54.633333Z",
     "shell.execute_reply": "2021-03-30T20:17:54.633807Z"
    },
    "papermill": {
     "duration": 0.03291,
     "end_time": "2021-03-30T20:17:54.633961",
     "exception": false,
     "start_time": "2021-03-30T20:17:54.601051",
     "status": "completed"
    },
    "tags": []
   },
   "outputs": [],
   "source": [
    "undersampled_nb_0 = int(undersampling_rate*nb_0)"
   ]
  },
  {
   "cell_type": "code",
   "execution_count": 18,
   "metadata": {
    "execution": {
     "iopub.execute_input": "2021-03-30T20:17:54.691553Z",
     "iopub.status.busy": "2021-03-30T20:17:54.690777Z",
     "iopub.status.idle": "2021-03-30T20:17:54.693623Z",
     "shell.execute_reply": "2021-03-30T20:17:54.694120Z"
    },
    "papermill": {
     "duration": 0.034278,
     "end_time": "2021-03-30T20:17:54.694329",
     "exception": false,
     "start_time": "2021-03-30T20:17:54.660051",
     "status": "completed"
    },
    "tags": []
   },
   "outputs": [
    {
     "name": "stdout",
     "output_type": "stream",
     "text": [
      "Rate to undersample records with target=0: 0.3429808261271268\n",
      "Number of records with target=0 after undersampling: 33039\n"
     ]
    }
   ],
   "source": [
    "print('Rate to undersample records with target=0: {}'.format(undersampling_rate))\n",
    "print('Number of records with target=0 after undersampling: {}'.format(undersampled_nb_0))"
   ]
  },
  {
   "cell_type": "code",
   "execution_count": 19,
   "metadata": {
    "execution": {
     "iopub.execute_input": "2021-03-30T20:17:54.756895Z",
     "iopub.status.busy": "2021-03-30T20:17:54.756195Z",
     "iopub.status.idle": "2021-03-30T20:17:54.759656Z",
     "shell.execute_reply": "2021-03-30T20:17:54.759049Z"
    },
    "papermill": {
     "duration": 0.038778,
     "end_time": "2021-03-30T20:17:54.759798",
     "exception": false,
     "start_time": "2021-03-30T20:17:54.721020",
     "status": "completed"
    },
    "tags": []
   },
   "outputs": [],
   "source": [
    "undersampled_idx = shuffle(idx_0, random_state = 37, n_samples = undersampled_nb_0)"
   ]
  },
  {
   "cell_type": "code",
   "execution_count": 20,
   "metadata": {
    "execution": {
     "iopub.execute_input": "2021-03-30T20:17:54.821903Z",
     "iopub.status.busy": "2021-03-30T20:17:54.821338Z",
     "iopub.status.idle": "2021-03-30T20:17:54.824001Z",
     "shell.execute_reply": "2021-03-30T20:17:54.823464Z"
    },
    "papermill": {
     "duration": 0.037381,
     "end_time": "2021-03-30T20:17:54.824130",
     "exception": false,
     "start_time": "2021-03-30T20:17:54.786749",
     "status": "completed"
    },
    "tags": []
   },
   "outputs": [],
   "source": [
    "idx_list = list(undersampled_idx) + list(idx_1)"
   ]
  },
  {
   "cell_type": "code",
   "execution_count": 21,
   "metadata": {
    "execution": {
     "iopub.execute_input": "2021-03-30T20:17:54.880157Z",
     "iopub.status.busy": "2021-03-30T20:17:54.879636Z",
     "iopub.status.idle": "2021-03-30T20:17:54.918164Z",
     "shell.execute_reply": "2021-03-30T20:17:54.918607Z"
    },
    "papermill": {
     "duration": 0.068042,
     "end_time": "2021-03-30T20:17:54.918786",
     "exception": false,
     "start_time": "2021-03-30T20:17:54.850744",
     "status": "completed"
    },
    "tags": []
   },
   "outputs": [],
   "source": [
    "train = train.loc[idx_list].reset_index(drop = True)"
   ]
  },
  {
   "cell_type": "code",
   "execution_count": 22,
   "metadata": {
    "execution": {
     "iopub.execute_input": "2021-03-30T20:17:54.979359Z",
     "iopub.status.busy": "2021-03-30T20:17:54.978730Z",
     "iopub.status.idle": "2021-03-30T20:17:55.054504Z",
     "shell.execute_reply": "2021-03-30T20:17:55.055130Z"
    },
    "papermill": {
     "duration": 0.109647,
     "end_time": "2021-03-30T20:17:55.055399",
     "exception": false,
     "start_time": "2021-03-30T20:17:54.945752",
     "status": "completed"
    },
    "tags": []
   },
   "outputs": [
    {
     "name": "stdout",
     "output_type": "stream",
     "text": [
      "Variable ps_ind_02_cat has 14 records (0.04%) with missing values\n",
      "Variable ps_ind_04_cat has 9 records (0.02%) with missing values\n",
      "Variable ps_ind_05_cat has 374 records (1.02%) with missing values\n",
      "Variable ps_reg_03 has 6546 records (17.83%) with missing values\n",
      "Variable ps_car_01_cat has 8 records (0.02%) with missing values\n",
      "Variable ps_car_03_cat has 25167 records (68.56%) with missing values\n",
      "Variable ps_car_05_cat has 16208 records (44.15%) with missing values\n",
      "Variable ps_car_07_cat has 715 records (1.95%) with missing values\n",
      "Variable ps_car_09_cat has 36 records (0.10%) with missing values\n",
      "Variable ps_car_14 has 2552 records (6.95%) with missing values\n",
      "In total, there are 10 variables with missing values\n"
     ]
    }
   ],
   "source": [
    "vars_with_missing  = []\n",
    "\n",
    "for f in train.columns:\n",
    "    missings = train.loc[train[f] == -1][f].count()\n",
    "    if missings > 0:\n",
    "        vars_with_missing.append(f)\n",
    "        missings_perc = missings/train.shape[0]\n",
    "        \n",
    "        print('Variable {} has {} records ({:.2%}) with missing values'.format(f, missings, missings_perc))\n",
    "        \n",
    "print('In total, there are {} variables with missing values'.format(len(vars_with_missing)))"
   ]
  },
  {
   "cell_type": "code",
   "execution_count": 23,
   "metadata": {
    "execution": {
     "iopub.execute_input": "2021-03-30T20:17:55.123869Z",
     "iopub.status.busy": "2021-03-30T20:17:55.123043Z",
     "iopub.status.idle": "2021-03-30T20:17:55.125993Z",
     "shell.execute_reply": "2021-03-30T20:17:55.126432Z"
    },
    "papermill": {
     "duration": 0.042351,
     "end_time": "2021-03-30T20:17:55.126609",
     "exception": false,
     "start_time": "2021-03-30T20:17:55.084258",
     "status": "completed"
    },
    "tags": []
   },
   "outputs": [],
   "source": [
    "vars_to_drop = ['ps_car_03_cat', 'ps_car_05_cat']\n",
    "train.drop(vars_to_drop, inplace = True, axis = 1)\n",
    "meta.loc[(vars_to_drop), 'keep'] = False"
   ]
  },
  {
   "cell_type": "code",
   "execution_count": 24,
   "metadata": {
    "execution": {
     "iopub.execute_input": "2021-03-30T20:17:55.187073Z",
     "iopub.status.busy": "2021-03-30T20:17:55.186502Z",
     "iopub.status.idle": "2021-03-30T20:17:55.189124Z",
     "shell.execute_reply": "2021-03-30T20:17:55.188671Z"
    },
    "papermill": {
     "duration": 0.034718,
     "end_time": "2021-03-30T20:17:55.189282",
     "exception": false,
     "start_time": "2021-03-30T20:17:55.154564",
     "status": "completed"
    },
    "tags": []
   },
   "outputs": [],
   "source": [
    "mean_imp = SimpleImputer(missing_values = -1, strategy = 'mean')\n",
    "mode_imp = SimpleImputer(missing_values = -1, strategy = 'most_frequent')"
   ]
  },
  {
   "cell_type": "code",
   "execution_count": 25,
   "metadata": {
    "execution": {
     "iopub.execute_input": "2021-03-30T20:17:55.252519Z",
     "iopub.status.busy": "2021-03-30T20:17:55.251816Z",
     "iopub.status.idle": "2021-03-30T20:17:55.273220Z",
     "shell.execute_reply": "2021-03-30T20:17:55.272697Z"
    },
    "papermill": {
     "duration": 0.056627,
     "end_time": "2021-03-30T20:17:55.273357",
     "exception": false,
     "start_time": "2021-03-30T20:17:55.216730",
     "status": "completed"
    },
    "tags": []
   },
   "outputs": [],
   "source": [
    "train['ps_reg_03'] = mean_imp.fit_transform(train[['ps_reg_03']]).ravel()\n",
    "train['ps_car_12'] = mean_imp.fit_transform(train[['ps_car_12']]).ravel()\n",
    "train['ps_car_14'] = mean_imp.fit_transform(train[['ps_car_14']]).ravel()\n",
    "train['ps_car_11'] = mode_imp.fit_transform(train[['ps_car_11']]).ravel()"
   ]
  },
  {
   "cell_type": "code",
   "execution_count": 26,
   "metadata": {
    "execution": {
     "iopub.execute_input": "2021-03-30T20:17:55.334297Z",
     "iopub.status.busy": "2021-03-30T20:17:55.333687Z",
     "iopub.status.idle": "2021-03-30T20:17:55.350051Z",
     "shell.execute_reply": "2021-03-30T20:17:55.350869Z"
    },
    "papermill": {
     "duration": 0.050356,
     "end_time": "2021-03-30T20:17:55.351088",
     "exception": false,
     "start_time": "2021-03-30T20:17:55.300732",
     "status": "completed"
    },
    "tags": []
   },
   "outputs": [
    {
     "name": "stdout",
     "output_type": "stream",
     "text": [
      "variable id has 36710 distinct val\n",
      "variable ps_ind_02_cat has 5 distinct val\n",
      "variable ps_ind_04_cat has 3 distinct val\n",
      "variable ps_ind_05_cat has 8 distinct val\n",
      "variable ps_car_01_cat has 13 distinct val\n",
      "variable ps_car_02_cat has 2 distinct val\n",
      "variable ps_car_04_cat has 10 distinct val\n",
      "variable ps_car_06_cat has 18 distinct val\n",
      "variable ps_car_07_cat has 3 distinct val\n",
      "variable ps_car_08_cat has 2 distinct val\n",
      "variable ps_car_09_cat has 6 distinct val\n",
      "variable ps_car_10_cat has 3 distinct val\n",
      "variable ps_car_11_cat has 104 distinct val\n"
     ]
    }
   ],
   "source": [
    "v = meta[(meta.level == 'nominal') & meta.keep].index\n",
    "\n",
    "for f in v:\n",
    "    dist_values = train[f].value_counts().shape[0]\n",
    "    print('variable {} has {} distinct val'.format(f, dist_values))"
   ]
  },
  {
   "cell_type": "code",
   "execution_count": 27,
   "metadata": {
    "execution": {
     "iopub.execute_input": "2021-03-30T20:17:55.419416Z",
     "iopub.status.busy": "2021-03-30T20:17:55.418729Z",
     "iopub.status.idle": "2021-03-30T20:17:55.421754Z",
     "shell.execute_reply": "2021-03-30T20:17:55.421169Z"
    },
    "papermill": {
     "duration": 0.042179,
     "end_time": "2021-03-30T20:17:55.421885",
     "exception": false,
     "start_time": "2021-03-30T20:17:55.379706",
     "status": "completed"
    },
    "tags": []
   },
   "outputs": [],
   "source": [
    "def add_noise(series, noise_level):\n",
    "    return series * (1 + noise_level * np.random.randn(len(series)))\n",
    "\n",
    "def target_encode(trn_series=None, \n",
    "                  tst_series=None, \n",
    "                  target=None, \n",
    "                  min_samples_leaf=1, \n",
    "                  smoothing=1,\n",
    "                  noise_level=0):\n",
    "    \"\"\"\n",
    "    Smoothing is computed like in the following paper by Daniele Micci-Barreca\n",
    "    https://kaggle2.blob.core.windows.net/forum-message-attachments/225952/7441/high%20cardinality%20categoricals.pdf\n",
    "    trn_series : training categorical feature as a pd.Series\n",
    "    tst_series : test categorical feature as a pd.Series\n",
    "    target : target data as a pd.Series\n",
    "    min_samples_leaf (int) : minimum samples to take category average into account\n",
    "    smoothing (int) : smoothing effect to balance categorical average vs prior  \n",
    "    \"\"\" \n",
    "    assert len(trn_series) == len(target)\n",
    "    assert trn_series.name == tst_series.name\n",
    "    temp = pd.concat([trn_series, target], axis=1)\n",
    "    # Compute target mean \n",
    "    averages = temp.groupby(by=trn_series.name)[target.name].agg([\"mean\", \"count\"])\n",
    "    # Compute smoothing\n",
    "    smoothing = 1 / (1 + np.exp(-(averages[\"count\"] - min_samples_leaf) / smoothing))\n",
    "    # Apply average function to all target data\n",
    "    prior = target.mean()\n",
    "    # The bigger the count the less full_avg is taken into account\n",
    "    averages[target.name] = prior * (1 - smoothing) + averages[\"mean\"] * smoothing\n",
    "    averages.drop([\"mean\", \"count\"], axis=1, inplace=True)\n",
    "    # Apply averages to trn and tst series\n",
    "    ft_trn_series = pd.merge(\n",
    "        trn_series.to_frame(trn_series.name),\n",
    "        averages.reset_index().rename(columns={'index': target.name, target.name: 'average'}),\n",
    "        on=trn_series.name,\n",
    "        how='left')['average'].rename(trn_series.name + '_mean').fillna(prior)\n",
    "    # pd.merge does not keep the index so restore it\n",
    "    ft_trn_series.index = trn_series.index \n",
    "    ft_tst_series = pd.merge(\n",
    "        tst_series.to_frame(tst_series.name),\n",
    "        averages.reset_index().rename(columns={'index': target.name, target.name: 'average'}),\n",
    "        on=tst_series.name,\n",
    "        how='left')['average'].rename(trn_series.name + '_mean').fillna(prior)\n",
    "    # pd.merge does not keep the index so restore it\n",
    "    ft_tst_series.index = tst_series.index\n",
    "    return add_noise(ft_trn_series, noise_level), add_noise(ft_tst_series, noise_level)"
   ]
  },
  {
   "cell_type": "code",
   "execution_count": 28,
   "metadata": {
    "execution": {
     "iopub.execute_input": "2021-03-30T20:17:55.484637Z",
     "iopub.status.busy": "2021-03-30T20:17:55.483902Z",
     "iopub.status.idle": "2021-03-30T20:17:55.551038Z",
     "shell.execute_reply": "2021-03-30T20:17:55.551538Z"
    },
    "papermill": {
     "duration": 0.101787,
     "end_time": "2021-03-30T20:17:55.551710",
     "exception": false,
     "start_time": "2021-03-30T20:17:55.449923",
     "status": "completed"
    },
    "tags": []
   },
   "outputs": [],
   "source": [
    "train_encoded, test_encoded = target_encode(train[\"ps_car_11_cat\"], \n",
    "                             test[\"ps_car_11_cat\"], \n",
    "                             target=train.target, \n",
    "                             min_samples_leaf=100,\n",
    "                             smoothing=10,\n",
    "                             noise_level=0.01)\n",
    "    \n",
    "train['ps_car_11_cat_te'] = train_encoded\n",
    "train.drop('ps_car_11_cat', axis=1, inplace=True)\n",
    "meta.loc['ps_car_11_cat','keep'] = False  # Updating the meta\n",
    "test['ps_car_11_cat_te'] = test_encoded\n",
    "test.drop('ps_car_11_cat', axis=1, inplace=True)"
   ]
  },
  {
   "cell_type": "code",
   "execution_count": 29,
   "metadata": {
    "execution": {
     "iopub.execute_input": "2021-03-30T20:17:55.614039Z",
     "iopub.status.busy": "2021-03-30T20:17:55.613432Z",
     "iopub.status.idle": "2021-03-30T20:17:55.616152Z",
     "shell.execute_reply": "2021-03-30T20:17:55.615736Z"
    },
    "papermill": {
     "duration": 0.036607,
     "end_time": "2021-03-30T20:17:55.616300",
     "exception": false,
     "start_time": "2021-03-30T20:17:55.579693",
     "status": "completed"
    },
    "tags": []
   },
   "outputs": [],
   "source": [
    "v = meta[(meta.level == 'nominal') & (meta.keep)].index"
   ]
  },
  {
   "cell_type": "code",
   "execution_count": 30,
   "metadata": {
    "execution": {
     "iopub.execute_input": "2021-03-30T20:17:55.678631Z",
     "iopub.status.busy": "2021-03-30T20:17:55.677857Z",
     "iopub.status.idle": "2021-03-30T20:17:55.680451Z",
     "shell.execute_reply": "2021-03-30T20:17:55.679954Z"
    },
    "papermill": {
     "duration": 0.036201,
     "end_time": "2021-03-30T20:17:55.680602",
     "exception": false,
     "start_time": "2021-03-30T20:17:55.644401",
     "status": "completed"
    },
    "tags": []
   },
   "outputs": [],
   "source": [
    "def corr_heatmap(v):\n",
    "    correlations = train[v].corr()\n",
    "    cmap = sns.diverging_palette(220, 10, as_cmap = True)\n",
    "    \n",
    "    fig, ax = plt.subplots(figsize = (10,10))\n",
    "    sns.heatmap(correlations, cmap = cmap, vmax = 1.0, center=0, fmt='.2f',\n",
    "               square = True, linewidths = .5, annot= True, cbar_kws = {'shrink':.75})\n",
    "    plt.show();\n",
    "   "
   ]
  },
  {
   "cell_type": "code",
   "execution_count": 31,
   "metadata": {
    "execution": {
     "iopub.execute_input": "2021-03-30T20:17:55.744462Z",
     "iopub.status.busy": "2021-03-30T20:17:55.743844Z",
     "iopub.status.idle": "2021-03-30T20:17:56.593905Z",
     "shell.execute_reply": "2021-03-30T20:17:56.593438Z"
    },
    "papermill": {
     "duration": 0.885156,
     "end_time": "2021-03-30T20:17:56.594043",
     "exception": false,
     "start_time": "2021-03-30T20:17:55.708887",
     "status": "completed"
    },
    "tags": []
   },
   "outputs": [
    {
     "data": {
      "image/png": "[encoded data removed]",
      "text/plain": [
       "<Figure size 720x720 with 2 Axes>"
      ]
     },
     "metadata": {
      "needs_background": "light"
     },
     "output_type": "display_data"
    }
   ],
   "source": [
    " \n",
    "v = meta[(meta.level == 'interval') & meta.keep].index\n",
    "corr_heatmap(v)"
   ]
  },
  {
   "cell_type": "code",
   "execution_count": 32,
   "metadata": {
    "execution": {
     "iopub.execute_input": "2021-03-30T20:17:56.660764Z",
     "iopub.status.busy": "2021-03-30T20:17:56.659877Z",
     "iopub.status.idle": "2021-03-30T20:17:59.169349Z",
     "shell.execute_reply": "2021-03-30T20:17:59.168743Z"
    },
    "papermill": {
     "duration": 2.545744,
     "end_time": "2021-03-30T20:17:59.169497",
     "exception": false,
     "start_time": "2021-03-30T20:17:56.623753",
     "status": "completed"
    },
    "tags": []
   },
   "outputs": [
    {
     "data": {
      "image/png": "[encoded data removed]",
      "text/plain": [
       "<Figure size 402.375x360 with 1 Axes>"
      ]
     },
     "metadata": {
      "needs_background": "light"
     },
     "output_type": "display_data"
    }
   ],
   "source": [
    "sns.lmplot(x='ps_reg_02', y='ps_reg_03', data = train, hue='target', palette = 'Set1', scatter_kws={'alpha':0.3})\n",
    "plt.show()"
   ]
  },
  {
   "cell_type": "code",
   "execution_count": 33,
   "metadata": {
    "execution": {
     "iopub.execute_input": "2021-03-30T20:17:59.239958Z",
     "iopub.status.busy": "2021-03-30T20:17:59.239049Z",
     "iopub.status.idle": "2021-03-30T20:18:01.679588Z",
     "shell.execute_reply": "2021-03-30T20:18:01.679034Z"
    },
    "papermill": {
     "duration": 2.478332,
     "end_time": "2021-03-30T20:18:01.679745",
     "exception": false,
     "start_time": "2021-03-30T20:17:59.201413",
     "status": "completed"
    },
    "tags": []
   },
   "outputs": [
    {
     "data": {
      "image/png": "[encoded data removed]",
      "text/plain": [
       "<Figure size 402.375x360 with 1 Axes>"
      ]
     },
     "metadata": {
      "needs_background": "light"
     },
     "output_type": "display_data"
    }
   ],
   "source": [
    "sns.lmplot(x = 'ps_car_12', y='ps_car_13', data=train, hue = 'target', palette='Set1')\n",
    "plt.show()"
   ]
  },
  {
   "cell_type": "code",
   "execution_count": 34,
   "metadata": {
    "execution": {
     "iopub.execute_input": "2021-03-30T20:18:01.753060Z",
     "iopub.status.busy": "2021-03-30T20:18:01.752512Z",
     "iopub.status.idle": "2021-03-30T20:18:01.755905Z",
     "shell.execute_reply": "2021-03-30T20:18:01.756408Z"
    },
    "papermill": {
     "duration": 0.043094,
     "end_time": "2021-03-30T20:18:01.756573",
     "exception": false,
     "start_time": "2021-03-30T20:18:01.713479",
     "status": "completed"
    },
    "tags": []
   },
   "outputs": [
    {
     "name": "stdout",
     "output_type": "stream",
     "text": [
      "before onehot 57\n"
     ]
    }
   ],
   "source": [
    "v = meta.loc[(meta.level == 'nominal') & (meta.keep)].index\n",
    "print('before onehot {}'.format(train.shape[1]))"
   ]
  },
  {
   "cell_type": "code",
   "execution_count": 35,
   "metadata": {
    "execution": {
     "iopub.execute_input": "2021-03-30T20:18:01.837231Z",
     "iopub.status.busy": "2021-03-30T20:18:01.836600Z",
     "iopub.status.idle": "2021-03-30T20:18:07.194697Z",
     "shell.execute_reply": "2021-03-30T20:18:07.193718Z"
    },
    "papermill": {
     "duration": 5.404754,
     "end_time": "2021-03-30T20:18:07.194897",
     "exception": false,
     "start_time": "2021-03-30T20:18:01.790143",
     "status": "completed"
    },
    "tags": []
   },
   "outputs": [],
   "source": [
    "temp = pd.get_dummies(train, columns=v, drop_first=True)"
   ]
  },
  {
   "cell_type": "code",
   "execution_count": 36,
   "metadata": {
    "execution": {
     "iopub.execute_input": "2021-03-30T20:18:07.276823Z",
     "iopub.status.busy": "2021-03-30T20:18:07.276221Z",
     "iopub.status.idle": "2021-03-30T20:18:07.333068Z",
     "shell.execute_reply": "2021-03-30T20:18:07.332240Z"
    },
    "papermill": {
     "duration": 0.096732,
     "end_time": "2021-03-30T20:18:07.333272",
     "exception": false,
     "start_time": "2021-03-30T20:18:07.236540",
     "status": "completed"
    },
    "tags": []
   },
   "outputs": [
    {
     "name": "stdout",
     "output_type": "stream",
     "text": [
      "before 57\n",
      "before 112\n"
     ]
    }
   ],
   "source": [
    "v = meta[(meta.level == 'interval') & (meta.keep)].index\n",
    "poly = PolynomialFeatures(degree = 2, interaction_only = False, include_bias=False)\n",
    "interactions = pd.DataFrame(data = poly.fit_transform(train[v]), columns=poly.get_feature_names(v))\n",
    "interactions.drop(v, axis=1, inplace=True)\n",
    "print('before {}'.format(train.shape[1]))\n",
    "train = pd.concat([train, interactions], axis =1)\n",
    "print('before {}'.format(train.shape[1]))"
   ]
  },
  {
   "cell_type": "code",
   "execution_count": 37,
   "metadata": {
    "execution": {
     "iopub.execute_input": "2021-03-30T20:18:07.409108Z",
     "iopub.status.busy": "2021-03-30T20:18:07.407745Z",
     "iopub.status.idle": "2021-03-30T20:18:07.487589Z",
     "shell.execute_reply": "2021-03-30T20:18:07.486957Z"
    },
    "papermill": {
     "duration": 0.119152,
     "end_time": "2021-03-30T20:18:07.487788",
     "exception": false,
     "start_time": "2021-03-30T20:18:07.368636",
     "status": "completed"
    },
    "tags": []
   },
   "outputs": [
    {
     "data": {
      "text/plain": [
       "VarianceThreshold(threshold=0.01)"
      ]
     },
     "execution_count": 37,
     "metadata": {},
     "output_type": "execute_result"
    }
   ],
   "source": [
    "selector = VarianceThreshold(threshold = .01)\n",
    "selector.fit(train.drop(['id', 'target'], axis=1))"
   ]
  },
  {
   "cell_type": "code",
   "execution_count": null,
   "metadata": {
    "papermill": {
     "duration": 0.034717,
     "end_time": "2021-03-30T20:18:07.557469",
     "exception": false,
     "start_time": "2021-03-30T20:18:07.522752",
     "status": "completed"
    },
    "tags": []
   },
   "outputs": [],
   "source": []
  },
  {
   "cell_type": "code",
   "execution_count": 38,
   "metadata": {
    "execution": {
     "iopub.execute_input": "2021-03-30T20:18:07.639833Z",
     "iopub.status.busy": "2021-03-30T20:18:07.639227Z",
     "iopub.status.idle": "2021-03-30T20:18:07.642269Z",
     "shell.execute_reply": "2021-03-30T20:18:07.641742Z"
    },
    "papermill": {
     "duration": 0.050587,
     "end_time": "2021-03-30T20:18:07.642411",
     "exception": false,
     "start_time": "2021-03-30T20:18:07.591824",
     "status": "completed"
    },
    "tags": []
   },
   "outputs": [],
   "source": [
    "f = np.vectorize(lambda x:not x)\n",
    "\n",
    "v = train.drop(['id', 'target'], axis=1).columns[f(selector.get_support())]"
   ]
  },
  {
   "cell_type": "code",
   "execution_count": 39,
   "metadata": {
    "execution": {
     "iopub.execute_input": "2021-03-30T20:18:07.716662Z",
     "iopub.status.busy": "2021-03-30T20:18:07.715980Z",
     "iopub.status.idle": "2021-03-30T20:18:07.719961Z",
     "shell.execute_reply": "2021-03-30T20:18:07.719344Z"
    },
    "papermill": {
     "duration": 0.04313,
     "end_time": "2021-03-30T20:18:07.720120",
     "exception": false,
     "start_time": "2021-03-30T20:18:07.676990",
     "status": "completed"
    },
    "tags": []
   },
   "outputs": [
    {
     "name": "stdout",
     "output_type": "stream",
     "text": [
      "11 variables have too low variance.\n",
      "These variables are ['ps_ind_10_bin', 'ps_ind_11_bin', 'ps_ind_12_bin', 'ps_ind_13_bin', 'ps_car_10_cat', 'ps_car_12', 'ps_car_14', 'ps_car_11_cat_te', 'ps_car_12^2', 'ps_car_12 ps_car_14', 'ps_car_14^2']\n"
     ]
    }
   ],
   "source": [
    "print('{} variables have too low variance.'.format(len(v)))\n",
    "print('These variables are {}'.format(list(v)))"
   ]
  },
  {
   "cell_type": "code",
   "execution_count": 40,
   "metadata": {
    "execution": {
     "iopub.execute_input": "2021-03-30T20:18:07.803499Z",
     "iopub.status.busy": "2021-03-30T20:18:07.802882Z",
     "iopub.status.idle": "2021-03-30T20:18:07.806119Z",
     "shell.execute_reply": "2021-03-30T20:18:07.805631Z"
    },
    "papermill": {
     "duration": 0.051227,
     "end_time": "2021-03-30T20:18:07.806271",
     "exception": false,
     "start_time": "2021-03-30T20:18:07.755044",
     "status": "completed"
    },
    "tags": []
   },
   "outputs": [],
   "source": [
    "x_train = train.drop(['id', 'target'], axis=1)\n",
    "y_train = train['target']\n",
    "\n",
    "feat_label = x_train.columns"
   ]
  },
  {
   "cell_type": "code",
   "execution_count": 41,
   "metadata": {
    "execution": {
     "iopub.execute_input": "2021-03-30T20:18:07.879481Z",
     "iopub.status.busy": "2021-03-30T20:18:07.878582Z",
     "iopub.status.idle": "2021-03-30T20:19:31.160529Z",
     "shell.execute_reply": "2021-03-30T20:19:31.160979Z"
    },
    "papermill": {
     "duration": 83.320029,
     "end_time": "2021-03-30T20:19:31.161153",
     "exception": false,
     "start_time": "2021-03-30T20:18:07.841124",
     "status": "completed"
    },
    "tags": []
   },
   "outputs": [
    {
     "data": {
      "text/plain": [
       "RandomForestClassifier(n_estimators=1000, n_jobs=-1, random_state=0)"
      ]
     },
     "execution_count": 41,
     "metadata": {},
     "output_type": "execute_result"
    }
   ],
   "source": [
    "rf = RandomForestClassifier(n_estimators = 1000, random_state = 0, n_jobs = -1)\n",
    "rf.fit(x_train, y_train)"
   ]
  },
  {
   "cell_type": "code",
   "execution_count": 42,
   "metadata": {
    "execution": {
     "iopub.execute_input": "2021-03-30T20:19:31.238142Z",
     "iopub.status.busy": "2021-03-30T20:19:31.237542Z",
     "iopub.status.idle": "2021-03-30T20:19:31.444457Z",
     "shell.execute_reply": "2021-03-30T20:19:31.443790Z"
    },
    "papermill": {
     "duration": 0.247149,
     "end_time": "2021-03-30T20:19:31.444597",
     "exception": false,
     "start_time": "2021-03-30T20:19:31.197448",
     "status": "completed"
    },
    "tags": []
   },
   "outputs": [],
   "source": [
    "importances = rf.feature_importances_"
   ]
  },
  {
   "cell_type": "code",
   "execution_count": 43,
   "metadata": {
    "execution": {
     "iopub.execute_input": "2021-03-30T20:19:31.521500Z",
     "iopub.status.busy": "2021-03-30T20:19:31.520781Z",
     "iopub.status.idle": "2021-03-30T20:19:31.727914Z",
     "shell.execute_reply": "2021-03-30T20:19:31.727307Z"
    },
    "papermill": {
     "duration": 0.247539,
     "end_time": "2021-03-30T20:19:31.728044",
     "exception": false,
     "start_time": "2021-03-30T20:19:31.480505",
     "status": "completed"
    },
    "tags": []
   },
   "outputs": [],
   "source": [
    "indices = np.argsort(rf.feature_importances_)[::-1]"
   ]
  },
  {
   "cell_type": "code",
   "execution_count": 44,
   "metadata": {
    "collapsed": true,
    "execution": {
     "iopub.execute_input": "2021-03-30T20:19:31.804810Z",
     "iopub.status.busy": "2021-03-30T20:19:31.803938Z",
     "iopub.status.idle": "2021-03-30T20:19:31.814169Z",
     "shell.execute_reply": "2021-03-30T20:19:31.813663Z"
    },
    "papermill": {
     "duration": 0.050569,
     "end_time": "2021-03-30T20:19:31.814316",
     "exception": false,
     "start_time": "2021-03-30T20:19:31.763747",
     "status": "completed"
    },
    "tags": []
   },
   "outputs": [
    {
     "name": "stdout",
     "output_type": "stream",
     "text": [
      " 1) ps_car_11_cat_te               0.024051\n",
      " 2) ps_reg_03 ps_car_13            0.017457\n",
      " 3) ps_car_12 ps_car_13            0.017347\n",
      " 4) ps_car_13                      0.017178\n",
      " 5) ps_car_13 ps_car_14            0.017134\n",
      " 6) ps_car_13^2                    0.017073\n",
      " 7) ps_reg_01 ps_car_13            0.016854\n",
      " 8) ps_car_13 ps_car_15            0.016677\n",
      " 9) ps_reg_03 ps_car_14            0.016425\n",
      "10) ps_reg_03 ps_car_12            0.016235\n",
      "11) ps_car_14 ps_car_15            0.015988\n",
      "12) ps_reg_03 ps_car_15            0.015324\n",
      "13) ps_car_13 ps_calc_03           0.015233\n",
      "14) ps_reg_01 ps_car_14            0.014946\n",
      "15) ps_car_13 ps_calc_02           0.014945\n",
      "16) ps_car_13 ps_calc_01           0.014820\n",
      "17) ps_reg_03                      0.014592\n",
      "18) ps_reg_01 ps_reg_03            0.014486\n",
      "19) ps_reg_03^2                    0.014277\n",
      "20) ps_calc_14                     0.014236\n",
      "21) ps_reg_02 ps_car_13            0.014236\n",
      "22) ps_reg_03 ps_calc_03           0.013981\n",
      "23) ps_car_14 ps_calc_03           0.013886\n",
      "24) ps_car_14 ps_calc_02           0.013868\n",
      "25) ps_reg_03 ps_calc_02           0.013840\n",
      "26) ps_car_14 ps_calc_01           0.013825\n",
      "27) ps_reg_03 ps_calc_01           0.013729\n",
      "28) ps_car_12 ps_car_14            0.013689\n",
      "29) ps_calc_10                     0.013426\n",
      "30) ps_ind_03                      0.013335\n",
      "31) ps_car_14^2                    0.013276\n",
      "32) ps_car_14                      0.013071\n",
      "33) ps_calc_11                     0.013051\n",
      "34) ps_reg_02 ps_car_14            0.012984\n",
      "35) ps_ind_15                      0.012978\n",
      "36) ps_reg_02 ps_reg_03            0.012506\n",
      "37) ps_car_12 ps_car_15            0.011686\n",
      "38) ps_car_15 ps_calc_03           0.011425\n",
      "39) ps_car_15 ps_calc_01           0.011313\n",
      "40) ps_car_15 ps_calc_02           0.010976\n",
      "41) ps_car_12 ps_calc_01           0.010965\n",
      "42) ps_car_12 ps_calc_03           0.010841\n",
      "43) ps_reg_01 ps_car_15            0.010798\n",
      "44) ps_calc_13                     0.010641\n",
      "45) ps_car_12 ps_calc_02           0.010473\n",
      "46) ps_reg_02 ps_car_15            0.010469\n",
      "47) ps_reg_01 ps_car_12            0.010452\n",
      "48) ps_calc_02 ps_calc_03          0.010149\n",
      "49) ps_calc_01 ps_calc_03          0.010120\n",
      "50) ps_calc_01 ps_calc_02          0.010105\n",
      "51) ps_calc_07                     0.010094\n",
      "52) ps_calc_08                     0.010091\n",
      "53) ps_reg_02 ps_car_12            0.009718\n",
      "54) ps_reg_02 ps_calc_02           0.009381\n",
      "55) ps_car_01_cat                  0.009373\n",
      "56) ps_reg_01 ps_calc_03           0.009303\n",
      "57) ps_reg_01 ps_calc_01           0.009283\n",
      "58) ps_calc_09                     0.009269\n",
      "59) ps_reg_02 ps_calc_03           0.009244\n",
      "60) ps_reg_02 ps_calc_01           0.009209\n",
      "61) ps_calc_06                     0.009209\n",
      "62) ps_reg_01 ps_calc_02           0.009138\n",
      "63) ps_car_06_cat                  0.008679\n",
      "64) ps_ind_01                      0.008633\n",
      "65) ps_calc_05                     0.008401\n",
      "66) ps_calc_04                     0.008341\n",
      "67) ps_reg_01 ps_reg_02            0.008191\n",
      "68) ps_calc_12                     0.008012\n",
      "69) ps_ind_05_cat                  0.007701\n",
      "70) ps_car_15^2                    0.006575\n",
      "71) ps_car_15                      0.006512\n",
      "72) ps_calc_02^2                   0.005898\n",
      "73) ps_car_12                      0.005845\n",
      "74) ps_calc_01^2                   0.005840\n",
      "75) ps_calc_03                     0.005833\n",
      "76) ps_car_12^2                    0.005798\n",
      "77) ps_calc_01                     0.005784\n",
      "78) ps_calc_02                     0.005782\n",
      "79) ps_calc_03^2                   0.005781\n",
      "80) ps_reg_02^2                    0.005158\n",
      "81) ps_reg_02                      0.005148\n",
      "82) ps_car_09_cat                  0.005098\n",
      "83) ps_ind_02_cat                  0.004543\n",
      "84) ps_reg_01                      0.004309\n",
      "85) ps_reg_01^2                    0.004278\n",
      "86) ps_car_11                      0.004040\n",
      "87) ps_car_07_cat                  0.003443\n",
      "88) ps_ind_17_bin                  0.003214\n",
      "89) ps_ind_04_cat                  0.002726\n",
      "90) ps_car_04_cat                  0.002718\n",
      "91) ps_calc_19_bin                 0.002591\n",
      "92) ps_calc_16_bin                 0.002573\n",
      "93) ps_calc_17_bin                 0.002528\n",
      "94) ps_ind_16_bin                  0.002493\n",
      "95) ps_calc_18_bin                 0.002457\n",
      "96) ps_ind_07_bin                  0.002411\n",
      "97) ps_ind_08_bin                  0.002305\n",
      "98) ps_ind_06_bin                  0.002062\n",
      "99) ps_calc_20_bin                 0.002007\n",
      "100) ps_calc_15_bin                 0.001930\n",
      "101) ps_ind_18_bin                  0.001830\n",
      "102) ps_ind_09_bin                  0.001704\n",
      "103) ps_car_02_cat                  0.001576\n",
      "104) ps_car_08_cat                  0.001347\n",
      "105) ps_ind_14                      0.001133\n",
      "106) ps_ind_12_bin                  0.000888\n",
      "107) ps_car_10_cat                  0.000680\n",
      "108) ps_ind_13_bin                  0.000211\n",
      "109) ps_ind_11_bin                  0.000203\n",
      "110) ps_ind_10_bin                  0.000110\n"
     ]
    }
   ],
   "source": [
    "for f in range(x_train.shape[1]):\n",
    "    print(\"%2d) %-*s %f\" % (f + 1, 30, feat_label[indices[f]], importances[indices[f]]))"
   ]
  },
  {
   "cell_type": "code",
   "execution_count": 45,
   "metadata": {
    "execution": {
     "iopub.execute_input": "2021-03-30T20:19:31.891537Z",
     "iopub.status.busy": "2021-03-30T20:19:31.890763Z",
     "iopub.status.idle": "2021-03-30T20:19:31.894804Z",
     "shell.execute_reply": "2021-03-30T20:19:31.895557Z"
    },
    "papermill": {
     "duration": 0.045357,
     "end_time": "2021-03-30T20:19:31.895825",
     "exception": false,
     "start_time": "2021-03-30T20:19:31.850468",
     "status": "completed"
    },
    "tags": []
   },
   "outputs": [
    {
     "name": "stdout",
     "output_type": "stream",
     "text": [
      "Num of featu before selec 110\n"
     ]
    }
   ],
   "source": [
    "sfm = SelectFromModel(rf, threshold = 'median', prefit = True)\n",
    "print('Num of featu before selec {}'.format(x_train.shape[1]))"
   ]
  },
  {
   "cell_type": "code",
   "execution_count": 46,
   "metadata": {
    "execution": {
     "iopub.execute_input": "2021-03-30T20:19:31.978790Z",
     "iopub.status.busy": "2021-03-30T20:19:31.977561Z",
     "iopub.status.idle": "2021-03-30T20:19:32.808685Z",
     "shell.execute_reply": "2021-03-30T20:19:32.808013Z"
    },
    "papermill": {
     "duration": 0.875019,
     "end_time": "2021-03-30T20:19:32.808835",
     "exception": false,
     "start_time": "2021-03-30T20:19:31.933816",
     "status": "completed"
    },
    "tags": []
   },
   "outputs": [
    {
     "name": "stdout",
     "output_type": "stream",
     "text": [
      "num after 55\n"
     ]
    }
   ],
   "source": [
    "n_features = sfm.transform(x_train).shape[1]\n",
    "print('num after {}'.format(n_features))\n",
    "selected_vars = list(feat_label[sfm.get_support()])"
   ]
  },
  {
   "cell_type": "code",
   "execution_count": 47,
   "metadata": {
    "execution": {
     "iopub.execute_input": "2021-03-30T20:19:32.894626Z",
     "iopub.status.busy": "2021-03-30T20:19:32.893103Z",
     "iopub.status.idle": "2021-03-30T20:19:32.895250Z",
     "shell.execute_reply": "2021-03-30T20:19:32.895684Z"
    },
    "papermill": {
     "duration": 0.049405,
     "end_time": "2021-03-30T20:19:32.895845",
     "exception": false,
     "start_time": "2021-03-30T20:19:32.846440",
     "status": "completed"
    },
    "tags": []
   },
   "outputs": [],
   "source": [
    "train = train[selected_vars + ['target']]"
   ]
  },
  {
   "cell_type": "code",
   "execution_count": 48,
   "metadata": {
    "execution": {
     "iopub.execute_input": "2021-03-30T20:19:32.975361Z",
     "iopub.status.busy": "2021-03-30T20:19:32.974637Z",
     "iopub.status.idle": "2021-03-30T20:19:32.976810Z",
     "shell.execute_reply": "2021-03-30T20:19:32.977262Z"
    },
    "papermill": {
     "duration": 0.043796,
     "end_time": "2021-03-30T20:19:32.977414",
     "exception": false,
     "start_time": "2021-03-30T20:19:32.933618",
     "status": "completed"
    },
    "tags": []
   },
   "outputs": [],
   "source": [
    "scaler = StandardScaler()"
   ]
  },
  {
   "cell_type": "code",
   "execution_count": 49,
   "metadata": {
    "execution": {
     "iopub.execute_input": "2021-03-30T20:19:33.063650Z",
     "iopub.status.busy": "2021-03-30T20:19:33.063026Z",
     "iopub.status.idle": "2021-03-30T20:19:33.113920Z",
     "shell.execute_reply": "2021-03-30T20:19:33.113358Z"
    },
    "papermill": {
     "duration": 0.099128,
     "end_time": "2021-03-30T20:19:33.114055",
     "exception": false,
     "start_time": "2021-03-30T20:19:33.014927",
     "status": "completed"
    },
    "tags": []
   },
   "outputs": [
    {
     "data": {
      "text/plain": [
       "array([[ 1.31564127e+00, -1.48636895e+00,  5.06114991e-01, ...,\n",
       "        -2.57015529e-01,  1.24510598e+00,  3.44837377e-01],\n",
       "       [ 5.75873919e-01,  1.59948350e+00, -6.99658455e-16, ...,\n",
       "         7.42649668e-01, -1.00984669e+00, -1.00258466e+00],\n",
       "       [-9.03660782e-01,  7.57887381e-01, -7.20795594e-01, ...,\n",
       "        -1.07065749e-01, -7.09186333e-01, -4.03730420e-01],\n",
       "       ...,\n",
       "       [-1.64342813e+00, -8.37087437e-02,  1.32713744e+00, ...,\n",
       "        -7.06864867e-01,  1.92794733e-01, -8.02966579e-01],\n",
       "       [ 5.75873919e-01, -6.44772827e-01, -1.12458460e+00, ...,\n",
       "        -7.09922955e-03, -4.08525978e-01, -2.54016861e-01],\n",
       "       [-1.27354446e+00,  4.77355339e-01,  1.35684272e+00, ...,\n",
       "        -1.00676443e+00,  2.42904792e-01, -1.00258466e+00]])"
      ]
     },
     "execution_count": 49,
     "metadata": {},
     "output_type": "execute_result"
    }
   ],
   "source": [
    "scaler.fit_transform(train.drop(['target'], axis=1))"
   ]
  }
 ],
 "metadata": {
  "kernelspec": {
   "display_name": "Python 3",
   "language": "python",
   "name": "python3"
  },
  "language_info": {
   "codemirror_mode": {
    "name": "ipython",
    "version": 3
   },
   "file_extension": ".py",
   "mimetype": "text/x-python",
   "name": "python",
   "nbconvert_exporter": "python",
   "pygments_lexer": "ipython3",
   "version": "3.7.9"
  },
  "papermill": {
   "default_parameters": {},
   "duration": 108.414754,
   "end_time": "2021-03-30T20:19:33.761140",
   "environment_variables": {},
   "exception": null,
   "input_path": "__notebook__.ipynb",
   "output_path": "__notebook__.ipynb",
   "parameters": {},
   "start_time": "2021-03-30T20:17:45.346386",
   "version": "2.2.2"
  }
 },
 "nbformat": 4,
 "nbformat_minor": 4
}
