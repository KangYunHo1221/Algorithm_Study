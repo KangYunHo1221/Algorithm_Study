{
 "cells": [
  {
   "cell_type": "code",
   "execution_count": 1,
   "id": "absolute-meditation",
   "metadata": {
    "_cell_guid": "b1076dfc-b9ad-4769-8c92-a6c4dae69d19",
    "_uuid": "8f2839f25d086af736a60e9eeb907d3b93b6e0e5",
    "execution": {
     "iopub.execute_input": "2021-04-03T05:52:48.727857Z",
     "iopub.status.busy": "2021-04-03T05:52:48.726032Z",
     "iopub.status.idle": "2021-04-03T05:52:50.084147Z",
     "shell.execute_reply": "2021-04-03T05:52:50.084766Z"
    },
    "papermill": {
     "duration": 1.389641,
     "end_time": "2021-04-03T05:52:50.085148",
     "exception": false,
     "start_time": "2021-04-03T05:52:48.695507",
     "status": "completed"
    },
    "tags": []
   },
   "outputs": [
    {
     "data": {
      "text/html": [
       "<style type='text/css'>\n",
       ".datatable table.frame { margin-bottom: 0; }\n",
       ".datatable table.frame thead { border-bottom: none; }\n",
       ".datatable table.frame tr.coltypes td {  color: #FFFFFF;  line-height: 6px;  padding: 0 0.5em;}\n",
       ".datatable .bool    { background: #DDDD99; }\n",
       ".datatable .object  { background: #565656; }\n",
       ".datatable .int     { background: #5D9E5D; }\n",
       ".datatable .float   { background: #4040CC; }\n",
       ".datatable .str     { background: #CC4040; }\n",
       ".datatable .row_index {  background: var(--jp-border-color3);  border-right: 1px solid var(--jp-border-color0);  color: var(--jp-ui-font-color3);  font-size: 9px;}\n",
       ".datatable .frame tr.coltypes .row_index {  background: var(--jp-border-color0);}\n",
       ".datatable th:nth-child(2) { padding-left: 12px; }\n",
       ".datatable .hellipsis {  color: var(--jp-cell-editor-border-color);}\n",
       ".datatable .vellipsis {  background: var(--jp-layout-color0);  color: var(--jp-cell-editor-border-color);}\n",
       ".datatable .na {  color: var(--jp-cell-editor-border-color);  font-size: 80%;}\n",
       ".datatable .footer { font-size: 9px; }\n",
       ".datatable .frame_dimensions {  background: var(--jp-border-color3);  border-top: 1px solid var(--jp-border-color0);  color: var(--jp-ui-font-color3);  display: inline-block;  opacity: 0.6;  padding: 1px 10px 1px 5px;}\n",
       "</style>\n"
      ],
      "text/plain": [
       "<IPython.core.display.HTML object>"
      ]
     },
     "metadata": {},
     "output_type": "display_data"
    }
   ],
   "source": [
    "import lightgbm as lgbm\n",
    "from scipy import sparse as ssp\n",
    "from sklearn.model_selection import StratifiedKFold\n",
    "import numpy as np\n",
    "import pandas as pd\n",
    "from sklearn.preprocessing import LabelEncoder\n",
    "from sklearn.preprocessing import OneHotEncoder"
   ]
  },
  {
   "cell_type": "code",
   "execution_count": 2,
   "id": "grave-kidney",
   "metadata": {
    "execution": {
     "iopub.execute_input": "2021-04-03T05:52:50.132093Z",
     "iopub.status.busy": "2021-04-03T05:52:50.130995Z",
     "iopub.status.idle": "2021-04-03T05:52:50.141001Z",
     "shell.execute_reply": "2021-04-03T05:52:50.141524Z"
    },
    "papermill": {
     "duration": 0.035451,
     "end_time": "2021-04-03T05:52:50.141742",
     "exception": false,
     "start_time": "2021-04-03T05:52:50.106291",
     "status": "completed"
    },
    "tags": []
   },
   "outputs": [],
   "source": [
    "def Gini(y_true, y_pred):\n",
    "    # check and get number of samples\n",
    "    assert y_true.shape == y_pred.shape\n",
    "    n_samples = y_true.shape[0]\n",
    "\n",
    "    # sort rows on prediction column\n",
    "    # (from largest to smallest)\n",
    "    arr = np.array([y_true, y_pred]).transpose()\n",
    "    true_order = arr[arr[:, 0].argsort()][::-1, 0]\n",
    "    pred_order = arr[arr[:, 1].argsort()][::-1, 0]\n",
    "\n",
    "    # get Lorenz curves\n",
    "    L_true = np.cumsum(true_order) * 1. / np.sum(true_order)\n",
    "    L_pred = np.cumsum(pred_order) * 1. / np.sum(pred_order)\n",
    "    L_ones = np.linspace(1 / n_samples, 1, n_samples)\n",
    "\n",
    "    # get Gini coefficients (area between curves)\n",
    "    G_true = np.sum(L_ones - L_true)\n",
    "    G_pred = np.sum(L_ones - L_pred)\n",
    "\n",
    "    # normalize to true Gini coefficient\n",
    "    return G_pred * 1. / G_true"
   ]
  },
  {
   "cell_type": "code",
   "execution_count": 3,
   "id": "moving-testament",
   "metadata": {
    "execution": {
     "iopub.execute_input": "2021-04-03T05:52:50.186697Z",
     "iopub.status.busy": "2021-04-03T05:52:50.185577Z",
     "iopub.status.idle": "2021-04-03T05:52:50.192959Z",
     "shell.execute_reply": "2021-04-03T05:52:50.192155Z"
    },
    "papermill": {
     "duration": 0.032383,
     "end_time": "2021-04-03T05:52:50.193141",
     "exception": false,
     "start_time": "2021-04-03T05:52:50.160758",
     "status": "completed"
    },
    "tags": []
   },
   "outputs": [],
   "source": [
    "cv_only = True\n",
    "save_cv = True\n",
    "full_train = False"
   ]
  },
  {
   "cell_type": "code",
   "execution_count": 4,
   "id": "crucial-brazilian",
   "metadata": {
    "execution": {
     "iopub.execute_input": "2021-04-03T05:52:50.243837Z",
     "iopub.status.busy": "2021-04-03T05:52:50.242664Z",
     "iopub.status.idle": "2021-04-03T05:52:50.246034Z",
     "shell.execute_reply": "2021-04-03T05:52:50.246746Z"
    },
    "papermill": {
     "duration": 0.03212,
     "end_time": "2021-04-03T05:52:50.246957",
     "exception": false,
     "start_time": "2021-04-03T05:52:50.214837",
     "status": "completed"
    },
    "tags": []
   },
   "outputs": [],
   "source": [
    "def evalerror(preds, dtrain):\n",
    "    labels = dtrain.get_label()\n",
    "    return 'gini', Gini(labels, preds), True"
   ]
  },
  {
   "cell_type": "code",
   "execution_count": 5,
   "id": "prerequisite-civilian",
   "metadata": {
    "execution": {
     "iopub.execute_input": "2021-04-03T05:52:50.301441Z",
     "iopub.status.busy": "2021-04-03T05:52:50.300334Z",
     "iopub.status.idle": "2021-04-03T05:53:01.626780Z",
     "shell.execute_reply": "2021-04-03T05:53:01.627300Z"
    },
    "papermill": {
     "duration": 11.353775,
     "end_time": "2021-04-03T05:53:01.627533",
     "exception": false,
     "start_time": "2021-04-03T05:52:50.273758",
     "status": "completed"
    },
    "tags": []
   },
   "outputs": [],
   "source": [
    "path = '../input/porto-seguros-safe-driver-prediction-dataset/'\n",
    "\n",
    "train = pd.read_csv(path+'train.csv')\n",
    "train_label = train['target']\n",
    "train_id = train['id']\n",
    "test = pd.read_csv(path + 'test.csv')\n",
    "test_id = test['id']"
   ]
  },
  {
   "cell_type": "code",
   "execution_count": 6,
   "id": "downtown-classification",
   "metadata": {
    "execution": {
     "iopub.execute_input": "2021-04-03T05:53:01.671283Z",
     "iopub.status.busy": "2021-04-03T05:53:01.670557Z",
     "iopub.status.idle": "2021-04-03T05:53:01.674611Z",
     "shell.execute_reply": "2021-04-03T05:53:01.675236Z"
    },
    "papermill": {
     "duration": 0.027216,
     "end_time": "2021-04-03T05:53:01.675487",
     "exception": false,
     "start_time": "2021-04-03T05:53:01.648271",
     "status": "completed"
    },
    "tags": []
   },
   "outputs": [],
   "source": [
    "NFOLDS = 5\n",
    "kfold = StratifiedKFold(n_splits = NFOLDS, shuffle = True, random_state = 218)"
   ]
  },
  {
   "cell_type": "code",
   "execution_count": 7,
   "id": "first-drive",
   "metadata": {
    "execution": {
     "iopub.execute_input": "2021-04-03T05:53:01.717943Z",
     "iopub.status.busy": "2021-04-03T05:53:01.717249Z",
     "iopub.status.idle": "2021-04-03T05:53:01.813398Z",
     "shell.execute_reply": "2021-04-03T05:53:01.814073Z"
    },
    "papermill": {
     "duration": 0.119304,
     "end_time": "2021-04-03T05:53:01.814294",
     "exception": false,
     "start_time": "2021-04-03T05:53:01.694990",
     "status": "completed"
    },
    "tags": []
   },
   "outputs": [],
   "source": [
    "y = train['target'].values\n",
    "drop_features = ['id', 'target']\n",
    "\n",
    "X = train.drop(drop_features, axis = 1)\n",
    "feature_names = X.columns.tolist()"
   ]
  },
  {
   "cell_type": "code",
   "execution_count": 8,
   "id": "laughing-motion",
   "metadata": {
    "execution": {
     "iopub.execute_input": "2021-04-03T05:53:01.860560Z",
     "iopub.status.busy": "2021-04-03T05:53:01.859439Z",
     "iopub.status.idle": "2021-04-03T05:53:01.863190Z",
     "shell.execute_reply": "2021-04-03T05:53:01.862517Z"
    },
    "papermill": {
     "duration": 0.029434,
     "end_time": "2021-04-03T05:53:01.863351",
     "exception": false,
     "start_time": "2021-04-03T05:53:01.833917",
     "status": "completed"
    },
    "tags": []
   },
   "outputs": [],
   "source": [
    "cat_features = [c for c in feature_names if('cat' in c and 'count' not in c)]\n",
    "num_features = [c for c in feature_names if ('cat' not in c and 'calc' not in c)]"
   ]
  },
  {
   "cell_type": "code",
   "execution_count": 9,
   "id": "mediterranean-status",
   "metadata": {
    "execution": {
     "iopub.execute_input": "2021-04-03T05:53:01.910243Z",
     "iopub.status.busy": "2021-04-03T05:53:01.909537Z",
     "iopub.status.idle": "2021-04-03T05:53:02.177857Z",
     "shell.execute_reply": "2021-04-03T05:53:02.177030Z"
    },
    "papermill": {
     "duration": 0.294873,
     "end_time": "2021-04-03T05:53:02.178055",
     "exception": false,
     "start_time": "2021-04-03T05:53:01.883182",
     "status": "completed"
    },
    "tags": []
   },
   "outputs": [],
   "source": [
    "train['missing'] = (train == -1).sum(axis=1).astype(float)\n",
    "test['missing'] = (test == -1).sum(axis = 1).astype(float)\n",
    "num_features.append('missing')"
   ]
  },
  {
   "cell_type": "code",
   "execution_count": 10,
   "id": "spoken-designation",
   "metadata": {
    "execution": {
     "iopub.execute_input": "2021-04-03T05:53:02.224900Z",
     "iopub.status.busy": "2021-04-03T05:53:02.223833Z",
     "iopub.status.idle": "2021-04-03T05:53:03.827576Z",
     "shell.execute_reply": "2021-04-03T05:53:03.826911Z"
    },
    "papermill": {
     "duration": 1.630116,
     "end_time": "2021-04-03T05:53:03.827725",
     "exception": false,
     "start_time": "2021-04-03T05:53:02.197609",
     "status": "completed"
    },
    "tags": []
   },
   "outputs": [
    {
     "data": {
      "text/plain": [
       "OneHotEncoder()"
      ]
     },
     "execution_count": 10,
     "metadata": {},
     "output_type": "execute_result"
    }
   ],
   "source": [
    "for c in cat_features:\n",
    "    le = LabelEncoder()\n",
    "    le.fit(train[c])\n",
    "    train[c] = le.transform(train[c])\n",
    "    test[c] = le.transform(test[c])\n",
    "    \n",
    "enc = OneHotEncoder()\n",
    "enc.fit(train[cat_features])"
   ]
  },
  {
   "cell_type": "code",
   "execution_count": 11,
   "id": "damaged-given",
   "metadata": {
    "execution": {
     "iopub.execute_input": "2021-04-03T05:53:03.912897Z",
     "iopub.status.busy": "2021-04-03T05:53:03.912195Z",
     "iopub.status.idle": "2021-04-03T05:53:05.971756Z",
     "shell.execute_reply": "2021-04-03T05:53:05.971024Z"
    },
    "papermill": {
     "duration": 2.124167,
     "end_time": "2021-04-03T05:53:05.971910",
     "exception": false,
     "start_time": "2021-04-03T05:53:03.847743",
     "status": "completed"
    },
    "tags": []
   },
   "outputs": [],
   "source": [
    "X_cat = enc.transform(train[cat_features])\n",
    "X_t_cat = enc.transform(test[cat_features])"
   ]
  },
  {
   "cell_type": "code",
   "execution_count": 12,
   "id": "revolutionary-clark",
   "metadata": {
    "execution": {
     "iopub.execute_input": "2021-04-03T05:53:06.019367Z",
     "iopub.status.busy": "2021-04-03T05:53:06.018532Z",
     "iopub.status.idle": "2021-04-03T05:53:06.024026Z",
     "shell.execute_reply": "2021-04-03T05:53:06.023284Z"
    },
    "papermill": {
     "duration": 0.032112,
     "end_time": "2021-04-03T05:53:06.024176",
     "exception": false,
     "start_time": "2021-04-03T05:53:05.992064",
     "status": "completed"
    },
    "tags": []
   },
   "outputs": [],
   "source": [
    "ind_features = [c for c in feature_names if 'ind' in c]"
   ]
  },
  {
   "cell_type": "code",
   "execution_count": 13,
   "id": "usual-stand",
   "metadata": {
    "execution": {
     "iopub.execute_input": "2021-04-03T05:53:06.073174Z",
     "iopub.status.busy": "2021-04-03T05:53:06.072488Z",
     "iopub.status.idle": "2021-04-03T05:53:52.055645Z",
     "shell.execute_reply": "2021-04-03T05:53:52.056492Z"
    },
    "papermill": {
     "duration": 46.012347,
     "end_time": "2021-04-03T05:53:52.056767",
     "exception": false,
     "start_time": "2021-04-03T05:53:06.044420",
     "status": "completed"
    },
    "tags": []
   },
   "outputs": [],
   "source": [
    "count = 0\n",
    "for c in ind_features:\n",
    "    if count ==0:\n",
    "        train['new_ind'] = train[c].astype(str) + '_'\n",
    "        test['new_ind'] = test[c].astype(str)+'_'\n",
    "        count += 1\n",
    "    else:\n",
    "        train['new_ind'] += train[c].astype(str) +'_'\n",
    "        test['new_ind'] += test[c].astype(str) + '_'"
   ]
  },
  {
   "cell_type": "code",
   "execution_count": 14,
   "id": "derived-berkeley",
   "metadata": {
    "execution": {
     "iopub.execute_input": "2021-04-03T05:53:52.106921Z",
     "iopub.status.busy": "2021-04-03T05:53:52.105949Z",
     "iopub.status.idle": "2021-04-03T05:54:08.195997Z",
     "shell.execute_reply": "2021-04-03T05:54:08.195336Z"
    },
    "papermill": {
     "duration": 16.114585,
     "end_time": "2021-04-03T05:54:08.196178",
     "exception": false,
     "start_time": "2021-04-03T05:53:52.081593",
     "status": "completed"
    },
    "tags": []
   },
   "outputs": [],
   "source": [
    "cat_count_features = []\n",
    "\n",
    "for c in cat_features + ['new_ind']:\n",
    "    d = pd.concat([train[c], test[c]]).value_counts().to_dict()\n",
    "    train['%s_count'%c] = train[c].apply(lambda x:d.get(x,0))\n",
    "    test['%s_count'%c] = test[c].apply(lambda x:d.get(x,0))\n",
    "    cat_count_features.append('%s_count'%c)"
   ]
  },
  {
   "cell_type": "code",
   "execution_count": 15,
   "id": "appreciated-basis",
   "metadata": {
    "execution": {
     "iopub.execute_input": "2021-04-03T05:54:08.250007Z",
     "iopub.status.busy": "2021-04-03T05:54:08.249296Z",
     "iopub.status.idle": "2021-04-03T05:54:09.213418Z",
     "shell.execute_reply": "2021-04-03T05:54:09.212823Z"
    },
    "papermill": {
     "duration": 0.994115,
     "end_time": "2021-04-03T05:54:09.213625",
     "exception": false,
     "start_time": "2021-04-03T05:54:08.219510",
     "status": "completed"
    },
    "tags": []
   },
   "outputs": [],
   "source": [
    "train_list = [train[num_features + cat_count_features].values, X_cat,]\n",
    "test_list = [test[num_features + cat_count_features].values, X_t_cat,]"
   ]
  },
  {
   "cell_type": "code",
   "execution_count": 16,
   "id": "equipped-attention",
   "metadata": {
    "execution": {
     "iopub.execute_input": "2021-04-03T05:54:09.261844Z",
     "iopub.status.busy": "2021-04-03T05:54:09.261157Z",
     "iopub.status.idle": "2021-04-03T05:54:13.769960Z",
     "shell.execute_reply": "2021-04-03T05:54:13.769226Z"
    },
    "papermill": {
     "duration": 4.534882,
     "end_time": "2021-04-03T05:54:13.770131",
     "exception": false,
     "start_time": "2021-04-03T05:54:09.235249",
     "status": "completed"
    },
    "tags": []
   },
   "outputs": [],
   "source": [
    "X = ssp.hstack(train_list).tocsr()\n",
    "X_test = ssp.hstack(test_list).tocsr()"
   ]
  },
  {
   "cell_type": "code",
   "execution_count": 17,
   "id": "shaped-confusion",
   "metadata": {
    "execution": {
     "iopub.execute_input": "2021-04-03T05:54:13.822615Z",
     "iopub.status.busy": "2021-04-03T05:54:13.821690Z",
     "iopub.status.idle": "2021-04-03T05:54:13.825883Z",
     "shell.execute_reply": "2021-04-03T05:54:13.825302Z"
    },
    "papermill": {
     "duration": 0.034057,
     "end_time": "2021-04-03T05:54:13.826051",
     "exception": false,
     "start_time": "2021-04-03T05:54:13.791994",
     "status": "completed"
    },
    "tags": []
   },
   "outputs": [],
   "source": [
    "learning_rate = 0.1\n",
    "num_leaves = 15\n",
    "min_data_in_leaf = 2000\n",
    "feature_fraction = 0.6\n",
    "num_boost_round = 10000\n",
    "params = {\"objective\": \"binary\",\n",
    "          \"boosting_type\": \"gbdt\",\n",
    "          \"learning_rate\": learning_rate,\n",
    "          \"num_leaves\": num_leaves,\n",
    "           \"max_bin\": 256,\n",
    "          \"feature_fraction\": feature_fraction,\n",
    "          \"verbosity\": 0,\n",
    "          \"drop_rate\": 0.1,\n",
    "          \"is_unbalance\": False,\n",
    "          \"max_drop\": 50,\n",
    "          \"min_child_samples\": 10,\n",
    "          \"min_child_weight\": 150,\n",
    "          \"min_split_gain\": 0,\n",
    "          \"subsample\": 0.9\n",
    "          }"
   ]
  },
  {
   "cell_type": "code",
   "execution_count": 18,
   "id": "standing-terry",
   "metadata": {
    "execution": {
     "iopub.execute_input": "2021-04-03T05:54:13.877494Z",
     "iopub.status.busy": "2021-04-03T05:54:13.875937Z",
     "iopub.status.idle": "2021-04-03T05:54:13.882356Z",
     "shell.execute_reply": "2021-04-03T05:54:13.881777Z"
    },
    "papermill": {
     "duration": 0.03448,
     "end_time": "2021-04-03T05:54:13.882535",
     "exception": false,
     "start_time": "2021-04-03T05:54:13.848055",
     "status": "completed"
    },
    "tags": []
   },
   "outputs": [],
   "source": [
    "x_score = []\n",
    "final_cv_train = np.zeros(len(train_label))\n",
    "final_cv_pred = np.zeros(len(test_id))"
   ]
  },
  {
   "cell_type": "code",
   "execution_count": 19,
   "id": "narrative-softball",
   "metadata": {
    "execution": {
     "iopub.execute_input": "2021-04-03T05:54:13.930618Z",
     "iopub.status.busy": "2021-04-03T05:54:13.929928Z",
     "iopub.status.idle": "2021-04-03T05:54:13.932009Z",
     "shell.execute_reply": "2021-04-03T05:54:13.932498Z"
    },
    "papermill": {
     "duration": 0.028634,
     "end_time": "2021-04-03T05:54:13.932692",
     "exception": false,
     "start_time": "2021-04-03T05:54:13.904058",
     "status": "completed"
    },
    "tags": []
   },
   "outputs": [],
   "source": [
    "for s in np.arange(16):\n",
    "    break"
   ]
  },
  {
   "cell_type": "code",
   "execution_count": 20,
   "id": "declared-watson",
   "metadata": {
    "execution": {
     "iopub.execute_input": "2021-04-03T05:54:13.978504Z",
     "iopub.status.busy": "2021-04-03T05:54:13.977823Z",
     "iopub.status.idle": "2021-04-03T05:54:13.985407Z",
     "shell.execute_reply": "2021-04-03T05:54:13.984780Z"
    },
    "papermill": {
     "duration": 0.031913,
     "end_time": "2021-04-03T05:54:13.985594",
     "exception": false,
     "start_time": "2021-04-03T05:54:13.953681",
     "status": "completed"
    },
    "tags": []
   },
   "outputs": [],
   "source": [
    "cv_train = np.zeros(len(train_label))\n",
    "cv_pred = np.zeros(len(test_id))"
   ]
  },
  {
   "cell_type": "code",
   "execution_count": 21,
   "id": "conceptual-salad",
   "metadata": {
    "execution": {
     "iopub.execute_input": "2021-04-03T05:54:14.032135Z",
     "iopub.status.busy": "2021-04-03T05:54:14.031503Z",
     "iopub.status.idle": "2021-04-03T05:54:14.037208Z",
     "shell.execute_reply": "2021-04-03T05:54:14.036575Z"
    },
    "papermill": {
     "duration": 0.030136,
     "end_time": "2021-04-03T05:54:14.037357",
     "exception": false,
     "start_time": "2021-04-03T05:54:14.007221",
     "status": "completed"
    },
    "tags": []
   },
   "outputs": [],
   "source": [
    "params['seed'] = s"
   ]
  },
  {
   "cell_type": "code",
   "execution_count": 22,
   "id": "bigger-science",
   "metadata": {
    "execution": {
     "iopub.execute_input": "2021-04-03T05:54:14.086783Z",
     "iopub.status.busy": "2021-04-03T05:54:14.086033Z",
     "iopub.status.idle": "2021-04-03T05:54:14.089572Z",
     "shell.execute_reply": "2021-04-03T05:54:14.089051Z"
    },
    "papermill": {
     "duration": 0.030554,
     "end_time": "2021-04-03T05:54:14.089726",
     "exception": false,
     "start_time": "2021-04-03T05:54:14.059172",
     "status": "completed"
    },
    "tags": []
   },
   "outputs": [],
   "source": [
    "kf = kfold.split(X, train_label)"
   ]
  },
  {
   "cell_type": "code",
   "execution_count": 23,
   "id": "useful-experiment",
   "metadata": {
    "execution": {
     "iopub.execute_input": "2021-04-03T05:54:14.138938Z",
     "iopub.status.busy": "2021-04-03T05:54:14.138196Z",
     "iopub.status.idle": "2021-04-03T05:54:14.141071Z",
     "shell.execute_reply": "2021-04-03T05:54:14.140550Z"
    },
    "papermill": {
     "duration": 0.029852,
     "end_time": "2021-04-03T05:54:14.141226",
     "exception": false,
     "start_time": "2021-04-03T05:54:14.111374",
     "status": "completed"
    },
    "tags": []
   },
   "outputs": [],
   "source": [
    "best_trees = []\n",
    "fold_scores = []"
   ]
  },
  {
   "cell_type": "code",
   "execution_count": 24,
   "id": "conscious-eagle",
   "metadata": {
    "execution": {
     "iopub.execute_input": "2021-04-03T05:54:14.190356Z",
     "iopub.status.busy": "2021-04-03T05:54:14.189644Z",
     "iopub.status.idle": "2021-04-03T05:54:14.283273Z",
     "shell.execute_reply": "2021-04-03T05:54:14.282657Z"
    },
    "papermill": {
     "duration": 0.120148,
     "end_time": "2021-04-03T05:54:14.283433",
     "exception": false,
     "start_time": "2021-04-03T05:54:14.163285",
     "status": "completed"
    },
    "tags": []
   },
   "outputs": [],
   "source": [
    "for i, (train_fold, validate) in enumerate(kf):\n",
    "    break"
   ]
  },
  {
   "cell_type": "code",
   "execution_count": 25,
   "id": "found-basket",
   "metadata": {
    "execution": {
     "iopub.execute_input": "2021-04-03T05:54:14.335113Z",
     "iopub.status.busy": "2021-04-03T05:54:14.334354Z",
     "iopub.status.idle": "2021-04-03T05:54:14.339749Z",
     "shell.execute_reply": "2021-04-03T05:54:14.338613Z"
    },
    "papermill": {
     "duration": 0.034623,
     "end_time": "2021-04-03T05:54:14.340018",
     "exception": false,
     "start_time": "2021-04-03T05:54:14.305395",
     "status": "completed"
    },
    "tags": []
   },
   "outputs": [
    {
     "ename": "SyntaxError",
     "evalue": "Missing parentheses in call to 'print'. Did you mean print(score)? (<ipython-input-25-8c1d781bf0b7>, line 11)",
     "output_type": "error",
     "traceback": [
      "\u001b[0;36m  File \u001b[0;32m\"<ipython-input-25-8c1d781bf0b7>\"\u001b[0;36m, line \u001b[0;32m11\u001b[0m\n\u001b[0;31m    print score\u001b[0m\n\u001b[0m              ^\u001b[0m\n\u001b[0;31mSyntaxError\u001b[0m\u001b[0;31m:\u001b[0m Missing parentheses in call to 'print'. Did you mean print(score)?\n"
     ]
    }
   ],
   "source": [
    "X_train, X_validate, label_train, label_validate = \\\n",
    "X[train_fold, :], X[validate, :], train_label[train_fold], train_label[validate]\n",
    "dtrain = lgbm.Dataset(X_train, label_train)\n",
    "dvalid = lgbm.Dataset(X_validate, label_validate, reference = dtrain)\n",
    "bst = lgbm.train(params, dtrain, num_boost_round, valid_sets = dvalid, feval = evalerror, verbose_eval = 100, early_stopping_rounds = 100)\n",
    "best_trees.append(bst.best_iteration)\n",
    "cv_pred += bst.predict(X_test, num_iteration = bst.best_iteration)\n",
    "cv_train[validate] += bst.predit(X_validate)\n",
    "\n",
    "score = Gini(label_validate, cv_Train[validate])\n",
    "print score"
   ]
  },
  {
   "cell_type": "code",
   "execution_count": null,
   "id": "horizontal-stand",
   "metadata": {
    "papermill": {
     "duration": 0.021905,
     "end_time": "2021-04-03T05:54:14.384143",
     "exception": false,
     "start_time": "2021-04-03T05:54:14.362238",
     "status": "completed"
    },
    "tags": []
   },
   "outputs": [],
   "source": []
  }
 ],
 "metadata": {
  "kernelspec": {
   "display_name": "Python 3",
   "language": "python",
   "name": "python3"
  },
  "language_info": {
   "codemirror_mode": {
    "name": "ipython",
    "version": 3
   },
   "file_extension": ".py",
   "mimetype": "text/x-python",
   "name": "python",
   "nbconvert_exporter": "python",
   "pygments_lexer": "ipython3",
   "version": "3.7.9"
  },
  "papermill": {
   "default_parameters": {},
   "duration": 93.902363,
   "end_time": "2021-04-03T05:54:15.419376",
   "environment_variables": {},
   "exception": null,
   "input_path": "__notebook__.ipynb",
   "output_path": "__notebook__.ipynb",
   "parameters": {},
   "start_time": "2021-04-03T05:52:41.517013",
   "version": "2.3.2"
  }
 },
 "nbformat": 4,
 "nbformat_minor": 5
}
