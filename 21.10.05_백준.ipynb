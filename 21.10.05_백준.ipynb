{
 "cells": [
  {
   "cell_type": "code",
   "execution_count": 10,
   "outputs": [
    {
     "name": "stdout",
     "output_type": "stream",
     "text": [
      "501\n",
      "121\n",
      "1\n"
     ]
    }
   ],
   "source": [
    "## 동전\n",
    "## https://www.acmicpc.net/problem/9084\n",
    "\n",
    "T = int(input())\n",
    "\n",
    "for _ in range(T):\n",
    "    N = int(input())\n",
    "    coin = list(map(int, input().split()))\n",
    "    M = int(input())\n",
    "\n",
    "    dp = [0]*(M+1)\n",
    "    dp[0] = 1\n",
    "\n",
    "    for i in coin:\n",
    "        for j in range(1,M+1):\n",
    "            if j-i >= 0:\n",
    "                dp[j] += dp[j-i]\n",
    "\n",
    "    print(dp[M])"
   ],
   "metadata": {
    "collapsed": false,
    "pycharm": {
     "name": "#%%\n"
    }
   }
  }
 ],
 "metadata": {
  "kernelspec": {
   "name": "pytorch17_p38",
   "language": "python",
   "display_name": "pytorch17_p38"
  },
  "language_info": {
   "codemirror_mode": {
    "name": "ipython",
    "version": 2
   },
   "file_extension": ".py",
   "mimetype": "text/x-python",
   "name": "python",
   "nbconvert_exporter": "python",
   "pygments_lexer": "ipython2",
   "version": "2.7.6"
  }
 },
 "nbformat": 4,
 "nbformat_minor": 0
}