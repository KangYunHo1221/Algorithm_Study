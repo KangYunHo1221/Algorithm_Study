{
 "cells": [
  {
   "cell_type": "code",
   "execution_count": 43,
   "outputs": [
    {
     "name": "stdout",
     "output_type": "stream",
     "text": [
      "[1, 1, 1, 1, 1, 1]\n",
      "[0, 0, 0, 0]\n",
      "[1, 1, 1, 1, 1, 1, 1, 1, 1, 1, 0, 0, 1, 1]\n"
     ]
    },
    {
     "data": {
      "text/plain": "0"
     },
     "execution_count": 43,
     "metadata": {},
     "output_type": "execute_result"
    }
   ],
   "source": [
    "## 짝지어 제거하기\n",
    "## 프로그래머스 > 2017 팁스타운\n",
    "\n",
    "def solution(s):\n",
    "    s = list(s)\n",
    "    dp = [0]*len(s)\n",
    "\n",
    "    for i in range(len(s)-1):\n",
    "        if s[i]==s[i+1]:\n",
    "            dp[i] = 1\n",
    "            dp[i+1] = 1\n",
    "\n",
    "            for j in range(1, i+1):\n",
    "                if i-j >=0 and i+1+j < len(s)-1:\n",
    "                    if s[i-j] == s[i+1+j]:\n",
    "                        dp[i-j] = 1\n",
    "                        dp[i+1+j] = 1\n",
    "\n",
    "    if 0 in dp:\n",
    "        answer = 0\n",
    "    else:\n",
    "        answer = 1\n",
    "\n",
    "    return answer\n",
    "\n",
    "\n",
    "solution('baabaa')\n",
    "solution('cdcd')\n",
    "solution('ddcbaabceefghh')\n",
    "\n",
    "## 문제를 잘 읽자... 잘못 이해해서 복잡하게 풀어서 시간초과..\n",
    "## 뭉친 갯수 세는 문제가 아니라 단순 불, 가 판단하는 문제였음."
   ],
   "metadata": {
    "collapsed": false,
    "pycharm": {
     "name": "#%% Version1..\n"
    }
   }
  },
  {
   "cell_type": "code",
   "execution_count": null,
   "outputs": [],
   "source": [
    "##stack 이용한 다른사람 풀이\n",
    "def solution(s):\n",
    "    stack = []\n",
    "    for i in s:\n",
    "        if len(stack) == 0:\n",
    "            stack.append(i)\n",
    "        elif stack[-1] == i:\n",
    "            stack.pop()\n",
    "        else:\n",
    "            stack.append(i)\n",
    "    if len(stack) == 0:\n",
    "        return 1\n",
    "    else:\n",
    "        return 0"
   ],
   "metadata": {
    "collapsed": false,
    "pycharm": {
     "name": "#%%\n"
    }
   }
  }
 ],
 "metadata": {
  "kernelspec": {
   "name": "pytorch17_p38",
   "language": "python",
   "display_name": "pytorch17_p38"
  },
  "language_info": {
   "codemirror_mode": {
    "name": "ipython",
    "version": 2
   },
   "file_extension": ".py",
   "mimetype": "text/x-python",
   "name": "python",
   "nbconvert_exporter": "python",
   "pygments_lexer": "ipython2",
   "version": "2.7.6"
  }
 },
 "nbformat": 4,
 "nbformat_minor": 0
}