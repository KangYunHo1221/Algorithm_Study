{
 "cells": [
  {
   "cell_type": "code",
   "execution_count": 28,
   "outputs": [
    {
     "name": "stdout",
     "output_type": "stream",
     "text": [
      "120119\n"
     ]
    }
   ],
   "source": [
    "## 카드섞기\n",
    "## https://www.acmicpc.net/problem/1091\n",
    "from collections import deque\n",
    "import math\n",
    "\n",
    "N = int(input()) #카드 수\n",
    "P = list(map(int, input().split())) #목적 리스트 순서\n",
    "S = list(map(int, input().split())) #섞는 법\n",
    "\n",
    "card = []\n",
    "for i in range(N):\n",
    "    card.append(i)\n",
    "\n",
    "target = []\n",
    "\n",
    "\n",
    "count_list = []\n",
    "for i in range(N):\n",
    "    q = deque()\n",
    "    q.append(i)\n",
    "    count = 1\n",
    "    while q:\n",
    "        t = q.popleft()\n",
    "        if i != S[t]:\n",
    "            q.append(S[t])\n",
    "            count += 1\n",
    "        if i == S[t]:\n",
    "            break\n",
    "    count_list.append(count)\n",
    "\n",
    "#lcm 구하기\n",
    "count_list = list(set(count_list))\n",
    "lcm = 1\n",
    "for i in count_list:\n",
    "    if i != 0:\n",
    "        lcm = int((lcm*i)/math.gcd(lcm,i))\n",
    "\n",
    "lst = [i for i in range(N)]\n",
    "log = []\n",
    "\n",
    "count = 0\n",
    "def ansCheck(P, lst):\n",
    "    for i in range(N):\n",
    "        if P[lst[i]] != i%3:\n",
    "            return False\n",
    "\n",
    "    return True\n",
    "\n",
    "while count <= lcm:\n",
    "    if ansCheck(P, lst) == True:\n",
    "        break\n",
    "\n",
    "    temp_lst = lst[:] # temp_lst = lst로 copy하면 lst 변경 시, temp_lst도 함께 변경된다\n",
    "\n",
    "    for i in range(N):\n",
    "        lst[S[i]] = temp_lst[i]\n",
    "\n",
    "    count+=1\n",
    "\n",
    "print(count if count <= 200000 else -1)"
   ],
   "metadata": {
    "collapsed": false,
    "pycharm": {
     "name": "#%%\n"
    }
   }
  },
  {
   "cell_type": "code",
   "execution_count": null,
   "outputs": [],
   "source": [
    "#답지풀이\n",
    "\n",
    "N = int(input())\n",
    "\n",
    "P = list(map(int, input().split()))\n",
    "S = list(map(int, input().split()))\n",
    "\n",
    "lst = [i for i in range(N)]\n",
    "log = []\n",
    "\n",
    "count = 0\n",
    "\n",
    "def ansCheck(P, lst):\n",
    "    for i in range(N):\n",
    "        if P[lst[i]] != i%3:\n",
    "            return False\n",
    "\n",
    "    return True\n",
    "\n",
    "while count <= 200000:\n",
    "    if ansCheck(P, lst) == True:\n",
    "        break\n",
    "\n",
    "    temp_lst = lst[:] # temp_lst = lst로 copy하면 lst 변경 시, temp_lst도 함께 변경된다\n",
    "\n",
    "    for i in range(N):\n",
    "        lst[S[i]] = temp_lst[i]\n",
    "\n",
    "    count+=1\n",
    "\n",
    "print(count if count <= 200000 else -1)"
   ],
   "metadata": {
    "collapsed": false,
    "pycharm": {
     "name": "#%%\n"
    }
   }
  }
 ],
 "metadata": {
  "kernelspec": {
   "name": "pytorch17_p38",
   "language": "python",
   "display_name": "pytorch17_p38"
  },
  "language_info": {
   "codemirror_mode": {
    "name": "ipython",
    "version": 2
   },
   "file_extension": ".py",
   "mimetype": "text/x-python",
   "name": "python",
   "nbconvert_exporter": "python",
   "pygments_lexer": "ipython2",
   "version": "2.7.6"
  }
 },
 "nbformat": 4,
 "nbformat_minor": 0
}