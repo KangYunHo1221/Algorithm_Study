{
 "cells": [
  {
   "cell_type": "code",
   "execution_count": 21,
   "outputs": [
    {
     "name": "stdout",
     "output_type": "stream",
     "text": [
      "9\n"
     ]
    }
   ],
   "source": [
    "## 숫자정사각형\n",
    "## https://www.acmicpc.net/problem/1051\n",
    "\n",
    "N,M = map(int, input().split())\n",
    "MAP = [list(input()) for _ in range(N)]\n",
    "\n",
    "def find_sqr(a,b):\n",
    "    max_length = min(N-a,M-b)\n",
    "    max_size = 0\n",
    "    for t in range(max_length):\n",
    "        c = a+t\n",
    "        d = b+t\n",
    "        if (MAP[a][b] == MAP[c][b] and MAP[a][b] == MAP[c][b]\n",
    "            and MAP[a][b] == MAP[a][d] and MAP[a][b] == MAP[c][d]):\n",
    "            if t+1 >= max_size:\n",
    "                max_size = t+1\n",
    "    return (max_size)**2\n",
    "\n",
    "dp=[]\n",
    "for i in range(N):\n",
    "    for j in range(M):\n",
    "        dp.append(find_sqr(i,j))\n",
    "\n",
    "print(max(dp[:]))\n"
   ],
   "metadata": {
    "collapsed": false,
    "pycharm": {
     "name": "#%%\n"
    }
   }
  }
 ],
 "metadata": {
  "kernelspec": {
   "name": "pytorch17_p38",
   "language": "python",
   "display_name": "pytorch17_p38"
  },
  "language_info": {
   "codemirror_mode": {
    "name": "ipython",
    "version": 2
   },
   "file_extension": ".py",
   "mimetype": "text/x-python",
   "name": "python",
   "nbconvert_exporter": "python",
   "pygments_lexer": "ipython2",
   "version": "2.7.6"
  }
 },
 "nbformat": 4,
 "nbformat_minor": 0
}