{
 "cells": [
  {
   "cell_type": "code",
   "execution_count": 12,
   "outputs": [
    {
     "name": "stdout",
     "output_type": "stream",
     "text": [
      "4\n"
     ]
    }
   ],
   "source": [
    "## DFS와 BFS\n",
    "## https://www.acmicpc.net/problem/1260\n",
    "\n",
    "from collections import deque\n",
    "import sys\n",
    "read = sys.stdin.readline()\n",
    "\n",
    "n, m, v = map(int,read().split())\n",
    "graph = [[0]*(n+1) for _ in range(n+1)]\n",
    "visit_list = [0] * (n+1)\n",
    "\n",
    "for _ in range(m):\n",
    "    a, b = map(int, read().split())\n",
    "    graph[a][b] = graph[b][a] = 1\n",
    "\n",
    "def bfs(v):\n",
    "    q = deque()\n",
    "    q.append(v)\n",
    "    visit_list[v] = 1\n",
    "    while q:\n",
    "        v = q.popleft()\n",
    "        print(v, end = \" \")\n",
    "        for i in range(1, n+1):\n",
    "            if visit_list[i] == 0 and graph[v][i] == 1:\n",
    "                q.append(i)\n",
    "                visit_list[i] = 1\n",
    "\n",
    "visit_list2 = [0]*(n+1)\n",
    "def dfs(v):\n",
    "    visit_list2[v] = 1\n",
    "    print(v, end=\" \")\n",
    "    for i in range(1, n+1):\n",
    "        if visit_list2[i] == 0 and graph[v][i] == 1:\n",
    "            dfs(i)\n",
    "\n",
    "dfs(v)\n",
    "print()\n",
    "bfs(v)"
   ],
   "metadata": {
    "collapsed": false,
    "pycharm": {
     "name": "#%%\n"
    }
   }
  },
  {
   "cell_type": "code",
   "execution_count": null,
   "outputs": [],
   "source": [
    "# 복습1\n",
    "\n",
    "from collections import deque\n",
    "\n",
    "n, m, v = map(int, input().split())\n",
    "graph = [[0]*n+1 for _ in range(n+1)]\n",
    "visit_list = [0] * (n+1)\n",
    "visit_list2 = [0] * (n+1)\n",
    "\n",
    "def dfs(v):\n",
    "    visit_list[v] = 1\n",
    "    print(v, end=\" \")\n",
    "    for i in range(1, n+1):\n",
    "        if visit_list[i] == 0 and graph[v][i] == 1:\n",
    "            dfs(i)\n",
    "\n",
    "def bfs(v):\n",
    "    q = deque()\n",
    "    q.append(v)\n",
    "    while q:\n",
    "        v = q.popleft()\n",
    "        print(v, end = \" \")\n",
    "        for i in range(1, n+1):\n",
    "            if visit_list2[i] == 0 and graph[v][i] ==1:\n",
    "                q.append(i)\n",
    "                visit_list2[i] = 1"
   ],
   "metadata": {
    "collapsed": false,
    "pycharm": {
     "name": "#%%\n"
    }
   }
  },
  {
   "cell_type": "code",
   "execution_count": null,
   "outputs": [],
   "source": [
    "# 복습2\n",
    "\n",
    "from collections import deque\n",
    "\n",
    "n, m, v = map(int, input().split())\n",
    "\n",
    "graph = [[0]*n+1 for _ in range(n+1)]\n"
   ],
   "metadata": {
    "collapsed": false,
    "pycharm": {
     "name": "#%%\n"
    }
   }
  }
 ],
 "metadata": {
  "kernelspec": {
   "name": "pytorch17_p38",
   "language": "python",
   "display_name": "pytorch17_p38"
  },
  "language_info": {
   "codemirror_mode": {
    "name": "ipython",
    "version": 2
   },
   "file_extension": ".py",
   "mimetype": "text/x-python",
   "name": "python",
   "nbconvert_exporter": "python",
   "pygments_lexer": "ipython2",
   "version": "2.7.6"
  }
 },
 "nbformat": 4,
 "nbformat_minor": 0
}