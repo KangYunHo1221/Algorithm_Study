{
 "cells": [
  {
   "cell_type": "code",
   "execution_count": 45,
   "outputs": [],
   "source": [
    "## 신기한 소수\n",
    "## https://www.acmicpc.net/problem/2023\n",
    "import math\n",
    "\n",
    "n = int(input())\n",
    "\n",
    "numlist = [i for i in range(10**n)] #초기화\n",
    "#소수 찾는 함수00\n",
    "def era():\n",
    "    lastnum = int(math.sqrt(len(numlist))+1)\n",
    "    for t in range(2, lastnum): #sqrt(끝번)까지 검사\n",
    "        if numlist[t] != -1 : #소수인 경우\n",
    "            for k in range(2*t, len(numlist), t): #k의 배수 삭제\n",
    "                numlist[k] = -1\n",
    "era()"
   ],
   "metadata": {
    "collapsed": false,
    "pycharm": {
     "name": "#%%\n"
    }
   }
  },
  {
   "cell_type": "markdown",
   "source": [
    "*에라토스테네스 체 했더니 시간초과"
   ],
   "metadata": {
    "collapsed": false
   }
  },
  {
   "cell_type": "code",
   "execution_count": null,
   "outputs": [],
   "source": [
    "n = int(input())\n",
    "\n",
    "def is_prime(a):\n",
    "    if(a<2):\n",
    "        return False\n",
    "    for i in range(2, int(a**0.5)+1):\n",
    "        if(a%i == 0):\n",
    "            return False\n",
    "    return True\n",
    "\n",
    "def dfs(num): #n 길이 될때까지 recursive\n",
    "    if len(str(num)) == n:\n",
    "        print(num)\n",
    "    else: \n",
    "        for i in range(10):\n",
    "            temp = num*10 + i\n",
    "            if is_prime(temp):\n",
    "                dfs(temp)\n",
    "dfs(2)\n",
    "dfs(3)\n",
    "dfs(5)\n",
    "dfs(7)"
   ],
   "metadata": {
    "collapsed": false,
    "pycharm": {
     "name": "#%%\n"
    }
   }
  }
 ],
 "metadata": {
  "kernelspec": {
   "name": "pytorch17_p38",
   "language": "python",
   "display_name": "pytorch17_p38"
  },
  "language_info": {
   "codemirror_mode": {
    "name": "ipython",
    "version": 2
   },
   "file_extension": ".py",
   "mimetype": "text/x-python",
   "name": "python",
   "nbconvert_exporter": "python",
   "pygments_lexer": "ipython2",
   "version": "2.7.6"
  }
 },
 "nbformat": 4,
 "nbformat_minor": 0
}