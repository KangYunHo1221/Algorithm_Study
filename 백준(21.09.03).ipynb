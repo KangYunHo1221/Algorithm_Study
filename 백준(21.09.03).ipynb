{
 "cells": [
  {
   "cell_type": "code",
   "execution_count": 5,
   "outputs": [
    {
     "data": {
      "text/plain": "[1, 1, 2, 5, 6, 6, 8]"
     },
     "execution_count": 5,
     "metadata": {},
     "output_type": "execute_result"
    }
   ],
   "source": [
    "## 이진탐색(재귀로 구현)\n",
    "## 이코테\n",
    "## 정렬 된 array에 대해서 사용하는 것임\n",
    "## 시간복잡도 O(logN)\n",
    "\n",
    "def binary_search(array, target, start, end):\n",
    "    if start > end:\n",
    "        return None\n",
    "    mid = (start+end)//2\n",
    "    if array[mid] == target:\n",
    "        return mid\n",
    "    elif array[mid] > target:\n",
    "        return binary_search(array, target, start, mid-1)\n",
    "    else:\n",
    "        return binary_search(array, target, mid+1, end)\n",
    "\n",
    "n, target = list(map(int, input().split()))\n",
    "array = list(map(int, input.split()))\n",
    "\n",
    "result = binary_search(array, target, 0, n-1)\n",
    "if result == None:\n",
    "    print(\"원소가 존재하지 않습니다\")\n",
    "else:\n",
    "    print(result+1)"
   ],
   "metadata": {
    "collapsed": false,
    "pycharm": {
     "name": "#%%\n"
    }
   }
  },
  {
   "cell_type": "markdown",
   "source": [
    "* 일반적으로 재귀함수 쓰고, 시작점 끝점 지정해준다\n",
    "* 파이썬으로 할때는 굳이 필요없이  in 가능 (시간복잡도 O(N))\n",
    "* 이진탐색 라이브러리 bisect 있음 -> bisect_left, bisect_right 확인할것\n",
    "\n",
    "* 만약 정렬이 안된 함수라면 정렬도 해야하므로 퀵소트등과 연동해서 써야함\n",
    "최악의 경우에 O(N^2) + O(logN) 이므로 그냥 O(N)이 나을수도 있음"
   ],
   "metadata": {
    "collapsed": false
   }
  },
  {
   "cell_type": "code",
   "execution_count": 4,
   "outputs": [
    {
     "name": "stdout",
     "output_type": "stream",
     "text": [
      "15\n"
     ]
    }
   ],
   "source": [
    "## 떡볶이 떡 만들기\n",
    "## 이코테 문제\n",
    "\n",
    "from bisect import bisect_left\n",
    "\n",
    "n, m = map(int, input().split())\n",
    "mylist = []\n",
    "for _ in range(n):\n",
    "    mylist.append(int(input()))\n",
    "\n",
    "mylist = sorted(mylist)\n",
    "\n",
    "for i in range(1,len(mylist)):\n",
    "    standard = mylist[-1*i]\n",
    "    sum = 0\n",
    "    for j in range(bisect_left(mylist, standard), len(mylist)):\n",
    "        sum += mylist[j] - standard\n",
    "\n",
    "    if sum >= m:\n",
    "        break\n",
    "\n",
    "print(mylist[-1*i])"
   ],
   "metadata": {
    "collapsed": false,
    "pycharm": {
     "name": "#%%\n"
    }
   }
  },
  {
   "cell_type": "code",
   "execution_count": null,
   "outputs": [],
   "source": [
    "## 솔루션\n",
    "\n"
   ],
   "metadata": {
    "collapsed": false,
    "pycharm": {
     "name": "#%%\n"
    }
   }
  }
 ],
 "metadata": {
  "kernelspec": {
   "name": "pytorch17_p38",
   "language": "python",
   "display_name": "pytorch17_p38"
  },
  "language_info": {
   "codemirror_mode": {
    "name": "ipython",
    "version": 2
   },
   "file_extension": ".py",
   "mimetype": "text/x-python",
   "name": "python",
   "nbconvert_exporter": "python",
   "pygments_lexer": "ipython2",
   "version": "2.7.6"
  }
 },
 "nbformat": 4,
 "nbformat_minor": 0
}