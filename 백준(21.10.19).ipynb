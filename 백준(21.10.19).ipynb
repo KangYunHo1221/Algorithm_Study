{
 "cells": [
  {
   "cell_type": "code",
   "execution_count": 3,
   "outputs": [
    {
     "name": "stdout",
     "output_type": "stream",
     "text": [
      "7\n",
      "44\n",
      "274\n"
     ]
    }
   ],
   "source": [
    "## 나무꾼 이다솜\n",
    "## https://www.acmicpc.net/problem/1421\n",
    "\n",
    "N, C, W = map(int, input().split())\n",
    "woods = [int(input()) for _ in range(N)]\n",
    "\n",
    "max_money = 0\n",
    "max_log = max(woods)\n",
    "\n",
    "for l in range(1, max_log + 1):\n",
    "    profit_sum = 0\n",
    "    for wood in woods:\n",
    "        q, r = divmod(wood, l) #q==나무토막수, r==자투리수\n",
    "        if r: #자투리가 있으면\n",
    "            expense = q*C\n",
    "        else:\n",
    "            expense = (q-1)*C\n",
    "        profit = (q*l*W) - expense\n",
    "\n",
    "        if profit<0:\n",
    "            continue\n",
    "        profit_sum += profit\n",
    "\n",
    "    if profit_sum >= max_money:\n",
    "        max_money = profit_sum\n",
    "\n",
    "print(max_money)"
   ],
   "metadata": {
    "collapsed": false,
    "pycharm": {
     "name": "#%%\n"
    }
   }
  },
  {
   "cell_type": "markdown",
   "source": [
    "* 무지성 브루트포스로 만들고싶은 길이를 1 ~ 통나무중 제일 긴애까지 뭘로했을때 제일 나은지 찾는것것"
   ],
   "metadata": {
    "collapsed": false
   }
  }
 ],
 "metadata": {
  "kernelspec": {
   "name": "pytorch17_p38",
   "language": "python",
   "display_name": "pytorch17_p38"
  },
  "language_info": {
   "codemirror_mode": {
    "name": "ipython",
    "version": 2
   },
   "file_extension": ".py",
   "mimetype": "text/x-python",
   "name": "python",
   "nbconvert_exporter": "python",
   "pygments_lexer": "ipython2",
   "version": "2.7.6"
  }
 },
 "nbformat": 4,
 "nbformat_minor": 0
}