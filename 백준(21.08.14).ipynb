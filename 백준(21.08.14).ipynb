{
 "cells": [
  {
   "cell_type": "markdown",
   "source": [
    "백준 단계별 문제 내 풀이 및 정리"
   ],
   "metadata": {
    "collapsed": false,
    "pycharm": {
     "name": "#%% md\n"
    }
   }
  },
  {
   "cell_type": "code",
   "execution_count": 21,
   "outputs": [
    {
     "name": "stdout",
     "output_type": "stream",
     "text": [
      "22 55\n"
     ]
    }
   ],
   "source": [
    "##21.08.14\n",
    "\n",
    "## if문\n",
    "## https://www.acmicpc.net/problem/2884\n",
    "\n",
    "a, b = input().split()\n",
    "a = int(a)\n",
    "b = int(b)\n",
    "\n",
    "daytime = 60*a + b\n",
    "daytime = daytime - 45\n",
    "\n",
    "if(daytime < 0):\n",
    "   daytime = 1440 + daytime\n",
    "\n",
    "a = daytime // 60\n",
    "b = daytime % 60\n",
    "print(a,b)"
   ],
   "metadata": {
    "collapsed": false,
    "pycharm": {
     "name": "#%%\n"
    }
   }
  },
  {
   "cell_type": "markdown",
   "source": [
    "* input() 문자열로 받으니까 type casting 필요\n",
    "* 몫연산 //\n",
    "* 나머지연산 %\n",
    "* 마크다운 활용법 숙지"
   ],
   "metadata": {
    "collapsed": false,
    "pycharm": {
     "name": "#%% md\n"
    }
   }
  },
  {
   "cell_type": "code",
   "source": [
    "## for 문\n",
    "## https://www.acmicpc.net/problem/10871\n",
    "\n",
    "n, x = map(int, input().split())\n",
    "A = list(map(int, input().split()))\n",
    "\n",
    "for i in A:\n",
    "    if(i < x):\n",
    "        print(i, end=' ')"
   ],
   "metadata": {
    "collapsed": false,
    "pycharm": {
     "name": "#%%\n"
    }
   },
   "execution_count": 30,
   "outputs": [
    {
     "name": "stdout",
     "output_type": "stream",
     "text": [
      "1 4 2 3 "
     ]
    }
   ]
  },
  {
   "cell_type": "code",
   "execution_count": null,
   "outputs": [],
   "source": [
    "## for 문 다른풀이\n",
    "\n",
    "n, x = map(int, input().split())\n",
    "A = list(map(int, input().split()))\n",
    "\n",
    "for i in A:\n",
    "    if(i <= x):\n",
    "        A.remove(i)\n",
    "\n",
    "print(A)"
   ],
   "metadata": {
    "collapsed": false,
    "pycharm": {
     "name": "#%%\n"
    }
   }
  },
  {
   "cell_type": "markdown",
   "source": [
    "* 항상 print(end='\\n') 이 생략돼 있음. 설정가능\n",
    "* map으로 감싸면 type casting 번거롭지 않음"
   ],
   "metadata": {
    "collapsed": false
   }
  },
  {
   "cell_type": "code",
   "execution_count": 40,
   "outputs": [
    {
     "name": "stdout",
     "output_type": "stream",
     "text": [
      "3\n"
     ]
    }
   ],
   "source": [
    "## while 문\n",
    "## https://www.acmicpc.net/problem/1110\n",
    "\n",
    "a = int(input())\n",
    "newa = -1\n",
    "count = 0\n",
    "\n",
    "while(newa != a):\n",
    "    if(newa == -1):newa = a\n",
    "    newa = (newa%10)*10 + (newa//10 + newa%10)%10\n",
    "    count += 1\n",
    "\n",
    "\n",
    "print(count)"
   ],
   "metadata": {
    "collapsed": false,
    "pycharm": {
     "name": "#%%\n"
    }
   }
  },
  {
   "cell_type": "markdown",
   "source": [
    "* 파이썬은 증감연산자 (i++) 없음"
   ],
   "metadata": {
    "collapsed": false
   }
  }
 ],
 "metadata": {
  "kernelspec": {
   "display_name": "Python 3",
   "language": "python",
   "name": "python3"
  },
  "language_info": {
   "codemirror_mode": {
    "name": "ipython",
    "version": 2
   },
   "file_extension": ".py",
   "mimetype": "text/x-python",
   "name": "python",
   "nbconvert_exporter": "python",
   "pygments_lexer": "ipython2",
   "version": "2.7.6"
  }
 },
 "nbformat": 4,
 "nbformat_minor": 0
}