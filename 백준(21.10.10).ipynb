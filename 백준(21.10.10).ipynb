{
 "cells": [
  {
   "cell_type": "code",
   "execution_count": 5,
   "outputs": [
    {
     "name": "stdout",
     "output_type": "stream",
     "text": [
      "0.75\n"
     ]
    }
   ],
   "source": [
    "## 미친로봇\n",
    "## https://www.acmicpc.net/problem/1405\n",
    "\n",
    "n, E, W, S, N  = map(int, input().split())\n",
    "possibility = [N*0.01, E*0.01, S*0.01, W*0.01]\n",
    "\n",
    "Field = [[0] * (2*n+1) for _ in range(2*n+1)]\n",
    "Field[n][n] = 1\n",
    "\n",
    "dx=[-1, 0, 1, 0]\n",
    "dy=[0, 1, 0, -1]\n",
    "def dfs(x,y, cnt, p):\n",
    "    global result\n",
    "\n",
    "    if cnt == n: #n번만큼이동했으면 종료\n",
    "        result += p\n",
    "        return\n",
    "\n",
    "    for i in range(4):\n",
    "        nx = x + dx[i]\n",
    "        ny = y + dy[i]\n",
    "        if Field[nx][ny] == 0:\n",
    "            if 0 <= nx < (2*n)+1 and 0<= ny <(2*n+1):\n",
    "                Field[nx][ny] = 1\n",
    "                dfs(nx, ny, cnt+1, p*possibility[i])\n",
    "                Field[nx][ny] = 0\n",
    "result = 0\n",
    "dfs(n,n,0,1)\n",
    "\n",
    "print(result)"
   ],
   "metadata": {
    "collapsed": false,
    "pycharm": {
     "name": "#%%\n"
    }
   }
  }
 ],
 "metadata": {
  "kernelspec": {
   "name": "pytorch17_p38",
   "language": "python",
   "display_name": "pytorch17_p38"
  },
  "language_info": {
   "codemirror_mode": {
    "name": "ipython",
    "version": 2
   },
   "file_extension": ".py",
   "mimetype": "text/x-python",
   "name": "python",
   "nbconvert_exporter": "python",
   "pygments_lexer": "ipython2",
   "version": "2.7.6"
  }
 },
 "nbformat": 4,
 "nbformat_minor": 0
}