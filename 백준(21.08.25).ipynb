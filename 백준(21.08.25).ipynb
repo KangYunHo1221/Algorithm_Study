{
 "cells": [
  {
   "cell_type": "code",
   "execution_count": 13,
   "outputs": [
    {
     "name": "stdout",
     "output_type": "stream",
     "text": [
      "b4\n",
      "b4\n",
      "b4\n",
      "b4\n"
     ]
    }
   ],
   "source": [
    "## 직사각형\n",
    "## https://www.acmicpc.net/problem/2527\n",
    "\n",
    "import sys\n",
    "\n",
    "for _ in range(4):\n",
    "    x1, y1, p1, q1, x2, y2, p2, q2 = map(int, sys.stdin.readline().split())\n",
    "\n",
    "    if(q1<y2 or q2<y1 or x1>p2 or p1<x2):\n",
    "        print('d')\n",
    "    elif(p1==x2):\n",
    "        if(q1==y2 or y1==q2):\n",
    "            print('c')\n",
    "        else:\n",
    "            print('b')\n",
    "    elif(x1==p2):\n",
    "        if(y1==q2 or q1==y2):\n",
    "            print('c')\n",
    "        else:\n",
    "            print('b')\n",
    "    elif(q1==y2):\n",
    "        if(p1==x2 or p2==x1):\n",
    "            print('c')\n",
    "        else:\n",
    "            print('b')\n",
    "    elif(q2==y1):\n",
    "        if(p1==x2 or p2==x1):\n",
    "            print('c')\n",
    "        else:\n",
    "            print('b')\n",
    "    else:\n",
    "        print('a')\n"
   ],
   "metadata": {
    "collapsed": false,
    "pycharm": {
     "name": "#%%\n"
    }
   }
  },
  {
   "cell_type": "markdown",
   "source": [
    "* 케이스 세분화 잘할것\n"
   ],
   "metadata": {
    "collapsed": false,
    "pycharm": {
     "name": "#%% md\n"
    }
   }
  }
 ],
 "metadata": {
  "kernelspec": {
   "name": "pytorch17_p38",
   "language": "python",
   "display_name": "pytorch17_p38"
  },
  "language_info": {
   "codemirror_mode": {
    "name": "ipython",
    "version": 2
   },
   "file_extension": ".py",
   "mimetype": "text/x-python",
   "name": "python",
   "nbconvert_exporter": "python",
   "pygments_lexer": "ipython2",
   "version": "2.7.6"
  }
 },
 "nbformat": 4,
 "nbformat_minor": 0
}