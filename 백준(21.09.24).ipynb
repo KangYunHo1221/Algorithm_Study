{
 "cells": [
  {
   "cell_type": "code",
   "execution_count": 12,
   "outputs": [
    {
     "name": "stdout",
     "output_type": "stream",
     "text": [
      "4\n"
     ]
    }
   ],
   "source": [
    "## 연구소\n",
    "## https://www.acmicpc.net/problem/14502\n",
    "\n",
    "s = []\n",
    "#상하좌우\n",
    "dx = [0,0,-1,1]\n",
    "dy = [-1,1,0,0]\n",
    "\n",
    "#벽 배치\n",
    "n, m = map(int, input().split())\n",
    "for i in range(n):\n",
    "    s.append(list(map(int, input().split())))\n",
    "    \n",
    "max_result = 0\n",
    "def bfs():\n",
    "    global max_result\n",
    "    copy = [[0]*m for i in range(n)]\n",
    "    result = 0\n",
    "    arr = []\n",
    "    for i in range(n):\n",
    "        for j in range(m):\n",
    "            copy[i][j] = s[i][j]\n",
    "\n",
    "    while arr:\n",
    "        a,b = arr[0][0]\n",
    "        del arr[0]\n",
    "        for i in range(4):\n",
    "            ax = a + dx[i]\n",
    "            ay = b + dy[i]\n",
    "            if 0 <= ax and 0 <= ay and ax < n  and ay <m:\n",
    "                if copy[ax][ay] == 0:\n",
    "                    copy[ax][ay] = 2\n",
    "                    arr.append([ax,ay])\n",
    "        for i in copy:\n",
    "            for j in i:\n",
    "                if j ==0:\n",
    "                    result += 1\n",
    "        max_result = max(max_result, result)\n",
    "\n",
    "#벽 짓기\n",
    "def make_wall(count):\n",
    "    if count == 3: #3개 다 지었으면 완전탐색\n",
    "        bfs()\n",
    "        return\n",
    "\n",
    "    for i in range(n): #3개 아직 못지었으면\n",
    "        for j in range(m):\n",
    "            if s[i][j] == 0:\n",
    "                s[i][j] = 1\n",
    "                make_wall(count +1)\n",
    "                s[i][j] = 0\n",
    "\n",
    "make_wall(0)\n",
    "print(max_result)"
   ],
   "metadata": {
    "collapsed": false,
    "pycharm": {
     "name": "#%%\n"
    }
   }
  },
  {
   "cell_type": "markdown",
   "source": [
    "* 완전탐색문제 약점임\n",
    "* 좌표만드는 문제 약점임"
   ],
   "metadata": {
    "collapsed": false,
    "pycharm": {
     "name": "#%% md\n"
    }
   }
  }
 ],
 "metadata": {
  "kernelspec": {
   "name": "pytorch17_p38",
   "language": "python",
   "display_name": "pytorch17_p38"
  },
  "language_info": {
   "codemirror_mode": {
    "name": "ipython",
    "version": 2
   },
   "file_extension": ".py",
   "mimetype": "text/x-python",
   "name": "python",
   "nbconvert_exporter": "python",
   "pygments_lexer": "ipython2",
   "version": "2.7.6"
  }
 },
 "nbformat": 4,
 "nbformat_minor": 0
}