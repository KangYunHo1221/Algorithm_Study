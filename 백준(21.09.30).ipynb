{
 "cells": [
  {
   "cell_type": "code",
   "execution_count": 21,
   "outputs": [
    {
     "name": "stdout",
     "output_type": "stream",
     "text": [
      "acis\n",
      "acit\n",
      "aciw\n",
      "acst\n",
      "acsw\n",
      "actw\n",
      "aist\n",
      "aisw\n",
      "aitw\n",
      "astw\n",
      "cist\n",
      "cisw\n",
      "citw\n",
      "istw\n"
     ]
    }
   ],
   "source": [
    "## 암호만들기\n",
    "## https://www.acmicpc.net/problem/1759\n",
    "\n",
    "from itertools import combinations\n",
    "\n",
    "l, c = map(int, input().split())\n",
    "\n",
    "mylist = input().split()\n",
    "mylist = sorted(mylist)\n",
    "getl = combinations(mylist, l)\n",
    "\n",
    "#한 개의 모음, 두개의 자음 이상으로 => 모음이 한개도 없거나, 자음이 1개, 0개 이거나\n",
    "for t in getl:\n",
    "    t = sorted(t)\n",
    "    #모음 하나도 없는경우 continue\n",
    "    motherword = ['a','e','i','o','u']\n",
    "    mothercount = 0\n",
    "    for c in range(5):\n",
    "        if motherword[c] in t:\n",
    "            mothercount += 1\n",
    "    if mothercount < 1:\n",
    "        continue\n",
    "\n",
    "    #자음 하나 이하인 경우 continue\n",
    "    sonword = ['b','c','d','f','g','h','j','k','l','m','n','p','q','r','s','t','v','w','x','y','z']\n",
    "    soncount = 0\n",
    "    for c in range(21):\n",
    "        if sonword[c] in t:\n",
    "            soncount += 1\n",
    "    if soncount < 2:\n",
    "        continue\n",
    "\n",
    "    #무결점이면 print\n",
    "    result = ''\n",
    "    for i in t:\n",
    "        result += i\n",
    "    print(result)"
   ],
   "metadata": {
    "collapsed": false,
    "pycharm": {
     "name": "#%%\n"
    }
   }
  }
 ],
 "metadata": {
  "kernelspec": {
   "name": "pytorch17_p38",
   "language": "python",
   "display_name": "pytorch17_p38"
  },
  "language_info": {
   "codemirror_mode": {
    "name": "ipython",
    "version": 2
   },
   "file_extension": ".py",
   "mimetype": "text/x-python",
   "name": "python",
   "nbconvert_exporter": "python",
   "pygments_lexer": "ipython2",
   "version": "2.7.6"
  }
 },
 "nbformat": 4,
 "nbformat_minor": 0
}