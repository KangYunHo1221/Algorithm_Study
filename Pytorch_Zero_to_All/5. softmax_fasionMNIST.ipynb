{
 "cells": [
  {
   "cell_type": "code",
   "execution_count": 12,
   "metadata": {},
   "outputs": [],
   "source": [
    "from torchvision import datasets, transforms, utils\n",
    "from torch.utils import data\n",
    "import matplotlib.pyplot as plt\n",
    "import numpy as np\n",
    "from __future__ import print_function\n",
    "import numpy as np\n",
    "import torch\n",
    "import math\n",
    "from torch import nn, optim, cuda\n",
    "from torch.utils import data\n",
    "from torchvision import datasets, transforms\n",
    "import torch.nn.functional as F\n",
    "import time"
   ]
  },
  {
   "cell_type": "code",
   "execution_count": 13,
   "metadata": {},
   "outputs": [],
   "source": [
    "transform = transforms.Compose([transforms.ToTensor()])\n",
    "\n",
    "trainset = datasets.FashionMNIST(root = './.data/', train = True, download = True, transform = transform)\n",
    "testset = datasets.FashionMNIST(root = './.data/', train = False, download = False, transform = transform)\n"
   ]
  },
  {
   "cell_type": "code",
   "execution_count": 14,
   "metadata": {},
   "outputs": [],
   "source": [
    "batch_size = 16\n",
    "device = 'cuda' if cuda.is_available() else 'cpu'\n",
    "train_loader = data.DataLoader(dataset = trainset, batch_size = batch_size)\n",
    "test_loader = data.DataLoader(dataset = testset, batch_size = batch_size)"
   ]
  },
  {
   "cell_type": "code",
   "execution_count": 18,
   "metadata": {},
   "outputs": [],
   "source": [
    "#module making\n",
    "class net(nn.Module):\n",
    "    def __init__(self):\n",
    "        super(net, self).__init__()\n",
    "        self.l1 = nn.Linear(784, 520)\n",
    "        self.l2 = nn.Linear(520, 240)\n",
    "        self.l3 = nn.Linear(240, 360)\n",
    "        self.l4 = nn.Linear(360, 100)\n",
    "        self.l5 = nn.Linear(100, 10)\n",
    "        \n",
    "    def forward(self, x):\n",
    "        x = x.view(-1, 784)\n",
    "        x = F.relu(self.l1(x))\n",
    "        x = F.relu(self.l2(x))\n",
    "        x = F.relu(self.l3(x))\n",
    "        x = F.relu(self.l4(x))\n",
    "        return self.l5(x)\n",
    "    \n",
    "model = net()\n",
    "model.to(device)\n",
    "\n",
    "criterion = nn.CrossEntropyLoss()\n",
    "optimizer = optim.SGD(model.parameters(), lr = 0.01, momentum = 0.5)"
   ]
  },
  {
   "cell_type": "code",
   "execution_count": 19,
   "metadata": {},
   "outputs": [],
   "source": [
    "def train(epoch):\n",
    "    model.train()\n",
    "    for batch_idx, (data, target) in enumerate(train_loader):\n",
    "        data, target = data.to(device), target.to(device)\n",
    "        \n",
    "        output = model(data)\n",
    "        loss = criterion(output, target)\n",
    "        \n",
    "        optimizer.zero_grad()\n",
    "        loss.backward()\n",
    "        optimizer.step()\n",
    "        \n",
    "    if batch_idx % 10 == 0:\n",
    "        print('Train Epoch: {} | Batch Status: {}/{} ({:.0f}%) | Loss: {:.6f}'.format(\n",
    "                epoch, batch_idx * len(data), len(train_loader.dataset),\n",
    "                100. * batch_idx / len(train_loader), loss.item()))"
   ]
  },
  {
   "cell_type": "code",
   "execution_count": 23,
   "metadata": {},
   "outputs": [],
   "source": [
    "def test():\n",
    "    model.eval()\n",
    "    test_loss = 0\n",
    "    correct = 0\n",
    "    for data, target in test_loader:\n",
    "        data, target = data.to(device), target.to(device)\n",
    "        output = model(data)\n",
    "        \n",
    "        test_loss += criterion(output, target).item()\n",
    "        \n",
    "        pred = output.data.max(1, keepdim = True)[1]\n",
    "        correct += pred.eq(target.data.view_as(pred)).cpu().sum()\n",
    "        \n",
    "    test_loss /= len(test_loader.dataset)\n",
    "    print(f'===========================\\nTest set: Average loss: {test_loss:.4f}, Accuracy: {correct}/{len(test_loader.dataset)} '\n",
    "          f'({100. * correct / len(test_loader.dataset):.0f}%)')"
   ]
  },
  {
   "cell_type": "code",
   "execution_count": null,
   "metadata": {},
   "outputs": [
    {
     "name": "stdout",
     "output_type": "stream",
     "text": [
      "===========================\n",
      "Test set: Average loss: 0.0300, Accuracy: 8263/10000 (83%)\n",
      "===========================\n",
      "Test set: Average loss: 0.0282, Accuracy: 8404/10000 (84%)\n",
      "===========================\n",
      "Test set: Average loss: 0.0269, Accuracy: 8476/10000 (85%)\n",
      "===========================\n",
      "Test set: Average loss: 0.0264, Accuracy: 8521/10000 (85%)\n",
      "===========================\n",
      "Test set: Average loss: 0.0243, Accuracy: 8617/10000 (86%)\n",
      "===========================\n",
      "Test set: Average loss: 0.0230, Accuracy: 8678/10000 (87%)\n",
      "===========================\n",
      "Test set: Average loss: 0.0236, Accuracy: 8658/10000 (87%)\n",
      "===========================\n",
      "Test set: Average loss: 0.0230, Accuracy: 8715/10000 (87%)\n",
      "===========================\n",
      "Test set: Average loss: 0.0225, Accuracy: 8754/10000 (88%)\n",
      "===========================\n",
      "Test set: Average loss: 0.0231, Accuracy: 8737/10000 (87%)\n",
      "===========================\n",
      "Test set: Average loss: 0.0237, Accuracy: 8722/10000 (87%)\n",
      "===========================\n",
      "Test set: Average loss: 0.0241, Accuracy: 8720/10000 (87%)\n",
      "===========================\n",
      "Test set: Average loss: 0.0232, Accuracy: 8749/10000 (87%)\n"
     ]
    }
   ],
   "source": [
    "for epoch in range(1, 15):\n",
    "    train(epoch)\n",
    "    test()"
   ]
  },
  {
   "cell_type": "code",
   "execution_count": null,
   "metadata": {},
   "outputs": [],
   "source": []
  },
  {
   "cell_type": "code",
   "execution_count": null,
   "metadata": {},
   "outputs": [],
   "source": [
    "# For when i dont remember detail -> https://bigdatadiary0819.tistory.com/54"
   ]
  }
 ],
 "metadata": {
  "kernelspec": {
   "display_name": "pytorch17_p38",
   "language": "python",
   "name": "pytorch17_p38"
  },
  "language_info": {
   "codemirror_mode": {
    "name": "ipython",
    "version": 3
   },
   "file_extension": ".py",
   "mimetype": "text/x-python",
   "name": "python",
   "nbconvert_exporter": "python",
   "pygments_lexer": "ipython3",
   "version": "3.8.5"
  }
 },
 "nbformat": 4,
 "nbformat_minor": 4
}
