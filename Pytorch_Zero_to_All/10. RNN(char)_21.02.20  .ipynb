{
 "cells": [
  {
   "cell_type": "code",
   "execution_count": 1,
   "metadata": {},
   "outputs": [],
   "source": [
    "import torch\n",
    "import torch.nn as nn\n",
    "import torch.optim as optim\n",
    "import numpy as np"
   ]
  },
  {
   "cell_type": "code",
   "execution_count": 2,
   "metadata": {},
   "outputs": [],
   "source": [
    "sentence = (\"if you want to build a ship, don't drum up people together to \"\n",
    "            \"collect wood and don't assign them tasks and work, but rather \"\n",
    "            \"teach them to long for the endless immensity of the sea.\")\n",
    "char_set = list(set(sentence))\n",
    "char_dic = {c:i for i, c in enumerate(char_set)}\n",
    "dic_size = len(char_dic)"
   ]
  },
  {
   "cell_type": "code",
   "execution_count": 3,
   "metadata": {},
   "outputs": [],
   "source": [
    "hidden_size = dic_size\n",
    "sequence_length = 10\n",
    "learning_rate = 0.1"
   ]
  },
  {
   "cell_type": "code",
   "execution_count": 4,
   "metadata": {},
   "outputs": [],
   "source": [
    "x_data = []\n",
    "y_data = []\n",
    "\n",
    "for i in range(0,len(sentence) - sequence_length):\n",
    "    x_str = sentence[i:i + sequence_length]\n",
    "    y_str = sentence[i + 1: i + sequence_length + 1]\n",
    "    x_data.append([char_dic[c] for c in x_str])\n",
    "    y_data.append([char_dic[c] for c in y_str])"
   ]
  },
  {
   "cell_type": "code",
   "execution_count": 5,
   "metadata": {},
   "outputs": [],
   "source": [
    "x_one_hot = [np.eye(dic_size)[x] for x in x_data]\n",
    "X = torch.FloatTensor(x_one_hot)\n",
    "Y = torch.LongTensor(y_data)"
   ]
  },
  {
   "cell_type": "code",
   "execution_count": 6,
   "metadata": {},
   "outputs": [],
   "source": [
    "class Net(torch.nn.Module):\n",
    "    def __init__(self, input_dim, hidden_dim, layers):\n",
    "        super(Net,self).__init__()\n",
    "        self.rnn = torch.nn.RNN(input_dim, hidden_dim, num_layers = layers, batch_first = True)\n",
    "        self.fc = torch.nn.Linear(hidden_dim, hidden_dim, bias = True)\n",
    "    \n",
    "    def forward(self, x):\n",
    "        x, _status = self.rnn(x)\n",
    "        x = self.fc(x)\n",
    "        return x"
   ]
  },
  {
   "cell_type": "code",
   "execution_count": 7,
   "metadata": {},
   "outputs": [],
   "source": [
    "net = Net(dic_size, hidden_size, 2)\n",
    "criterion = torch.nn.CrossEntropyLoss()\n",
    "optimizer = optim.Adam(net.parameters(), learning_rate)\n",
    "outputs = net(X)"
   ]
  },
  {
   "cell_type": "code",
   "execution_count": 10,
   "metadata": {
    "scrolled": false
   },
   "outputs": [
    {
     "name": "stdout",
     "output_type": "stream",
     "text": [
      "t bou want to build anship, don't doum tp po ple te ether to collect wood and don't dss gn them tasks and uor , but a ther toach them ta lonl for the end ess immensity of the se  \n",
      "p bou want do build a ship, don't aoum to po ple to ether to collect aood and don't ass gn them tasks and aor , bue r ther toach them ta lonl for themend ess immensity of themses \n",
      "p aou want th buind a ship, don't aoum tp peaple to ether to collect tord and don't ass g  them ta ks aud aoo , but w ther thach them ta long fo  themsnd ess immensity pf themsis \n",
      "p dou wand to butld a ship, don't drum tp poaple to ether to collect tord and don't dss g  ther ta ks aud ao  , but w ther toach teem ta ao g fo  themsnd ess immentity of themses \n",
      "t dou wand to buimd a shim, don't doum to porple to ether togcollect woop and don't dssig  them ta ks aud aork, but w aher to ch them taglo l fo ktheme d ess imsensity oo themserk\n",
      "t bou wand to luimd anship, don't doum uo forple together togcollect woop and don't dus gn them tasks aud aork, but w aher toach toem taglo l fo ktoeme d ,ss iymensity of themeei \n",
      "g bou wand th butld a s iph aon't aoum up uerple co ethen tegcolleut wood and won't ass gn aher to ks aud aoo , but w dher te ch theo toglonl for theme d ess aymensity of themehs \n",
      "t boo tanm thabutid anshimh dod't doum um uhadle thgethem th coglett dond and don't dnssg gahem tosss and donk, dut dsahem thach them tagbo sifor themsnt essiipme sith pf themhis \n",
      "p trp tant to bnimd a shim, don't doum up porple together togco lent aord a d ton't d d gn theo to ks a d aor , bnt d gher torch foem to bonl for taeos d e s immens tm of teemse  \n",
      "p bou wanm te buimd anshim, don't doum uo uerple to ech m ,o co eest aood d d ton't dns gn toho tosks a d aook, bui dnihe  ,orch teet tosbonl for tae end ess imme s ty of teemchi \n",
      "p won'wanm te buimd a s imh don't doum uo ferple thsethsr toscellent wordnw d wod't dss gnithe  teses and wonk, bui dniher torch them tescenl tor wh  eud ess ipmens ty rf the chr \n",
      "p aou want tegbuimd a diip, don't doum up werple tesether tosconlect word d d wod't dssipnnthem toses tndlwonk, but dniher toscl thee tosbonl con themeud ess ipsens ty df theechr \n",
      "p aop want degbui d a siip, don't doum u  fo ple teaether toncollenh dood and don't das g  them tos s and don , bui d aher tosch toem tosbond don toemeud ess ipmens ty of rhembh  \n",
      "p dop lanm do buimd a shim, don't doum tp uo ple toaether toalo eect aood and aou't das gn them tosks and aoo , sui d aher toach toem tosbo d dor toemeud ess ipsens ty of themth  \n",
      "g bou wanm to butmd a shim, ton't doum tp po ple tos them toslo eect toop a t won't d s gn them toskg ant wook, dut d aheo to ch toem toslo g foo themsudless ipmenssty of themth  \n",
      "gubou wanm th butmd anseim, con't doum to po ple soset,em to co lect woog dnd won't dasig  them thskg and wook, but w aher toach the  toslo k fookthemsumlessiimmenssty pf the thsn\n",
      "grb g wan' wo butmd ansein, con't aoum up torgle sosecher to lo lect wong dnd don't ansig  them tagkg and dor , but w iher toach toem toglong forkthemsnm essiinmens ty pf the teg \n",
      "drbou loud ao buimd ans in, con teaost uo pordle sogeuhe ktonlo leus worg ,nd don'town,ign them togksaan' aonk, but rndheskto ch thee toglo d soo ,oemend essiimmens ty of theelh k\n",
      "rrtor wam' ao lut t ans in, tfndtedout uo pordle sogether tonlo deus ward tnd ton'tadnsig  the  tagks and aonk, yut r ahe  toach whee taglord woo toeeend ess ammens ty pf theeth k\n",
      "rrtou wan' ao lut t and in, lon't drum um ph d,e to ether to lo decs tm p tud trndt dss g  ther tagks ant wonk, fum w ther toacmitoe  taglo d ror toers ' essiimmens ty ro thersh  \n",
      "rrt p wamd ahglui t a , im, pon't d um um po phe to ether t  lo dect to d tsi tnrdt dss g  the  thsks tui to k, fum a ihe  t  ch taem thslo d woo t e t d ess immendsty p  the th  \n",
      "rrtoo wond ahgbutmt an,hgmh ron't donm um po dle eog them tonlo dect to d dsd don't dusig  them thsss aum don , yum d cher torlh them thgbo d foo toemt d ess immendety pr themth  \n",
      "frtonlwond fhgbuimi and iph won't woum to po pleatogecheretonbo decs wondydnm dondt wusipe ahem thnks and don , bum w pher toalh toem whgbo d fao toeme d essiammendity po themtedk\n",
      "tuton wand whgbuini anahgph ton't aoum to phaple bogecheeetogbo dect tondhdnd don't ansipe tee  thnks and don , dui t iher toach toee thgbond fao toeme d ess ipmens gy po thems i \n",
      "t boo wamd ahnbuini anahin, don't doud pp poaplo sogecher to bo dent to d dnd don't dus p  the  tagss and don , dut t iher toach toe  tagbond foo toeme d ess immens gy pp the shs \n",
      "t bou wamt th buini anshinh don't doum wp po plo togecher ,o so 'ect tood dnd don't dus pe them tegks aud don , but t iher ,o cl them tagbond coo toeme d ess immens iy tp themshs \n",
      "t boo wost th buimd anahirh ton't aoum wp pe ple tog cher ,o con'ect wo d dnd don't ans g' them tosss aud don , bui t ther ,o ch them to bong bor toemsntless iamensiiy df themsht \n",
      "t bou wamt thnbuinl anahinh don't toum tp pordle t gecher to cop'ect word wnd don't tnsige them tosks aud dork, bui w iyer torcl the  togbong for toemsndless immens iy tr themshi \n",
      "prboo wamd thnbutne anamiph don't aoum up po dle c gecher to cop'ect wo d wnd doa't ans g  them tosks aud dork, but w iher to cl toer tagbong tor aoemsnd ess immensgih a  ahemchi \n",
      "prboo wast torbntnd anahip, don't doum up po dle t g ther to co 'ect to d and don't dnsig  th m tosks aud dook,nbut a iher to ch toer togbo g forktoemsnd essiamsengiah or themtoi \n",
      "p dof'uost torcutld anthip, don't toum up po dle t g th r to to 'ect to dmdnd don't tnsip  them tosks aud dook, but t dher to ch toer to cong fooktoemenm eskiammensiah o  themeod \n",
      "p dof tont to butld an,mip, don't toum uo po dle together to co 'ect to d dnd don't tss g  them tosks aud dook, but t ihe  to cl toem to beng tooktoemend essiimmensity o  theme dk\n",
      "gutoo tam' to butld ans im, don't toum uo po gle to ether to bo leut toog dnd don't tss g  bhem tosks and dook,lbut taahe  to cl toem to beng foo toemsndltss immensity oootheme ds\n",
      "gutoo want to buils ans gmh bon't aoum uo pe gle to ether to co lect woog tnd dondt ans g  ahem tasss and dook, bui tathe  to cl toem to bong too to mendless immensity oo theme tk\n",
      "lutou want wo buils aas in, bonlt woum t  pe ple to ethe  to conleut woop aas woa't aas gn lhem ta ks a d wook, bui waihep to ch toem ta cong for toemend ,ss immensith oo theme p \n",
      "lutou tant to luils aaa in, bonlt woum tp th ple to euhe  to conleut woop aad woa't wss gn bhem ta ks aad wook, bui wathep to ch them ta cond for toemtnd ess immensnth pf the sops\n",
      "lutou wan' to luils a a il, do 't toum to te ple to ethem to co leut woop a d won't tssign lhem thsks t d woo , bui dathem to ch them th lond tor toemend essiimmens th oo whemb p \n",
      "lrtou waat to luimt ana il, don't doum to po ple to ether to to 'ent doop tnd don't dnsign lhem thsks tnd dook, but dather to ch toem th lonl too themt d essnimmens th oo themth  \n",
      "lutou waat do lutmt a d im, don't doum to po ple to ether toslo 'ent toop t d don't dnsign phem tosks tnd doon, but d dher to ch toem to lond for toemt m ossnimmeng ty oo themte  \n",
      "lutou waat to butmt a smin, ton't doum to po dle to ether to bo lent toop t d don't d sign phe  tosks tnd wook, but d ther to ch toe  to bonl for toe e d ossiimmeng ty oo the te  \n",
      "luyou want togbutmt a s in, ton't aoum uo po dle together to co 'ect torg tnd don't ansign phe  tosks tnd work, but d ther to ch toe  togbonl fon toe e d essiim,eng ty oo the te k\n",
      "luyou want togbutms ans in, ton't aoum up pe dle eognther to co lect tond and don't aus gn bhem tosksntnd work, but dather to ch them togbonl for toemend ess im,eng ty or themt ns\n",
      "luyou want togbutmd tns ip, ton't aoum um pe dle eogncher t  conlect uor  and won't aas gn phem tosks and wor , but aather t  ch ther togbond for toerend ess ammeng th o  therte s\n",
      "lutou want togbutmd anbmip, ton't aoum to phsdle sognther to conlett tond and won't aas gn bhem ta ksnand won , but a ahen tosch them tagbond bor toeme d ess ammens ty ooothershi \n",
      "lutou want togbutmd anamin, don't aout to ph dle sogether to conlett tondydnd don't aus d  uhem wo ksnand wonk, but t ther to ch toem togbonl bon toeme d essnammens ty ooothemshi \n",
      "luyou wont to lutms a shin, bon't dout to ph dle so ether to bo lett tood t d don't dus g  uhem to ks aud too , but r ther to ch toem to lond fon toemsnt essni mens ty oo themsi  \n",
      "l you wom' to lutld a s ip, don't doum tm phodle eo ether to co leut tood t d don't dss g  them wh ks aud doo , but d ther to ch teem wh lo d foo toement essuim ens ty oo themte  \n",
      "l bou wam' to lutld a dhip, do 't aoum tm phodle to ethem to co leut tood b d don't rss g  them wh ks and doo , but r ghem to ch them wh lond foo toemsnd ess immens ty o  themse s\n",
      "l cou wam' to lutld a bhil, don't aoum up phogle eo ethem to co 'ect tood u d don't rss g  them wasks aud doo , but r ghen to ch toem taslo g foo toemend ess immeng th of themseg \n",
      "lnbou tant toslutl' a dhil, don't aoum uo phogle sogether to lo 'ett toog a d don't ans p  them tasks aud took, but r ther to ch toem ta lo g foo toemendless immeng ty oo themceg \n",
      "gnbou tant to buil' anahip, don't aoum up pergle sogether to co 'ett toog and don't ans gn them tasks and dook, bui anther to ch toem tagbo g foo toemend essiinmengity oo thereegk\n",
      "gnbou tant to build anshin, don't aoum uo perple sogether to co 'ect aoop and won't ansign them thsks and doak, bui anther to ch toem thgbong boo toemend essiimmengity ar thereigk\n",
      "lnbou tant to build tnseip, con't aoum uo perple together togco lect woap and won't ansig  them tasks and doa , bui aather to ch them ta bo g foo toemend essiimmengity of therei  \n",
      "l cou tant to build a siip, don't aoum uo perple together togco lect toop a d won't aus g  them tasks and woo , bui a ther to ch toem ta lo g foo toemsnd ess immeng ty oo therti  \n",
      "l bou tant to build anship, don't aoum up poople to ether to co lect toop and won't ass g  them tasks and woos, bui a ther to ch toem ta lo d foo toemsnd ess immeng ty oo themce s\n",
      "l boo tant to luild ans il, don't aoum up poodle to ethe  to bo lect tood and aon't ass gh ahem tosks a d aoo , but a dhe  to ch them to bong foo toemsnd ess immensity of themce s\n",
      "l bou taak ah lutld tnshil, don't dout up boodle sogetherstogch lect tood and don't dns g  them tasks and doos, but d dherst  ch thersta long foo toemsnd ess imdens th df themseds\n",
      "l bou taad do lutld tnshil, bon't dout up bo dle togethen to th lect wond and won't dns g  chem tasks and wonk, but d dher to ch thel ta long for toemsnd ess immeng ty rf theml ds\n",
      "lrbou taam po butld andhil, bon't dout uo po lle togethen to to letl dond and won't dns g  them tasksiant wonk, bum d dhet tooch ther ta bonl for toemtnd ess immeng ty of themt g \n",
      "luyou taat uo lutld andhil, bon't rout to ae dle to ethen to co lect ronl dnd won't rns g  them tasksiant wonk, bum a whe  toach ther ta lo l bor toemtnd ess ipmeng ty of themt g \n",
      "guyou tand uo lutld a dhip, bon't rout to pe llerto ether to co lect rorl a d won't rns g  the  tasksiant work, cut a ther torch the  ta lo l uor toe t d iss immeng ty of the c s \n",
      "guyou tand po luild a s ip, yon't roum up pe dle to ether to co lect aood a d won't rns g  che  tasksiand wonk, cut a ther tooch the  ta lo l ror toemc d oss immeng ty of the c s \n",
      "p tou taam te buips ans ip, yon't doum tp ph dle to ether to co lect to d and don't dss g  chem tasksiaud do k, cut d theretosch the  te le g ror toemc d ess i mengity oo themc   \n",
      "p tou taad to buipd anship, yon't doum tp pe dle to ether to conleut tood and don't dss gn bhem tesksiaud donk, but d ther tosch the  te le d for themcud ess immend ty of thems   \n",
      "l you waad to buind ans ip, bon't doum tp pe dle together to conleut toodetnd don't dnsign dhem te ksaand donk, but dather to cm the  tegle d bon themhudless immendity oo themc g \n",
      "l you waad togbuind and ip, ton't doum up fe dle togecher to condect tood and won't dnsipn shem te ksaand wonk, but dather to cm ther to lo d fou themhudless immendity of themc   \n",
      "l you wand wogbutld andhip, don't doum up ae dle togethereth conleut dood dnd won't dnsip  bhe  tesksaand donk, but dathemeth ch ther toglold bon the engless immens ty of the l d \n",
      "l bor wand wo butls anahip, ton't aoum up po dle so ethereth co lest aood and won't ansii  ahe  te ks and doo , but dathereth ch ther to lord bon themend ess immens ty of therc   \n",
      "l bor wanm to butls a suil, ton't aoum tp pe dle so ether to to leut tood and don't a sit  ahem to ks and donk, but a ther to ch ther to bo g bon therend ess immens ty of therc   \n",
      "l you waad th butls a shin, bon't aoum tp pe dle to ether to to leut tood and don't ansit  ahe  to ks and dook, but d dher to ch ther to bo g bon themend ess immens ty of therc   \n",
      "guyou waat to butld a a ip, don't aoum up pe dle so  ther to to lect wood and don't ansig  ihe  th ks ind dook, but a dher to ch ther to bo g fon the sndless immens ty or the c   \n"
     ]
    },
    {
     "name": "stdout",
     "output_type": "stream",
     "text": [
      "luyou waat tonbuild a ahip, don't doum up pe ple so  them to to lett doop and don't dusig  ihe  tosks ind dook, but anther to c, uher to bo g fon the endlessiimmens ty or the s   \n",
      "lryou wamd to build a a ip, don't doum up po ple to ether to co lett doop and don't dnsig  them tosks and dook, but dnther to c, uhem togso g fon themendlessiimmensity oo theme   \n",
      "lryor wamd to build anship, don't doum up pe ple togethem togbo lett doop and don't dnsig  them tosks and dook, but dnther to ch uhem togbo g fon themend ess immensity oo thems   \n",
      "lrbor wamd to butnd anshim, don't doum up pe ple together togbo lect doop dnd don't dn,ign them to ts wnd dook, but dnpher to ch uhem togbo g for themend ess immensity po thems  e\n",
      "lrbor wasd to buins anshinh don't aoum up ue ple tog ther togbo 'eut wo d tnd don't rns tn the  ta ks wnd dook, but aniher to ch them ta bo g forethemend ess immensity po themt  e\n",
      "l bor wasd to bsins aashim, bon't aoum up ie ple sogether to co deit ra d tnd don't rssign ihe  ta ks tnd dook, but anthea to ch fher th bo g fooethemend ess immens ty oo thems  e\n",
      "l bor wont to lsils a seim, don't roum um iy ple sogether toato lece ro d tnd don't rssign them tosks and dook, but anshen toac, fhem th bo g fooethemend essiimmens ty oo thems mk\n",
      "l tou wond to lutls a shim, bon't roum tp pe ple eogether toaco dect ro d and don't rssign the  tosks and dook, but rnthen tosc, them to bo g fooethemend ess irmens ty of thems  k\n",
      "l tor tont to lutls a , im, don't roum tp po ple together to co dect rood dnd don't rnsign the  tosks and dook, but rnther to ch the  to bo g for themend ess i mensity tf theml  k\n",
      "l ton tant to butls a ,hip, don't roum tp po ple together to co dect roog dnd don't rns gn them tosks and dook, but rnther torch ther togbong borkthemend ess i mensity of themt  k\n",
      "l ton want to butps a ship, ron't roum tp po ple tog them to co dect aorp dnd won't rns gn them tosks and work, but rnther tosch ther togbo g bor themend ess immensity of themth k\n",
      "l bor wont to butps a ship, ron't aout up po ple tog them togco dect aood snd won't ass gn them tosks and work, but aaaher tosch whem togbo g for themsndless immensity of themse k\n",
      "l dou wont to luild a ship, ron't aout up po ple togethem toglo lect aoog dnd won't aasign them tasks and wook, but aaaher toach whem tagbo d for themsndless immensity of themse k\n",
      "l dou wont to luils a shim, don't aoui up pe dle together togco lect aoog dnd don't ans gn them tasks and wook, bui aaaher to ch whe  tagbo d fou the sndlessiimmensity of the se k\n",
      "l bou wont to buils a ship, don't aoui up pe ple together to co lect aool dnd don't assign the  tasks and wook, bui anaher to ch fhe  ta be ' fon toe snd ess immensity of the se k\n",
      "l bor wont to buils a ship, don't aoui um pe ple together to co lect aool wnd won't assign the  tasks and wook, bui anaher to ch fher ta le ' fon toe end ess immensity of the se  \n",
      "l bor wont to build a ship, don't aoui um po ple to ether to co lent aoon ind won't assign them to ks and wook, bui anther to ch fhem to le d fon toemend ess immensity of themse  \n",
      "l bor want to build a ship, don't aoum up po ple to ether to co lect woop ind won't ass gn them ta ks and wook, bui aniher to ch fher to lo d fon the end ess immensity of themse  \n",
      "l bor uant to build a ship, don't aonm uo po ple to ether to co lect tood and won't ass gn ther thsks a d wook, dui aather to ch ther to bo g fon the end ess immensity of the se s\n",
      "l bou want to cuild a ship, don't aonm uo po ple together togco lect wood and won't ass gn them thsks and wook, dut aaaher to ch ther ta co g for the end ess imeensity of the se s\n",
      "l bou want to build a ship, ron't aoum up po ple together togco lect wood and won't assign them thsks and wook, dut aather to ch ther ta bo g for the end ess immensity of themse  \n",
      "l bou want to luild a ship, don't aoum um po ple together to co lect wood and won't assign them tosks and wook, dut aaiher to ch fher to lo g for themend ess immengity of themse e\n",
      "l bou want to luild a ship, don't aoum um po ple together to co lect wood and don't assign them tasks and dook, but aather to ch them to lo g for themend ess immengity of themse .\n",
      "l bor want to luild a ship, don't aoum um po dle together to co lect tood and don't assign them tasks and wook, but aather to ch them to lo g for toe end ess immengity of the se  \n",
      "l bor want to buipd a ship, don't aoum up ph gle together to co lect aood and don't assign the  tosks and wook, but anther to ch ther to lo g for themend ess immengity of themse  \n",
      "l bor want to build a ship, don't aoum up pe ple together to co lect aood and don't aasign them tosks and dook, bui aather to ch ther ta lo g bor themend ess immengity of themse s\n",
      "l bor want to build a ship, don't aoum up pe ple together to co lect aood and don't aasign them tosks and wook, but aather to ch them ta lo g for themend ess immengity of themse  \n",
      "l bou want to build a siip, don't aoum up pe ple to ether to co lect aood and don't aas gn the  tosks and wook, but aather to ch them ta lo g forkthe end ess immensity of the se  \n",
      "l bou want to build a siip, don't aoum up perple to  ther to co lect aood and won't aas gn the  tosks and wook, but aather to ch them to lo g fonkthe end ess immensity of the se  \n"
     ]
    }
   ],
   "source": [
    "for i in range(100):\n",
    "    optimizer.zero_grad()\n",
    "    outputs = net(X)\n",
    "    loss = criterion(outputs.view(-1, dic_size), Y.view(-1))\n",
    "    loss.backward()\n",
    "    optimizer.step()\n",
    "    \n",
    "    results = outputs.argmax(dim=2)\n",
    "    predict_str = \"\"\n",
    "    for j, result in enumerate(results):\n",
    "        if j == 0: # 처음에는 예측 결과를 전부 가져오지만\n",
    "            predict_str += ''.join([char_set[t] for t in result])\n",
    "        else: # 그 다음에는 마지막 글자만 반복 추가\n",
    "            predict_str += char_set[result[-1]]\n",
    "            \n",
    "    print(predict_str)"
   ]
  },
  {
   "cell_type": "code",
   "execution_count": null,
   "metadata": {},
   "outputs": [],
   "source": []
  },
  {
   "cell_type": "code",
   "execution_count": null,
   "metadata": {},
   "outputs": [],
   "source": []
  }
 ],
 "metadata": {
  "kernelspec": {
   "display_name": "pytorch17_p38",
   "language": "python",
   "name": "pytorch17_p38"
  },
  "language_info": {
   "codemirror_mode": {
    "name": "ipython",
    "version": 3
   },
   "file_extension": ".py",
   "mimetype": "text/x-python",
   "name": "python",
   "nbconvert_exporter": "python",
   "pygments_lexer": "ipython3",
   "version": "3.8.5"
  }
 },
 "nbformat": 4,
 "nbformat_minor": 4
}
