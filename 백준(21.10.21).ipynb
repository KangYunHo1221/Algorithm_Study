{
 "cells": [
  {
   "cell_type": "code",
   "execution_count": 12,
   "outputs": [
    {
     "name": "stdout",
     "output_type": "stream",
     "text": [
      "5\n"
     ]
    }
   ],
   "source": [
    "## 완주하지 못한 선수\n",
    "## 프로그래머스 > 해시\n",
    "def solution(participant, completion):\n",
    "    answer = ''\n",
    "\n",
    "    def my():\n",
    "        ans = ''\n",
    "        p = sorted(participant)\n",
    "        c = sorted(completion)\n",
    "        for i in range(len(c)):\n",
    "            if c[i] != p[i]:\n",
    "                ans = p[i]\n",
    "                break\n",
    "            if i == len(c)-1 and c[i] == p[i]:\n",
    "                ans = p[i+1]\n",
    "                break\n",
    "        return ans\n",
    "\n",
    "    answer = my()\n",
    "    return answer"
   ],
   "metadata": {
    "collapsed": false,
    "pycharm": {
     "name": "#%%\n"
    }
   }
  },
  {
   "cell_type": "code",
   "execution_count": null,
   "outputs": [],
   "source": [
    "## 더 쉬운 풀이\n",
    "\n",
    "import collections\n",
    "\n",
    "def solution(participant, completion):\n",
    "    answer = collections.Counter(participant) - collections.Counter(completion)\n",
    "    return list(answer.keys())[0]"
   ],
   "metadata": {
    "collapsed": false,
    "pycharm": {
     "name": "#%%\n"
    }
   }
  }
 ],
 "metadata": {
  "kernelspec": {
   "name": "pytorch17_p38",
   "language": "python",
   "display_name": "pytorch17_p38"
  },
  "language_info": {
   "codemirror_mode": {
    "name": "ipython",
    "version": 2
   },
   "file_extension": ".py",
   "mimetype": "text/x-python",
   "name": "python",
   "nbconvert_exporter": "python",
   "pygments_lexer": "ipython2",
   "version": "2.7.6"
  }
 },
 "nbformat": 4,
 "nbformat_minor": 0
}