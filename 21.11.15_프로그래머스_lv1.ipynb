{
 "cells": [
  {
   "cell_type": "code",
   "execution_count": 23,
   "outputs": [
    {
     "name": "stdout",
     "output_type": "stream",
     "text": [
      "[4, 16, 3]\n",
      "[40, 200, -100]\n",
      "[0, 0, 0]\n"
     ]
    },
    {
     "data": {
      "text/plain": "0"
     },
     "execution_count": 23,
     "metadata": {},
     "output_type": "execute_result"
    }
   ],
   "source": [
    "## [1차] 다트게임\n",
    "## 프로그래머스 > 2018 KAKAO BLIND RECRUITMENT\n",
    "\n",
    "def solution(dartResult):\n",
    "    answer = 0\n",
    "\n",
    "    mylist = []\n",
    "    count = 0\n",
    "    for i in range(len(dartResult)):\n",
    "        if dartResult[i] in 'SDT':\n",
    "            count += 1 #몇 번째 점수인지 체크\n",
    "            if dartResult[i-1] != '0':\n",
    "                if dartResult[i] == 'S':\n",
    "                    mylist.append(int(dartResult[i-1]))\n",
    "                elif dartResult[i] == 'D':\n",
    "                    mylist.append(int(dartResult[i-1])**2)\n",
    "                elif dartResult[i] == 'T':\n",
    "                    mylist.append(int(dartResult[i-1])**3)\n",
    "            elif dartResult[i-1] == '0': #10일때 분류해주기 위해서\n",
    "                if dartResult[i-2] == '1':\n",
    "                    if dartResult[i] == 'S':\n",
    "                        mylist.append(10)\n",
    "                    elif dartResult[i] == 'D':\n",
    "                        mylist.append(10**2)\n",
    "                    elif dartResult[i] == 'T':\n",
    "                        mylist.append(10**3)\n",
    "                else:\n",
    "                    mylist.append(0)\n",
    "\n",
    "            if i < len(dartResult)-1:\n",
    "                if dartResult[i+1] in '*#':\n",
    "                    if dartResult[i+1] == '*':\n",
    "                        if count > 1:\n",
    "                            mylist[count-1] *= 2\n",
    "                            mylist[count-2] *= 2\n",
    "                        else:\n",
    "                            mylist[count-1] *= 2\n",
    "                    elif dartResult[i+1] == '#':\n",
    "                        mylist[count-1] *= -1\n",
    "\n",
    "    for t in mylist:\n",
    "        answer += t\n",
    "\n",
    "    return answer\n",
    "\n",
    "solution('1S*2T*3S')\n",
    "solution('10S*10T*10T#')\n",
    "solution('0S*0T*0S#')"
   ],
   "metadata": {
    "collapsed": false,
    "pycharm": {
     "name": "#%%\n"
    }
   }
  },
  {
   "cell_type": "code",
   "execution_count": 14,
   "outputs": [
    {
     "data": {
      "text/plain": "[2, 1, 2, 1]"
     },
     "execution_count": 14,
     "metadata": {},
     "output_type": "execute_result"
    }
   ],
   "source": [
    "import re\n",
    "\n",
    "def solution(dartResult):\n",
    "    bonus = {'S' : 1, 'D' : 2, 'T' : 3}\n",
    "    option = {'' : 1, '*' : 2, '#' : -1}\n",
    "    \n",
    "    p = re.compile('(\\d+)([SDT])([*#]?)') #정규 표현식   \n",
    "    dart = p.findall(dartResult)\n",
    "    \n",
    "    print(dart)\n",
    "    for i in range(len(dart)):\n",
    "        if dart[i][2] == '*' and i > 0:\n",
    "            dart[i-1] *= 2\n",
    "        dart[i] = int(dart[i][0]) ** bonus[dart[i][1]] * option[dart[i][2]]\n",
    "\n",
    "    answer = sum(dart)\n",
    "    return answer\n",
    "\n",
    "solution('0S*0T*0S#')"
   ],
   "metadata": {
    "collapsed": false,
    "pycharm": {
     "name": "#%% 다른 사람 풀이\n"
    }
   }
  }
 ],
 "metadata": {
  "kernelspec": {
   "name": "pytorch17_p38",
   "language": "python",
   "display_name": "pytorch17_p38"
  },
  "language_info": {
   "codemirror_mode": {
    "name": "ipython",
    "version": 2
   },
   "file_extension": ".py",
   "mimetype": "text/x-python",
   "name": "python",
   "nbconvert_exporter": "python",
   "pygments_lexer": "ipython2",
   "version": "2.7.6"
  }
 },
 "nbformat": 4,
 "nbformat_minor": 0
}