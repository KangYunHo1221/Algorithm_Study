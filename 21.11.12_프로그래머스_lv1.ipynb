{
 "cells": [
  {
   "cell_type": "code",
   "execution_count": 19,
   "outputs": [
    {
     "data": {
      "text/plain": "4"
     },
     "execution_count": 19,
     "metadata": {},
     "output_type": "execute_result"
    }
   ],
   "source": [
    "## 크레인 인형뽑기 게임\n",
    "## 프로그래머스 > 2020 카카오 개발자 겨울 인턴십\n",
    "\n",
    "from collections import deque\n",
    "\n",
    "def solution(board, moves):\n",
    "    answer = 0\n",
    "    map_size = len(board)\n",
    "    d = [deque() for _ in range(map_size)]\n",
    "\n",
    "    for i in range(len(board)): ##map을 deque로 재생성\n",
    "        for j in range(len(board)):\n",
    "            if board[i][j] != 0:\n",
    "                d[j].append(board[i][j])\n",
    "\n",
    "    baguni = [0] #바구니 생성\n",
    "    for t in moves: #move마다 뽑기\n",
    "        if len(d[t-1]) > 0: #안 비어있으면\n",
    "            get = d[t-1].popleft()\n",
    "        else:\n",
    "            continue\n",
    "        if baguni[-1] == get: #바구니 맨 위랑 같으면 사라짐\n",
    "            baguni.pop()\n",
    "            answer += 2\n",
    "        else:\n",
    "            baguni.append(get)\n",
    "\n",
    "    return answer\n",
    "\n",
    "\n",
    "solution([[0,0,0,0,0],[0,0,1,0,3],[0,2,5,0,1],[4,2,4,4,2],[3,5,1,3,1]], [1,5,3,5,1,2,1,4])\n"
   ],
   "metadata": {
    "collapsed": false,
    "pycharm": {
     "name": "#%%\n"
    }
   }
  }
 ],
 "metadata": {
  "kernelspec": {
   "name": "pytorch17_p38",
   "language": "python",
   "display_name": "pytorch17_p38"
  },
  "language_info": {
   "codemirror_mode": {
    "name": "ipython",
    "version": 2
   },
   "file_extension": ".py",
   "mimetype": "text/x-python",
   "name": "python",
   "nbconvert_exporter": "python",
   "pygments_lexer": "ipython2",
   "version": "2.7.6"
  }
 },
 "nbformat": 4,
 "nbformat_minor": 0
}