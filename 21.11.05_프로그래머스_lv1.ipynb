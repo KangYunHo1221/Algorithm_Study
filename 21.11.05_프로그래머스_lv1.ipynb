{
 "cells": [
  {
   "cell_type": "code",
   "execution_count": 2,
   "outputs": [
    {
     "name": "stdout",
     "output_type": "stream",
     "text": [
      "bat.y.abcdefghi\n",
      "z--\n",
      "aaa\n",
      "123_.def\n",
      "abcdefghijklmn\n"
     ]
    },
    {
     "data": {
      "text/plain": "'abcdefghijklmn'"
     },
     "execution_count": 2,
     "metadata": {},
     "output_type": "execute_result"
    }
   ],
   "source": [
    "## 신규 아이디 추천\n",
    "## 프로그래머스 - 카카오\n",
    "def solution(new_id):\n",
    "    answer = ''\n",
    "\n",
    "    #Step1\n",
    "    new_id = new_id.lower()\n",
    "\n",
    "    #Step2\n",
    "    new_id = list(new_id)\n",
    "    deletelist = []\n",
    "    for i in new_id:\n",
    "        if i in ['~','!','@','#','$','%','^','&','*',\n",
    "                 '(',')','=','+','[','{',']','}',':','?','<','>','/']:\n",
    "            deletelist.append(i)\n",
    "    for t in deletelist:\n",
    "        new_id.remove(t)\n",
    "\n",
    "    #Step3\n",
    "    flag = False\n",
    "    new_id2 = ''\n",
    "    for i in range(len(new_id)):\n",
    "        if new_id[i] == '.' and flag == False:\n",
    "            new_id2 += new_id[i]\n",
    "            flag = True\n",
    "        if new_id[i] == '.' and flag == True:\n",
    "            continue\n",
    "        if new_id[i] != '.':\n",
    "            new_id2 += new_id[i]\n",
    "            flag = False\n",
    "    new_id = new_id2\n",
    "\n",
    "    new_id = list(new_id)\n",
    "\n",
    "    if new_id[0] == '.':\n",
    "        new_id.remove('.')\n",
    "    if len(new_id) > 0:\n",
    "        if new_id[-1] == '.':\n",
    "            new_id = new_id[0:-1]\n",
    "    if len(new_id) == 0:\n",
    "        new_id.append('a')\n",
    "\n",
    "    if len(new_id) >= 16:\n",
    "        new_id = new_id[0:15]\n",
    "    if new_id[0] == '.':\n",
    "        new_id.remove('.')\n",
    "    if len(new_id) > 0:\n",
    "        if new_id[-1] == '.':\n",
    "            new_id = new_id[0:-1]\n",
    "\n",
    "\n",
    "    while len(new_id) < 3:\n",
    "        new_id.append(new_id[-1])\n",
    "\n",
    "    for k in new_id:\n",
    "        answer += k\n",
    "\n",
    "    print(answer)\n",
    "    return answer\n",
    "\n",
    "solution(\"...!@BaT#*..y.abcdefghijklm\")\n",
    "solution(\"z-+.^.\")\n",
    "solution(\"=.=\")\n",
    "solution(\"123_.def\")\n",
    "solution(\"abcdefghijklmn.p\")"
   ],
   "metadata": {
    "collapsed": false,
    "pycharm": {
     "name": "#%%\n"
    }
   }
  }
 ],
 "metadata": {
  "kernelspec": {
   "name": "pytorch17_p38",
   "language": "python",
   "display_name": "pytorch17_p38"
  },
  "language_info": {
   "codemirror_mode": {
    "name": "ipython",
    "version": 2
   },
   "file_extension": ".py",
   "mimetype": "text/x-python",
   "name": "python",
   "nbconvert_exporter": "python",
   "pygments_lexer": "ipython2",
   "version": "2.7.6"
  }
 },
 "nbformat": 4,
 "nbformat_minor": 0
}