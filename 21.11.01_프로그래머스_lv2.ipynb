{
 "cells": [
  {
   "cell_type": "code",
   "execution_count": 7,
   "outputs": [
    {
     "name": "stdout",
     "output_type": "stream",
     "text": [
      "(3, 3) (3, 3)\n"
     ]
    }
   ],
   "source": [
    "## 카펫\n",
    "## 프로그래머스 문제\n",
    "\n",
    "import math\n",
    "\n",
    "def solution(brown, yellow):\n",
    "    answer = []\n",
    "    #2(x-y)-4 = brown\n",
    "    #(x-2)(y-2) = yellow\n",
    "    \n",
    "    y1 = int(((2+(brown/2)) + math.sqrt((2+brown/2)**2 - 4*(brown           +yellow)))/2)\n",
    "    y2 = int(((2+(brown/2)) - math.sqrt((2+brown/2)**2 - 4*(brown           +yellow)))/2)\n",
    "\n",
    "    x1 = int((brown/2) + 2 - y1)\n",
    "    x2 = int((brown/2) + 2 - y2)\n",
    "    \n",
    "    if x1 >= y1:\n",
    "        answer.append(x1)\n",
    "        answer.append(y1)\n",
    "    elif x2 >= y2:\n",
    "        answer.append(x2)\n",
    "        answer.append(y2)\n",
    "        \n",
    "    return answer"
   ],
   "metadata": {
    "collapsed": false,
    "pycharm": {
     "name": "#%%\n"
    }
   }
  },
  {
   "cell_type": "markdown",
   "source": [
    "* 수학으로 풀었다... 오랜만에 근의공식\n",
    "* test case 만드는 연습\n",
    " - 최대한의 범위 생성\n",
    " - 최소한의 범위 생성\n",
    " - int로 casting 해줄경우 계산오차 없는지 큰값 넣어서 확인"
   ],
   "metadata": {
    "collapsed": false
   }
  }
 ],
 "metadata": {
  "kernelspec": {
   "name": "pytorch17_p38",
   "language": "python",
   "display_name": "pytorch17_p38"
  },
  "language_info": {
   "codemirror_mode": {
    "name": "ipython",
    "version": 2
   },
   "file_extension": ".py",
   "mimetype": "text/x-python",
   "name": "python",
   "nbconvert_exporter": "python",
   "pygments_lexer": "ipython2",
   "version": "2.7.6"
  }
 },
 "nbformat": 4,
 "nbformat_minor": 0
}