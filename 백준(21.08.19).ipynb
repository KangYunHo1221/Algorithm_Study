{
 "cells": [
  {
   "cell_type": "code",
   "execution_count": 29,
   "outputs": [
    {
     "name": "stdout",
     "output_type": "stream",
     "text": [
      "[0, 2, 4, 1, 3]\n",
      "[0, 3, 1, 4, 2]\n",
      "[1, 3, 0, 2, 4]\n",
      "[1, 4, 2, 0, 3]\n",
      "[2, 0, 3, 1, 4]\n",
      "[2, 4, 1, 3, 0]\n",
      "[3, 0, 2, 4, 1]\n",
      "[3, 1, 4, 2, 0]\n",
      "[4, 1, 3, 0, 2]\n",
      "[4, 2, 0, 3, 1]\n"
     ]
    },
    {
     "data": {
      "text/plain": "10"
     },
     "execution_count": 29,
     "metadata": {},
     "output_type": "execute_result"
    }
   ],
   "source": [
    "##21.08.18\n",
    "\n",
    "## N-Queen(백트래킹)\n",
    "## https://www.acmicpc.net/problem/9663\n",
    "\n",
    "## 퀸문제는 2차원으로 만들 필요 없이 list의 index를 열, 값을 행으로 응용\n",
    "\n",
    "n = int(input())\n",
    "\n",
    "def solution(n):\n",
    "    cases = [0]\n",
    "\n",
    "    def dfs(queens, next_queen):\n",
    "\n",
    "        if next_queen in queens: ##같은 열에 있으면\n",
    "            return\n",
    "\n",
    "        for row, column in enumerate(queens):\n",
    "           h = len(queens) - row\n",
    "           if next_queen == column+h or next_queen == column-h:\n",
    "               return\n",
    "\n",
    "        queens.append(next_queen)\n",
    "\n",
    "        if len(queens) == n:\n",
    "            print(queens)\n",
    "            cases[0] += 1\n",
    "            return\n",
    "        for next_queen in range(n):\n",
    "            dfs(queens[:], next_queen)\n",
    "\n",
    "    for next_queen in range(n):\n",
    "        queens = []\n",
    "        dfs(queens, next_queen)\n",
    "\n",
    "    return cases[0]\n",
    "\n",
    "solution(n)\n"
   ],
   "metadata": {
    "collapsed": false,
    "pycharm": {
     "name": "#%%\n"
    }
   }
  }
 ],
 "metadata": {
  "kernelspec": {
   "name": "pytorch17_p38",
   "language": "python",
   "display_name": "pytorch17_p38"
  },
  "language_info": {
   "codemirror_mode": {
    "name": "ipython",
    "version": 2
   },
   "file_extension": ".py",
   "mimetype": "text/x-python",
   "name": "python",
   "nbconvert_exporter": "python",
   "pygments_lexer": "ipython2",
   "version": "2.7.6"
  }
 },
 "nbformat": 4,
 "nbformat_minor": 0
}