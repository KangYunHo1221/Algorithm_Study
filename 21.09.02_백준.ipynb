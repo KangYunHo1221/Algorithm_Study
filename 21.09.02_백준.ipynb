{
 "cells": [
  {
   "cell_type": "code",
   "execution_count": 5,
   "outputs": [
    {
     "data": {
      "text/plain": "[1, 1, 2, 5, 6, 6, 8]"
     },
     "execution_count": 5,
     "metadata": {},
     "output_type": "execute_result"
    }
   ],
   "source": [
    "## 선택정렬\n",
    "## 0번 index부터 한칸씩 뒤에서 선택해서 채우는 것\n",
    "\n",
    "array = list(map(int,input()))\n",
    "\n",
    "for i in range(len(array)):\n",
    "    minindex = i ##find min\n",
    "    for j in range(i+1, len(array)):\n",
    "        if(array[minindex] > array[j]):\n",
    "            minindex = j\n",
    "    array[minindex], array[i] = array[i], array[minindex]\n",
    "\n",
    "print(array)"
   ],
   "metadata": {
    "collapsed": false,
    "pycharm": {
     "name": "#%%\n"
    }
   }
  },
  {
   "cell_type": "code",
   "source": [
    "## 삽입정렬\n",
    "## 한명식 체크하면서 누구와 누구 사이에 들어가야 되는지 확인해서 넣기\n",
    "\n",
    "array = list(map(int, input()))\n",
    "\n",
    "for i in range(len(array)):\n",
    "    for j in range(i, 0, -1):##한칸씩 뒤로가면서 체크\n",
    "        if(array[j]<array[j-1]):\n",
    "            array[j], array[j-1] = array[j-1], array[j]\n",
    "        else:\n",
    "            break\n",
    "\n",
    "print(array)"
   ],
   "metadata": {
    "collapsed": false,
    "pycharm": {
     "name": "#%%\n"
    }
   },
   "execution_count": 6,
   "outputs": [
    {
     "name": "stdout",
     "output_type": "stream",
     "text": [
      "[1, 2, 3, 4, 5, 5, 6]\n"
     ]
    }
   ]
  },
  {
   "cell_type": "code",
   "execution_count": 7,
   "outputs": [
    {
     "name": "stdout",
     "output_type": "stream",
     "text": [
      "[1, 1, 1, 2, 3, 5, 6]\n"
     ]
    }
   ],
   "source": [
    "## 퀵 정렬\n",
    "## 표준라이브러리에 있는 sort는 퀵정렬 많이 씀\n",
    "## 피벗값과 대소를 기준으로 왼쪽 끝이랑 오른쪽 끝이랑 피벗해줌 그리고 가운데 기준값이 들어감\n",
    "## 평균 O(NlogN), 최악일때 O(N^2)\n",
    "\n",
    "array = list(map(int, input()))\n",
    "\n",
    "def quicksort(array, start, end):\n",
    "    if start >= end:\n",
    "        return\n",
    "    pivot = start\n",
    "    left = start + 1\n",
    "    right = end\n",
    "    while(left <= right):\n",
    "        while(left <= end and array[left] <= array[pivot]):\n",
    "            left += 1\n",
    "        while(right >= start and array[right] > array[pivot]):\n",
    "            right -= 1\n",
    "        if(left > right):\n",
    "            array[right], array[pivot] = array[pivot], array[right]\n",
    "        else:\n",
    "            array[left], array[right] = array[right], array[left]\n",
    "\n",
    "    quicksort(array, start, right -1)\n",
    "    quicksort(array, right+1, end)\n",
    "\n",
    "quicksort(array, 0, len(array) - 1)\n",
    "print(array)"
   ],
   "metadata": {
    "collapsed": false,
    "pycharm": {
     "name": "#%%\n"
    }
   }
  },
  {
   "cell_type": "markdown",
   "source": [
    "* sorted(), .sort 쓰면 quicksort 써준다\n",
    "* 대기업이 만들어서 퀄리티가 좋아 역시..."
   ],
   "metadata": {
    "collapsed": false
   }
  },
  {
   "cell_type": "code",
   "execution_count": 8,
   "outputs": [
    {
     "ename": "TypeError",
     "evalue": "merge() missing 1 required positional argument: 'rear'",
     "output_type": "error",
     "traceback": [
      "\u001B[1;31m---------------------------------------------------------------------------\u001B[0m",
      "\u001B[1;31mTypeError\u001B[0m                                 Traceback (most recent call last)",
      "\u001B[1;32m<ipython-input-8-b32047b7f2ec>\u001B[0m in \u001B[0;36m<module>\u001B[1;34m\u001B[0m\n\u001B[0;32m     24\u001B[0m     \u001B[1;32mreturn\u001B[0m \u001B[0mnew\u001B[0m\u001B[1;33m\u001B[0m\u001B[1;33m\u001B[0m\u001B[0m\n\u001B[0;32m     25\u001B[0m \u001B[1;33m\u001B[0m\u001B[0m\n\u001B[1;32m---> 26\u001B[1;33m \u001B[0mmerge\u001B[0m\u001B[1;33m(\u001B[0m\u001B[0mnum\u001B[0m\u001B[1;33m)\u001B[0m\u001B[1;33m\u001B[0m\u001B[1;33m\u001B[0m\u001B[0m\n\u001B[0m",
      "\u001B[1;31mTypeError\u001B[0m: merge() missing 1 required positional argument: 'rear'"
     ]
    }
   ],
   "source": [
    "## 병합정렬\n",
    "def merge(front, rear): ##array를 두개로 나눔\n",
    "    new = []\n",
    "    l = 0\n",
    "    r = 0\n",
    "\n",
    "    while len(front) > l and len(rear) > r:\n",
    "        if front[l] < rear[r]:\n",
    "            new.append(front[l])\n",
    "            l += 1\n",
    "        else:\n",
    "            new.append(rear[r])\n",
    "            r += 1\n",
    "    new += rear[r:]\n",
    "    new += front[l:]\n",
    "    return new"
   ],
   "metadata": {
    "collapsed": false,
    "pycharm": {
     "name": "#%%\n"
    }
   }
  },
  {
   "cell_type": "code",
   "execution_count": 10,
   "outputs": [
    {
     "name": "stdout",
     "output_type": "stream",
     "text": [
      "1\n",
      "2\n",
      "5\n",
      "6\n",
      "32\n",
      "78\n"
     ]
    }
   ],
   "source": [
    "## 정렬2\n",
    "## https://www.acmicpc.net/problem/2751\n",
    "\n",
    "n = int(input())\n",
    "num = []\n",
    "\n",
    "for _ in range(n):\n",
    "    num.append(int(input()))\n",
    "\n",
    "num = sorted(num)\n",
    "\n",
    "for i in num:\n",
    "    print(i)"
   ],
   "metadata": {
    "collapsed": false,
    "pycharm": {
     "name": "#%%\n"
    }
   }
  },
  {
   "cell_type": "markdown",
   "source": [
    "* 런타임이 더 빨라지려면 pypy도 써봐라"
   ],
   "metadata": {
    "collapsed": false
   }
  }
 ],
 "metadata": {
  "kernelspec": {
   "name": "pytorch17_p38",
   "language": "python",
   "display_name": "pytorch17_p38"
  },
  "language_info": {
   "codemirror_mode": {
    "name": "ipython",
    "version": 2
   },
   "file_extension": ".py",
   "mimetype": "text/x-python",
   "name": "python",
   "nbconvert_exporter": "python",
   "pygments_lexer": "ipython2",
   "version": "2.7.6"
  }
 },
 "nbformat": 4,
 "nbformat_minor": 0
}