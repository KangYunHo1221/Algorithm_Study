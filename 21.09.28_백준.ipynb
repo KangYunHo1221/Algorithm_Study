{
 "cells": [
  {
   "cell_type": "code",
   "execution_count": 10,
   "outputs": [
    {
     "name": "stdout",
     "output_type": "stream",
     "text": [
      "0\n"
     ]
    }
   ],
   "source": [
    "## A->B\n",
    "## https://www.acmicpc.net/problem/16953\n",
    "\n",
    "from collections import deque\n",
    "\n",
    "a, b = map(int, input().split())\n",
    "\n",
    "\n",
    "def find_num(a,b):\n",
    "    count = 1\n",
    "    can_make_list = list()\n",
    "    #(x2)랑 (x10+1)로 만들수 있는 모든 경우의 수 조사하면 될듯\n",
    "    q = deque()\n",
    "    q.append((a*2, count))\n",
    "    q.append((a*10+1, count))\n",
    "\n",
    "    while q:\n",
    "        a, count = q.popleft()\n",
    "        if a == b:\n",
    "            return count\n",
    "        if a <= b:\n",
    "            count += 1\n",
    "            q.append((a*2, count))\n",
    "            q.append((a*10+1, count))\n",
    "            \n",
    "    return -2\n",
    "\n",
    "print(find_num(a, b)+1)"
   ],
   "metadata": {
    "collapsed": false,
    "pycharm": {
     "name": "#%%\n"
    }
   }
  }
 ],
 "metadata": {
  "kernelspec": {
   "name": "pytorch17_p38",
   "language": "python",
   "display_name": "pytorch17_p38"
  },
  "language_info": {
   "codemirror_mode": {
    "name": "ipython",
    "version": 2
   },
   "file_extension": ".py",
   "mimetype": "text/x-python",
   "name": "python",
   "nbconvert_exporter": "python",
   "pygments_lexer": "ipython2",
   "version": "2.7.6"
  }
 },
 "nbformat": 4,
 "nbformat_minor": 0
}