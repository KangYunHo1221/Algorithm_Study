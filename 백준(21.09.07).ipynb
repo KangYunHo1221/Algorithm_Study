{
 "cells": [
  {
   "cell_type": "code",
   "execution_count": 4,
   "outputs": [
    {
     "name": "stdout",
     "output_type": "stream",
     "text": [
      "2\n",
      "-7.2295327000001635\n"
     ]
    }
   ],
   "source": [
    "## ## 효율적인 화폐구성\n",
    "## 이코테 문제\n",
    "import timeit\n",
    "\n",
    "start_time = timeit.default_timer()\n",
    "\n",
    "n, m = map(int, input().split())\n",
    "mylist = []\n",
    "\n",
    "d = [10001]*(m+1) ##dp memo\n",
    "\n",
    "for _ in range(n):\n",
    "    mylist.append(int(input()))\n",
    "\n",
    "d[0] = 0\n",
    "for i in range(n):\n",
    "    for j in range(mylist[i], m+1):\n",
    "        if d[j - mylist[i]] != 10001: ##존재하면\n",
    "            d[j] = min(d[j], d[j-mylist[i]]+1)\n",
    "\n",
    "if d[m] == 10001:\n",
    "    print(-1)\n",
    "else:\n",
    "    print(d[m])\n",
    "\n",
    "\n",
    "\n",
    "terminate_time = timeit.default_timer()\n",
    "print(start_time-terminate_time)"
   ],
   "metadata": {
    "collapsed": false,
    "pycharm": {
     "name": "#%%\n"
    }
   }
  },
  {
   "cell_type": "markdown",
   "source": [
    "* time 확인하면서도 해보자 한번씩"
   ],
   "metadata": {
    "collapsed": false
   }
  }
 ],
 "metadata": {
  "kernelspec": {
   "name": "pytorch17_p38",
   "language": "python",
   "display_name": "pytorch17_p38"
  },
  "language_info": {
   "codemirror_mode": {
    "name": "ipython",
    "version": 2
   },
   "file_extension": ".py",
   "mimetype": "text/x-python",
   "name": "python",
   "nbconvert_exporter": "python",
   "pygments_lexer": "ipython2",
   "version": "2.7.6"
  }
 },
 "nbformat": 4,
 "nbformat_minor": 0
}