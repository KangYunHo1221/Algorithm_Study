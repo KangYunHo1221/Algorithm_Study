{
 "cells": [
  {
   "cell_type": "code",
   "execution_count": 3,
   "outputs": [
    {
     "ename": "ValueError",
     "evalue": "invalid literal for int() with base 10: ''",
     "output_type": "error",
     "traceback": [
      "\u001B[1;31m---------------------------------------------------------------------------\u001B[0m",
      "\u001B[1;31mValueError\u001B[0m                                Traceback (most recent call last)",
      "\u001B[1;32m<ipython-input-3-2f60e1597d59>\u001B[0m in \u001B[0;36m<module>\u001B[1;34m\u001B[0m\n\u001B[0;32m      2\u001B[0m \u001B[1;31m## 이코테 문제\u001B[0m\u001B[1;33m\u001B[0m\u001B[1;33m\u001B[0m\u001B[1;33m\u001B[0m\u001B[0m\n\u001B[0;32m      3\u001B[0m \u001B[1;33m\u001B[0m\u001B[0m\n\u001B[1;32m----> 4\u001B[1;33m \u001B[1;32mfor\u001B[0m \u001B[0mtastcase\u001B[0m \u001B[1;32min\u001B[0m \u001B[0mrange\u001B[0m\u001B[1;33m(\u001B[0m\u001B[0mint\u001B[0m\u001B[1;33m(\u001B[0m\u001B[0minput\u001B[0m\u001B[1;33m(\u001B[0m\u001B[1;33m)\u001B[0m\u001B[1;33m)\u001B[0m\u001B[1;33m)\u001B[0m\u001B[1;33m:\u001B[0m\u001B[1;33m\u001B[0m\u001B[1;33m\u001B[0m\u001B[0m\n\u001B[0m\u001B[0;32m      5\u001B[0m     \u001B[0mn\u001B[0m\u001B[1;33m,\u001B[0m \u001B[0mm\u001B[0m \u001B[1;33m=\u001B[0m \u001B[0mmap\u001B[0m\u001B[1;33m(\u001B[0m\u001B[0mint\u001B[0m\u001B[1;33m,\u001B[0m \u001B[0minput\u001B[0m\u001B[1;33m(\u001B[0m\u001B[1;33m)\u001B[0m\u001B[1;33m.\u001B[0m\u001B[0msplit\u001B[0m\u001B[1;33m(\u001B[0m\u001B[1;33m)\u001B[0m\u001B[1;33m)\u001B[0m\u001B[1;33m\u001B[0m\u001B[1;33m\u001B[0m\u001B[0m\n\u001B[0;32m      6\u001B[0m     \u001B[0marray\u001B[0m \u001B[1;33m=\u001B[0m \u001B[0mlist\u001B[0m\u001B[1;33m(\u001B[0m\u001B[0mmap\u001B[0m\u001B[1;33m(\u001B[0m\u001B[0mint\u001B[0m\u001B[1;33m,\u001B[0m \u001B[0minput\u001B[0m\u001B[1;33m(\u001B[0m\u001B[1;33m)\u001B[0m\u001B[1;33m.\u001B[0m\u001B[0msplit\u001B[0m\u001B[1;33m(\u001B[0m\u001B[1;33m)\u001B[0m\u001B[1;33m)\u001B[0m\u001B[1;33m)\u001B[0m\u001B[1;33m\u001B[0m\u001B[1;33m\u001B[0m\u001B[0m\n",
      "\u001B[1;31mValueError\u001B[0m: invalid literal for int() with base 10: ''"
     ]
    }
   ],
   "source": [
    "## 크루스칼 알고리즘\n",
    "## 이코테 클론코딩\n",
    "\n",
    "#뿌리를 찾아서..\n",
    "def find_parent(parent, x):\n",
    "    if parent[x] != x:\n",
    "        parent[x] = find_parent(parent, parent[x])\n",
    "    return parent[x]\n",
    "\n",
    "#합집합.. 더 작은쪽이 상위노드가 되도록 연결\n",
    "def union_parent(parent, a, b):\n",
    "    a = find_parent(parent, a)\n",
    "    b = find_parent(parent, b)\n",
    "    if a<b:\n",
    "        parent[b] = a\n",
    "    else:\n",
    "        parent[a] = b\n",
    "\n",
    "v, e = map(int, input().split())\n",
    "parent = [0]*(v+1)\n",
    "edges = []\n",
    "result = 0\n",
    "\n",
    "#parent를 스스로로 초기화\n",
    "for i in range(1, v+1):\n",
    "    parent[i] = i\n",
    "\n",
    "#간선 정보입력받음\n",
    "for _ in range(e):\n",
    "    a,b,cost = map(int, input().split())\n",
    "    edges.append((cost, a, b))\n",
    "\n",
    "#간선을 비용순으로 정렬\n",
    "edges.sort()\n",
    "\n",
    "for edge in edges:\n",
    "    cost, a, b = edge\n",
    "    #싸이클이 안생기면 집합에 포함\n",
    "    if find_parent(parent, a) != find_parent(parent, b):\n",
    "        union_parent(parent, a, b)\n",
    "        result += cost\n",
    "\n",
    "print(result)"
   ],
   "metadata": {
    "collapsed": false,
    "pycharm": {
     "name": "#%%\n"
    }
   }
  },
  {
   "cell_type": "code",
   "execution_count": null,
   "outputs": [],
   "source": [
    "## 위상정렬\n",
    "## 이코테 클론코딩\n",
    "## 들어오는것 나가는선 계산해서(키르히호프처럼) 들어오는 선이 0 개이면 queue에 넣음\n",
    "\n",
    "from collections import deque\n",
    "\n",
    "v, e = map(int, input().split())\n",
    "#진입차수 초기화\n",
    "indegree = [0]\n",
    "graph = [[] for i in range(v+1)]\n",
    "\n",
    "for _ in range(e):\n",
    "    a, b = map(int, input().split())\n",
    "    graph[a].append(b)\n",
    "    indegree[b] += 1\n",
    "    \n",
    "def topology_sort():\n",
    "    result = []\n",
    "    q = deque()\n",
    "    \n",
    "    #들어오는간선 0개이면 q에 넣음\n",
    "    for i in range(1, v+1):\n",
    "        if indegree[i] == 0:\n",
    "            q.append(i)\n",
    "    \n",
    "    while q:\n",
    "        now = q.popleft() #하나 꺼내기\n",
    "        result.append(now)\n",
    "        for i in graph(now):\n",
    "            indegree[i] -= 1 #선 삭제\n",
    "            if indegree[i] == 0: #삭제해서 들어오는간선이 0되면\n",
    "                q.append(i) #q에 넣음\n",
    "    #결과 출력\n",
    "    for i in result:\n",
    "        print(i)\n",
    "        \n",
    "topology_sort()"
   ],
   "metadata": {
    "collapsed": false,
    "pycharm": {
     "name": "#%%\n"
    }
   }
  },
  {
   "cell_type": "markdown",
   "source": [
    "기타 알고리즘들은 정확한 알고리즘을 외우기 보다는\n",
    "어떤식으로 접근하는지 접근법을 이해하자\n",
    "* 들어오는 간선 나가는 간선을 고려한다던지\n",
    "* 싸이클이 생기는지를 체크한다던지\n",
    "\n",
    "하는 신선한 아이디어가 있으면 좋은편"
   ],
   "metadata": {
    "collapsed": false,
    "pycharm": {
     "name": "#%% md\n"
    }
   }
  }
 ],
 "metadata": {
  "kernelspec": {
   "name": "pytorch17_p38",
   "language": "python",
   "display_name": "pytorch17_p38"
  },
  "language_info": {
   "codemirror_mode": {
    "name": "ipython",
    "version": 2
   },
   "file_extension": ".py",
   "mimetype": "text/x-python",
   "name": "python",
   "nbconvert_exporter": "python",
   "pygments_lexer": "ipython2",
   "version": "2.7.6"
  }
 },
 "nbformat": 4,
 "nbformat_minor": 0
}