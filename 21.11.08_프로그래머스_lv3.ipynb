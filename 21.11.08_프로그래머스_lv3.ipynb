{
 "cells": [
  {
   "cell_type": "code",
   "execution_count": 17,
   "outputs": [
    {
     "data": {
      "text/plain": "4"
     },
     "execution_count": 17,
     "metadata": {},
     "output_type": "execute_result"
    }
   ],
   "source": [
    "## 등굣길\n",
    "## 프로그래머스 > 코딩테스트 연습\n",
    "\n",
    "def solution(m, n, puddles):\n",
    "    answer = 0\n",
    "\n",
    "    graph = [[0]*m for _ in range(n)]\n",
    "    graph[0][0] = 1\n",
    "    for a,b in puddles:\n",
    "        graph[b-1][a-1] = -1\n",
    "\n",
    "\n",
    "    dx = [-1,0] #북서\n",
    "    dy = [0,-1]\n",
    "\n",
    "    for i in range(n):\n",
    "        for j in range(m):\n",
    "            if graph[i][j] != -1:\n",
    "                for t in range(2):\n",
    "                    nx = i+dx[t]\n",
    "                    ny = j+dy[t]\n",
    "                    if 0<=nx<n and 0<=ny<m:\n",
    "                        if graph[nx][ny] != -1:\n",
    "                            graph[i][j] += graph[nx][ny]\n",
    "\n",
    "    answer =graph[n-1][m-1] % 1000000007\n",
    "    return answer\n",
    "\n",
    "\n",
    "solution(4,3,[[2,2]])"
   ],
   "metadata": {
    "collapsed": false,
    "pycharm": {
     "name": "#%%\n"
    }
   }
  }
 ],
 "metadata": {
  "kernelspec": {
   "name": "pytorch17_p38",
   "language": "python",
   "display_name": "pytorch17_p38"
  },
  "language_info": {
   "codemirror_mode": {
    "name": "ipython",
    "version": 2
   },
   "file_extension": ".py",
   "mimetype": "text/x-python",
   "name": "python",
   "nbconvert_exporter": "python",
   "pygments_lexer": "ipython2",
   "version": "2.7.6"
  }
 },
 "nbformat": 4,
 "nbformat_minor": 0
}