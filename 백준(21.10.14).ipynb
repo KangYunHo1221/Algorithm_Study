{
 "cells": [
  {
   "cell_type": "code",
   "execution_count": 34,
   "outputs": [
    {
     "name": "stdout",
     "output_type": "stream",
     "text": [
      "9\n"
     ]
    }
   ],
   "source": [
    "## 빗물\n",
    "## https://www.acmicpc.net/problem/14719\n",
    "h,w = map(int, input().split())\n",
    "mylist = list(map(int, input().split()))\n",
    "\n",
    "result = 0\n",
    "for i in range(w):\n",
    "    leftpeak, rightpeak = 0, 0\n",
    "    for a in range(i):\n",
    "        leftpeak = max(mylist[a], leftpeak)\n",
    "    for b in range(i, w):\n",
    "        rightpeak = max(mylist[b], rightpeak)\n",
    "    result += max(min(leftpeak, rightpeak)-mylist[i], 0)\n",
    "\n",
    "print(result)"
   ],
   "metadata": {
    "collapsed": false,
    "pycharm": {
     "name": "#%%\n"
    }
   }
  }
 ],
 "metadata": {
  "kernelspec": {
   "name": "pytorch17_p38",
   "language": "python",
   "display_name": "pytorch17_p38"
  },
  "language_info": {
   "codemirror_mode": {
    "name": "ipython",
    "version": 2
   },
   "file_extension": ".py",
   "mimetype": "text/x-python",
   "name": "python",
   "nbconvert_exporter": "python",
   "pygments_lexer": "ipython2",
   "version": "2.7.6"
  }
 },
 "nbformat": 4,
 "nbformat_minor": 0
}