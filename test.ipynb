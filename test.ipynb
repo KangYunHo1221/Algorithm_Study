{
 "cells": [
  {
   "cell_type": "code",
   "execution_count": 30,
   "outputs": [
    {
     "data": {
      "text/plain": "[1]"
     },
     "execution_count": 30,
     "metadata": {},
     "output_type": "execute_result"
    }
   ],
   "source": [
    "## 병렬 테두리 회전하기\n",
    "## 코딩테스트 연습 > 2021-Dev-Matching : 웹 백엔드 개발...\n",
    "\n",
    "from collections import deque\n",
    "\n",
    "def solution(rows, columns, queries):\n",
    "    answer = []\n",
    "\n",
    "    graph = [[i+(columns*j)+1 for i in range(columns)] for j in range(rows)]\n",
    "\n",
    "    for points in queries:\n",
    "        r1,c1 = points[0]-1, points[1]-1\n",
    "        r2,c2 = points[2]-1, points[3]-1\n",
    "        q = deque()\n",
    "\n",
    "        #맨위 가로줄\n",
    "        for c in range(c1,c2+1):\n",
    "            q.append(graph[r1][c])\n",
    "        #오른쪽 측면\n",
    "        for r in range(r1,r2+1):\n",
    "            q.append(graph[r][c2])\n",
    "\n",
    "        #아래 가로줄\n",
    "        for c in range(c2,c1-1,-1):\n",
    "            q.append(graph[r2][c])\n",
    "\n",
    "        #왼쪽 측면\n",
    "        for r in range(r2,r1-1,-1):\n",
    "            q.append(graph[r][c1])\n",
    "\n",
    "        answer.append(min(q))\n",
    "\n",
    "        ## 회전 업데이트\n",
    "        #맨위 가로줄\n",
    "        for c in range(c1,c2):\n",
    "            graph[r1][c+1] = q.popleft()\n",
    "        q.popleft()\n",
    "\n",
    "        #오른쪽 측면\n",
    "        for r in range(r1,r2):\n",
    "            graph[r+1][c2] = q.popleft()\n",
    "        q.popleft()\n",
    "\n",
    "        #아래 가로줄\n",
    "        for c in range(c2,c1,-1):\n",
    "            graph[r2][c-1] = q.popleft()\n",
    "        q.popleft()\n",
    "\n",
    "        #왼쪽 측면\n",
    "        for r in range(r2,r1,-1):\n",
    "            graph[r-1][c1] = q.popleft()\n",
    "\n",
    "    return answer\n",
    "\n",
    "solution(6,6,[[2,2,5,4],[3,3,6,6],[5,1,6,3]])\n",
    "solution(3,2,[[1,1,3,2]])\n",
    "solution(100,97,[[1,1,100,97]])"
   ],
   "metadata": {
    "collapsed": false,
    "pycharm": {
     "name": "#%% Version1..\n"
    }
   }
  }
 ],
 "metadata": {
  "kernelspec": {
   "name": "pytorch17_p38",
   "language": "python",
   "display_name": "pytorch17_p38"
  },
  "language_info": {
   "codemirror_mode": {
    "name": "ipython",
    "version": 2
   },
   "file_extension": ".py",
   "mimetype": "text/x-python",
   "name": "python",
   "nbconvert_exporter": "python",
   "pygments_lexer": "ipython2",
   "version": "2.7.6"
  }
 },
 "nbformat": 4,
 "nbformat_minor": 0
}